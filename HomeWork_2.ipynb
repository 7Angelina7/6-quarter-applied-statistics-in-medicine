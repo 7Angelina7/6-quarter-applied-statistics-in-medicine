{
  "nbformat": 4,
  "nbformat_minor": 0,
  "metadata": {
    "colab": {
      "provenance": []
    },
    "kernelspec": {
      "name": "ir",
      "display_name": "R"
    },
    "language_info": {
      "name": "R"
    }
  },
  "cells": [
    {
      "cell_type": "markdown",
      "source": [
        "Задание 2.\n",
        "\n",
        "Сделайте описательные статистики с визуализацией для нескольких дискретных и непрерывных величин на ваш выбор.\n",
        "\n",
        "Постройте гистограммы распределения значений имеющихся у вас переменных, предположите лежащий в их основе вид распределения.\n",
        "\n",
        "Для тех, кто хочет заморочиться: придумайте, как привести к нормальному распределению те непрерывные величины, которые у вас распределены ненормально.\n",
        "\n",
        "Задание выполняется на языке R и предоставляется в формате html/PDF рендера Quarto ноутбука или Google Colab (последнее предпочтительно)."
      ],
      "metadata": {
        "id": "vqc3_96K9CY8"
      }
    },
    {
      "cell_type": "markdown",
      "source": [
        "Загрузка файлов"
      ],
      "metadata": {
        "id": "T4ht0956-E70"
      }
    },
    {
      "cell_type": "code",
      "source": [
        "from google.colab import files\n",
        "uploaded = files.upload()"
      ],
      "metadata": {
        "id": "XFNmjPjepEOH",
        "colab": {
          "base_uri": "https://localhost:8080/",
          "height": 161
        },
        "outputId": "c4d688c4-164e-4b52-b321-3d3451d0a63d"
      },
      "execution_count": null,
      "outputs": [
        {
          "output_type": "display_data",
          "data": {
            "text/plain": [
              "<IPython.core.display.HTML object>"
            ],
            "text/html": [
              "\n",
              "     <input type=\"file\" id=\"files-b6bfbc9c-69a7-4081-add7-b3b4a7abbd13\" name=\"files[]\" multiple disabled\n",
              "        style=\"border:none\" />\n",
              "     <output id=\"result-b6bfbc9c-69a7-4081-add7-b3b4a7abbd13\">\n",
              "      Upload widget is only available when the cell has been executed in the\n",
              "      current browser session. Please rerun this cell to enable.\n",
              "      </output>\n",
              "      <script>// Copyright 2017 Google LLC\n",
              "//\n",
              "// Licensed under the Apache License, Version 2.0 (the \"License\");\n",
              "// you may not use this file except in compliance with the License.\n",
              "// You may obtain a copy of the License at\n",
              "//\n",
              "//      http://www.apache.org/licenses/LICENSE-2.0\n",
              "//\n",
              "// Unless required by applicable law or agreed to in writing, software\n",
              "// distributed under the License is distributed on an \"AS IS\" BASIS,\n",
              "// WITHOUT WARRANTIES OR CONDITIONS OF ANY KIND, either express or implied.\n",
              "// See the License for the specific language governing permissions and\n",
              "// limitations under the License.\n",
              "\n",
              "/**\n",
              " * @fileoverview Helpers for google.colab Python module.\n",
              " */\n",
              "(function(scope) {\n",
              "function span(text, styleAttributes = {}) {\n",
              "  const element = document.createElement('span');\n",
              "  element.textContent = text;\n",
              "  for (const key of Object.keys(styleAttributes)) {\n",
              "    element.style[key] = styleAttributes[key];\n",
              "  }\n",
              "  return element;\n",
              "}\n",
              "\n",
              "// Max number of bytes which will be uploaded at a time.\n",
              "const MAX_PAYLOAD_SIZE = 100 * 1024;\n",
              "\n",
              "function _uploadFiles(inputId, outputId) {\n",
              "  const steps = uploadFilesStep(inputId, outputId);\n",
              "  const outputElement = document.getElementById(outputId);\n",
              "  // Cache steps on the outputElement to make it available for the next call\n",
              "  // to uploadFilesContinue from Python.\n",
              "  outputElement.steps = steps;\n",
              "\n",
              "  return _uploadFilesContinue(outputId);\n",
              "}\n",
              "\n",
              "// This is roughly an async generator (not supported in the browser yet),\n",
              "// where there are multiple asynchronous steps and the Python side is going\n",
              "// to poll for completion of each step.\n",
              "// This uses a Promise to block the python side on completion of each step,\n",
              "// then passes the result of the previous step as the input to the next step.\n",
              "function _uploadFilesContinue(outputId) {\n",
              "  const outputElement = document.getElementById(outputId);\n",
              "  const steps = outputElement.steps;\n",
              "\n",
              "  const next = steps.next(outputElement.lastPromiseValue);\n",
              "  return Promise.resolve(next.value.promise).then((value) => {\n",
              "    // Cache the last promise value to make it available to the next\n",
              "    // step of the generator.\n",
              "    outputElement.lastPromiseValue = value;\n",
              "    return next.value.response;\n",
              "  });\n",
              "}\n",
              "\n",
              "/**\n",
              " * Generator function which is called between each async step of the upload\n",
              " * process.\n",
              " * @param {string} inputId Element ID of the input file picker element.\n",
              " * @param {string} outputId Element ID of the output display.\n",
              " * @return {!Iterable<!Object>} Iterable of next steps.\n",
              " */\n",
              "function* uploadFilesStep(inputId, outputId) {\n",
              "  const inputElement = document.getElementById(inputId);\n",
              "  inputElement.disabled = false;\n",
              "\n",
              "  const outputElement = document.getElementById(outputId);\n",
              "  outputElement.innerHTML = '';\n",
              "\n",
              "  const pickedPromise = new Promise((resolve) => {\n",
              "    inputElement.addEventListener('change', (e) => {\n",
              "      resolve(e.target.files);\n",
              "    });\n",
              "  });\n",
              "\n",
              "  const cancel = document.createElement('button');\n",
              "  inputElement.parentElement.appendChild(cancel);\n",
              "  cancel.textContent = 'Cancel upload';\n",
              "  const cancelPromise = new Promise((resolve) => {\n",
              "    cancel.onclick = () => {\n",
              "      resolve(null);\n",
              "    };\n",
              "  });\n",
              "\n",
              "  // Wait for the user to pick the files.\n",
              "  const files = yield {\n",
              "    promise: Promise.race([pickedPromise, cancelPromise]),\n",
              "    response: {\n",
              "      action: 'starting',\n",
              "    }\n",
              "  };\n",
              "\n",
              "  cancel.remove();\n",
              "\n",
              "  // Disable the input element since further picks are not allowed.\n",
              "  inputElement.disabled = true;\n",
              "\n",
              "  if (!files) {\n",
              "    return {\n",
              "      response: {\n",
              "        action: 'complete',\n",
              "      }\n",
              "    };\n",
              "  }\n",
              "\n",
              "  for (const file of files) {\n",
              "    const li = document.createElement('li');\n",
              "    li.append(span(file.name, {fontWeight: 'bold'}));\n",
              "    li.append(span(\n",
              "        `(${file.type || 'n/a'}) - ${file.size} bytes, ` +\n",
              "        `last modified: ${\n",
              "            file.lastModifiedDate ? file.lastModifiedDate.toLocaleDateString() :\n",
              "                                    'n/a'} - `));\n",
              "    const percent = span('0% done');\n",
              "    li.appendChild(percent);\n",
              "\n",
              "    outputElement.appendChild(li);\n",
              "\n",
              "    const fileDataPromise = new Promise((resolve) => {\n",
              "      const reader = new FileReader();\n",
              "      reader.onload = (e) => {\n",
              "        resolve(e.target.result);\n",
              "      };\n",
              "      reader.readAsArrayBuffer(file);\n",
              "    });\n",
              "    // Wait for the data to be ready.\n",
              "    let fileData = yield {\n",
              "      promise: fileDataPromise,\n",
              "      response: {\n",
              "        action: 'continue',\n",
              "      }\n",
              "    };\n",
              "\n",
              "    // Use a chunked sending to avoid message size limits. See b/62115660.\n",
              "    let position = 0;\n",
              "    do {\n",
              "      const length = Math.min(fileData.byteLength - position, MAX_PAYLOAD_SIZE);\n",
              "      const chunk = new Uint8Array(fileData, position, length);\n",
              "      position += length;\n",
              "\n",
              "      const base64 = btoa(String.fromCharCode.apply(null, chunk));\n",
              "      yield {\n",
              "        response: {\n",
              "          action: 'append',\n",
              "          file: file.name,\n",
              "          data: base64,\n",
              "        },\n",
              "      };\n",
              "\n",
              "      let percentDone = fileData.byteLength === 0 ?\n",
              "          100 :\n",
              "          Math.round((position / fileData.byteLength) * 100);\n",
              "      percent.textContent = `${percentDone}% done`;\n",
              "\n",
              "    } while (position < fileData.byteLength);\n",
              "  }\n",
              "\n",
              "  // All done.\n",
              "  yield {\n",
              "    response: {\n",
              "      action: 'complete',\n",
              "    }\n",
              "  };\n",
              "}\n",
              "\n",
              "scope.google = scope.google || {};\n",
              "scope.google.colab = scope.google.colab || {};\n",
              "scope.google.colab._files = {\n",
              "  _uploadFiles,\n",
              "  _uploadFilesContinue,\n",
              "};\n",
              "})(self);\n",
              "</script> "
            ]
          },
          "metadata": {}
        },
        {
          "output_type": "stream",
          "name": "stdout",
          "text": [
            "Saving high_density_lipids.tsv to high_density_lipids (1).tsv\n",
            "Saving low_density_lipids.tsv to low_density_lipids (1).tsv\n",
            "Saving metadata.xlsx to metadata (1).xlsx\n"
          ]
        }
      ]
    },
    {
      "cell_type": "markdown",
      "source": [
        "Загрузка библиотек"
      ],
      "metadata": {
        "id": "I428vu_NpRHL"
      }
    },
    {
      "cell_type": "code",
      "source": [
        "install.packages('tidyverse')"
      ],
      "metadata": {
        "colab": {
          "base_uri": "https://localhost:8080/"
        },
        "id": "yiG13dUKEh7K",
        "outputId": "a6be007f-9417-4f5a-ba13-ef479ec3cc00"
      },
      "execution_count": null,
      "outputs": [
        {
          "output_type": "stream",
          "name": "stderr",
          "text": [
            "Installing package into ‘/usr/local/lib/R/site-library’\n",
            "(as ‘lib’ is unspecified)\n",
            "\n"
          ]
        }
      ]
    },
    {
      "cell_type": "code",
      "source": [
        "library(tidyverse)"
      ],
      "metadata": {
        "id": "sLX0HEvaC_SD",
        "colab": {
          "base_uri": "https://localhost:8080/"
        },
        "outputId": "7b3d5ab3-5f04-4559-ccee-784c9c904f4f"
      },
      "execution_count": null,
      "outputs": [
        {
          "output_type": "stream",
          "name": "stderr",
          "text": [
            "── \u001b[1mAttaching core tidyverse packages\u001b[22m ──────────────────────── tidyverse 2.0.0 ──\n",
            "\u001b[32m✔\u001b[39m \u001b[34mdplyr    \u001b[39m 1.1.4     \u001b[32m✔\u001b[39m \u001b[34mreadr    \u001b[39m 2.1.5\n",
            "\u001b[32m✔\u001b[39m \u001b[34mforcats  \u001b[39m 1.0.0     \u001b[32m✔\u001b[39m \u001b[34mstringr  \u001b[39m 1.5.1\n",
            "\u001b[32m✔\u001b[39m \u001b[34mggplot2  \u001b[39m 3.4.4     \u001b[32m✔\u001b[39m \u001b[34mtibble   \u001b[39m 3.2.1\n",
            "\u001b[32m✔\u001b[39m \u001b[34mlubridate\u001b[39m 1.9.3     \u001b[32m✔\u001b[39m \u001b[34mtidyr    \u001b[39m 1.3.1\n",
            "\u001b[32m✔\u001b[39m \u001b[34mpurrr    \u001b[39m 1.0.2     \n",
            "── \u001b[1mConflicts\u001b[22m ────────────────────────────────────────── tidyverse_conflicts() ──\n",
            "\u001b[31m✖\u001b[39m \u001b[34mdplyr\u001b[39m::\u001b[32mfilter()\u001b[39m masks \u001b[34mstats\u001b[39m::filter()\n",
            "\u001b[31m✖\u001b[39m \u001b[34mdplyr\u001b[39m::\u001b[32mlag()\u001b[39m    masks \u001b[34mstats\u001b[39m::lag()\n",
            "\u001b[36mℹ\u001b[39m Use the conflicted package (\u001b[3m\u001b[34m<http://conflicted.r-lib.org/>\u001b[39m\u001b[23m) to force all conflicts to become errors\n"
          ]
        }
      ]
    },
    {
      "cell_type": "code",
      "source": [
        "install.packages('readxl')"
      ],
      "metadata": {
        "id": "eW1DrpJ-y0Ey",
        "colab": {
          "base_uri": "https://localhost:8080/"
        },
        "outputId": "d80a2e4c-0a4e-4ede-c3ee-b43b1194a4d6"
      },
      "execution_count": null,
      "outputs": [
        {
          "output_type": "stream",
          "name": "stderr",
          "text": [
            "Installing package into ‘/usr/local/lib/R/site-library’\n",
            "(as ‘lib’ is unspecified)\n",
            "\n"
          ]
        }
      ]
    },
    {
      "cell_type": "code",
      "source": [
        "library(readxl)"
      ],
      "metadata": {
        "id": "d_xxqnTCq81P"
      },
      "execution_count": null,
      "outputs": []
    },
    {
      "cell_type": "code",
      "source": [
        "install.packages('writexl')"
      ],
      "metadata": {
        "colab": {
          "base_uri": "https://localhost:8080/"
        },
        "id": "KxqbXnOZLbFo",
        "outputId": "58d8b1ff-b049-4d82-d086-89a414acd54d"
      },
      "execution_count": null,
      "outputs": [
        {
          "output_type": "stream",
          "name": "stderr",
          "text": [
            "Installing package into ‘/usr/local/lib/R/site-library’\n",
            "(as ‘lib’ is unspecified)\n",
            "\n"
          ]
        }
      ]
    },
    {
      "cell_type": "code",
      "source": [
        "library(writexl)"
      ],
      "metadata": {
        "id": "eaZkhs6eLmxe"
      },
      "execution_count": null,
      "outputs": []
    },
    {
      "cell_type": "markdown",
      "source": [
        "Загрузка таблицы hdl"
      ],
      "metadata": {
        "id": "jsHg56gp-DGA"
      }
    },
    {
      "cell_type": "code",
      "source": [
        "hdl <- read_tsv(\"/content/high_density_lipids.tsv\") %>%\n",
        "  select(-Name) %>%\n",
        "  mutate(Patient.number = as.factor(Patient.number)) %>%\n",
        "  mutate(Vial.number = as.factor(Vial.number))"
      ],
      "metadata": {
        "id": "MYqh8iAwDJrZ",
        "colab": {
          "base_uri": "https://localhost:8080/"
        },
        "outputId": "555ee955-5e25-41ff-ed7e-e51c5f590e91"
      },
      "execution_count": null,
      "outputs": [
        {
          "output_type": "stream",
          "name": "stderr",
          "text": [
            "\u001b[1mRows: \u001b[22m\u001b[34m27\u001b[39m \u001b[1mColumns: \u001b[22m\u001b[34m38\u001b[39m\n",
            "\u001b[36m──\u001b[39m \u001b[1mColumn specification\u001b[22m \u001b[36m────────────────────────────────────────────────────────\u001b[39m\n",
            "\u001b[1mDelimiter:\u001b[22m \"\\t\"\n",
            "\u001b[31mchr\u001b[39m  (1): Name\n",
            "\u001b[32mdbl\u001b[39m (37): Vial.number, Patient.number, GPHDL1, GPHDL2, GPHDL3, GPHDL4, GPHDL...\n",
            "\n",
            "\u001b[36mℹ\u001b[39m Use `spec()` to retrieve the full column specification for this data.\n",
            "\u001b[36mℹ\u001b[39m Specify the column types or set `show_col_types = FALSE` to quiet this message.\n"
          ]
        }
      ]
    },
    {
      "cell_type": "code",
      "source": [
        "hdl"
      ],
      "metadata": {
        "id": "Wxe4a0gDDJoA",
        "colab": {
          "base_uri": "https://localhost:8080/",
          "height": 964
        },
        "outputId": "e6d7d1df-c5a5-4f3e-d7e0-48c36615518d"
      },
      "execution_count": null,
      "outputs": [
        {
          "output_type": "display_data",
          "data": {
            "text/html": [
              "<table class=\"dataframe\">\n",
              "<caption>A tibble: 27 × 37</caption>\n",
              "<thead>\n",
              "\t<tr><th scope=col>Vial.number</th><th scope=col>Patient.number</th><th scope=col>GPHDL1</th><th scope=col>GPHDL2</th><th scope=col>GPHDL3</th><th scope=col>GPHDL4</th><th scope=col>GPHDL5</th><th scope=col>GPHDL6</th><th scope=col>GPHDL7</th><th scope=col>GPHDL8</th><th scope=col>⋯</th><th scope=col>G1</th><th scope=col>G2</th><th scope=col>G3</th><th scope=col>S0</th><th scope=col>S1</th><th scope=col>S2</th><th scope=col>S3</th><th scope=col>B</th><th scope=col>F</th><th scope=col>HM</th></tr>\n",
              "\t<tr><th scope=col>&lt;fct&gt;</th><th scope=col>&lt;fct&gt;</th><th scope=col>&lt;dbl&gt;</th><th scope=col>&lt;dbl&gt;</th><th scope=col>&lt;dbl&gt;</th><th scope=col>&lt;dbl&gt;</th><th scope=col>&lt;dbl&gt;</th><th scope=col>&lt;dbl&gt;</th><th scope=col>&lt;dbl&gt;</th><th scope=col>&lt;dbl&gt;</th><th scope=col>⋯</th><th scope=col>&lt;dbl&gt;</th><th scope=col>&lt;dbl&gt;</th><th scope=col>&lt;dbl&gt;</th><th scope=col>&lt;dbl&gt;</th><th scope=col>&lt;dbl&gt;</th><th scope=col>&lt;dbl&gt;</th><th scope=col>&lt;dbl&gt;</th><th scope=col>&lt;dbl&gt;</th><th scope=col>&lt;dbl&gt;</th><th scope=col>&lt;dbl&gt;</th></tr>\n",
              "</thead>\n",
              "<tbody>\n",
              "\t<tr><td>1 </td><td>50</td><td>0.3800000</td><td>1.780000</td><td>0.1400000</td><td>0.05000000</td><td>0.730000</td><td>2.900000</td><td>1.570000</td><td>2.570000</td><td>⋯</td><td>12.23000</td><td>58.69000</td><td>20.97000</td><td>2.870000</td><td>29.57000</td><td>44.39000</td><td>15.06000</td><td>0.05000000</td><td> 7.350000</td><td>2.490</td></tr>\n",
              "\t<tr><td>3 </td><td>52</td><td>0.4300000</td><td>1.300000</td><td>0.2300000</td><td>0.05000000</td><td>0.590000</td><td>2.620000</td><td>1.620000</td><td>3.860000</td><td>⋯</td><td>11.98000</td><td>57.50000</td><td>21.94000</td><td>2.920000</td><td>29.60000</td><td>43.93000</td><td>14.97000</td><td>0.05000000</td><td> 8.710000</td><td>1.530</td></tr>\n",
              "\t<tr><td>4 </td><td>53</td><td>0.4100000</td><td>3.860000</td><td>0.3100000</td><td>0.10000000</td><td>0.960000</td><td>3.190000</td><td>2.420000</td><td>3.750000</td><td>⋯</td><td>15.00000</td><td>62.10000</td><td>12.74000</td><td>4.200000</td><td>37.03000</td><td>40.68000</td><td> 7.93000</td><td>0.10000000</td><td> 4.810000</td><td>5.080</td></tr>\n",
              "\t<tr><td>5 </td><td>54</td><td>0.5000000</td><td>1.790000</td><td>0.2300000</td><td>0.06000000</td><td>0.770000</td><td>2.960000</td><td>1.760000</td><td>3.000000</td><td>⋯</td><td>12.85000</td><td>56.02000</td><td>22.70000</td><td>3.320000</td><td>30.01000</td><td>41.78000</td><td>16.46000</td><td>0.06000000</td><td> 8.850000</td><td>2.300</td></tr>\n",
              "\t<tr><td>6 </td><td>55</td><td>0.4000000</td><td>3.690000</td><td>0.1700000</td><td>0.03000000</td><td>0.800000</td><td>3.040000</td><td>1.620000</td><td>3.230000</td><td>⋯</td><td>13.81000</td><td>59.78000</td><td>16.14000</td><td>3.020000</td><td>33.69000</td><td>42.18000</td><td>10.84000</td><td>0.03000000</td><td> 7.250000</td><td>4.330</td></tr>\n",
              "\t<tr><td>7 </td><td>56</td><td>0.3700000</td><td>2.960000</td><td>0.2200000</td><td>0.05000000</td><td>1.000000</td><td>3.000000</td><td>2.110000</td><td>3.060000</td><td>⋯</td><td>14.61000</td><td>60.59000</td><td>15.63000</td><td>3.750000</td><td>35.18000</td><td>41.66000</td><td>10.24000</td><td>0.05000000</td><td> 5.100000</td><td>3.870</td></tr>\n",
              "\t<tr><td>8 </td><td>57</td><td>0.5600000</td><td>2.760000</td><td>0.4600000</td><td>0.08000000</td><td>1.110000</td><td>2.960000</td><td>3.560000</td><td>4.170000</td><td>⋯</td><td>15.44000</td><td>58.98000</td><td>15.50000</td><td>5.770000</td><td>36.60000</td><td>38.21000</td><td> 9.34000</td><td>0.08000000</td><td> 6.150000</td><td>3.680</td></tr>\n",
              "\t<tr><td>9 </td><td>58</td><td>0.4100000</td><td>2.140000</td><td>0.2200000</td><td>0.12000000</td><td>0.930000</td><td>2.550000</td><td>2.060000</td><td>2.950000</td><td>⋯</td><td>13.43000</td><td>58.97000</td><td>19.18000</td><td>3.740000</td><td>31.66000</td><td>43.64000</td><td>12.54000</td><td>0.12000000</td><td> 5.270000</td><td>2.940</td></tr>\n",
              "\t<tr><td>10</td><td>59</td><td>0.4200000</td><td>1.710000</td><td>0.2000000</td><td>0.06000000</td><td>0.640000</td><td>2.840000</td><td>1.590000</td><td>3.480000</td><td>⋯</td><td>12.30000</td><td>58.45000</td><td>20.28000</td><td>2.910000</td><td>29.13000</td><td>44.60000</td><td>14.39000</td><td>0.06000000</td><td> 8.630000</td><td>2.120</td></tr>\n",
              "\t<tr><td>11</td><td>60</td><td>0.3500000</td><td>2.000000</td><td>0.2100000</td><td>0.06000000</td><td>0.670000</td><td>2.570000</td><td>1.710000</td><td>3.790000</td><td>⋯</td><td>12.66000</td><td>58.16000</td><td>20.12000</td><td>3.000000</td><td>31.25000</td><td>42.65000</td><td>14.04000</td><td>0.06000000</td><td> 7.050000</td><td>2.720</td></tr>\n",
              "\t<tr><td>12</td><td>61</td><td>0.3000000</td><td>1.940000</td><td>0.1500000</td><td>0.07000000</td><td>0.790000</td><td>2.330000</td><td>1.610000</td><td>2.720000</td><td>⋯</td><td>12.97000</td><td>58.32000</td><td>19.98000</td><td>2.920000</td><td>30.74000</td><td>43.89000</td><td>13.72000</td><td>0.07000000</td><td> 6.500000</td><td>2.680</td></tr>\n",
              "\t<tr><td>13</td><td>62</td><td>0.5500000</td><td>2.580000</td><td>0.2300000</td><td>0.08000000</td><td>0.830000</td><td>2.980000</td><td>2.050000</td><td>3.420000</td><td>⋯</td><td>13.73000</td><td>60.61000</td><td>16.29000</td><td>3.740000</td><td>34.02000</td><td>42.01000</td><td>10.86000</td><td>0.08000000</td><td> 7.840000</td><td>3.070</td></tr>\n",
              "\t<tr><td>14</td><td>63</td><td>0.5200000</td><td>3.030000</td><td>0.3100000</td><td>0.09000000</td><td>1.010000</td><td>3.080000</td><td>2.420000</td><td>3.510000</td><td>⋯</td><td>14.33000</td><td>58.50000</td><td>18.06000</td><td>4.350000</td><td>33.69000</td><td>40.94000</td><td>11.91000</td><td>0.09000000</td><td> 5.700000</td><td>3.820</td></tr>\n",
              "\t<tr><td>15</td><td>37</td><td>0.4400000</td><td>2.990000</td><td>0.3100000</td><td>0.05000000</td><td>0.860000</td><td>2.910000</td><td>2.480000</td><td>3.630000</td><td>⋯</td><td>13.79000</td><td>61.80000</td><td>15.53000</td><td>4.140000</td><td>36.45000</td><td>40.10000</td><td>10.43000</td><td>0.05000000</td><td> 5.540000</td><td>3.890</td></tr>\n",
              "\t<tr><td>16</td><td>38</td><td>0.4750000</td><td>2.380000</td><td>0.2300000</td><td>0.04500000</td><td>0.715000</td><td>2.865000</td><td>2.110000</td><td>3.820000</td><td>⋯</td><td>13.62000</td><td>58.88500</td><td>17.79500</td><td>3.575000</td><td>33.51500</td><td>41.04500</td><td>12.16500</td><td>0.04500000</td><td>10.070000</td><td>3.025</td></tr>\n",
              "\t<tr><td>17</td><td>39</td><td>0.5333333</td><td>2.193333</td><td>0.1866667</td><td>0.08666667</td><td>0.960000</td><td>2.783333</td><td>2.370000</td><td>2.843333</td><td>⋯</td><td>13.35667</td><td>59.25667</td><td>18.35333</td><td>4.136667</td><td>32.80667</td><td>41.71667</td><td>12.30667</td><td>0.08666667</td><td> 7.223333</td><td>2.870</td></tr>\n",
              "\t<tr><td>19</td><td>41</td><td>0.3500000</td><td>1.350000</td><td>0.1700000</td><td>0.07000000</td><td>0.660000</td><td>2.270000</td><td>1.720000</td><td>3.080000</td><td>⋯</td><td>11.89000</td><td>59.47000</td><td>20.42000</td><td>2.970000</td><td>30.26000</td><td>44.16000</td><td>14.39000</td><td>0.07000000</td><td> 9.650000</td><td>1.850</td></tr>\n",
              "\t<tr><td>20</td><td>42</td><td>0.7233333</td><td>2.583333</td><td>0.3033333</td><td>0.17000000</td><td>1.183333</td><td>2.753333</td><td>2.066667</td><td>3.786667</td><td>⋯</td><td>15.04333</td><td>58.33000</td><td>17.26000</td><td>4.446667</td><td>33.16333</td><td>41.35000</td><td>11.67333</td><td>0.17000000</td><td> 7.436667</td><td>3.310</td></tr>\n",
              "\t<tr><td>22</td><td>30</td><td>0.5700000</td><td>2.420000</td><td>0.3000000</td><td>0.08000000</td><td>0.900000</td><td>2.940000</td><td>2.430000</td><td>3.790000</td><td>⋯</td><td>14.44000</td><td>58.70000</td><td>17.54000</td><td>4.280000</td><td>33.55000</td><td>41.89000</td><td>10.96000</td><td>0.08000000</td><td> 6.740000</td><td>3.140</td></tr>\n",
              "\t<tr><td>24</td><td>32</td><td>0.5100000</td><td>2.370000</td><td>0.2300000</td><td>0.09000000</td><td>0.840000</td><td>3.130000</td><td>2.480000</td><td>3.210000</td><td>⋯</td><td>13.51000</td><td>60.91000</td><td>16.78000</td><td>4.150000</td><td>34.51000</td><td>42.27000</td><td>10.27000</td><td>0.09000000</td><td> 5.880000</td><td>3.000</td></tr>\n",
              "\t<tr><td>26</td><td>34</td><td>0.4400000</td><td>2.230000</td><td>0.2400000</td><td>0.04000000</td><td>0.810000</td><td>3.170000</td><td>1.860000</td><td>3.820000</td><td>⋯</td><td>14.68000</td><td>59.16000</td><td>16.87000</td><td>3.390000</td><td>33.68000</td><td>42.25000</td><td>11.39000</td><td>0.04000000</td><td> 6.440000</td><td>2.810</td></tr>\n",
              "\t<tr><td>28</td><td>36</td><td>0.5100000</td><td>2.240000</td><td>0.3200000</td><td>0.06000000</td><td>0.840000</td><td>3.010000</td><td>2.060000</td><td>4.360000</td><td>⋯</td><td>15.32000</td><td>57.90000</td><td>17.66000</td><td>3.790000</td><td>35.20000</td><td>40.05000</td><td>11.84000</td><td>0.06000000</td><td> 8.020000</td><td>2.780</td></tr>\n",
              "\t<tr><td>30</td><td>38</td><td>0.4500000</td><td>3.070000</td><td>0.2600000</td><td>0.07000000</td><td>1.000000</td><td>2.750000</td><td>2.360000</td><td>4.030000</td><td>⋯</td><td>15.32000</td><td>59.17000</td><td>15.03000</td><td>4.140000</td><td>35.00000</td><td>40.76000</td><td> 9.62000</td><td>0.07000000</td><td> 7.560000</td><td>3.850</td></tr>\n",
              "\t<tr><td>31</td><td>39</td><td>0.4500000</td><td>1.700000</td><td>0.2100000</td><td>0.06000000</td><td>0.640000</td><td>3.120000</td><td>1.590000</td><td>4.000000</td><td>⋯</td><td>13.34000</td><td>58.91000</td><td>19.33000</td><td>2.950000</td><td>31.71000</td><td>43.96000</td><td>12.96000</td><td>0.06000000</td><td> 7.980000</td><td>2.050</td></tr>\n",
              "\t<tr><td>33</td><td>42</td><td>0.4700000</td><td>2.530000</td><td>0.2200000</td><td>0.05000000</td><td>0.800000</td><td>2.750000</td><td>2.580000</td><td>3.490000</td><td>⋯</td><td>13.37000</td><td>60.34000</td><td>16.66000</td><td>4.120000</td><td>33.72000</td><td>41.70000</td><td>10.83000</td><td>0.05000000</td><td> 7.950000</td><td>3.050</td></tr>\n",
              "\t<tr><td>34</td><td>43</td><td>0.4800000</td><td>2.840000</td><td>0.1500000</td><td>0.06000000</td><td>0.980000</td><td>2.900000</td><td>2.080000</td><td>2.900000</td><td>⋯</td><td>14.70000</td><td>58.81000</td><td>16.13000</td><td>3.750000</td><td>33.70000</td><td>40.96000</td><td>11.23000</td><td>0.06000000</td><td> 8.240000</td><td>3.840</td></tr>\n",
              "\t<tr><td>36</td><td>25</td><td>0.4300000</td><td>3.240000</td><td>0.2900000</td><td>0.06000000</td><td>0.980000</td><td>2.840000</td><td>2.750000</td><td>3.770000</td><td>⋯</td><td>14.76000</td><td>58.90000</td><td>16.60000</td><td>4.510000</td><td>35.75000</td><td>40.00000</td><td>10.00000</td><td>0.06000000</td><td> 4.640000</td><td>4.020</td></tr>\n",
              "</tbody>\n",
              "</table>\n"
            ],
            "text/markdown": "\nA tibble: 27 × 37\n\n| Vial.number &lt;fct&gt; | Patient.number &lt;fct&gt; | GPHDL1 &lt;dbl&gt; | GPHDL2 &lt;dbl&gt; | GPHDL3 &lt;dbl&gt; | GPHDL4 &lt;dbl&gt; | GPHDL5 &lt;dbl&gt; | GPHDL6 &lt;dbl&gt; | GPHDL7 &lt;dbl&gt; | GPHDL8 &lt;dbl&gt; | ⋯ ⋯ | G1 &lt;dbl&gt; | G2 &lt;dbl&gt; | G3 &lt;dbl&gt; | S0 &lt;dbl&gt; | S1 &lt;dbl&gt; | S2 &lt;dbl&gt; | S3 &lt;dbl&gt; | B &lt;dbl&gt; | F &lt;dbl&gt; | HM &lt;dbl&gt; |\n|---|---|---|---|---|---|---|---|---|---|---|---|---|---|---|---|---|---|---|---|---|\n| 1  | 50 | 0.3800000 | 1.780000 | 0.1400000 | 0.05000000 | 0.730000 | 2.900000 | 1.570000 | 2.570000 | ⋯ | 12.23000 | 58.69000 | 20.97000 | 2.870000 | 29.57000 | 44.39000 | 15.06000 | 0.05000000 |  7.350000 | 2.490 |\n| 3  | 52 | 0.4300000 | 1.300000 | 0.2300000 | 0.05000000 | 0.590000 | 2.620000 | 1.620000 | 3.860000 | ⋯ | 11.98000 | 57.50000 | 21.94000 | 2.920000 | 29.60000 | 43.93000 | 14.97000 | 0.05000000 |  8.710000 | 1.530 |\n| 4  | 53 | 0.4100000 | 3.860000 | 0.3100000 | 0.10000000 | 0.960000 | 3.190000 | 2.420000 | 3.750000 | ⋯ | 15.00000 | 62.10000 | 12.74000 | 4.200000 | 37.03000 | 40.68000 |  7.93000 | 0.10000000 |  4.810000 | 5.080 |\n| 5  | 54 | 0.5000000 | 1.790000 | 0.2300000 | 0.06000000 | 0.770000 | 2.960000 | 1.760000 | 3.000000 | ⋯ | 12.85000 | 56.02000 | 22.70000 | 3.320000 | 30.01000 | 41.78000 | 16.46000 | 0.06000000 |  8.850000 | 2.300 |\n| 6  | 55 | 0.4000000 | 3.690000 | 0.1700000 | 0.03000000 | 0.800000 | 3.040000 | 1.620000 | 3.230000 | ⋯ | 13.81000 | 59.78000 | 16.14000 | 3.020000 | 33.69000 | 42.18000 | 10.84000 | 0.03000000 |  7.250000 | 4.330 |\n| 7  | 56 | 0.3700000 | 2.960000 | 0.2200000 | 0.05000000 | 1.000000 | 3.000000 | 2.110000 | 3.060000 | ⋯ | 14.61000 | 60.59000 | 15.63000 | 3.750000 | 35.18000 | 41.66000 | 10.24000 | 0.05000000 |  5.100000 | 3.870 |\n| 8  | 57 | 0.5600000 | 2.760000 | 0.4600000 | 0.08000000 | 1.110000 | 2.960000 | 3.560000 | 4.170000 | ⋯ | 15.44000 | 58.98000 | 15.50000 | 5.770000 | 36.60000 | 38.21000 |  9.34000 | 0.08000000 |  6.150000 | 3.680 |\n| 9  | 58 | 0.4100000 | 2.140000 | 0.2200000 | 0.12000000 | 0.930000 | 2.550000 | 2.060000 | 2.950000 | ⋯ | 13.43000 | 58.97000 | 19.18000 | 3.740000 | 31.66000 | 43.64000 | 12.54000 | 0.12000000 |  5.270000 | 2.940 |\n| 10 | 59 | 0.4200000 | 1.710000 | 0.2000000 | 0.06000000 | 0.640000 | 2.840000 | 1.590000 | 3.480000 | ⋯ | 12.30000 | 58.45000 | 20.28000 | 2.910000 | 29.13000 | 44.60000 | 14.39000 | 0.06000000 |  8.630000 | 2.120 |\n| 11 | 60 | 0.3500000 | 2.000000 | 0.2100000 | 0.06000000 | 0.670000 | 2.570000 | 1.710000 | 3.790000 | ⋯ | 12.66000 | 58.16000 | 20.12000 | 3.000000 | 31.25000 | 42.65000 | 14.04000 | 0.06000000 |  7.050000 | 2.720 |\n| 12 | 61 | 0.3000000 | 1.940000 | 0.1500000 | 0.07000000 | 0.790000 | 2.330000 | 1.610000 | 2.720000 | ⋯ | 12.97000 | 58.32000 | 19.98000 | 2.920000 | 30.74000 | 43.89000 | 13.72000 | 0.07000000 |  6.500000 | 2.680 |\n| 13 | 62 | 0.5500000 | 2.580000 | 0.2300000 | 0.08000000 | 0.830000 | 2.980000 | 2.050000 | 3.420000 | ⋯ | 13.73000 | 60.61000 | 16.29000 | 3.740000 | 34.02000 | 42.01000 | 10.86000 | 0.08000000 |  7.840000 | 3.070 |\n| 14 | 63 | 0.5200000 | 3.030000 | 0.3100000 | 0.09000000 | 1.010000 | 3.080000 | 2.420000 | 3.510000 | ⋯ | 14.33000 | 58.50000 | 18.06000 | 4.350000 | 33.69000 | 40.94000 | 11.91000 | 0.09000000 |  5.700000 | 3.820 |\n| 15 | 37 | 0.4400000 | 2.990000 | 0.3100000 | 0.05000000 | 0.860000 | 2.910000 | 2.480000 | 3.630000 | ⋯ | 13.79000 | 61.80000 | 15.53000 | 4.140000 | 36.45000 | 40.10000 | 10.43000 | 0.05000000 |  5.540000 | 3.890 |\n| 16 | 38 | 0.4750000 | 2.380000 | 0.2300000 | 0.04500000 | 0.715000 | 2.865000 | 2.110000 | 3.820000 | ⋯ | 13.62000 | 58.88500 | 17.79500 | 3.575000 | 33.51500 | 41.04500 | 12.16500 | 0.04500000 | 10.070000 | 3.025 |\n| 17 | 39 | 0.5333333 | 2.193333 | 0.1866667 | 0.08666667 | 0.960000 | 2.783333 | 2.370000 | 2.843333 | ⋯ | 13.35667 | 59.25667 | 18.35333 | 4.136667 | 32.80667 | 41.71667 | 12.30667 | 0.08666667 |  7.223333 | 2.870 |\n| 19 | 41 | 0.3500000 | 1.350000 | 0.1700000 | 0.07000000 | 0.660000 | 2.270000 | 1.720000 | 3.080000 | ⋯ | 11.89000 | 59.47000 | 20.42000 | 2.970000 | 30.26000 | 44.16000 | 14.39000 | 0.07000000 |  9.650000 | 1.850 |\n| 20 | 42 | 0.7233333 | 2.583333 | 0.3033333 | 0.17000000 | 1.183333 | 2.753333 | 2.066667 | 3.786667 | ⋯ | 15.04333 | 58.33000 | 17.26000 | 4.446667 | 33.16333 | 41.35000 | 11.67333 | 0.17000000 |  7.436667 | 3.310 |\n| 22 | 30 | 0.5700000 | 2.420000 | 0.3000000 | 0.08000000 | 0.900000 | 2.940000 | 2.430000 | 3.790000 | ⋯ | 14.44000 | 58.70000 | 17.54000 | 4.280000 | 33.55000 | 41.89000 | 10.96000 | 0.08000000 |  6.740000 | 3.140 |\n| 24 | 32 | 0.5100000 | 2.370000 | 0.2300000 | 0.09000000 | 0.840000 | 3.130000 | 2.480000 | 3.210000 | ⋯ | 13.51000 | 60.91000 | 16.78000 | 4.150000 | 34.51000 | 42.27000 | 10.27000 | 0.09000000 |  5.880000 | 3.000 |\n| 26 | 34 | 0.4400000 | 2.230000 | 0.2400000 | 0.04000000 | 0.810000 | 3.170000 | 1.860000 | 3.820000 | ⋯ | 14.68000 | 59.16000 | 16.87000 | 3.390000 | 33.68000 | 42.25000 | 11.39000 | 0.04000000 |  6.440000 | 2.810 |\n| 28 | 36 | 0.5100000 | 2.240000 | 0.3200000 | 0.06000000 | 0.840000 | 3.010000 | 2.060000 | 4.360000 | ⋯ | 15.32000 | 57.90000 | 17.66000 | 3.790000 | 35.20000 | 40.05000 | 11.84000 | 0.06000000 |  8.020000 | 2.780 |\n| 30 | 38 | 0.4500000 | 3.070000 | 0.2600000 | 0.07000000 | 1.000000 | 2.750000 | 2.360000 | 4.030000 | ⋯ | 15.32000 | 59.17000 | 15.03000 | 4.140000 | 35.00000 | 40.76000 |  9.62000 | 0.07000000 |  7.560000 | 3.850 |\n| 31 | 39 | 0.4500000 | 1.700000 | 0.2100000 | 0.06000000 | 0.640000 | 3.120000 | 1.590000 | 4.000000 | ⋯ | 13.34000 | 58.91000 | 19.33000 | 2.950000 | 31.71000 | 43.96000 | 12.96000 | 0.06000000 |  7.980000 | 2.050 |\n| 33 | 42 | 0.4700000 | 2.530000 | 0.2200000 | 0.05000000 | 0.800000 | 2.750000 | 2.580000 | 3.490000 | ⋯ | 13.37000 | 60.34000 | 16.66000 | 4.120000 | 33.72000 | 41.70000 | 10.83000 | 0.05000000 |  7.950000 | 3.050 |\n| 34 | 43 | 0.4800000 | 2.840000 | 0.1500000 | 0.06000000 | 0.980000 | 2.900000 | 2.080000 | 2.900000 | ⋯ | 14.70000 | 58.81000 | 16.13000 | 3.750000 | 33.70000 | 40.96000 | 11.23000 | 0.06000000 |  8.240000 | 3.840 |\n| 36 | 25 | 0.4300000 | 3.240000 | 0.2900000 | 0.06000000 | 0.980000 | 2.840000 | 2.750000 | 3.770000 | ⋯ | 14.76000 | 58.90000 | 16.60000 | 4.510000 | 35.75000 | 40.00000 | 10.00000 | 0.06000000 |  4.640000 | 4.020 |\n\n",
            "text/latex": "A tibble: 27 × 37\n\\begin{tabular}{lllllllllllllllllllll}\n Vial.number & Patient.number & GPHDL1 & GPHDL2 & GPHDL3 & GPHDL4 & GPHDL5 & GPHDL6 & GPHDL7 & GPHDL8 & ⋯ & G1 & G2 & G3 & S0 & S1 & S2 & S3 & B & F & HM\\\\\n <fct> & <fct> & <dbl> & <dbl> & <dbl> & <dbl> & <dbl> & <dbl> & <dbl> & <dbl> & ⋯ & <dbl> & <dbl> & <dbl> & <dbl> & <dbl> & <dbl> & <dbl> & <dbl> & <dbl> & <dbl>\\\\\n\\hline\n\t 1  & 50 & 0.3800000 & 1.780000 & 0.1400000 & 0.05000000 & 0.730000 & 2.900000 & 1.570000 & 2.570000 & ⋯ & 12.23000 & 58.69000 & 20.97000 & 2.870000 & 29.57000 & 44.39000 & 15.06000 & 0.05000000 &  7.350000 & 2.490\\\\\n\t 3  & 52 & 0.4300000 & 1.300000 & 0.2300000 & 0.05000000 & 0.590000 & 2.620000 & 1.620000 & 3.860000 & ⋯ & 11.98000 & 57.50000 & 21.94000 & 2.920000 & 29.60000 & 43.93000 & 14.97000 & 0.05000000 &  8.710000 & 1.530\\\\\n\t 4  & 53 & 0.4100000 & 3.860000 & 0.3100000 & 0.10000000 & 0.960000 & 3.190000 & 2.420000 & 3.750000 & ⋯ & 15.00000 & 62.10000 & 12.74000 & 4.200000 & 37.03000 & 40.68000 &  7.93000 & 0.10000000 &  4.810000 & 5.080\\\\\n\t 5  & 54 & 0.5000000 & 1.790000 & 0.2300000 & 0.06000000 & 0.770000 & 2.960000 & 1.760000 & 3.000000 & ⋯ & 12.85000 & 56.02000 & 22.70000 & 3.320000 & 30.01000 & 41.78000 & 16.46000 & 0.06000000 &  8.850000 & 2.300\\\\\n\t 6  & 55 & 0.4000000 & 3.690000 & 0.1700000 & 0.03000000 & 0.800000 & 3.040000 & 1.620000 & 3.230000 & ⋯ & 13.81000 & 59.78000 & 16.14000 & 3.020000 & 33.69000 & 42.18000 & 10.84000 & 0.03000000 &  7.250000 & 4.330\\\\\n\t 7  & 56 & 0.3700000 & 2.960000 & 0.2200000 & 0.05000000 & 1.000000 & 3.000000 & 2.110000 & 3.060000 & ⋯ & 14.61000 & 60.59000 & 15.63000 & 3.750000 & 35.18000 & 41.66000 & 10.24000 & 0.05000000 &  5.100000 & 3.870\\\\\n\t 8  & 57 & 0.5600000 & 2.760000 & 0.4600000 & 0.08000000 & 1.110000 & 2.960000 & 3.560000 & 4.170000 & ⋯ & 15.44000 & 58.98000 & 15.50000 & 5.770000 & 36.60000 & 38.21000 &  9.34000 & 0.08000000 &  6.150000 & 3.680\\\\\n\t 9  & 58 & 0.4100000 & 2.140000 & 0.2200000 & 0.12000000 & 0.930000 & 2.550000 & 2.060000 & 2.950000 & ⋯ & 13.43000 & 58.97000 & 19.18000 & 3.740000 & 31.66000 & 43.64000 & 12.54000 & 0.12000000 &  5.270000 & 2.940\\\\\n\t 10 & 59 & 0.4200000 & 1.710000 & 0.2000000 & 0.06000000 & 0.640000 & 2.840000 & 1.590000 & 3.480000 & ⋯ & 12.30000 & 58.45000 & 20.28000 & 2.910000 & 29.13000 & 44.60000 & 14.39000 & 0.06000000 &  8.630000 & 2.120\\\\\n\t 11 & 60 & 0.3500000 & 2.000000 & 0.2100000 & 0.06000000 & 0.670000 & 2.570000 & 1.710000 & 3.790000 & ⋯ & 12.66000 & 58.16000 & 20.12000 & 3.000000 & 31.25000 & 42.65000 & 14.04000 & 0.06000000 &  7.050000 & 2.720\\\\\n\t 12 & 61 & 0.3000000 & 1.940000 & 0.1500000 & 0.07000000 & 0.790000 & 2.330000 & 1.610000 & 2.720000 & ⋯ & 12.97000 & 58.32000 & 19.98000 & 2.920000 & 30.74000 & 43.89000 & 13.72000 & 0.07000000 &  6.500000 & 2.680\\\\\n\t 13 & 62 & 0.5500000 & 2.580000 & 0.2300000 & 0.08000000 & 0.830000 & 2.980000 & 2.050000 & 3.420000 & ⋯ & 13.73000 & 60.61000 & 16.29000 & 3.740000 & 34.02000 & 42.01000 & 10.86000 & 0.08000000 &  7.840000 & 3.070\\\\\n\t 14 & 63 & 0.5200000 & 3.030000 & 0.3100000 & 0.09000000 & 1.010000 & 3.080000 & 2.420000 & 3.510000 & ⋯ & 14.33000 & 58.50000 & 18.06000 & 4.350000 & 33.69000 & 40.94000 & 11.91000 & 0.09000000 &  5.700000 & 3.820\\\\\n\t 15 & 37 & 0.4400000 & 2.990000 & 0.3100000 & 0.05000000 & 0.860000 & 2.910000 & 2.480000 & 3.630000 & ⋯ & 13.79000 & 61.80000 & 15.53000 & 4.140000 & 36.45000 & 40.10000 & 10.43000 & 0.05000000 &  5.540000 & 3.890\\\\\n\t 16 & 38 & 0.4750000 & 2.380000 & 0.2300000 & 0.04500000 & 0.715000 & 2.865000 & 2.110000 & 3.820000 & ⋯ & 13.62000 & 58.88500 & 17.79500 & 3.575000 & 33.51500 & 41.04500 & 12.16500 & 0.04500000 & 10.070000 & 3.025\\\\\n\t 17 & 39 & 0.5333333 & 2.193333 & 0.1866667 & 0.08666667 & 0.960000 & 2.783333 & 2.370000 & 2.843333 & ⋯ & 13.35667 & 59.25667 & 18.35333 & 4.136667 & 32.80667 & 41.71667 & 12.30667 & 0.08666667 &  7.223333 & 2.870\\\\\n\t 19 & 41 & 0.3500000 & 1.350000 & 0.1700000 & 0.07000000 & 0.660000 & 2.270000 & 1.720000 & 3.080000 & ⋯ & 11.89000 & 59.47000 & 20.42000 & 2.970000 & 30.26000 & 44.16000 & 14.39000 & 0.07000000 &  9.650000 & 1.850\\\\\n\t 20 & 42 & 0.7233333 & 2.583333 & 0.3033333 & 0.17000000 & 1.183333 & 2.753333 & 2.066667 & 3.786667 & ⋯ & 15.04333 & 58.33000 & 17.26000 & 4.446667 & 33.16333 & 41.35000 & 11.67333 & 0.17000000 &  7.436667 & 3.310\\\\\n\t 22 & 30 & 0.5700000 & 2.420000 & 0.3000000 & 0.08000000 & 0.900000 & 2.940000 & 2.430000 & 3.790000 & ⋯ & 14.44000 & 58.70000 & 17.54000 & 4.280000 & 33.55000 & 41.89000 & 10.96000 & 0.08000000 &  6.740000 & 3.140\\\\\n\t 24 & 32 & 0.5100000 & 2.370000 & 0.2300000 & 0.09000000 & 0.840000 & 3.130000 & 2.480000 & 3.210000 & ⋯ & 13.51000 & 60.91000 & 16.78000 & 4.150000 & 34.51000 & 42.27000 & 10.27000 & 0.09000000 &  5.880000 & 3.000\\\\\n\t 26 & 34 & 0.4400000 & 2.230000 & 0.2400000 & 0.04000000 & 0.810000 & 3.170000 & 1.860000 & 3.820000 & ⋯ & 14.68000 & 59.16000 & 16.87000 & 3.390000 & 33.68000 & 42.25000 & 11.39000 & 0.04000000 &  6.440000 & 2.810\\\\\n\t 28 & 36 & 0.5100000 & 2.240000 & 0.3200000 & 0.06000000 & 0.840000 & 3.010000 & 2.060000 & 4.360000 & ⋯ & 15.32000 & 57.90000 & 17.66000 & 3.790000 & 35.20000 & 40.05000 & 11.84000 & 0.06000000 &  8.020000 & 2.780\\\\\n\t 30 & 38 & 0.4500000 & 3.070000 & 0.2600000 & 0.07000000 & 1.000000 & 2.750000 & 2.360000 & 4.030000 & ⋯ & 15.32000 & 59.17000 & 15.03000 & 4.140000 & 35.00000 & 40.76000 &  9.62000 & 0.07000000 &  7.560000 & 3.850\\\\\n\t 31 & 39 & 0.4500000 & 1.700000 & 0.2100000 & 0.06000000 & 0.640000 & 3.120000 & 1.590000 & 4.000000 & ⋯ & 13.34000 & 58.91000 & 19.33000 & 2.950000 & 31.71000 & 43.96000 & 12.96000 & 0.06000000 &  7.980000 & 2.050\\\\\n\t 33 & 42 & 0.4700000 & 2.530000 & 0.2200000 & 0.05000000 & 0.800000 & 2.750000 & 2.580000 & 3.490000 & ⋯ & 13.37000 & 60.34000 & 16.66000 & 4.120000 & 33.72000 & 41.70000 & 10.83000 & 0.05000000 &  7.950000 & 3.050\\\\\n\t 34 & 43 & 0.4800000 & 2.840000 & 0.1500000 & 0.06000000 & 0.980000 & 2.900000 & 2.080000 & 2.900000 & ⋯ & 14.70000 & 58.81000 & 16.13000 & 3.750000 & 33.70000 & 40.96000 & 11.23000 & 0.06000000 &  8.240000 & 3.840\\\\\n\t 36 & 25 & 0.4300000 & 3.240000 & 0.2900000 & 0.06000000 & 0.980000 & 2.840000 & 2.750000 & 3.770000 & ⋯ & 14.76000 & 58.90000 & 16.60000 & 4.510000 & 35.75000 & 40.00000 & 10.00000 & 0.06000000 &  4.640000 & 4.020\\\\\n\\end{tabular}\n",
            "text/plain": [
              "   Vial.number Patient.number GPHDL1    GPHDL2   GPHDL3    GPHDL4     GPHDL5  \n",
              "1  1           50             0.3800000 1.780000 0.1400000 0.05000000 0.730000\n",
              "2  3           52             0.4300000 1.300000 0.2300000 0.05000000 0.590000\n",
              "3  4           53             0.4100000 3.860000 0.3100000 0.10000000 0.960000\n",
              "4  5           54             0.5000000 1.790000 0.2300000 0.06000000 0.770000\n",
              "5  6           55             0.4000000 3.690000 0.1700000 0.03000000 0.800000\n",
              "6  7           56             0.3700000 2.960000 0.2200000 0.05000000 1.000000\n",
              "7  8           57             0.5600000 2.760000 0.4600000 0.08000000 1.110000\n",
              "8  9           58             0.4100000 2.140000 0.2200000 0.12000000 0.930000\n",
              "9  10          59             0.4200000 1.710000 0.2000000 0.06000000 0.640000\n",
              "10 11          60             0.3500000 2.000000 0.2100000 0.06000000 0.670000\n",
              "11 12          61             0.3000000 1.940000 0.1500000 0.07000000 0.790000\n",
              "12 13          62             0.5500000 2.580000 0.2300000 0.08000000 0.830000\n",
              "13 14          63             0.5200000 3.030000 0.3100000 0.09000000 1.010000\n",
              "14 15          37             0.4400000 2.990000 0.3100000 0.05000000 0.860000\n",
              "15 16          38             0.4750000 2.380000 0.2300000 0.04500000 0.715000\n",
              "16 17          39             0.5333333 2.193333 0.1866667 0.08666667 0.960000\n",
              "17 19          41             0.3500000 1.350000 0.1700000 0.07000000 0.660000\n",
              "18 20          42             0.7233333 2.583333 0.3033333 0.17000000 1.183333\n",
              "19 22          30             0.5700000 2.420000 0.3000000 0.08000000 0.900000\n",
              "20 24          32             0.5100000 2.370000 0.2300000 0.09000000 0.840000\n",
              "21 26          34             0.4400000 2.230000 0.2400000 0.04000000 0.810000\n",
              "22 28          36             0.5100000 2.240000 0.3200000 0.06000000 0.840000\n",
              "23 30          38             0.4500000 3.070000 0.2600000 0.07000000 1.000000\n",
              "24 31          39             0.4500000 1.700000 0.2100000 0.06000000 0.640000\n",
              "25 33          42             0.4700000 2.530000 0.2200000 0.05000000 0.800000\n",
              "26 34          43             0.4800000 2.840000 0.1500000 0.06000000 0.980000\n",
              "27 36          25             0.4300000 3.240000 0.2900000 0.06000000 0.980000\n",
              "   GPHDL6   GPHDL7   GPHDL8   ⋯ G1       G2       G3       S0       S1      \n",
              "1  2.900000 1.570000 2.570000 ⋯ 12.23000 58.69000 20.97000 2.870000 29.57000\n",
              "2  2.620000 1.620000 3.860000 ⋯ 11.98000 57.50000 21.94000 2.920000 29.60000\n",
              "3  3.190000 2.420000 3.750000 ⋯ 15.00000 62.10000 12.74000 4.200000 37.03000\n",
              "4  2.960000 1.760000 3.000000 ⋯ 12.85000 56.02000 22.70000 3.320000 30.01000\n",
              "5  3.040000 1.620000 3.230000 ⋯ 13.81000 59.78000 16.14000 3.020000 33.69000\n",
              "6  3.000000 2.110000 3.060000 ⋯ 14.61000 60.59000 15.63000 3.750000 35.18000\n",
              "7  2.960000 3.560000 4.170000 ⋯ 15.44000 58.98000 15.50000 5.770000 36.60000\n",
              "8  2.550000 2.060000 2.950000 ⋯ 13.43000 58.97000 19.18000 3.740000 31.66000\n",
              "9  2.840000 1.590000 3.480000 ⋯ 12.30000 58.45000 20.28000 2.910000 29.13000\n",
              "10 2.570000 1.710000 3.790000 ⋯ 12.66000 58.16000 20.12000 3.000000 31.25000\n",
              "11 2.330000 1.610000 2.720000 ⋯ 12.97000 58.32000 19.98000 2.920000 30.74000\n",
              "12 2.980000 2.050000 3.420000 ⋯ 13.73000 60.61000 16.29000 3.740000 34.02000\n",
              "13 3.080000 2.420000 3.510000 ⋯ 14.33000 58.50000 18.06000 4.350000 33.69000\n",
              "14 2.910000 2.480000 3.630000 ⋯ 13.79000 61.80000 15.53000 4.140000 36.45000\n",
              "15 2.865000 2.110000 3.820000 ⋯ 13.62000 58.88500 17.79500 3.575000 33.51500\n",
              "16 2.783333 2.370000 2.843333 ⋯ 13.35667 59.25667 18.35333 4.136667 32.80667\n",
              "17 2.270000 1.720000 3.080000 ⋯ 11.89000 59.47000 20.42000 2.970000 30.26000\n",
              "18 2.753333 2.066667 3.786667 ⋯ 15.04333 58.33000 17.26000 4.446667 33.16333\n",
              "19 2.940000 2.430000 3.790000 ⋯ 14.44000 58.70000 17.54000 4.280000 33.55000\n",
              "20 3.130000 2.480000 3.210000 ⋯ 13.51000 60.91000 16.78000 4.150000 34.51000\n",
              "21 3.170000 1.860000 3.820000 ⋯ 14.68000 59.16000 16.87000 3.390000 33.68000\n",
              "22 3.010000 2.060000 4.360000 ⋯ 15.32000 57.90000 17.66000 3.790000 35.20000\n",
              "23 2.750000 2.360000 4.030000 ⋯ 15.32000 59.17000 15.03000 4.140000 35.00000\n",
              "24 3.120000 1.590000 4.000000 ⋯ 13.34000 58.91000 19.33000 2.950000 31.71000\n",
              "25 2.750000 2.580000 3.490000 ⋯ 13.37000 60.34000 16.66000 4.120000 33.72000\n",
              "26 2.900000 2.080000 2.900000 ⋯ 14.70000 58.81000 16.13000 3.750000 33.70000\n",
              "27 2.840000 2.750000 3.770000 ⋯ 14.76000 58.90000 16.60000 4.510000 35.75000\n",
              "   S2       S3       B          F         HM   \n",
              "1  44.39000 15.06000 0.05000000  7.350000 2.490\n",
              "2  43.93000 14.97000 0.05000000  8.710000 1.530\n",
              "3  40.68000  7.93000 0.10000000  4.810000 5.080\n",
              "4  41.78000 16.46000 0.06000000  8.850000 2.300\n",
              "5  42.18000 10.84000 0.03000000  7.250000 4.330\n",
              "6  41.66000 10.24000 0.05000000  5.100000 3.870\n",
              "7  38.21000  9.34000 0.08000000  6.150000 3.680\n",
              "8  43.64000 12.54000 0.12000000  5.270000 2.940\n",
              "9  44.60000 14.39000 0.06000000  8.630000 2.120\n",
              "10 42.65000 14.04000 0.06000000  7.050000 2.720\n",
              "11 43.89000 13.72000 0.07000000  6.500000 2.680\n",
              "12 42.01000 10.86000 0.08000000  7.840000 3.070\n",
              "13 40.94000 11.91000 0.09000000  5.700000 3.820\n",
              "14 40.10000 10.43000 0.05000000  5.540000 3.890\n",
              "15 41.04500 12.16500 0.04500000 10.070000 3.025\n",
              "16 41.71667 12.30667 0.08666667  7.223333 2.870\n",
              "17 44.16000 14.39000 0.07000000  9.650000 1.850\n",
              "18 41.35000 11.67333 0.17000000  7.436667 3.310\n",
              "19 41.89000 10.96000 0.08000000  6.740000 3.140\n",
              "20 42.27000 10.27000 0.09000000  5.880000 3.000\n",
              "21 42.25000 11.39000 0.04000000  6.440000 2.810\n",
              "22 40.05000 11.84000 0.06000000  8.020000 2.780\n",
              "23 40.76000  9.62000 0.07000000  7.560000 3.850\n",
              "24 43.96000 12.96000 0.06000000  7.980000 2.050\n",
              "25 41.70000 10.83000 0.05000000  7.950000 3.050\n",
              "26 40.96000 11.23000 0.06000000  8.240000 3.840\n",
              "27 40.00000 10.00000 0.06000000  4.640000 4.020"
            ]
          },
          "metadata": {}
        }
      ]
    },
    {
      "cell_type": "markdown",
      "source": [
        "Загрузка таблицы ldl"
      ],
      "metadata": {
        "id": "Z5aPIhIM--9W"
      }
    },
    {
      "cell_type": "code",
      "source": [
        "ldl <- read_tsv(\"/content/low_density_lipids.tsv\") %>%\n",
        "  select(-Name) %>%\n",
        "  mutate(Patient.number = as.factor(Patient.number)) %>%\n",
        "  mutate(Vial.number = as.factor(Vial.number))"
      ],
      "metadata": {
        "id": "FSMwOTF4DJk5",
        "colab": {
          "base_uri": "https://localhost:8080/"
        },
        "outputId": "08a91b86-9e65-4c91-95cb-8a0b481a9b64"
      },
      "execution_count": null,
      "outputs": [
        {
          "output_type": "stream",
          "name": "stderr",
          "text": [
            "\u001b[1mRows: \u001b[22m\u001b[34m29\u001b[39m \u001b[1mColumns: \u001b[22m\u001b[34m38\u001b[39m\n",
            "\u001b[36m──\u001b[39m \u001b[1mColumn specification\u001b[22m \u001b[36m────────────────────────────────────────────────────────\u001b[39m\n",
            "\u001b[1mDelimiter:\u001b[22m \"\\t\"\n",
            "\u001b[31mchr\u001b[39m  (1): Name\n",
            "\u001b[32mdbl\u001b[39m (37): Vial.number, Patient.number, GPLDL1, GPLDL2, GPLDL3, GPLDL4, GPLDL...\n",
            "\n",
            "\u001b[36mℹ\u001b[39m Use `spec()` to retrieve the full column specification for this data.\n",
            "\u001b[36mℹ\u001b[39m Specify the column types or set `show_col_types = FALSE` to quiet this message.\n"
          ]
        }
      ]
    },
    {
      "cell_type": "code",
      "source": [
        "ldl"
      ],
      "metadata": {
        "colab": {
          "base_uri": "https://localhost:8080/",
          "height": 1000
        },
        "id": "RkboMHHLp3V-",
        "outputId": "cb18ff8d-242d-4f1a-f94f-34f0cc36c8ed"
      },
      "execution_count": null,
      "outputs": [
        {
          "output_type": "display_data",
          "data": {
            "text/html": [
              "<table class=\"dataframe\">\n",
              "<caption>A tibble: 29 × 37</caption>\n",
              "<thead>\n",
              "\t<tr><th scope=col>Vial.number</th><th scope=col>Patient.number</th><th scope=col>GPLDL1</th><th scope=col>GPLDL2</th><th scope=col>GPLDL3</th><th scope=col>GPLDL4</th><th scope=col>GPLDL5</th><th scope=col>GPLDL6</th><th scope=col>GPLDL7</th><th scope=col>GPLDL8</th><th scope=col>⋯</th><th scope=col>G1</th><th scope=col>G2</th><th scope=col>G3</th><th scope=col>S0</th><th scope=col>S1</th><th scope=col>S2</th><th scope=col>S3</th><th scope=col>B</th><th scope=col>F</th><th scope=col>HM</th></tr>\n",
              "\t<tr><th scope=col>&lt;fct&gt;</th><th scope=col>&lt;fct&gt;</th><th scope=col>&lt;dbl&gt;</th><th scope=col>&lt;dbl&gt;</th><th scope=col>&lt;dbl&gt;</th><th scope=col>&lt;dbl&gt;</th><th scope=col>&lt;dbl&gt;</th><th scope=col>&lt;dbl&gt;</th><th scope=col>&lt;dbl&gt;</th><th scope=col>&lt;dbl&gt;</th><th scope=col>⋯</th><th scope=col>&lt;dbl&gt;</th><th scope=col>&lt;dbl&gt;</th><th scope=col>&lt;dbl&gt;</th><th scope=col>&lt;dbl&gt;</th><th scope=col>&lt;dbl&gt;</th><th scope=col>&lt;dbl&gt;</th><th scope=col>&lt;dbl&gt;</th><th scope=col>&lt;dbl&gt;</th><th scope=col>&lt;dbl&gt;</th><th scope=col>&lt;dbl&gt;</th></tr>\n",
              "</thead>\n",
              "<tbody>\n",
              "\t<tr><td>1 </td><td>50</td><td>0.400</td><td>6.740</td><td>0.20</td><td>0.020</td><td>1.09</td><td>3.790</td><td>2.27</td><td>2.380</td><td>⋯</td><td>4.090</td><td>68.910</td><td>3.570</td><td>3.980</td><td>28.180</td><td>42.460</td><td>1.950</td><td>0.020</td><td>1.67</td><td>13.02</td></tr>\n",
              "\t<tr><td>3 </td><td>52</td><td>0.460</td><td>7.370</td><td>0.39</td><td>0.020</td><td>1.06</td><td>4.550</td><td>2.71</td><td>3.230</td><td>⋯</td><td>5.160</td><td>68.220</td><td>3.110</td><td>4.640</td><td>30.430</td><td>39.860</td><td>1.560</td><td>0.020</td><td>1.69</td><td>14.16</td></tr>\n",
              "\t<tr><td>4 </td><td>53</td><td>0.300</td><td>8.230</td><td>0.26</td><td>0.020</td><td>0.88</td><td>3.660</td><td>2.32</td><td>2.490</td><td>⋯</td><td>3.950</td><td>68.030</td><td>4.500</td><td>3.780</td><td>29.370</td><td>41.130</td><td>2.200</td><td>0.020</td><td>1.89</td><td>13.89</td></tr>\n",
              "\t<tr><td>5 </td><td>54</td><td>0.470</td><td>7.940</td><td>0.29</td><td>0.020</td><td>1.11</td><td>3.970</td><td>2.55</td><td>2.740</td><td>⋯</td><td>4.630</td><td>66.910</td><td>4.030</td><td>4.440</td><td>28.540</td><td>40.640</td><td>1.950</td><td>0.020</td><td>2.03</td><td>14.25</td></tr>\n",
              "\t<tr><td>6 </td><td>55</td><td>0.310</td><td>9.680</td><td>0.18</td><td>0.020</td><td>0.97</td><td>4.500</td><td>2.24</td><td>2.570</td><td>⋯</td><td>4.050</td><td>64.010</td><td>5.270</td><td>3.720</td><td>26.710</td><td>40.390</td><td>2.510</td><td>0.020</td><td>2.70</td><td>16.06</td></tr>\n",
              "\t<tr><td>7 </td><td>56</td><td>0.300</td><td>7.320</td><td>0.22</td><td>0.020</td><td>1.12</td><td>4.190</td><td>2.37</td><td>2.440</td><td>⋯</td><td>4.100</td><td>65.990</td><td>4.700</td><td>4.030</td><td>28.440</td><td>39.990</td><td>2.330</td><td>0.020</td><td>1.61</td><td>13.82</td></tr>\n",
              "\t<tr><td>8 </td><td>57</td><td>0.470</td><td>8.430</td><td>0.36</td><td>0.030</td><td>1.17</td><td>4.340</td><td>2.66</td><td>3.240</td><td>⋯</td><td>5.270</td><td>67.260</td><td>3.240</td><td>4.690</td><td>32.270</td><td>37.290</td><td>1.520</td><td>0.030</td><td>1.61</td><td>14.59</td></tr>\n",
              "\t<tr><td>9 </td><td>58</td><td>0.350</td><td>6.870</td><td>0.21</td><td>0.050</td><td>1.04</td><td>3.920</td><td>2.77</td><td>2.320</td><td>⋯</td><td>3.970</td><td>67.590</td><td>4.220</td><td>4.420</td><td>27.990</td><td>41.190</td><td>2.180</td><td>0.050</td><td>1.55</td><td>13.26</td></tr>\n",
              "\t<tr><td>10</td><td>59</td><td>0.350</td><td>7.630</td><td>0.27</td><td>0.020</td><td>0.93</td><td>3.830</td><td>2.29</td><td>2.910</td><td>⋯</td><td>4.480</td><td>68.880</td><td>4.040</td><td>3.860</td><td>28.110</td><td>43.200</td><td>2.230</td><td>0.020</td><td>2.30</td><td>13.11</td></tr>\n",
              "\t<tr><td>11</td><td>60</td><td>0.400</td><td>7.930</td><td>0.31</td><td>0.030</td><td>1.08</td><td>4.020</td><td>2.96</td><td>2.800</td><td>⋯</td><td>4.620</td><td>66.510</td><td>4.250</td><td>4.780</td><td>28.500</td><td>40.140</td><td>1.960</td><td>0.030</td><td>1.72</td><td>14.21</td></tr>\n",
              "\t<tr><td>12</td><td>61</td><td>0.240</td><td>6.900</td><td>0.17</td><td>0.020</td><td>0.88</td><td>3.760</td><td>2.14</td><td>2.160</td><td>⋯</td><td>3.470</td><td>66.740</td><td>5.030</td><td>3.450</td><td>26.590</td><td>42.620</td><td>2.580</td><td>0.020</td><td>2.02</td><td>13.52</td></tr>\n",
              "\t<tr><td>13</td><td>62</td><td>0.480</td><td>8.050</td><td>0.24</td><td>0.060</td><td>1.22</td><td>4.610</td><td>2.76</td><td>2.780</td><td>⋯</td><td>4.780</td><td>67.400</td><td>3.720</td><td>4.760</td><td>29.470</td><td>39.760</td><td>1.910</td><td>0.060</td><td>1.93</td><td>14.28</td></tr>\n",
              "\t<tr><td>14</td><td>63</td><td>0.440</td><td>8.150</td><td>0.25</td><td>0.030</td><td>1.06</td><td>3.470</td><td>2.28</td><td>2.770</td><td>⋯</td><td>4.550</td><td>67.880</td><td>4.640</td><td>4.060</td><td>28.160</td><td>42.470</td><td>2.380</td><td>0.030</td><td>1.93</td><td>13.42</td></tr>\n",
              "\t<tr><td>15</td><td>37</td><td>0.400</td><td>7.880</td><td>0.34</td><td>0.020</td><td>1.19</td><td>4.430</td><td>3.33</td><td>2.750</td><td>⋯</td><td>4.700</td><td>67.590</td><td>3.430</td><td>5.280</td><td>33.520</td><td>35.450</td><td>1.470</td><td>0.020</td><td>1.24</td><td>14.35</td></tr>\n",
              "\t<tr><td>16</td><td>38</td><td>0.460</td><td>8.110</td><td>0.32</td><td>0.030</td><td>1.09</td><td>4.380</td><td>2.57</td><td>3.300</td><td>⋯</td><td>5.200</td><td>66.370</td><td>4.220</td><td>4.470</td><td>29.360</td><td>39.770</td><td>2.190</td><td>0.030</td><td>2.99</td><td>14.47</td></tr>\n",
              "\t<tr><td>17</td><td>39</td><td>0.330</td><td>6.940</td><td>0.20</td><td>0.030</td><td>1.13</td><td>3.950</td><td>2.65</td><td>2.320</td><td>⋯</td><td>4.010</td><td>67.880</td><td>4.340</td><td>4.340</td><td>29.100</td><td>40.840</td><td>1.950</td><td>0.030</td><td>1.99</td><td>13.02</td></tr>\n",
              "\t<tr><td>18</td><td>40</td><td>0.390</td><td>8.315</td><td>0.18</td><td>0.035</td><td>1.17</td><td>4.320</td><td>2.66</td><td>2.160</td><td>⋯</td><td>3.935</td><td>66.575</td><td>4.445</td><td>4.435</td><td>28.225</td><td>39.670</td><td>2.625</td><td>0.035</td><td>2.11</td><td>14.64</td></tr>\n",
              "\t<tr><td>19</td><td>41</td><td>0.290</td><td>7.660</td><td>0.23</td><td>0.020</td><td>0.87</td><td>3.690</td><td>2.27</td><td>2.450</td><td>⋯</td><td>3.860</td><td>68.260</td><td>4.280</td><td>3.680</td><td>28.570</td><td>42.040</td><td>2.110</td><td>0.020</td><td>2.34</td><td>13.59</td></tr>\n",
              "\t<tr><td>20</td><td>42</td><td>0.375</td><td>8.800</td><td>0.30</td><td>0.030</td><td>1.02</td><td>4.345</td><td>2.61</td><td>2.985</td><td>⋯</td><td>4.710</td><td>65.305</td><td>4.735</td><td>4.335</td><td>29.245</td><td>38.985</td><td>2.185</td><td>0.030</td><td>2.19</td><td>15.15</td></tr>\n",
              "\t<tr><td>21</td><td>43</td><td>0.390</td><td>6.500</td><td>0.26</td><td>0.040</td><td>1.07</td><td>4.100</td><td>2.80</td><td>2.280</td><td>⋯</td><td>4.040</td><td>67.120</td><td>4.740</td><td>4.560</td><td>28.570</td><td>40.240</td><td>2.530</td><td>0.040</td><td>2.38</td><td>13.10</td></tr>\n",
              "\t<tr><td>22</td><td>30</td><td>0.430</td><td>7.930</td><td>0.32</td><td>0.030</td><td>1.12</td><td>4.130</td><td>2.69</td><td>3.030</td><td>⋯</td><td>4.930</td><td>66.620</td><td>4.270</td><td>4.590</td><td>29.240</td><td>39.910</td><td>2.080</td><td>0.030</td><td>1.69</td><td>14.11</td></tr>\n",
              "\t<tr><td>24</td><td>32</td><td>0.440</td><td>8.540</td><td>0.22</td><td>0.040</td><td>1.12</td><td>4.660</td><td>2.73</td><td>2.570</td><td>⋯</td><td>4.390</td><td>67.560</td><td>3.590</td><td>4.550</td><td>28.810</td><td>40.410</td><td>1.770</td><td>0.040</td><td>1.38</td><td>14.83</td></tr>\n",
              "\t<tr><td>26</td><td>34</td><td>0.500</td><td>7.540</td><td>0.31</td><td>0.020</td><td>1.25</td><td>3.990</td><td>2.63</td><td>3.200</td><td>⋯</td><td>5.280</td><td>67.780</td><td>4.210</td><td>4.710</td><td>29.210</td><td>41.010</td><td>2.340</td><td>0.020</td><td>2.03</td><td>13.33</td></tr>\n",
              "\t<tr><td>28</td><td>36</td><td>0.340</td><td>7.640</td><td>0.29</td><td>0.020</td><td>1.03</td><td>3.910</td><td>2.48</td><td>2.940</td><td>⋯</td><td>4.620</td><td>67.430</td><td>4.360</td><td>4.160</td><td>29.580</td><td>40.480</td><td>2.190</td><td>0.020</td><td>2.27</td><td>13.54</td></tr>\n",
              "\t<tr><td>30</td><td>38</td><td>0.300</td><td>8.510</td><td>0.24</td><td>0.020</td><td>0.97</td><td>4.140</td><td>2.38</td><td>2.760</td><td>⋯</td><td>4.290</td><td>66.840</td><td>4.380</td><td>3.910</td><td>28.190</td><td>41.210</td><td>2.200</td><td>0.020</td><td>2.36</td><td>14.45</td></tr>\n",
              "\t<tr><td>31</td><td>39</td><td>0.520</td><td>7.980</td><td>0.31</td><td>0.020</td><td>1.09</td><td>4.960</td><td>2.34</td><td>3.280</td><td>⋯</td><td>5.220</td><td>66.870</td><td>3.580</td><td>4.280</td><td>29.690</td><td>40.060</td><td>1.640</td><td>0.020</td><td>1.55</td><td>14.70</td></tr>\n",
              "\t<tr><td>33</td><td>42</td><td>0.370</td><td>8.740</td><td>0.23</td><td>0.030</td><td>0.92</td><td>4.440</td><td>2.66</td><td>2.340</td><td>⋯</td><td>3.890</td><td>67.440</td><td>4.290</td><td>4.210</td><td>28.160</td><td>41.210</td><td>2.040</td><td>0.030</td><td>2.26</td><td>15.06</td></tr>\n",
              "\t<tr><td>34</td><td>43</td><td>0.250</td><td>7.290</td><td>0.14</td><td>0.060</td><td>0.94</td><td>3.760</td><td>1.99</td><td>1.880</td><td>⋯</td><td>3.270</td><td>65.600</td><td>5.290</td><td>3.380</td><td>24.700</td><td>43.560</td><td>2.520</td><td>0.060</td><td>2.73</td><td>13.89</td></tr>\n",
              "\t<tr><td>36</td><td>25</td><td>0.320</td><td>8.260</td><td>0.25</td><td>0.020</td><td>1.00</td><td>3.570</td><td>2.61</td><td>2.410</td><td>⋯</td><td>4.000</td><td>67.710</td><td>5.350</td><td>4.200</td><td>29.860</td><td>40.350</td><td>2.650</td><td>0.020</td><td>1.55</td><td>13.37</td></tr>\n",
              "</tbody>\n",
              "</table>\n"
            ],
            "text/markdown": "\nA tibble: 29 × 37\n\n| Vial.number &lt;fct&gt; | Patient.number &lt;fct&gt; | GPLDL1 &lt;dbl&gt; | GPLDL2 &lt;dbl&gt; | GPLDL3 &lt;dbl&gt; | GPLDL4 &lt;dbl&gt; | GPLDL5 &lt;dbl&gt; | GPLDL6 &lt;dbl&gt; | GPLDL7 &lt;dbl&gt; | GPLDL8 &lt;dbl&gt; | ⋯ ⋯ | G1 &lt;dbl&gt; | G2 &lt;dbl&gt; | G3 &lt;dbl&gt; | S0 &lt;dbl&gt; | S1 &lt;dbl&gt; | S2 &lt;dbl&gt; | S3 &lt;dbl&gt; | B &lt;dbl&gt; | F &lt;dbl&gt; | HM &lt;dbl&gt; |\n|---|---|---|---|---|---|---|---|---|---|---|---|---|---|---|---|---|---|---|---|---|\n| 1  | 50 | 0.400 | 6.740 | 0.20 | 0.020 | 1.09 | 3.790 | 2.27 | 2.380 | ⋯ | 4.090 | 68.910 | 3.570 | 3.980 | 28.180 | 42.460 | 1.950 | 0.020 | 1.67 | 13.02 |\n| 3  | 52 | 0.460 | 7.370 | 0.39 | 0.020 | 1.06 | 4.550 | 2.71 | 3.230 | ⋯ | 5.160 | 68.220 | 3.110 | 4.640 | 30.430 | 39.860 | 1.560 | 0.020 | 1.69 | 14.16 |\n| 4  | 53 | 0.300 | 8.230 | 0.26 | 0.020 | 0.88 | 3.660 | 2.32 | 2.490 | ⋯ | 3.950 | 68.030 | 4.500 | 3.780 | 29.370 | 41.130 | 2.200 | 0.020 | 1.89 | 13.89 |\n| 5  | 54 | 0.470 | 7.940 | 0.29 | 0.020 | 1.11 | 3.970 | 2.55 | 2.740 | ⋯ | 4.630 | 66.910 | 4.030 | 4.440 | 28.540 | 40.640 | 1.950 | 0.020 | 2.03 | 14.25 |\n| 6  | 55 | 0.310 | 9.680 | 0.18 | 0.020 | 0.97 | 4.500 | 2.24 | 2.570 | ⋯ | 4.050 | 64.010 | 5.270 | 3.720 | 26.710 | 40.390 | 2.510 | 0.020 | 2.70 | 16.06 |\n| 7  | 56 | 0.300 | 7.320 | 0.22 | 0.020 | 1.12 | 4.190 | 2.37 | 2.440 | ⋯ | 4.100 | 65.990 | 4.700 | 4.030 | 28.440 | 39.990 | 2.330 | 0.020 | 1.61 | 13.82 |\n| 8  | 57 | 0.470 | 8.430 | 0.36 | 0.030 | 1.17 | 4.340 | 2.66 | 3.240 | ⋯ | 5.270 | 67.260 | 3.240 | 4.690 | 32.270 | 37.290 | 1.520 | 0.030 | 1.61 | 14.59 |\n| 9  | 58 | 0.350 | 6.870 | 0.21 | 0.050 | 1.04 | 3.920 | 2.77 | 2.320 | ⋯ | 3.970 | 67.590 | 4.220 | 4.420 | 27.990 | 41.190 | 2.180 | 0.050 | 1.55 | 13.26 |\n| 10 | 59 | 0.350 | 7.630 | 0.27 | 0.020 | 0.93 | 3.830 | 2.29 | 2.910 | ⋯ | 4.480 | 68.880 | 4.040 | 3.860 | 28.110 | 43.200 | 2.230 | 0.020 | 2.30 | 13.11 |\n| 11 | 60 | 0.400 | 7.930 | 0.31 | 0.030 | 1.08 | 4.020 | 2.96 | 2.800 | ⋯ | 4.620 | 66.510 | 4.250 | 4.780 | 28.500 | 40.140 | 1.960 | 0.030 | 1.72 | 14.21 |\n| 12 | 61 | 0.240 | 6.900 | 0.17 | 0.020 | 0.88 | 3.760 | 2.14 | 2.160 | ⋯ | 3.470 | 66.740 | 5.030 | 3.450 | 26.590 | 42.620 | 2.580 | 0.020 | 2.02 | 13.52 |\n| 13 | 62 | 0.480 | 8.050 | 0.24 | 0.060 | 1.22 | 4.610 | 2.76 | 2.780 | ⋯ | 4.780 | 67.400 | 3.720 | 4.760 | 29.470 | 39.760 | 1.910 | 0.060 | 1.93 | 14.28 |\n| 14 | 63 | 0.440 | 8.150 | 0.25 | 0.030 | 1.06 | 3.470 | 2.28 | 2.770 | ⋯ | 4.550 | 67.880 | 4.640 | 4.060 | 28.160 | 42.470 | 2.380 | 0.030 | 1.93 | 13.42 |\n| 15 | 37 | 0.400 | 7.880 | 0.34 | 0.020 | 1.19 | 4.430 | 3.33 | 2.750 | ⋯ | 4.700 | 67.590 | 3.430 | 5.280 | 33.520 | 35.450 | 1.470 | 0.020 | 1.24 | 14.35 |\n| 16 | 38 | 0.460 | 8.110 | 0.32 | 0.030 | 1.09 | 4.380 | 2.57 | 3.300 | ⋯ | 5.200 | 66.370 | 4.220 | 4.470 | 29.360 | 39.770 | 2.190 | 0.030 | 2.99 | 14.47 |\n| 17 | 39 | 0.330 | 6.940 | 0.20 | 0.030 | 1.13 | 3.950 | 2.65 | 2.320 | ⋯ | 4.010 | 67.880 | 4.340 | 4.340 | 29.100 | 40.840 | 1.950 | 0.030 | 1.99 | 13.02 |\n| 18 | 40 | 0.390 | 8.315 | 0.18 | 0.035 | 1.17 | 4.320 | 2.66 | 2.160 | ⋯ | 3.935 | 66.575 | 4.445 | 4.435 | 28.225 | 39.670 | 2.625 | 0.035 | 2.11 | 14.64 |\n| 19 | 41 | 0.290 | 7.660 | 0.23 | 0.020 | 0.87 | 3.690 | 2.27 | 2.450 | ⋯ | 3.860 | 68.260 | 4.280 | 3.680 | 28.570 | 42.040 | 2.110 | 0.020 | 2.34 | 13.59 |\n| 20 | 42 | 0.375 | 8.800 | 0.30 | 0.030 | 1.02 | 4.345 | 2.61 | 2.985 | ⋯ | 4.710 | 65.305 | 4.735 | 4.335 | 29.245 | 38.985 | 2.185 | 0.030 | 2.19 | 15.15 |\n| 21 | 43 | 0.390 | 6.500 | 0.26 | 0.040 | 1.07 | 4.100 | 2.80 | 2.280 | ⋯ | 4.040 | 67.120 | 4.740 | 4.560 | 28.570 | 40.240 | 2.530 | 0.040 | 2.38 | 13.10 |\n| 22 | 30 | 0.430 | 7.930 | 0.32 | 0.030 | 1.12 | 4.130 | 2.69 | 3.030 | ⋯ | 4.930 | 66.620 | 4.270 | 4.590 | 29.240 | 39.910 | 2.080 | 0.030 | 1.69 | 14.11 |\n| 24 | 32 | 0.440 | 8.540 | 0.22 | 0.040 | 1.12 | 4.660 | 2.73 | 2.570 | ⋯ | 4.390 | 67.560 | 3.590 | 4.550 | 28.810 | 40.410 | 1.770 | 0.040 | 1.38 | 14.83 |\n| 26 | 34 | 0.500 | 7.540 | 0.31 | 0.020 | 1.25 | 3.990 | 2.63 | 3.200 | ⋯ | 5.280 | 67.780 | 4.210 | 4.710 | 29.210 | 41.010 | 2.340 | 0.020 | 2.03 | 13.33 |\n| 28 | 36 | 0.340 | 7.640 | 0.29 | 0.020 | 1.03 | 3.910 | 2.48 | 2.940 | ⋯ | 4.620 | 67.430 | 4.360 | 4.160 | 29.580 | 40.480 | 2.190 | 0.020 | 2.27 | 13.54 |\n| 30 | 38 | 0.300 | 8.510 | 0.24 | 0.020 | 0.97 | 4.140 | 2.38 | 2.760 | ⋯ | 4.290 | 66.840 | 4.380 | 3.910 | 28.190 | 41.210 | 2.200 | 0.020 | 2.36 | 14.45 |\n| 31 | 39 | 0.520 | 7.980 | 0.31 | 0.020 | 1.09 | 4.960 | 2.34 | 3.280 | ⋯ | 5.220 | 66.870 | 3.580 | 4.280 | 29.690 | 40.060 | 1.640 | 0.020 | 1.55 | 14.70 |\n| 33 | 42 | 0.370 | 8.740 | 0.23 | 0.030 | 0.92 | 4.440 | 2.66 | 2.340 | ⋯ | 3.890 | 67.440 | 4.290 | 4.210 | 28.160 | 41.210 | 2.040 | 0.030 | 2.26 | 15.06 |\n| 34 | 43 | 0.250 | 7.290 | 0.14 | 0.060 | 0.94 | 3.760 | 1.99 | 1.880 | ⋯ | 3.270 | 65.600 | 5.290 | 3.380 | 24.700 | 43.560 | 2.520 | 0.060 | 2.73 | 13.89 |\n| 36 | 25 | 0.320 | 8.260 | 0.25 | 0.020 | 1.00 | 3.570 | 2.61 | 2.410 | ⋯ | 4.000 | 67.710 | 5.350 | 4.200 | 29.860 | 40.350 | 2.650 | 0.020 | 1.55 | 13.37 |\n\n",
            "text/latex": "A tibble: 29 × 37\n\\begin{tabular}{lllllllllllllllllllll}\n Vial.number & Patient.number & GPLDL1 & GPLDL2 & GPLDL3 & GPLDL4 & GPLDL5 & GPLDL6 & GPLDL7 & GPLDL8 & ⋯ & G1 & G2 & G3 & S0 & S1 & S2 & S3 & B & F & HM\\\\\n <fct> & <fct> & <dbl> & <dbl> & <dbl> & <dbl> & <dbl> & <dbl> & <dbl> & <dbl> & ⋯ & <dbl> & <dbl> & <dbl> & <dbl> & <dbl> & <dbl> & <dbl> & <dbl> & <dbl> & <dbl>\\\\\n\\hline\n\t 1  & 50 & 0.400 & 6.740 & 0.20 & 0.020 & 1.09 & 3.790 & 2.27 & 2.380 & ⋯ & 4.090 & 68.910 & 3.570 & 3.980 & 28.180 & 42.460 & 1.950 & 0.020 & 1.67 & 13.02\\\\\n\t 3  & 52 & 0.460 & 7.370 & 0.39 & 0.020 & 1.06 & 4.550 & 2.71 & 3.230 & ⋯ & 5.160 & 68.220 & 3.110 & 4.640 & 30.430 & 39.860 & 1.560 & 0.020 & 1.69 & 14.16\\\\\n\t 4  & 53 & 0.300 & 8.230 & 0.26 & 0.020 & 0.88 & 3.660 & 2.32 & 2.490 & ⋯ & 3.950 & 68.030 & 4.500 & 3.780 & 29.370 & 41.130 & 2.200 & 0.020 & 1.89 & 13.89\\\\\n\t 5  & 54 & 0.470 & 7.940 & 0.29 & 0.020 & 1.11 & 3.970 & 2.55 & 2.740 & ⋯ & 4.630 & 66.910 & 4.030 & 4.440 & 28.540 & 40.640 & 1.950 & 0.020 & 2.03 & 14.25\\\\\n\t 6  & 55 & 0.310 & 9.680 & 0.18 & 0.020 & 0.97 & 4.500 & 2.24 & 2.570 & ⋯ & 4.050 & 64.010 & 5.270 & 3.720 & 26.710 & 40.390 & 2.510 & 0.020 & 2.70 & 16.06\\\\\n\t 7  & 56 & 0.300 & 7.320 & 0.22 & 0.020 & 1.12 & 4.190 & 2.37 & 2.440 & ⋯ & 4.100 & 65.990 & 4.700 & 4.030 & 28.440 & 39.990 & 2.330 & 0.020 & 1.61 & 13.82\\\\\n\t 8  & 57 & 0.470 & 8.430 & 0.36 & 0.030 & 1.17 & 4.340 & 2.66 & 3.240 & ⋯ & 5.270 & 67.260 & 3.240 & 4.690 & 32.270 & 37.290 & 1.520 & 0.030 & 1.61 & 14.59\\\\\n\t 9  & 58 & 0.350 & 6.870 & 0.21 & 0.050 & 1.04 & 3.920 & 2.77 & 2.320 & ⋯ & 3.970 & 67.590 & 4.220 & 4.420 & 27.990 & 41.190 & 2.180 & 0.050 & 1.55 & 13.26\\\\\n\t 10 & 59 & 0.350 & 7.630 & 0.27 & 0.020 & 0.93 & 3.830 & 2.29 & 2.910 & ⋯ & 4.480 & 68.880 & 4.040 & 3.860 & 28.110 & 43.200 & 2.230 & 0.020 & 2.30 & 13.11\\\\\n\t 11 & 60 & 0.400 & 7.930 & 0.31 & 0.030 & 1.08 & 4.020 & 2.96 & 2.800 & ⋯ & 4.620 & 66.510 & 4.250 & 4.780 & 28.500 & 40.140 & 1.960 & 0.030 & 1.72 & 14.21\\\\\n\t 12 & 61 & 0.240 & 6.900 & 0.17 & 0.020 & 0.88 & 3.760 & 2.14 & 2.160 & ⋯ & 3.470 & 66.740 & 5.030 & 3.450 & 26.590 & 42.620 & 2.580 & 0.020 & 2.02 & 13.52\\\\\n\t 13 & 62 & 0.480 & 8.050 & 0.24 & 0.060 & 1.22 & 4.610 & 2.76 & 2.780 & ⋯ & 4.780 & 67.400 & 3.720 & 4.760 & 29.470 & 39.760 & 1.910 & 0.060 & 1.93 & 14.28\\\\\n\t 14 & 63 & 0.440 & 8.150 & 0.25 & 0.030 & 1.06 & 3.470 & 2.28 & 2.770 & ⋯ & 4.550 & 67.880 & 4.640 & 4.060 & 28.160 & 42.470 & 2.380 & 0.030 & 1.93 & 13.42\\\\\n\t 15 & 37 & 0.400 & 7.880 & 0.34 & 0.020 & 1.19 & 4.430 & 3.33 & 2.750 & ⋯ & 4.700 & 67.590 & 3.430 & 5.280 & 33.520 & 35.450 & 1.470 & 0.020 & 1.24 & 14.35\\\\\n\t 16 & 38 & 0.460 & 8.110 & 0.32 & 0.030 & 1.09 & 4.380 & 2.57 & 3.300 & ⋯ & 5.200 & 66.370 & 4.220 & 4.470 & 29.360 & 39.770 & 2.190 & 0.030 & 2.99 & 14.47\\\\\n\t 17 & 39 & 0.330 & 6.940 & 0.20 & 0.030 & 1.13 & 3.950 & 2.65 & 2.320 & ⋯ & 4.010 & 67.880 & 4.340 & 4.340 & 29.100 & 40.840 & 1.950 & 0.030 & 1.99 & 13.02\\\\\n\t 18 & 40 & 0.390 & 8.315 & 0.18 & 0.035 & 1.17 & 4.320 & 2.66 & 2.160 & ⋯ & 3.935 & 66.575 & 4.445 & 4.435 & 28.225 & 39.670 & 2.625 & 0.035 & 2.11 & 14.64\\\\\n\t 19 & 41 & 0.290 & 7.660 & 0.23 & 0.020 & 0.87 & 3.690 & 2.27 & 2.450 & ⋯ & 3.860 & 68.260 & 4.280 & 3.680 & 28.570 & 42.040 & 2.110 & 0.020 & 2.34 & 13.59\\\\\n\t 20 & 42 & 0.375 & 8.800 & 0.30 & 0.030 & 1.02 & 4.345 & 2.61 & 2.985 & ⋯ & 4.710 & 65.305 & 4.735 & 4.335 & 29.245 & 38.985 & 2.185 & 0.030 & 2.19 & 15.15\\\\\n\t 21 & 43 & 0.390 & 6.500 & 0.26 & 0.040 & 1.07 & 4.100 & 2.80 & 2.280 & ⋯ & 4.040 & 67.120 & 4.740 & 4.560 & 28.570 & 40.240 & 2.530 & 0.040 & 2.38 & 13.10\\\\\n\t 22 & 30 & 0.430 & 7.930 & 0.32 & 0.030 & 1.12 & 4.130 & 2.69 & 3.030 & ⋯ & 4.930 & 66.620 & 4.270 & 4.590 & 29.240 & 39.910 & 2.080 & 0.030 & 1.69 & 14.11\\\\\n\t 24 & 32 & 0.440 & 8.540 & 0.22 & 0.040 & 1.12 & 4.660 & 2.73 & 2.570 & ⋯ & 4.390 & 67.560 & 3.590 & 4.550 & 28.810 & 40.410 & 1.770 & 0.040 & 1.38 & 14.83\\\\\n\t 26 & 34 & 0.500 & 7.540 & 0.31 & 0.020 & 1.25 & 3.990 & 2.63 & 3.200 & ⋯ & 5.280 & 67.780 & 4.210 & 4.710 & 29.210 & 41.010 & 2.340 & 0.020 & 2.03 & 13.33\\\\\n\t 28 & 36 & 0.340 & 7.640 & 0.29 & 0.020 & 1.03 & 3.910 & 2.48 & 2.940 & ⋯ & 4.620 & 67.430 & 4.360 & 4.160 & 29.580 & 40.480 & 2.190 & 0.020 & 2.27 & 13.54\\\\\n\t 30 & 38 & 0.300 & 8.510 & 0.24 & 0.020 & 0.97 & 4.140 & 2.38 & 2.760 & ⋯ & 4.290 & 66.840 & 4.380 & 3.910 & 28.190 & 41.210 & 2.200 & 0.020 & 2.36 & 14.45\\\\\n\t 31 & 39 & 0.520 & 7.980 & 0.31 & 0.020 & 1.09 & 4.960 & 2.34 & 3.280 & ⋯ & 5.220 & 66.870 & 3.580 & 4.280 & 29.690 & 40.060 & 1.640 & 0.020 & 1.55 & 14.70\\\\\n\t 33 & 42 & 0.370 & 8.740 & 0.23 & 0.030 & 0.92 & 4.440 & 2.66 & 2.340 & ⋯ & 3.890 & 67.440 & 4.290 & 4.210 & 28.160 & 41.210 & 2.040 & 0.030 & 2.26 & 15.06\\\\\n\t 34 & 43 & 0.250 & 7.290 & 0.14 & 0.060 & 0.94 & 3.760 & 1.99 & 1.880 & ⋯ & 3.270 & 65.600 & 5.290 & 3.380 & 24.700 & 43.560 & 2.520 & 0.060 & 2.73 & 13.89\\\\\n\t 36 & 25 & 0.320 & 8.260 & 0.25 & 0.020 & 1.00 & 3.570 & 2.61 & 2.410 & ⋯ & 4.000 & 67.710 & 5.350 & 4.200 & 29.860 & 40.350 & 2.650 & 0.020 & 1.55 & 13.37\\\\\n\\end{tabular}\n",
            "text/plain": [
              "   Vial.number Patient.number GPLDL1 GPLDL2 GPLDL3 GPLDL4 GPLDL5 GPLDL6 GPLDL7\n",
              "1  1           50             0.400  6.740  0.20   0.020  1.09   3.790  2.27  \n",
              "2  3           52             0.460  7.370  0.39   0.020  1.06   4.550  2.71  \n",
              "3  4           53             0.300  8.230  0.26   0.020  0.88   3.660  2.32  \n",
              "4  5           54             0.470  7.940  0.29   0.020  1.11   3.970  2.55  \n",
              "5  6           55             0.310  9.680  0.18   0.020  0.97   4.500  2.24  \n",
              "6  7           56             0.300  7.320  0.22   0.020  1.12   4.190  2.37  \n",
              "7  8           57             0.470  8.430  0.36   0.030  1.17   4.340  2.66  \n",
              "8  9           58             0.350  6.870  0.21   0.050  1.04   3.920  2.77  \n",
              "9  10          59             0.350  7.630  0.27   0.020  0.93   3.830  2.29  \n",
              "10 11          60             0.400  7.930  0.31   0.030  1.08   4.020  2.96  \n",
              "11 12          61             0.240  6.900  0.17   0.020  0.88   3.760  2.14  \n",
              "12 13          62             0.480  8.050  0.24   0.060  1.22   4.610  2.76  \n",
              "13 14          63             0.440  8.150  0.25   0.030  1.06   3.470  2.28  \n",
              "14 15          37             0.400  7.880  0.34   0.020  1.19   4.430  3.33  \n",
              "15 16          38             0.460  8.110  0.32   0.030  1.09   4.380  2.57  \n",
              "16 17          39             0.330  6.940  0.20   0.030  1.13   3.950  2.65  \n",
              "17 18          40             0.390  8.315  0.18   0.035  1.17   4.320  2.66  \n",
              "18 19          41             0.290  7.660  0.23   0.020  0.87   3.690  2.27  \n",
              "19 20          42             0.375  8.800  0.30   0.030  1.02   4.345  2.61  \n",
              "20 21          43             0.390  6.500  0.26   0.040  1.07   4.100  2.80  \n",
              "21 22          30             0.430  7.930  0.32   0.030  1.12   4.130  2.69  \n",
              "22 24          32             0.440  8.540  0.22   0.040  1.12   4.660  2.73  \n",
              "23 26          34             0.500  7.540  0.31   0.020  1.25   3.990  2.63  \n",
              "24 28          36             0.340  7.640  0.29   0.020  1.03   3.910  2.48  \n",
              "25 30          38             0.300  8.510  0.24   0.020  0.97   4.140  2.38  \n",
              "26 31          39             0.520  7.980  0.31   0.020  1.09   4.960  2.34  \n",
              "27 33          42             0.370  8.740  0.23   0.030  0.92   4.440  2.66  \n",
              "28 34          43             0.250  7.290  0.14   0.060  0.94   3.760  1.99  \n",
              "29 36          25             0.320  8.260  0.25   0.020  1.00   3.570  2.61  \n",
              "   GPLDL8 ⋯ G1    G2     G3    S0    S1     S2     S3    B     F    HM   \n",
              "1  2.380  ⋯ 4.090 68.910 3.570 3.980 28.180 42.460 1.950 0.020 1.67 13.02\n",
              "2  3.230  ⋯ 5.160 68.220 3.110 4.640 30.430 39.860 1.560 0.020 1.69 14.16\n",
              "3  2.490  ⋯ 3.950 68.030 4.500 3.780 29.370 41.130 2.200 0.020 1.89 13.89\n",
              "4  2.740  ⋯ 4.630 66.910 4.030 4.440 28.540 40.640 1.950 0.020 2.03 14.25\n",
              "5  2.570  ⋯ 4.050 64.010 5.270 3.720 26.710 40.390 2.510 0.020 2.70 16.06\n",
              "6  2.440  ⋯ 4.100 65.990 4.700 4.030 28.440 39.990 2.330 0.020 1.61 13.82\n",
              "7  3.240  ⋯ 5.270 67.260 3.240 4.690 32.270 37.290 1.520 0.030 1.61 14.59\n",
              "8  2.320  ⋯ 3.970 67.590 4.220 4.420 27.990 41.190 2.180 0.050 1.55 13.26\n",
              "9  2.910  ⋯ 4.480 68.880 4.040 3.860 28.110 43.200 2.230 0.020 2.30 13.11\n",
              "10 2.800  ⋯ 4.620 66.510 4.250 4.780 28.500 40.140 1.960 0.030 1.72 14.21\n",
              "11 2.160  ⋯ 3.470 66.740 5.030 3.450 26.590 42.620 2.580 0.020 2.02 13.52\n",
              "12 2.780  ⋯ 4.780 67.400 3.720 4.760 29.470 39.760 1.910 0.060 1.93 14.28\n",
              "13 2.770  ⋯ 4.550 67.880 4.640 4.060 28.160 42.470 2.380 0.030 1.93 13.42\n",
              "14 2.750  ⋯ 4.700 67.590 3.430 5.280 33.520 35.450 1.470 0.020 1.24 14.35\n",
              "15 3.300  ⋯ 5.200 66.370 4.220 4.470 29.360 39.770 2.190 0.030 2.99 14.47\n",
              "16 2.320  ⋯ 4.010 67.880 4.340 4.340 29.100 40.840 1.950 0.030 1.99 13.02\n",
              "17 2.160  ⋯ 3.935 66.575 4.445 4.435 28.225 39.670 2.625 0.035 2.11 14.64\n",
              "18 2.450  ⋯ 3.860 68.260 4.280 3.680 28.570 42.040 2.110 0.020 2.34 13.59\n",
              "19 2.985  ⋯ 4.710 65.305 4.735 4.335 29.245 38.985 2.185 0.030 2.19 15.15\n",
              "20 2.280  ⋯ 4.040 67.120 4.740 4.560 28.570 40.240 2.530 0.040 2.38 13.10\n",
              "21 3.030  ⋯ 4.930 66.620 4.270 4.590 29.240 39.910 2.080 0.030 1.69 14.11\n",
              "22 2.570  ⋯ 4.390 67.560 3.590 4.550 28.810 40.410 1.770 0.040 1.38 14.83\n",
              "23 3.200  ⋯ 5.280 67.780 4.210 4.710 29.210 41.010 2.340 0.020 2.03 13.33\n",
              "24 2.940  ⋯ 4.620 67.430 4.360 4.160 29.580 40.480 2.190 0.020 2.27 13.54\n",
              "25 2.760  ⋯ 4.290 66.840 4.380 3.910 28.190 41.210 2.200 0.020 2.36 14.45\n",
              "26 3.280  ⋯ 5.220 66.870 3.580 4.280 29.690 40.060 1.640 0.020 1.55 14.70\n",
              "27 2.340  ⋯ 3.890 67.440 4.290 4.210 28.160 41.210 2.040 0.030 2.26 15.06\n",
              "28 1.880  ⋯ 3.270 65.600 5.290 3.380 24.700 43.560 2.520 0.060 2.73 13.89\n",
              "29 2.410  ⋯ 4.000 67.710 5.350 4.200 29.860 40.350 2.650 0.020 1.55 13.37"
            ]
          },
          "metadata": {}
        }
      ]
    },
    {
      "cell_type": "markdown",
      "source": [
        "Загрузка таблицы meta"
      ],
      "metadata": {
        "id": "h27y_Xi7_HeI"
      }
    },
    {
      "cell_type": "code",
      "source": [
        "meta <- read_xlsx(\"/content/metadata.xlsx\", sheet = 1) %>%\n",
        "  rename_with(make.names)\n"
      ],
      "metadata": {
        "id": "28dLQweNp3Tl"
      },
      "execution_count": null,
      "outputs": []
    },
    {
      "cell_type": "code",
      "source": [
        "  meta <- meta %>%\n",
        "    mutate(Patient.number = as.factor(Patient.number)) %>%\n",
        "    mutate(Vial.number = as.factor(Vial.number))\n"
      ],
      "metadata": {
        "id": "gOvuCzJf_Ez4"
      },
      "execution_count": null,
      "outputs": []
    },
    {
      "cell_type": "code",
      "source": [
        "meta"
      ],
      "metadata": {
        "colab": {
          "base_uri": "https://localhost:8080/",
          "height": 1000
        },
        "id": "N7TjED4XFqDU",
        "outputId": "6de12e04-87e3-492b-e667-ee2acc414ea7"
      },
      "execution_count": null,
      "outputs": [
        {
          "output_type": "display_data",
          "data": {
            "text/html": [
              "<table class=\"dataframe\">\n",
              "<caption>A tibble: 38 × 49</caption>\n",
              "<thead>\n",
              "\t<tr><th scope=col>Vial.number</th><th scope=col>Patient.number</th><th scope=col>Sucrose</th><th scope=col>Name</th><th scope=col>Group</th><th scope=col>Date</th><th scope=col>Age</th><th scope=col>Plasma.volume</th><th scope=col>Ht</th><th scope=col>Wt</th><th scope=col>⋯</th><th scope=col>r.lat.max</th><th scope=col>r.ant.max</th><th scope=col>r.pos.max</th><th scope=col>l.lat.max</th><th scope=col>l.ant.max</th><th scope=col>l.pos.max</th><th scope=col>carotid.IMT.mean</th><th scope=col>Plaque</th><th scope=col>Statins</th><th scope=col>comorbidities</th></tr>\n",
              "\t<tr><th scope=col>&lt;fct&gt;</th><th scope=col>&lt;fct&gt;</th><th scope=col>&lt;dbl&gt;</th><th scope=col>&lt;chr&gt;</th><th scope=col>&lt;dbl&gt;</th><th scope=col>&lt;dttm&gt;</th><th scope=col>&lt;dbl&gt;</th><th scope=col>&lt;dbl&gt;</th><th scope=col>&lt;dbl&gt;</th><th scope=col>&lt;dbl&gt;</th><th scope=col>⋯</th><th scope=col>&lt;dbl&gt;</th><th scope=col>&lt;dbl&gt;</th><th scope=col>&lt;dbl&gt;</th><th scope=col>&lt;dbl&gt;</th><th scope=col>&lt;dbl&gt;</th><th scope=col>&lt;dbl&gt;</th><th scope=col>&lt;dbl&gt;</th><th scope=col>&lt;dbl&gt;</th><th scope=col>&lt;dbl&gt;</th><th scope=col>&lt;chr&gt;</th></tr>\n",
              "</thead>\n",
              "<tbody>\n",
              "\t<tr><td>1 </td><td>50</td><td>0</td><td>Woodard, Dillon        </td><td>0</td><td>2022-03-26</td><td>63</td><td> 6.5</td><td>163</td><td> 84.0</td><td>⋯</td><td>0.65</td><td>0.80</td><td>0.80</td><td>0.81</td><td>0.78</td><td>0.80</td><td>0.6425000</td><td>1</td><td> 1</td><td>NA                                                                                                                                                              </td></tr>\n",
              "\t<tr><td>2 </td><td>51</td><td>0</td><td>Kuck, Breanna          </td><td>0</td><td>2023-12-23</td><td>47</td><td> 5.5</td><td>179</td><td>111.0</td><td>⋯</td><td>1.03</td><td>0.92</td><td>1.03</td><td>1.03</td><td>1.03</td><td>1.09</td><td>0.8400000</td><td>1</td><td> 0</td><td>NA                                                                                                                                                              </td></tr>\n",
              "\t<tr><td>3 </td><td>52</td><td>0</td><td>Thomas, Terrance       </td><td>1</td><td>2022-10-10</td><td>57</td><td> 7.0</td><td>164</td><td> 80.0</td><td>⋯</td><td>1.00</td><td>0.90</td><td>0.95</td><td>0.85</td><td>0.90</td><td>0.90</td><td>0.8500000</td><td>3</td><td> 1</td><td>Type 2 diabetes mellitus; MI - 2016                                                                                                                             </td></tr>\n",
              "\t<tr><td>4 </td><td>53</td><td>0</td><td>Moua, Kensue           </td><td>1</td><td>2022-12-21</td><td>72</td><td> 5.0</td><td>160</td><td> 58.8</td><td>⋯</td><td>0.91</td><td>0.97</td><td>0.98</td><td>0.86</td><td>0.74</td><td>0.80</td><td>0.8241667</td><td>2</td><td> 0</td><td>1-2 times per year hypertensive crises (Corinfar)                                                                                                               </td></tr>\n",
              "\t<tr><td>5 </td><td>54</td><td>0</td><td>Soriano, Ryan          </td><td>1</td><td>2023-03-16</td><td>57</td><td> 5.0</td><td>180</td><td> 71.0</td><td>⋯</td><td>1.20</td><td>1.20</td><td>1.25</td><td>1.10</td><td>1.30</td><td>1.13</td><td>1.0983333</td><td>1</td><td> 1</td><td>NA                                                                                                                                                              </td></tr>\n",
              "\t<tr><td>6 </td><td>55</td><td>0</td><td>Munoz-Lujan, Evangelina</td><td>1</td><td>2023-03-25</td><td>79</td><td> 6.2</td><td>160</td><td> 64.0</td><td>⋯</td><td>0.88</td><td>0.80</td><td>0.90</td><td>1.07</td><td>1.00</td><td>1.30</td><td>0.8475000</td><td>2</td><td> 0</td><td>Cholecystitis, gastritis without exacerbation. Diffuse focal changes in the thyroid gland                                                                       </td></tr>\n",
              "\t<tr><td>7 </td><td>56</td><td>0</td><td>Silas, Gurinder        </td><td>1</td><td>2022-01-06</td><td>61</td><td> 6.5</td><td>164</td><td> 67.0</td><td>⋯</td><td>0.91</td><td>0.86</td><td>0.86</td><td>0.80</td><td>0.74</td><td>0.91</td><td>0.6725000</td><td>1</td><td> 0</td><td>chronic cholecystitis                                                                                                                                           </td></tr>\n",
              "\t<tr><td>8 </td><td>57</td><td>0</td><td>Matt, Gage             </td><td>1</td><td>2022-01-27</td><td>70</td><td> 5.5</td><td>162</td><td> 61.0</td><td>⋯</td><td>1.00</td><td>1.00</td><td>1.00</td><td>0.94</td><td>0.69</td><td>0.87</td><td>0.7850000</td><td>1</td><td> 0</td><td>Cholecystectomy 20 years ago, hr.gastritis                                                                                                                      </td></tr>\n",
              "\t<tr><td>9 </td><td>58</td><td>0</td><td>Lords, Aaran           </td><td>0</td><td>2023-10-20</td><td>50</td><td> 6.0</td><td>150</td><td> 79.0</td><td>⋯</td><td>1.09</td><td>1.26</td><td>1.03</td><td>0.80</td><td>0.74</td><td>0.75</td><td>0.8491667</td><td>1</td><td> 0</td><td>Iron-deficiency anemia                                                                                                                                          </td></tr>\n",
              "\t<tr><td>10</td><td>59</td><td>0</td><td>Mummert, Skye          </td><td>1</td><td>2022-07-21</td><td>53</td><td> 5.5</td><td>172</td><td> 88.2</td><td>⋯</td><td>0.97</td><td>1.04</td><td>0.81</td><td>0.63</td><td>0.63</td><td>0.86</td><td>0.7041667</td><td>2</td><td> 0</td><td>Type 2 diabetes mellitus                                                                                                                                        </td></tr>\n",
              "\t<tr><td>11</td><td>60</td><td>0</td><td>Warero Jr, Alexis      </td><td>1</td><td>2023-02-13</td><td>83</td><td> 6.0</td><td>168</td><td> 59.0</td><td>⋯</td><td>0.75</td><td>0.80</td><td>0.70</td><td>0.90</td><td>0.90</td><td>0.85</td><td>0.7458333</td><td>2</td><td> 1</td><td>Nodal goiter (L-thyroxine, 100 μg)                                                                                                                              </td></tr>\n",
              "\t<tr><td>12</td><td>61</td><td>0</td><td>Bancroft, Kaldurion    </td><td>1</td><td>2023-08-28</td><td>59</td><td> 5.5</td><td>157</td><td> 70.0</td><td>⋯</td><td>0.64</td><td>0.62</td><td>0.69</td><td>1.12</td><td>1.12</td><td>1.06</td><td>0.7758333</td><td>2</td><td> 0</td><td>Cholecystectomy in September 2016                                                                                                                               </td></tr>\n",
              "\t<tr><td>13</td><td>62</td><td>0</td><td>Bowen, Nakayla         </td><td>1</td><td>2022-08-28</td><td>79</td><td> 7.0</td><td>161</td><td> 73.0</td><td>⋯</td><td>0.86</td><td>1.03</td><td>1.03</td><td>1.14</td><td>1.09</td><td>1.31</td><td>0.9241667</td><td>2</td><td> 0</td><td>Appendectomy, chronic pancreatitis,                                                                                                                             </td></tr>\n",
              "\t<tr><td>14</td><td>63</td><td>0</td><td>Scott, Alexandria      </td><td>1</td><td>2022-07-02</td><td>61</td><td> 7.0</td><td>172</td><td> 82.0</td><td>⋯</td><td>0.90</td><td>0.90</td><td>1.00</td><td>0.80</td><td>1.02</td><td>1.02</td><td>0.8466667</td><td>2</td><td> 0</td><td>Hypertensive disease, cicatricial changes on the endocardium (endocardial scars) (not examined)                                                                 </td></tr>\n",
              "\t<tr><td>15</td><td>37</td><td>1</td><td>Siefers, Rachel        </td><td>1</td><td>2023-04-28</td><td>79</td><td> 8.0</td><td>167</td><td> 63.0</td><td>⋯</td><td>1.00</td><td>1.10</td><td>1.15</td><td>1.10</td><td>1.15</td><td>1.10</td><td>0.9766667</td><td>2</td><td> 0</td><td>Hypertensive disease severe course, decreased vision (glaucoma + essential hypertension) !; Cholelithiasis (gall bladder removed)                               </td></tr>\n",
              "\t<tr><td>16</td><td>38</td><td>1</td><td>Timm, Carlton          </td><td>1</td><td>2022-03-19</td><td>75</td><td>10.0</td><td>165</td><td> 57.0</td><td>⋯</td><td>0.90</td><td>0.99</td><td>1.00</td><td>0.90</td><td>0.80</td><td>1.10</td><td>0.8741667</td><td>3</td><td> 1</td><td>NA                                                                                                                                                              </td></tr>\n",
              "\t<tr><td>17</td><td>39</td><td>1</td><td>Bryant, Saarah         </td><td>1</td><td>2022-06-26</td><td>58</td><td>10.0</td><td>162</td><td>102.0</td><td>⋯</td><td>1.25</td><td>0.80</td><td>1.22</td><td>0.80</td><td>1.22</td><td>1.60</td><td>0.9991667</td><td>1</td><td> 0</td><td>Urolithiasis disease                                                                                                                                            </td></tr>\n",
              "\t<tr><td>18</td><td>40</td><td>1</td><td>Fox, Cameron           </td><td>1</td><td>2022-12-20</td><td>65</td><td>11.0</td><td>171</td><td>102.6</td><td>⋯</td><td>1.08</td><td>0.80</td><td>0.96</td><td>1.14</td><td>1.09</td><td>1.09</td><td>0.9166667</td><td>2</td><td> 0</td><td>Gastritis with high acidity (heartburn, pain); Nodes in the thyroid gland (hormones did not pass)                                                               </td></tr>\n",
              "\t<tr><td>19</td><td>41</td><td>1</td><td>Mason, Dylan           </td><td>0</td><td>2022-05-13</td><td>64</td><td>10.5</td><td>167</td><td> 62.0</td><td>⋯</td><td>0.92</td><td>0.91</td><td>0.86</td><td>0.91</td><td>0.86</td><td>1.03</td><td>0.8258333</td><td>1</td><td> 1</td><td>NA                                                                                                                                                              </td></tr>\n",
              "\t<tr><td>20</td><td>42</td><td>1</td><td>Sandoval, Frank        </td><td>0</td><td>2022-07-08</td><td>66</td><td>10.0</td><td>165</td><td> 73.0</td><td>⋯</td><td>0.70</td><td>0.70</td><td>0.75</td><td>0.70</td><td>0.80</td><td>0.70</td><td>0.6458333</td><td>1</td><td> 1</td><td>Urolithiasis, varicosity, cervical osteochondrosis                                                                                                              </td></tr>\n",
              "\t<tr><td>21</td><td>43</td><td>1</td><td>Greene, Bryce          </td><td>1</td><td>2023-03-08</td><td>70</td><td>11.0</td><td>170</td><td>101.2</td><td>⋯</td><td>0.99</td><td>1.00</td><td>1.00</td><td>0.82</td><td>0.90</td><td>0.90</td><td>0.8391667</td><td>2</td><td> 0</td><td>Gastritis, cholelithiasis                                                                                                                                       </td></tr>\n",
              "\t<tr><td>22</td><td>30</td><td>1</td><td>el-Saah, Amaani        </td><td>0</td><td>2022-07-12</td><td>65</td><td>10.0</td><td>158</td><td> 69.0</td><td>⋯</td><td>0.80</td><td>1.03</td><td>0.80</td><td>0.80</td><td>0.92</td><td>0.97</td><td>0.8016667</td><td>1</td><td> 0</td><td>Removed gallbladder, pancreatitis,! Erosion. Gastritis                                                                                                          </td></tr>\n",
              "\t<tr><td>23</td><td>31</td><td>1</td><td>Martinez, Alex         </td><td>1</td><td>2022-01-22</td><td>62</td><td>11.5</td><td>169</td><td> 66.0</td><td>⋯</td><td>0.90</td><td>1.10</td><td>1.20</td><td>0.90</td><td>0.90</td><td>0.99</td><td>0.8908333</td><td>2</td><td> 0</td><td>NA                                                                                                                                                              </td></tr>\n",
              "\t<tr><td>24</td><td>32</td><td>1</td><td>Vasquez, Edgar         </td><td>0</td><td>2022-01-01</td><td>76</td><td>13.0</td><td>165</td><td> 56.5</td><td>⋯</td><td>1.00</td><td>1.32</td><td>1.03</td><td>1.32</td><td>1.21</td><td>1.31</td><td>1.0008333</td><td>1</td><td> 0</td><td>NA                                                                                                                                                              </td></tr>\n",
              "\t<tr><td>25</td><td>33</td><td>1</td><td>el-Salam, Thamra       </td><td>1</td><td>2022-05-27</td><td>68</td><td>13.0</td><td>170</td><td> 88.0</td><td>⋯</td><td>0.80</td><td>1.20</td><td>1.10</td><td>0.70</td><td>0.80</td><td>0.90</td><td>0.8083333</td><td>2</td><td> 1</td><td>Cholecystectomy in 2002, chronic pancreatitis                                                                                                                   </td></tr>\n",
              "\t<tr><td>26</td><td>34</td><td>1</td><td>Mandeville, Audreon    </td><td>0</td><td>2023-10-19</td><td>55</td><td>11.5</td><td>162</td><td> 57.0</td><td>⋯</td><td>0.60</td><td>0.70</td><td>0.65</td><td>0.70</td><td>0.60</td><td>0.65</td><td>0.5833333</td><td>0</td><td> 0</td><td>NA                                                                                                                                                              </td></tr>\n",
              "\t<tr><td>27</td><td>35</td><td>1</td><td>Kim, Lily              </td><td>0</td><td>2023-12-10</td><td>79</td><td>12.0</td><td>172</td><td> 60.0</td><td>⋯</td><td>0.95</td><td>1.10</td><td>0.90</td><td>1.00</td><td>1.00</td><td>1.00</td><td>0.9125000</td><td>1</td><td> 1</td><td>Nodal goiter (L-thyroxine, 25 μg)                                                                                                                               </td></tr>\n",
              "\t<tr><td>28</td><td>36</td><td>1</td><td>el-Ahmad, Aaisha       </td><td>0</td><td>2023-06-10</td><td>69</td><td>13.0</td><td>160</td><td> 60.0</td><td>⋯</td><td>0.90</td><td>1.10</td><td>1.00</td><td>0.70</td><td>0.80</td><td>1.00</td><td>0.8500000</td><td>1</td><td> 0</td><td>NA                                                                                                                                                              </td></tr>\n",
              "\t<tr><td>29</td><td>37</td><td>1</td><td>Jarko, Taylor          </td><td>1</td><td>2022-12-08</td><td>75</td><td>11.0</td><td>162</td><td> 75.0</td><td>⋯</td><td>0.75</td><td>0.85</td><td>0.86</td><td>0.80</td><td>0.90</td><td>0.80</td><td>0.7633333</td><td>2</td><td> 0</td><td>Osteochondrosis, chronic Cholecystitis non-calculous, multinodular goiter, euthyroidism.                                                                        </td></tr>\n",
              "\t<tr><td>30</td><td>38</td><td>1</td><td>Mccarthy, Cheyenne     </td><td>1</td><td>2022-07-01</td><td>68</td><td>13.0</td><td>165</td><td> 77.8</td><td>⋯</td><td>0.74</td><td>0.80</td><td>0.98</td><td>0.80</td><td>0.76</td><td>1.09</td><td>0.7116667</td><td>2</td><td> 0</td><td>Type 2 diabetes mellitus since 2008 (glucophage); gout; Removed gallbladder                                                                                     </td></tr>\n",
              "\t<tr><td>31</td><td>39</td><td>1</td><td>Voyles, Donald         </td><td>0</td><td>2022-02-05</td><td>64</td><td>11.5</td><td>176</td><td> 68.8</td><td>⋯</td><td>0.71</td><td>0.76</td><td>0.65</td><td>0.75</td><td>0.70</td><td>0.80</td><td>0.6408333</td><td>1</td><td>NA</td><td>NA                                                                                                                                                              </td></tr>\n",
              "\t<tr><td>32</td><td>40</td><td>1</td><td>Hofmann, Christina     </td><td>0</td><td>2023-01-25</td><td>62</td><td>13.0</td><td>161</td><td> 90.0</td><td>⋯</td><td>0.75</td><td>1.01</td><td>0.81</td><td>0.58</td><td>0.56</td><td>0.69</td><td>0.6325000</td><td>0</td><td> 0</td><td>Cholelithiasis (gall bladder removed); gastritis                                                                                                                </td></tr>\n",
              "\t<tr><td>33</td><td>42</td><td>1</td><td>Lattimer, Ariana       </td><td>1</td><td>2023-10-25</td><td>67</td><td>13.0</td><td>165</td><td> 78.0</td><td>⋯</td><td>0.74</td><td>0.86</td><td>0.92</td><td>0.86</td><td>0.86</td><td>1.03</td><td>0.7933333</td><td>2</td><td> 1</td><td>NA                                                                                                                                                              </td></tr>\n",
              "\t<tr><td>34</td><td>43</td><td>1</td><td>White, Dejah           </td><td>1</td><td>2022-06-04</td><td>64</td><td>12.0</td><td>161</td><td> 89.0</td><td>⋯</td><td>1.14</td><td>0.97</td><td>1.15</td><td>1.09</td><td>0.92</td><td>0.86</td><td>0.8825000</td><td>2</td><td> 1</td><td>Glaucoma, hypertension, CAD (aimed at stenting)                                                                                                                 </td></tr>\n",
              "\t<tr><td>35</td><td>44</td><td>1</td><td>Sanders, Nhome         </td><td>0</td><td>2022-07-31</td><td>54</td><td>11.5</td><td>167</td><td> 67.0</td><td>⋯</td><td>0.56</td><td>0.80</td><td>0.74</td><td>0.75</td><td>0.63</td><td>0.71</td><td>0.5941667</td><td>0</td><td> 0</td><td>struma autoimmunea (homeopathy); Osteochondrosis with hernias, spondylosis; Dystonia by hypertonic type                                                         </td></tr>\n",
              "\t<tr><td>36</td><td>25</td><td>1</td><td>Hernandez, Minnie      </td><td>1</td><td>2022-09-18</td><td>67</td><td>12.0</td><td>159</td><td> 72.0</td><td>⋯</td><td>0.75</td><td>0.70</td><td>0.90</td><td>0.90</td><td>0.75</td><td>0.95</td><td>0.7475000</td><td>2</td><td> 1</td><td>2/2011-Stroke; heart failure                                                                                                                                    </td></tr>\n",
              "\t<tr><td>37</td><td>26</td><td>1</td><td>Rettig, Jane           </td><td>1</td><td>2022-01-26</td><td>69</td><td>11.5</td><td>154</td><td> 87.6</td><td>⋯</td><td>1.15</td><td>0.99</td><td>1.20</td><td>1.20</td><td>1.27</td><td>1.15</td><td>0.9716667</td><td>3</td><td> 1</td><td>CAD, postinfarction cardiosclerosis, grade 3 hypertension, chronic heart failure, grade 2 diabetes mellitus (insulin); Hypothyroidism (L-thyrox); Osteoarthritis</td></tr>\n",
              "\t<tr><td>38</td><td>27</td><td>1</td><td>Begay, Joshua          </td><td>0</td><td>2022-02-11</td><td>60</td><td>12.0</td><td>165</td><td> 74.0</td><td>⋯</td><td>0.58</td><td>0.86</td><td>0.90</td><td>0.65</td><td>0.69</td><td>0.60</td><td>0.6158333</td><td>1</td><td> 0</td><td>grade 3 hypertension                                                                                                                                            </td></tr>\n",
              "</tbody>\n",
              "</table>\n"
            ],
            "text/markdown": "\nA tibble: 38 × 49\n\n| Vial.number &lt;fct&gt; | Patient.number &lt;fct&gt; | Sucrose &lt;dbl&gt; | Name &lt;chr&gt; | Group &lt;dbl&gt; | Date &lt;dttm&gt; | Age &lt;dbl&gt; | Plasma.volume &lt;dbl&gt; | Ht &lt;dbl&gt; | Wt &lt;dbl&gt; | ⋯ ⋯ | r.lat.max &lt;dbl&gt; | r.ant.max &lt;dbl&gt; | r.pos.max &lt;dbl&gt; | l.lat.max &lt;dbl&gt; | l.ant.max &lt;dbl&gt; | l.pos.max &lt;dbl&gt; | carotid.IMT.mean &lt;dbl&gt; | Plaque &lt;dbl&gt; | Statins &lt;dbl&gt; | comorbidities &lt;chr&gt; |\n|---|---|---|---|---|---|---|---|---|---|---|---|---|---|---|---|---|---|---|---|---|\n| 1  | 50 | 0 | Woodard, Dillon         | 0 | 2022-03-26 | 63 |  6.5 | 163 |  84.0 | ⋯ | 0.65 | 0.80 | 0.80 | 0.81 | 0.78 | 0.80 | 0.6425000 | 1 |  1 | NA                                                                                                                                                               |\n| 2  | 51 | 0 | Kuck, Breanna           | 0 | 2023-12-23 | 47 |  5.5 | 179 | 111.0 | ⋯ | 1.03 | 0.92 | 1.03 | 1.03 | 1.03 | 1.09 | 0.8400000 | 1 |  0 | NA                                                                                                                                                               |\n| 3  | 52 | 0 | Thomas, Terrance        | 1 | 2022-10-10 | 57 |  7.0 | 164 |  80.0 | ⋯ | 1.00 | 0.90 | 0.95 | 0.85 | 0.90 | 0.90 | 0.8500000 | 3 |  1 | Type 2 diabetes mellitus; MI - 2016                                                                                                                              |\n| 4  | 53 | 0 | Moua, Kensue            | 1 | 2022-12-21 | 72 |  5.0 | 160 |  58.8 | ⋯ | 0.91 | 0.97 | 0.98 | 0.86 | 0.74 | 0.80 | 0.8241667 | 2 |  0 | 1-2 times per year hypertensive crises (Corinfar)                                                                                                                |\n| 5  | 54 | 0 | Soriano, Ryan           | 1 | 2023-03-16 | 57 |  5.0 | 180 |  71.0 | ⋯ | 1.20 | 1.20 | 1.25 | 1.10 | 1.30 | 1.13 | 1.0983333 | 1 |  1 | NA                                                                                                                                                               |\n| 6  | 55 | 0 | Munoz-Lujan, Evangelina | 1 | 2023-03-25 | 79 |  6.2 | 160 |  64.0 | ⋯ | 0.88 | 0.80 | 0.90 | 1.07 | 1.00 | 1.30 | 0.8475000 | 2 |  0 | Cholecystitis, gastritis without exacerbation. Diffuse focal changes in the thyroid gland                                                                        |\n| 7  | 56 | 0 | Silas, Gurinder         | 1 | 2022-01-06 | 61 |  6.5 | 164 |  67.0 | ⋯ | 0.91 | 0.86 | 0.86 | 0.80 | 0.74 | 0.91 | 0.6725000 | 1 |  0 | chronic cholecystitis                                                                                                                                            |\n| 8  | 57 | 0 | Matt, Gage              | 1 | 2022-01-27 | 70 |  5.5 | 162 |  61.0 | ⋯ | 1.00 | 1.00 | 1.00 | 0.94 | 0.69 | 0.87 | 0.7850000 | 1 |  0 | Cholecystectomy 20 years ago, hr.gastritis                                                                                                                       |\n| 9  | 58 | 0 | Lords, Aaran            | 0 | 2023-10-20 | 50 |  6.0 | 150 |  79.0 | ⋯ | 1.09 | 1.26 | 1.03 | 0.80 | 0.74 | 0.75 | 0.8491667 | 1 |  0 | Iron-deficiency anemia                                                                                                                                           |\n| 10 | 59 | 0 | Mummert, Skye           | 1 | 2022-07-21 | 53 |  5.5 | 172 |  88.2 | ⋯ | 0.97 | 1.04 | 0.81 | 0.63 | 0.63 | 0.86 | 0.7041667 | 2 |  0 | Type 2 diabetes mellitus                                                                                                                                         |\n| 11 | 60 | 0 | Warero Jr, Alexis       | 1 | 2023-02-13 | 83 |  6.0 | 168 |  59.0 | ⋯ | 0.75 | 0.80 | 0.70 | 0.90 | 0.90 | 0.85 | 0.7458333 | 2 |  1 | Nodal goiter (L-thyroxine, 100 μg)                                                                                                                               |\n| 12 | 61 | 0 | Bancroft, Kaldurion     | 1 | 2023-08-28 | 59 |  5.5 | 157 |  70.0 | ⋯ | 0.64 | 0.62 | 0.69 | 1.12 | 1.12 | 1.06 | 0.7758333 | 2 |  0 | Cholecystectomy in September 2016                                                                                                                                |\n| 13 | 62 | 0 | Bowen, Nakayla          | 1 | 2022-08-28 | 79 |  7.0 | 161 |  73.0 | ⋯ | 0.86 | 1.03 | 1.03 | 1.14 | 1.09 | 1.31 | 0.9241667 | 2 |  0 | Appendectomy, chronic pancreatitis,                                                                                                                              |\n| 14 | 63 | 0 | Scott, Alexandria       | 1 | 2022-07-02 | 61 |  7.0 | 172 |  82.0 | ⋯ | 0.90 | 0.90 | 1.00 | 0.80 | 1.02 | 1.02 | 0.8466667 | 2 |  0 | Hypertensive disease, cicatricial changes on the endocardium (endocardial scars) (not examined)                                                                  |\n| 15 | 37 | 1 | Siefers, Rachel         | 1 | 2023-04-28 | 79 |  8.0 | 167 |  63.0 | ⋯ | 1.00 | 1.10 | 1.15 | 1.10 | 1.15 | 1.10 | 0.9766667 | 2 |  0 | Hypertensive disease severe course, decreased vision (glaucoma + essential hypertension) !; Cholelithiasis (gall bladder removed)                                |\n| 16 | 38 | 1 | Timm, Carlton           | 1 | 2022-03-19 | 75 | 10.0 | 165 |  57.0 | ⋯ | 0.90 | 0.99 | 1.00 | 0.90 | 0.80 | 1.10 | 0.8741667 | 3 |  1 | NA                                                                                                                                                               |\n| 17 | 39 | 1 | Bryant, Saarah          | 1 | 2022-06-26 | 58 | 10.0 | 162 | 102.0 | ⋯ | 1.25 | 0.80 | 1.22 | 0.80 | 1.22 | 1.60 | 0.9991667 | 1 |  0 | Urolithiasis disease                                                                                                                                             |\n| 18 | 40 | 1 | Fox, Cameron            | 1 | 2022-12-20 | 65 | 11.0 | 171 | 102.6 | ⋯ | 1.08 | 0.80 | 0.96 | 1.14 | 1.09 | 1.09 | 0.9166667 | 2 |  0 | Gastritis with high acidity (heartburn, pain); Nodes in the thyroid gland (hormones did not pass)                                                                |\n| 19 | 41 | 1 | Mason, Dylan            | 0 | 2022-05-13 | 64 | 10.5 | 167 |  62.0 | ⋯ | 0.92 | 0.91 | 0.86 | 0.91 | 0.86 | 1.03 | 0.8258333 | 1 |  1 | NA                                                                                                                                                               |\n| 20 | 42 | 1 | Sandoval, Frank         | 0 | 2022-07-08 | 66 | 10.0 | 165 |  73.0 | ⋯ | 0.70 | 0.70 | 0.75 | 0.70 | 0.80 | 0.70 | 0.6458333 | 1 |  1 | Urolithiasis, varicosity, cervical osteochondrosis                                                                                                               |\n| 21 | 43 | 1 | Greene, Bryce           | 1 | 2023-03-08 | 70 | 11.0 | 170 | 101.2 | ⋯ | 0.99 | 1.00 | 1.00 | 0.82 | 0.90 | 0.90 | 0.8391667 | 2 |  0 | Gastritis, cholelithiasis                                                                                                                                        |\n| 22 | 30 | 1 | el-Saah, Amaani         | 0 | 2022-07-12 | 65 | 10.0 | 158 |  69.0 | ⋯ | 0.80 | 1.03 | 0.80 | 0.80 | 0.92 | 0.97 | 0.8016667 | 1 |  0 | Removed gallbladder, pancreatitis,! Erosion. Gastritis                                                                                                           |\n| 23 | 31 | 1 | Martinez, Alex          | 1 | 2022-01-22 | 62 | 11.5 | 169 |  66.0 | ⋯ | 0.90 | 1.10 | 1.20 | 0.90 | 0.90 | 0.99 | 0.8908333 | 2 |  0 | NA                                                                                                                                                               |\n| 24 | 32 | 1 | Vasquez, Edgar          | 0 | 2022-01-01 | 76 | 13.0 | 165 |  56.5 | ⋯ | 1.00 | 1.32 | 1.03 | 1.32 | 1.21 | 1.31 | 1.0008333 | 1 |  0 | NA                                                                                                                                                               |\n| 25 | 33 | 1 | el-Salam, Thamra        | 1 | 2022-05-27 | 68 | 13.0 | 170 |  88.0 | ⋯ | 0.80 | 1.20 | 1.10 | 0.70 | 0.80 | 0.90 | 0.8083333 | 2 |  1 | Cholecystectomy in 2002, chronic pancreatitis                                                                                                                    |\n| 26 | 34 | 1 | Mandeville, Audreon     | 0 | 2023-10-19 | 55 | 11.5 | 162 |  57.0 | ⋯ | 0.60 | 0.70 | 0.65 | 0.70 | 0.60 | 0.65 | 0.5833333 | 0 |  0 | NA                                                                                                                                                               |\n| 27 | 35 | 1 | Kim, Lily               | 0 | 2023-12-10 | 79 | 12.0 | 172 |  60.0 | ⋯ | 0.95 | 1.10 | 0.90 | 1.00 | 1.00 | 1.00 | 0.9125000 | 1 |  1 | Nodal goiter (L-thyroxine, 25 μg)                                                                                                                                |\n| 28 | 36 | 1 | el-Ahmad, Aaisha        | 0 | 2023-06-10 | 69 | 13.0 | 160 |  60.0 | ⋯ | 0.90 | 1.10 | 1.00 | 0.70 | 0.80 | 1.00 | 0.8500000 | 1 |  0 | NA                                                                                                                                                               |\n| 29 | 37 | 1 | Jarko, Taylor           | 1 | 2022-12-08 | 75 | 11.0 | 162 |  75.0 | ⋯ | 0.75 | 0.85 | 0.86 | 0.80 | 0.90 | 0.80 | 0.7633333 | 2 |  0 | Osteochondrosis, chronic Cholecystitis non-calculous, multinodular goiter, euthyroidism.                                                                         |\n| 30 | 38 | 1 | Mccarthy, Cheyenne      | 1 | 2022-07-01 | 68 | 13.0 | 165 |  77.8 | ⋯ | 0.74 | 0.80 | 0.98 | 0.80 | 0.76 | 1.09 | 0.7116667 | 2 |  0 | Type 2 diabetes mellitus since 2008 (glucophage); gout; Removed gallbladder                                                                                      |\n| 31 | 39 | 1 | Voyles, Donald          | 0 | 2022-02-05 | 64 | 11.5 | 176 |  68.8 | ⋯ | 0.71 | 0.76 | 0.65 | 0.75 | 0.70 | 0.80 | 0.6408333 | 1 | NA | NA                                                                                                                                                               |\n| 32 | 40 | 1 | Hofmann, Christina      | 0 | 2023-01-25 | 62 | 13.0 | 161 |  90.0 | ⋯ | 0.75 | 1.01 | 0.81 | 0.58 | 0.56 | 0.69 | 0.6325000 | 0 |  0 | Cholelithiasis (gall bladder removed); gastritis                                                                                                                 |\n| 33 | 42 | 1 | Lattimer, Ariana        | 1 | 2023-10-25 | 67 | 13.0 | 165 |  78.0 | ⋯ | 0.74 | 0.86 | 0.92 | 0.86 | 0.86 | 1.03 | 0.7933333 | 2 |  1 | NA                                                                                                                                                               |\n| 34 | 43 | 1 | White, Dejah            | 1 | 2022-06-04 | 64 | 12.0 | 161 |  89.0 | ⋯ | 1.14 | 0.97 | 1.15 | 1.09 | 0.92 | 0.86 | 0.8825000 | 2 |  1 | Glaucoma, hypertension, CAD (aimed at stenting)                                                                                                                  |\n| 35 | 44 | 1 | Sanders, Nhome          | 0 | 2022-07-31 | 54 | 11.5 | 167 |  67.0 | ⋯ | 0.56 | 0.80 | 0.74 | 0.75 | 0.63 | 0.71 | 0.5941667 | 0 |  0 | struma autoimmunea (homeopathy); Osteochondrosis with hernias, spondylosis; Dystonia by hypertonic type                                                          |\n| 36 | 25 | 1 | Hernandez, Minnie       | 1 | 2022-09-18 | 67 | 12.0 | 159 |  72.0 | ⋯ | 0.75 | 0.70 | 0.90 | 0.90 | 0.75 | 0.95 | 0.7475000 | 2 |  1 | 2/2011-Stroke; heart failure                                                                                                                                     |\n| 37 | 26 | 1 | Rettig, Jane            | 1 | 2022-01-26 | 69 | 11.5 | 154 |  87.6 | ⋯ | 1.15 | 0.99 | 1.20 | 1.20 | 1.27 | 1.15 | 0.9716667 | 3 |  1 | CAD, postinfarction cardiosclerosis, grade 3 hypertension, chronic heart failure, grade 2 diabetes mellitus (insulin); Hypothyroidism (L-thyrox); Osteoarthritis |\n| 38 | 27 | 1 | Begay, Joshua           | 0 | 2022-02-11 | 60 | 12.0 | 165 |  74.0 | ⋯ | 0.58 | 0.86 | 0.90 | 0.65 | 0.69 | 0.60 | 0.6158333 | 1 |  0 | grade 3 hypertension                                                                                                                                             |\n\n",
            "text/latex": "A tibble: 38 × 49\n\\begin{tabular}{lllllllllllllllllllll}\n Vial.number & Patient.number & Sucrose & Name & Group & Date & Age & Plasma.volume & Ht & Wt & ⋯ & r.lat.max & r.ant.max & r.pos.max & l.lat.max & l.ant.max & l.pos.max & carotid.IMT.mean & Plaque & Statins & comorbidities\\\\\n <fct> & <fct> & <dbl> & <chr> & <dbl> & <dttm> & <dbl> & <dbl> & <dbl> & <dbl> & ⋯ & <dbl> & <dbl> & <dbl> & <dbl> & <dbl> & <dbl> & <dbl> & <dbl> & <dbl> & <chr>\\\\\n\\hline\n\t 1  & 50 & 0 & Woodard, Dillon         & 0 & 2022-03-26 & 63 &  6.5 & 163 &  84.0 & ⋯ & 0.65 & 0.80 & 0.80 & 0.81 & 0.78 & 0.80 & 0.6425000 & 1 &  1 & NA                                                                                                                                                              \\\\\n\t 2  & 51 & 0 & Kuck, Breanna           & 0 & 2023-12-23 & 47 &  5.5 & 179 & 111.0 & ⋯ & 1.03 & 0.92 & 1.03 & 1.03 & 1.03 & 1.09 & 0.8400000 & 1 &  0 & NA                                                                                                                                                              \\\\\n\t 3  & 52 & 0 & Thomas, Terrance        & 1 & 2022-10-10 & 57 &  7.0 & 164 &  80.0 & ⋯ & 1.00 & 0.90 & 0.95 & 0.85 & 0.90 & 0.90 & 0.8500000 & 3 &  1 & Type 2 diabetes mellitus; MI - 2016                                                                                                                             \\\\\n\t 4  & 53 & 0 & Moua, Kensue            & 1 & 2022-12-21 & 72 &  5.0 & 160 &  58.8 & ⋯ & 0.91 & 0.97 & 0.98 & 0.86 & 0.74 & 0.80 & 0.8241667 & 2 &  0 & 1-2 times per year hypertensive crises (Corinfar)                                                                                                               \\\\\n\t 5  & 54 & 0 & Soriano, Ryan           & 1 & 2023-03-16 & 57 &  5.0 & 180 &  71.0 & ⋯ & 1.20 & 1.20 & 1.25 & 1.10 & 1.30 & 1.13 & 1.0983333 & 1 &  1 & NA                                                                                                                                                              \\\\\n\t 6  & 55 & 0 & Munoz-Lujan, Evangelina & 1 & 2023-03-25 & 79 &  6.2 & 160 &  64.0 & ⋯ & 0.88 & 0.80 & 0.90 & 1.07 & 1.00 & 1.30 & 0.8475000 & 2 &  0 & Cholecystitis, gastritis without exacerbation. Diffuse focal changes in the thyroid gland                                                                       \\\\\n\t 7  & 56 & 0 & Silas, Gurinder         & 1 & 2022-01-06 & 61 &  6.5 & 164 &  67.0 & ⋯ & 0.91 & 0.86 & 0.86 & 0.80 & 0.74 & 0.91 & 0.6725000 & 1 &  0 & chronic cholecystitis                                                                                                                                           \\\\\n\t 8  & 57 & 0 & Matt, Gage              & 1 & 2022-01-27 & 70 &  5.5 & 162 &  61.0 & ⋯ & 1.00 & 1.00 & 1.00 & 0.94 & 0.69 & 0.87 & 0.7850000 & 1 &  0 & Cholecystectomy 20 years ago, hr.gastritis                                                                                                                      \\\\\n\t 9  & 58 & 0 & Lords, Aaran            & 0 & 2023-10-20 & 50 &  6.0 & 150 &  79.0 & ⋯ & 1.09 & 1.26 & 1.03 & 0.80 & 0.74 & 0.75 & 0.8491667 & 1 &  0 & Iron-deficiency anemia                                                                                                                                          \\\\\n\t 10 & 59 & 0 & Mummert, Skye           & 1 & 2022-07-21 & 53 &  5.5 & 172 &  88.2 & ⋯ & 0.97 & 1.04 & 0.81 & 0.63 & 0.63 & 0.86 & 0.7041667 & 2 &  0 & Type 2 diabetes mellitus                                                                                                                                        \\\\\n\t 11 & 60 & 0 & Warero Jr, Alexis       & 1 & 2023-02-13 & 83 &  6.0 & 168 &  59.0 & ⋯ & 0.75 & 0.80 & 0.70 & 0.90 & 0.90 & 0.85 & 0.7458333 & 2 &  1 & Nodal goiter (L-thyroxine, 100 μg)                                                                                                                              \\\\\n\t 12 & 61 & 0 & Bancroft, Kaldurion     & 1 & 2023-08-28 & 59 &  5.5 & 157 &  70.0 & ⋯ & 0.64 & 0.62 & 0.69 & 1.12 & 1.12 & 1.06 & 0.7758333 & 2 &  0 & Cholecystectomy in September 2016                                                                                                                               \\\\\n\t 13 & 62 & 0 & Bowen, Nakayla          & 1 & 2022-08-28 & 79 &  7.0 & 161 &  73.0 & ⋯ & 0.86 & 1.03 & 1.03 & 1.14 & 1.09 & 1.31 & 0.9241667 & 2 &  0 & Appendectomy, chronic pancreatitis,                                                                                                                             \\\\\n\t 14 & 63 & 0 & Scott, Alexandria       & 1 & 2022-07-02 & 61 &  7.0 & 172 &  82.0 & ⋯ & 0.90 & 0.90 & 1.00 & 0.80 & 1.02 & 1.02 & 0.8466667 & 2 &  0 & Hypertensive disease, cicatricial changes on the endocardium (endocardial scars) (not examined)                                                                 \\\\\n\t 15 & 37 & 1 & Siefers, Rachel         & 1 & 2023-04-28 & 79 &  8.0 & 167 &  63.0 & ⋯ & 1.00 & 1.10 & 1.15 & 1.10 & 1.15 & 1.10 & 0.9766667 & 2 &  0 & Hypertensive disease severe course, decreased vision (glaucoma + essential hypertension) !; Cholelithiasis (gall bladder removed)                               \\\\\n\t 16 & 38 & 1 & Timm, Carlton           & 1 & 2022-03-19 & 75 & 10.0 & 165 &  57.0 & ⋯ & 0.90 & 0.99 & 1.00 & 0.90 & 0.80 & 1.10 & 0.8741667 & 3 &  1 & NA                                                                                                                                                              \\\\\n\t 17 & 39 & 1 & Bryant, Saarah          & 1 & 2022-06-26 & 58 & 10.0 & 162 & 102.0 & ⋯ & 1.25 & 0.80 & 1.22 & 0.80 & 1.22 & 1.60 & 0.9991667 & 1 &  0 & Urolithiasis disease                                                                                                                                            \\\\\n\t 18 & 40 & 1 & Fox, Cameron            & 1 & 2022-12-20 & 65 & 11.0 & 171 & 102.6 & ⋯ & 1.08 & 0.80 & 0.96 & 1.14 & 1.09 & 1.09 & 0.9166667 & 2 &  0 & Gastritis with high acidity (heartburn, pain); Nodes in the thyroid gland (hormones did not pass)                                                               \\\\\n\t 19 & 41 & 1 & Mason, Dylan            & 0 & 2022-05-13 & 64 & 10.5 & 167 &  62.0 & ⋯ & 0.92 & 0.91 & 0.86 & 0.91 & 0.86 & 1.03 & 0.8258333 & 1 &  1 & NA                                                                                                                                                              \\\\\n\t 20 & 42 & 1 & Sandoval, Frank         & 0 & 2022-07-08 & 66 & 10.0 & 165 &  73.0 & ⋯ & 0.70 & 0.70 & 0.75 & 0.70 & 0.80 & 0.70 & 0.6458333 & 1 &  1 & Urolithiasis, varicosity, cervical osteochondrosis                                                                                                              \\\\\n\t 21 & 43 & 1 & Greene, Bryce           & 1 & 2023-03-08 & 70 & 11.0 & 170 & 101.2 & ⋯ & 0.99 & 1.00 & 1.00 & 0.82 & 0.90 & 0.90 & 0.8391667 & 2 &  0 & Gastritis, cholelithiasis                                                                                                                                       \\\\\n\t 22 & 30 & 1 & el-Saah, Amaani         & 0 & 2022-07-12 & 65 & 10.0 & 158 &  69.0 & ⋯ & 0.80 & 1.03 & 0.80 & 0.80 & 0.92 & 0.97 & 0.8016667 & 1 &  0 & Removed gallbladder, pancreatitis,! Erosion. Gastritis                                                                                                          \\\\\n\t 23 & 31 & 1 & Martinez, Alex          & 1 & 2022-01-22 & 62 & 11.5 & 169 &  66.0 & ⋯ & 0.90 & 1.10 & 1.20 & 0.90 & 0.90 & 0.99 & 0.8908333 & 2 &  0 & NA                                                                                                                                                              \\\\\n\t 24 & 32 & 1 & Vasquez, Edgar          & 0 & 2022-01-01 & 76 & 13.0 & 165 &  56.5 & ⋯ & 1.00 & 1.32 & 1.03 & 1.32 & 1.21 & 1.31 & 1.0008333 & 1 &  0 & NA                                                                                                                                                              \\\\\n\t 25 & 33 & 1 & el-Salam, Thamra        & 1 & 2022-05-27 & 68 & 13.0 & 170 &  88.0 & ⋯ & 0.80 & 1.20 & 1.10 & 0.70 & 0.80 & 0.90 & 0.8083333 & 2 &  1 & Cholecystectomy in 2002, chronic pancreatitis                                                                                                                   \\\\\n\t 26 & 34 & 1 & Mandeville, Audreon     & 0 & 2023-10-19 & 55 & 11.5 & 162 &  57.0 & ⋯ & 0.60 & 0.70 & 0.65 & 0.70 & 0.60 & 0.65 & 0.5833333 & 0 &  0 & NA                                                                                                                                                              \\\\\n\t 27 & 35 & 1 & Kim, Lily               & 0 & 2023-12-10 & 79 & 12.0 & 172 &  60.0 & ⋯ & 0.95 & 1.10 & 0.90 & 1.00 & 1.00 & 1.00 & 0.9125000 & 1 &  1 & Nodal goiter (L-thyroxine, 25 μg)                                                                                                                               \\\\\n\t 28 & 36 & 1 & el-Ahmad, Aaisha        & 0 & 2023-06-10 & 69 & 13.0 & 160 &  60.0 & ⋯ & 0.90 & 1.10 & 1.00 & 0.70 & 0.80 & 1.00 & 0.8500000 & 1 &  0 & NA                                                                                                                                                              \\\\\n\t 29 & 37 & 1 & Jarko, Taylor           & 1 & 2022-12-08 & 75 & 11.0 & 162 &  75.0 & ⋯ & 0.75 & 0.85 & 0.86 & 0.80 & 0.90 & 0.80 & 0.7633333 & 2 &  0 & Osteochondrosis, chronic Cholecystitis non-calculous, multinodular goiter, euthyroidism.                                                                        \\\\\n\t 30 & 38 & 1 & Mccarthy, Cheyenne      & 1 & 2022-07-01 & 68 & 13.0 & 165 &  77.8 & ⋯ & 0.74 & 0.80 & 0.98 & 0.80 & 0.76 & 1.09 & 0.7116667 & 2 &  0 & Type 2 diabetes mellitus since 2008 (glucophage); gout; Removed gallbladder                                                                                     \\\\\n\t 31 & 39 & 1 & Voyles, Donald          & 0 & 2022-02-05 & 64 & 11.5 & 176 &  68.8 & ⋯ & 0.71 & 0.76 & 0.65 & 0.75 & 0.70 & 0.80 & 0.6408333 & 1 & NA & NA                                                                                                                                                              \\\\\n\t 32 & 40 & 1 & Hofmann, Christina      & 0 & 2023-01-25 & 62 & 13.0 & 161 &  90.0 & ⋯ & 0.75 & 1.01 & 0.81 & 0.58 & 0.56 & 0.69 & 0.6325000 & 0 &  0 & Cholelithiasis (gall bladder removed); gastritis                                                                                                                \\\\\n\t 33 & 42 & 1 & Lattimer, Ariana        & 1 & 2023-10-25 & 67 & 13.0 & 165 &  78.0 & ⋯ & 0.74 & 0.86 & 0.92 & 0.86 & 0.86 & 1.03 & 0.7933333 & 2 &  1 & NA                                                                                                                                                              \\\\\n\t 34 & 43 & 1 & White, Dejah            & 1 & 2022-06-04 & 64 & 12.0 & 161 &  89.0 & ⋯ & 1.14 & 0.97 & 1.15 & 1.09 & 0.92 & 0.86 & 0.8825000 & 2 &  1 & Glaucoma, hypertension, CAD (aimed at stenting)                                                                                                                 \\\\\n\t 35 & 44 & 1 & Sanders, Nhome          & 0 & 2022-07-31 & 54 & 11.5 & 167 &  67.0 & ⋯ & 0.56 & 0.80 & 0.74 & 0.75 & 0.63 & 0.71 & 0.5941667 & 0 &  0 & struma autoimmunea (homeopathy); Osteochondrosis with hernias, spondylosis; Dystonia by hypertonic type                                                         \\\\\n\t 36 & 25 & 1 & Hernandez, Minnie       & 1 & 2022-09-18 & 67 & 12.0 & 159 &  72.0 & ⋯ & 0.75 & 0.70 & 0.90 & 0.90 & 0.75 & 0.95 & 0.7475000 & 2 &  1 & 2/2011-Stroke; heart failure                                                                                                                                    \\\\\n\t 37 & 26 & 1 & Rettig, Jane            & 1 & 2022-01-26 & 69 & 11.5 & 154 &  87.6 & ⋯ & 1.15 & 0.99 & 1.20 & 1.20 & 1.27 & 1.15 & 0.9716667 & 3 &  1 & CAD, postinfarction cardiosclerosis, grade 3 hypertension, chronic heart failure, grade 2 diabetes mellitus (insulin); Hypothyroidism (L-thyrox); Osteoarthritis\\\\\n\t 38 & 27 & 1 & Begay, Joshua           & 0 & 2022-02-11 & 60 & 12.0 & 165 &  74.0 & ⋯ & 0.58 & 0.86 & 0.90 & 0.65 & 0.69 & 0.60 & 0.6158333 & 1 &  0 & grade 3 hypertension                                                                                                                                            \\\\\n\\end{tabular}\n",
            "text/plain": [
              "   Vial.number Patient.number Sucrose Name                    Group Date      \n",
              "1  1           50             0       Woodard, Dillon         0     2022-03-26\n",
              "2  2           51             0       Kuck, Breanna           0     2023-12-23\n",
              "3  3           52             0       Thomas, Terrance        1     2022-10-10\n",
              "4  4           53             0       Moua, Kensue            1     2022-12-21\n",
              "5  5           54             0       Soriano, Ryan           1     2023-03-16\n",
              "6  6           55             0       Munoz-Lujan, Evangelina 1     2023-03-25\n",
              "7  7           56             0       Silas, Gurinder         1     2022-01-06\n",
              "8  8           57             0       Matt, Gage              1     2022-01-27\n",
              "9  9           58             0       Lords, Aaran            0     2023-10-20\n",
              "10 10          59             0       Mummert, Skye           1     2022-07-21\n",
              "11 11          60             0       Warero Jr, Alexis       1     2023-02-13\n",
              "12 12          61             0       Bancroft, Kaldurion     1     2023-08-28\n",
              "13 13          62             0       Bowen, Nakayla          1     2022-08-28\n",
              "14 14          63             0       Scott, Alexandria       1     2022-07-02\n",
              "15 15          37             1       Siefers, Rachel         1     2023-04-28\n",
              "16 16          38             1       Timm, Carlton           1     2022-03-19\n",
              "17 17          39             1       Bryant, Saarah          1     2022-06-26\n",
              "18 18          40             1       Fox, Cameron            1     2022-12-20\n",
              "19 19          41             1       Mason, Dylan            0     2022-05-13\n",
              "20 20          42             1       Sandoval, Frank         0     2022-07-08\n",
              "21 21          43             1       Greene, Bryce           1     2023-03-08\n",
              "22 22          30             1       el-Saah, Amaani         0     2022-07-12\n",
              "23 23          31             1       Martinez, Alex          1     2022-01-22\n",
              "24 24          32             1       Vasquez, Edgar          0     2022-01-01\n",
              "25 25          33             1       el-Salam, Thamra        1     2022-05-27\n",
              "26 26          34             1       Mandeville, Audreon     0     2023-10-19\n",
              "27 27          35             1       Kim, Lily               0     2023-12-10\n",
              "28 28          36             1       el-Ahmad, Aaisha        0     2023-06-10\n",
              "29 29          37             1       Jarko, Taylor           1     2022-12-08\n",
              "30 30          38             1       Mccarthy, Cheyenne      1     2022-07-01\n",
              "31 31          39             1       Voyles, Donald          0     2022-02-05\n",
              "32 32          40             1       Hofmann, Christina      0     2023-01-25\n",
              "33 33          42             1       Lattimer, Ariana        1     2023-10-25\n",
              "34 34          43             1       White, Dejah            1     2022-06-04\n",
              "35 35          44             1       Sanders, Nhome          0     2022-07-31\n",
              "36 36          25             1       Hernandez, Minnie       1     2022-09-18\n",
              "37 37          26             1       Rettig, Jane            1     2022-01-26\n",
              "38 38          27             1       Begay, Joshua           0     2022-02-11\n",
              "   Age Plasma.volume Ht  Wt    ⋯ r.lat.max r.ant.max r.pos.max l.lat.max\n",
              "1  63   6.5          163  84.0 ⋯ 0.65      0.80      0.80      0.81     \n",
              "2  47   5.5          179 111.0 ⋯ 1.03      0.92      1.03      1.03     \n",
              "3  57   7.0          164  80.0 ⋯ 1.00      0.90      0.95      0.85     \n",
              "4  72   5.0          160  58.8 ⋯ 0.91      0.97      0.98      0.86     \n",
              "5  57   5.0          180  71.0 ⋯ 1.20      1.20      1.25      1.10     \n",
              "6  79   6.2          160  64.0 ⋯ 0.88      0.80      0.90      1.07     \n",
              "7  61   6.5          164  67.0 ⋯ 0.91      0.86      0.86      0.80     \n",
              "8  70   5.5          162  61.0 ⋯ 1.00      1.00      1.00      0.94     \n",
              "9  50   6.0          150  79.0 ⋯ 1.09      1.26      1.03      0.80     \n",
              "10 53   5.5          172  88.2 ⋯ 0.97      1.04      0.81      0.63     \n",
              "11 83   6.0          168  59.0 ⋯ 0.75      0.80      0.70      0.90     \n",
              "12 59   5.5          157  70.0 ⋯ 0.64      0.62      0.69      1.12     \n",
              "13 79   7.0          161  73.0 ⋯ 0.86      1.03      1.03      1.14     \n",
              "14 61   7.0          172  82.0 ⋯ 0.90      0.90      1.00      0.80     \n",
              "15 79   8.0          167  63.0 ⋯ 1.00      1.10      1.15      1.10     \n",
              "16 75  10.0          165  57.0 ⋯ 0.90      0.99      1.00      0.90     \n",
              "17 58  10.0          162 102.0 ⋯ 1.25      0.80      1.22      0.80     \n",
              "18 65  11.0          171 102.6 ⋯ 1.08      0.80      0.96      1.14     \n",
              "19 64  10.5          167  62.0 ⋯ 0.92      0.91      0.86      0.91     \n",
              "20 66  10.0          165  73.0 ⋯ 0.70      0.70      0.75      0.70     \n",
              "21 70  11.0          170 101.2 ⋯ 0.99      1.00      1.00      0.82     \n",
              "22 65  10.0          158  69.0 ⋯ 0.80      1.03      0.80      0.80     \n",
              "23 62  11.5          169  66.0 ⋯ 0.90      1.10      1.20      0.90     \n",
              "24 76  13.0          165  56.5 ⋯ 1.00      1.32      1.03      1.32     \n",
              "25 68  13.0          170  88.0 ⋯ 0.80      1.20      1.10      0.70     \n",
              "26 55  11.5          162  57.0 ⋯ 0.60      0.70      0.65      0.70     \n",
              "27 79  12.0          172  60.0 ⋯ 0.95      1.10      0.90      1.00     \n",
              "28 69  13.0          160  60.0 ⋯ 0.90      1.10      1.00      0.70     \n",
              "29 75  11.0          162  75.0 ⋯ 0.75      0.85      0.86      0.80     \n",
              "30 68  13.0          165  77.8 ⋯ 0.74      0.80      0.98      0.80     \n",
              "31 64  11.5          176  68.8 ⋯ 0.71      0.76      0.65      0.75     \n",
              "32 62  13.0          161  90.0 ⋯ 0.75      1.01      0.81      0.58     \n",
              "33 67  13.0          165  78.0 ⋯ 0.74      0.86      0.92      0.86     \n",
              "34 64  12.0          161  89.0 ⋯ 1.14      0.97      1.15      1.09     \n",
              "35 54  11.5          167  67.0 ⋯ 0.56      0.80      0.74      0.75     \n",
              "36 67  12.0          159  72.0 ⋯ 0.75      0.70      0.90      0.90     \n",
              "37 69  11.5          154  87.6 ⋯ 1.15      0.99      1.20      1.20     \n",
              "38 60  12.0          165  74.0 ⋯ 0.58      0.86      0.90      0.65     \n",
              "   l.ant.max l.pos.max carotid.IMT.mean Plaque Statins\n",
              "1  0.78      0.80      0.6425000        1       1     \n",
              "2  1.03      1.09      0.8400000        1       0     \n",
              "3  0.90      0.90      0.8500000        3       1     \n",
              "4  0.74      0.80      0.8241667        2       0     \n",
              "5  1.30      1.13      1.0983333        1       1     \n",
              "6  1.00      1.30      0.8475000        2       0     \n",
              "7  0.74      0.91      0.6725000        1       0     \n",
              "8  0.69      0.87      0.7850000        1       0     \n",
              "9  0.74      0.75      0.8491667        1       0     \n",
              "10 0.63      0.86      0.7041667        2       0     \n",
              "11 0.90      0.85      0.7458333        2       1     \n",
              "12 1.12      1.06      0.7758333        2       0     \n",
              "13 1.09      1.31      0.9241667        2       0     \n",
              "14 1.02      1.02      0.8466667        2       0     \n",
              "15 1.15      1.10      0.9766667        2       0     \n",
              "16 0.80      1.10      0.8741667        3       1     \n",
              "17 1.22      1.60      0.9991667        1       0     \n",
              "18 1.09      1.09      0.9166667        2       0     \n",
              "19 0.86      1.03      0.8258333        1       1     \n",
              "20 0.80      0.70      0.6458333        1       1     \n",
              "21 0.90      0.90      0.8391667        2       0     \n",
              "22 0.92      0.97      0.8016667        1       0     \n",
              "23 0.90      0.99      0.8908333        2       0     \n",
              "24 1.21      1.31      1.0008333        1       0     \n",
              "25 0.80      0.90      0.8083333        2       1     \n",
              "26 0.60      0.65      0.5833333        0       0     \n",
              "27 1.00      1.00      0.9125000        1       1     \n",
              "28 0.80      1.00      0.8500000        1       0     \n",
              "29 0.90      0.80      0.7633333        2       0     \n",
              "30 0.76      1.09      0.7116667        2       0     \n",
              "31 0.70      0.80      0.6408333        1      NA     \n",
              "32 0.56      0.69      0.6325000        0       0     \n",
              "33 0.86      1.03      0.7933333        2       1     \n",
              "34 0.92      0.86      0.8825000        2       1     \n",
              "35 0.63      0.71      0.5941667        0       0     \n",
              "36 0.75      0.95      0.7475000        2       1     \n",
              "37 1.27      1.15      0.9716667        3       1     \n",
              "38 0.69      0.60      0.6158333        1       0     \n",
              "   comorbidities                                                                                                                                                   \n",
              "1  NA                                                                                                                                                              \n",
              "2  NA                                                                                                                                                              \n",
              "3  Type 2 diabetes mellitus; MI - 2016                                                                                                                             \n",
              "4  1-2 times per year hypertensive crises (Corinfar)                                                                                                               \n",
              "5  NA                                                                                                                                                              \n",
              "6  Cholecystitis, gastritis without exacerbation. Diffuse focal changes in the thyroid gland                                                                       \n",
              "7  chronic cholecystitis                                                                                                                                           \n",
              "8  Cholecystectomy 20 years ago, hr.gastritis                                                                                                                      \n",
              "9  Iron-deficiency anemia                                                                                                                                          \n",
              "10 Type 2 diabetes mellitus                                                                                                                                        \n",
              "11 Nodal goiter (L-thyroxine, 100 μg)                                                                                                                              \n",
              "12 Cholecystectomy in September 2016                                                                                                                               \n",
              "13 Appendectomy, chronic pancreatitis,                                                                                                                             \n",
              "14 Hypertensive disease, cicatricial changes on the endocardium (endocardial scars) (not examined)                                                                 \n",
              "15 Hypertensive disease severe course, decreased vision (glaucoma + essential hypertension) !; Cholelithiasis (gall bladder removed)                               \n",
              "16 NA                                                                                                                                                              \n",
              "17 Urolithiasis disease                                                                                                                                            \n",
              "18 Gastritis with high acidity (heartburn, pain); Nodes in the thyroid gland (hormones did not pass)                                                               \n",
              "19 NA                                                                                                                                                              \n",
              "20 Urolithiasis, varicosity, cervical osteochondrosis                                                                                                              \n",
              "21 Gastritis, cholelithiasis                                                                                                                                       \n",
              "22 Removed gallbladder, pancreatitis,! Erosion. Gastritis                                                                                                          \n",
              "23 NA                                                                                                                                                              \n",
              "24 NA                                                                                                                                                              \n",
              "25 Cholecystectomy in 2002, chronic pancreatitis                                                                                                                   \n",
              "26 NA                                                                                                                                                              \n",
              "27 Nodal goiter (L-thyroxine, 25 μg)                                                                                                                               \n",
              "28 NA                                                                                                                                                              \n",
              "29 Osteochondrosis, chronic Cholecystitis non-calculous, multinodular goiter, euthyroidism.                                                                        \n",
              "30 Type 2 diabetes mellitus since 2008 (glucophage); gout; Removed gallbladder                                                                                     \n",
              "31 NA                                                                                                                                                              \n",
              "32 Cholelithiasis (gall bladder removed); gastritis                                                                                                                \n",
              "33 NA                                                                                                                                                              \n",
              "34 Glaucoma, hypertension, CAD (aimed at stenting)                                                                                                                 \n",
              "35 struma autoimmunea (homeopathy); Osteochondrosis with hernias, spondylosis; Dystonia by hypertonic type                                                         \n",
              "36 2/2011-Stroke; heart failure                                                                                                                                    \n",
              "37 CAD, postinfarction cardiosclerosis, grade 3 hypertension, chronic heart failure, grade 2 diabetes mellitus (insulin); Hypothyroidism (L-thyrox); Osteoarthritis\n",
              "38 grade 3 hypertension                                                                                                                                            "
            ]
          },
          "metadata": {}
        }
      ]
    },
    {
      "cell_type": "markdown",
      "source": [
        "Загрузка таблицы descriptive"
      ],
      "metadata": {
        "id": "xA_WBEtx_R6Z"
      }
    },
    {
      "cell_type": "code",
      "source": [
        "descriptive <- read_xlsx(\"/content/metadata.xlsx\", sheet = 2) %>%\n",
        "  rename('Variable' = '...1', 'Description' = '...2') %>%\n",
        "  drop_na()"
      ],
      "metadata": {
        "id": "KpNOvtHqp3R4"
      },
      "execution_count": null,
      "outputs": []
    },
    {
      "cell_type": "code",
      "source": [
        "descriptive"
      ],
      "metadata": {
        "colab": {
          "base_uri": "https://localhost:8080/",
          "height": 881
        },
        "id": "vcgzplzJEbnq",
        "outputId": "01198f41-b12f-4cf7-a26f-ca3c9c4fa4ae"
      },
      "execution_count": null,
      "outputs": [
        {
          "output_type": "display_data",
          "data": {
            "text/html": [
              "<table class=\"dataframe\">\n",
              "<caption>A tibble: 25 × 2</caption>\n",
              "<thead>\n",
              "\t<tr><th scope=col>Variable</th><th scope=col>Description</th></tr>\n",
              "\t<tr><th scope=col>&lt;chr&gt;</th><th scope=col>&lt;chr&gt;</th></tr>\n",
              "</thead>\n",
              "<tbody>\n",
              "\t<tr><td>Ht     </td><td>growth                                           </td></tr>\n",
              "\t<tr><td>Wt     </td><td>the weight                                       </td></tr>\n",
              "\t<tr><td>BMI    </td><td>body mass index                                  </td></tr>\n",
              "\t<tr><td>Sys    </td><td>Systolic blood pressure                          </td></tr>\n",
              "\t<tr><td>Dia    </td><td>Diastolic blood pressure                         </td></tr>\n",
              "\t<tr><td>PR     </td><td>pulse                                            </td></tr>\n",
              "\t<tr><td>Sm     </td><td>smoking                                          </td></tr>\n",
              "\t<tr><td>Dm     </td><td>diabetes                                         </td></tr>\n",
              "\t<tr><td>HT     </td><td>hypertension                                     </td></tr>\n",
              "\t<tr><td>LVG    </td><td>Left ventricular hypertrophy by electrocardiogram</td></tr>\n",
              "\t<tr><td>AP     </td><td>CAD                                              </td></tr>\n",
              "\t<tr><td>MI     </td><td>medical history of infarction                    </td></tr>\n",
              "\t<tr><td>Str    </td><td>medical history of stroke                        </td></tr>\n",
              "\t<tr><td>A_C    </td><td>family history of CAD                            </td></tr>\n",
              "\t<tr><td>A_H    </td><td>family history hypertension                      </td></tr>\n",
              "\t<tr><td>A_D    </td><td>family history diabetes                          </td></tr>\n",
              "\t<tr><td>Choi   </td><td>cholesterol                                      </td></tr>\n",
              "\t<tr><td>Tgi    </td><td>Triglycerides                                    </td></tr>\n",
              "\t<tr><td>HDLi   </td><td>High density lipoprotein                         </td></tr>\n",
              "\t<tr><td>LDLi   </td><td>Low density lipoprotein                          </td></tr>\n",
              "\t<tr><td>AI     </td><td>Atherogenicity index                             </td></tr>\n",
              "\t<tr><td>CICi   </td><td>Cholesterol circulating immune complexes         </td></tr>\n",
              "\t<tr><td>P-cor  </td><td>Risk of myocardial infarction                    </td></tr>\n",
              "\t<tr><td>f-P-cor</td><td>Risk of CAD                                      </td></tr>\n",
              "\t<tr><td>?      </td><td>unknown, information will be later               </td></tr>\n",
              "</tbody>\n",
              "</table>\n"
            ],
            "text/markdown": "\nA tibble: 25 × 2\n\n| Variable &lt;chr&gt; | Description &lt;chr&gt; |\n|---|---|\n| Ht      | growth                                            |\n| Wt      | the weight                                        |\n| BMI     | body mass index                                   |\n| Sys     | Systolic blood pressure                           |\n| Dia     | Diastolic blood pressure                          |\n| PR      | pulse                                             |\n| Sm      | smoking                                           |\n| Dm      | diabetes                                          |\n| HT      | hypertension                                      |\n| LVG     | Left ventricular hypertrophy by electrocardiogram |\n| AP      | CAD                                               |\n| MI      | medical history of infarction                     |\n| Str     | medical history of stroke                         |\n| A_C     | family history of CAD                             |\n| A_H     | family history hypertension                       |\n| A_D     | family history diabetes                           |\n| Choi    | cholesterol                                       |\n| Tgi     | Triglycerides                                     |\n| HDLi    | High density lipoprotein                          |\n| LDLi    | Low density lipoprotein                           |\n| AI      | Atherogenicity index                              |\n| CICi    | Cholesterol circulating immune complexes          |\n| P-cor   | Risk of myocardial infarction                     |\n| f-P-cor | Risk of CAD                                       |\n| ?       | unknown, information will be later                |\n\n",
            "text/latex": "A tibble: 25 × 2\n\\begin{tabular}{ll}\n Variable & Description\\\\\n <chr> & <chr>\\\\\n\\hline\n\t Ht      & growth                                           \\\\\n\t Wt      & the weight                                       \\\\\n\t BMI     & body mass index                                  \\\\\n\t Sys     & Systolic blood pressure                          \\\\\n\t Dia     & Diastolic blood pressure                         \\\\\n\t PR      & pulse                                            \\\\\n\t Sm      & smoking                                          \\\\\n\t Dm      & diabetes                                         \\\\\n\t HT      & hypertension                                     \\\\\n\t LVG     & Left ventricular hypertrophy by electrocardiogram\\\\\n\t AP      & CAD                                              \\\\\n\t MI      & medical history of infarction                    \\\\\n\t Str     & medical history of stroke                        \\\\\n\t A\\_C     & family history of CAD                            \\\\\n\t A\\_H     & family history hypertension                      \\\\\n\t A\\_D     & family history diabetes                          \\\\\n\t Choi    & cholesterol                                      \\\\\n\t Tgi     & Triglycerides                                    \\\\\n\t HDLi    & High density lipoprotein                         \\\\\n\t LDLi    & Low density lipoprotein                          \\\\\n\t AI      & Atherogenicity index                             \\\\\n\t CICi    & Cholesterol circulating immune complexes         \\\\\n\t P-cor   & Risk of myocardial infarction                    \\\\\n\t f-P-cor & Risk of CAD                                      \\\\\n\t ?       & unknown, information will be later               \\\\\n\\end{tabular}\n",
            "text/plain": [
              "   Variable Description                                      \n",
              "1  Ht       growth                                           \n",
              "2  Wt       the weight                                       \n",
              "3  BMI      body mass index                                  \n",
              "4  Sys      Systolic blood pressure                          \n",
              "5  Dia      Diastolic blood pressure                         \n",
              "6  PR       pulse                                            \n",
              "7  Sm       smoking                                          \n",
              "8  Dm       diabetes                                         \n",
              "9  HT       hypertension                                     \n",
              "10 LVG      Left ventricular hypertrophy by electrocardiogram\n",
              "11 AP       CAD                                              \n",
              "12 MI       medical history of infarction                    \n",
              "13 Str      medical history of stroke                        \n",
              "14 A_C      family history of CAD                            \n",
              "15 A_H      family history hypertension                      \n",
              "16 A_D      family history diabetes                          \n",
              "17 Choi     cholesterol                                      \n",
              "18 Tgi      Triglycerides                                    \n",
              "19 HDLi     High density lipoprotein                         \n",
              "20 LDLi     Low density lipoprotein                          \n",
              "21 AI       Atherogenicity index                             \n",
              "22 CICi     Cholesterol circulating immune complexes         \n",
              "23 P-cor    Risk of myocardial infarction                    \n",
              "24 f-P-cor  Risk of CAD                                      \n",
              "25 ?        unknown, information will be later               "
            ]
          },
          "metadata": {}
        }
      ]
    },
    {
      "cell_type": "markdown",
      "source": [
        "Объединение таблиц hdl и ldl c добавлением суффиксов"
      ],
      "metadata": {
        "id": "PDV4fL4G_hlU"
      }
    },
    {
      "cell_type": "code",
      "source": [
        "lipids <- full_join(hdl, ldl, by = c('Vial.number', 'Patient.number'), suffix = c('_hdl', '_ldl'))"
      ],
      "metadata": {
        "id": "LRyXkE2Np3Pl"
      },
      "execution_count": null,
      "outputs": []
    },
    {
      "cell_type": "code",
      "source": [
        "lipids"
      ],
      "metadata": {
        "colab": {
          "base_uri": "https://localhost:8080/",
          "height": 1000
        },
        "id": "BmZh22-Up3NN",
        "outputId": "5739dee6-899a-4eff-a2e9-3c08f30a350a"
      },
      "execution_count": null,
      "outputs": [
        {
          "output_type": "display_data",
          "data": {
            "text/html": [
              "<table class=\"dataframe\">\n",
              "<caption>A tibble: 29 × 72</caption>\n",
              "<thead>\n",
              "\t<tr><th scope=col>Vial.number</th><th scope=col>Patient.number</th><th scope=col>GPHDL1</th><th scope=col>GPHDL2</th><th scope=col>GPHDL3</th><th scope=col>GPHDL4</th><th scope=col>GPHDL5</th><th scope=col>GPHDL6</th><th scope=col>GPHDL7</th><th scope=col>GPHDL8</th><th scope=col>⋯</th><th scope=col>G1_ldl</th><th scope=col>G2_ldl</th><th scope=col>G3_ldl</th><th scope=col>S0_ldl</th><th scope=col>S1_ldl</th><th scope=col>S2_ldl</th><th scope=col>S3_ldl</th><th scope=col>B_ldl</th><th scope=col>F_ldl</th><th scope=col>HM_ldl</th></tr>\n",
              "\t<tr><th scope=col>&lt;fct&gt;</th><th scope=col>&lt;fct&gt;</th><th scope=col>&lt;dbl&gt;</th><th scope=col>&lt;dbl&gt;</th><th scope=col>&lt;dbl&gt;</th><th scope=col>&lt;dbl&gt;</th><th scope=col>&lt;dbl&gt;</th><th scope=col>&lt;dbl&gt;</th><th scope=col>&lt;dbl&gt;</th><th scope=col>&lt;dbl&gt;</th><th scope=col>⋯</th><th scope=col>&lt;dbl&gt;</th><th scope=col>&lt;dbl&gt;</th><th scope=col>&lt;dbl&gt;</th><th scope=col>&lt;dbl&gt;</th><th scope=col>&lt;dbl&gt;</th><th scope=col>&lt;dbl&gt;</th><th scope=col>&lt;dbl&gt;</th><th scope=col>&lt;dbl&gt;</th><th scope=col>&lt;dbl&gt;</th><th scope=col>&lt;dbl&gt;</th></tr>\n",
              "</thead>\n",
              "<tbody>\n",
              "\t<tr><td>1 </td><td>50</td><td>0.3800000</td><td>1.780000</td><td>0.1400000</td><td>0.05000000</td><td>0.730000</td><td>2.900000</td><td>1.570000</td><td>2.570000</td><td>⋯</td><td>4.090</td><td>68.910</td><td>3.570</td><td>3.980</td><td>28.180</td><td>42.460</td><td>1.950</td><td>0.020</td><td>1.67</td><td>13.02</td></tr>\n",
              "\t<tr><td>3 </td><td>52</td><td>0.4300000</td><td>1.300000</td><td>0.2300000</td><td>0.05000000</td><td>0.590000</td><td>2.620000</td><td>1.620000</td><td>3.860000</td><td>⋯</td><td>5.160</td><td>68.220</td><td>3.110</td><td>4.640</td><td>30.430</td><td>39.860</td><td>1.560</td><td>0.020</td><td>1.69</td><td>14.16</td></tr>\n",
              "\t<tr><td>4 </td><td>53</td><td>0.4100000</td><td>3.860000</td><td>0.3100000</td><td>0.10000000</td><td>0.960000</td><td>3.190000</td><td>2.420000</td><td>3.750000</td><td>⋯</td><td>3.950</td><td>68.030</td><td>4.500</td><td>3.780</td><td>29.370</td><td>41.130</td><td>2.200</td><td>0.020</td><td>1.89</td><td>13.89</td></tr>\n",
              "\t<tr><td>5 </td><td>54</td><td>0.5000000</td><td>1.790000</td><td>0.2300000</td><td>0.06000000</td><td>0.770000</td><td>2.960000</td><td>1.760000</td><td>3.000000</td><td>⋯</td><td>4.630</td><td>66.910</td><td>4.030</td><td>4.440</td><td>28.540</td><td>40.640</td><td>1.950</td><td>0.020</td><td>2.03</td><td>14.25</td></tr>\n",
              "\t<tr><td>6 </td><td>55</td><td>0.4000000</td><td>3.690000</td><td>0.1700000</td><td>0.03000000</td><td>0.800000</td><td>3.040000</td><td>1.620000</td><td>3.230000</td><td>⋯</td><td>4.050</td><td>64.010</td><td>5.270</td><td>3.720</td><td>26.710</td><td>40.390</td><td>2.510</td><td>0.020</td><td>2.70</td><td>16.06</td></tr>\n",
              "\t<tr><td>7 </td><td>56</td><td>0.3700000</td><td>2.960000</td><td>0.2200000</td><td>0.05000000</td><td>1.000000</td><td>3.000000</td><td>2.110000</td><td>3.060000</td><td>⋯</td><td>4.100</td><td>65.990</td><td>4.700</td><td>4.030</td><td>28.440</td><td>39.990</td><td>2.330</td><td>0.020</td><td>1.61</td><td>13.82</td></tr>\n",
              "\t<tr><td>8 </td><td>57</td><td>0.5600000</td><td>2.760000</td><td>0.4600000</td><td>0.08000000</td><td>1.110000</td><td>2.960000</td><td>3.560000</td><td>4.170000</td><td>⋯</td><td>5.270</td><td>67.260</td><td>3.240</td><td>4.690</td><td>32.270</td><td>37.290</td><td>1.520</td><td>0.030</td><td>1.61</td><td>14.59</td></tr>\n",
              "\t<tr><td>9 </td><td>58</td><td>0.4100000</td><td>2.140000</td><td>0.2200000</td><td>0.12000000</td><td>0.930000</td><td>2.550000</td><td>2.060000</td><td>2.950000</td><td>⋯</td><td>3.970</td><td>67.590</td><td>4.220</td><td>4.420</td><td>27.990</td><td>41.190</td><td>2.180</td><td>0.050</td><td>1.55</td><td>13.26</td></tr>\n",
              "\t<tr><td>10</td><td>59</td><td>0.4200000</td><td>1.710000</td><td>0.2000000</td><td>0.06000000</td><td>0.640000</td><td>2.840000</td><td>1.590000</td><td>3.480000</td><td>⋯</td><td>4.480</td><td>68.880</td><td>4.040</td><td>3.860</td><td>28.110</td><td>43.200</td><td>2.230</td><td>0.020</td><td>2.30</td><td>13.11</td></tr>\n",
              "\t<tr><td>11</td><td>60</td><td>0.3500000</td><td>2.000000</td><td>0.2100000</td><td>0.06000000</td><td>0.670000</td><td>2.570000</td><td>1.710000</td><td>3.790000</td><td>⋯</td><td>4.620</td><td>66.510</td><td>4.250</td><td>4.780</td><td>28.500</td><td>40.140</td><td>1.960</td><td>0.030</td><td>1.72</td><td>14.21</td></tr>\n",
              "\t<tr><td>12</td><td>61</td><td>0.3000000</td><td>1.940000</td><td>0.1500000</td><td>0.07000000</td><td>0.790000</td><td>2.330000</td><td>1.610000</td><td>2.720000</td><td>⋯</td><td>3.470</td><td>66.740</td><td>5.030</td><td>3.450</td><td>26.590</td><td>42.620</td><td>2.580</td><td>0.020</td><td>2.02</td><td>13.52</td></tr>\n",
              "\t<tr><td>13</td><td>62</td><td>0.5500000</td><td>2.580000</td><td>0.2300000</td><td>0.08000000</td><td>0.830000</td><td>2.980000</td><td>2.050000</td><td>3.420000</td><td>⋯</td><td>4.780</td><td>67.400</td><td>3.720</td><td>4.760</td><td>29.470</td><td>39.760</td><td>1.910</td><td>0.060</td><td>1.93</td><td>14.28</td></tr>\n",
              "\t<tr><td>14</td><td>63</td><td>0.5200000</td><td>3.030000</td><td>0.3100000</td><td>0.09000000</td><td>1.010000</td><td>3.080000</td><td>2.420000</td><td>3.510000</td><td>⋯</td><td>4.550</td><td>67.880</td><td>4.640</td><td>4.060</td><td>28.160</td><td>42.470</td><td>2.380</td><td>0.030</td><td>1.93</td><td>13.42</td></tr>\n",
              "\t<tr><td>15</td><td>37</td><td>0.4400000</td><td>2.990000</td><td>0.3100000</td><td>0.05000000</td><td>0.860000</td><td>2.910000</td><td>2.480000</td><td>3.630000</td><td>⋯</td><td>4.700</td><td>67.590</td><td>3.430</td><td>5.280</td><td>33.520</td><td>35.450</td><td>1.470</td><td>0.020</td><td>1.24</td><td>14.35</td></tr>\n",
              "\t<tr><td>16</td><td>38</td><td>0.4750000</td><td>2.380000</td><td>0.2300000</td><td>0.04500000</td><td>0.715000</td><td>2.865000</td><td>2.110000</td><td>3.820000</td><td>⋯</td><td>5.200</td><td>66.370</td><td>4.220</td><td>4.470</td><td>29.360</td><td>39.770</td><td>2.190</td><td>0.030</td><td>2.99</td><td>14.47</td></tr>\n",
              "\t<tr><td>17</td><td>39</td><td>0.5333333</td><td>2.193333</td><td>0.1866667</td><td>0.08666667</td><td>0.960000</td><td>2.783333</td><td>2.370000</td><td>2.843333</td><td>⋯</td><td>4.010</td><td>67.880</td><td>4.340</td><td>4.340</td><td>29.100</td><td>40.840</td><td>1.950</td><td>0.030</td><td>1.99</td><td>13.02</td></tr>\n",
              "\t<tr><td>19</td><td>41</td><td>0.3500000</td><td>1.350000</td><td>0.1700000</td><td>0.07000000</td><td>0.660000</td><td>2.270000</td><td>1.720000</td><td>3.080000</td><td>⋯</td><td>3.860</td><td>68.260</td><td>4.280</td><td>3.680</td><td>28.570</td><td>42.040</td><td>2.110</td><td>0.020</td><td>2.34</td><td>13.59</td></tr>\n",
              "\t<tr><td>20</td><td>42</td><td>0.7233333</td><td>2.583333</td><td>0.3033333</td><td>0.17000000</td><td>1.183333</td><td>2.753333</td><td>2.066667</td><td>3.786667</td><td>⋯</td><td>4.710</td><td>65.305</td><td>4.735</td><td>4.335</td><td>29.245</td><td>38.985</td><td>2.185</td><td>0.030</td><td>2.19</td><td>15.15</td></tr>\n",
              "\t<tr><td>22</td><td>30</td><td>0.5700000</td><td>2.420000</td><td>0.3000000</td><td>0.08000000</td><td>0.900000</td><td>2.940000</td><td>2.430000</td><td>3.790000</td><td>⋯</td><td>4.930</td><td>66.620</td><td>4.270</td><td>4.590</td><td>29.240</td><td>39.910</td><td>2.080</td><td>0.030</td><td>1.69</td><td>14.11</td></tr>\n",
              "\t<tr><td>24</td><td>32</td><td>0.5100000</td><td>2.370000</td><td>0.2300000</td><td>0.09000000</td><td>0.840000</td><td>3.130000</td><td>2.480000</td><td>3.210000</td><td>⋯</td><td>4.390</td><td>67.560</td><td>3.590</td><td>4.550</td><td>28.810</td><td>40.410</td><td>1.770</td><td>0.040</td><td>1.38</td><td>14.83</td></tr>\n",
              "\t<tr><td>26</td><td>34</td><td>0.4400000</td><td>2.230000</td><td>0.2400000</td><td>0.04000000</td><td>0.810000</td><td>3.170000</td><td>1.860000</td><td>3.820000</td><td>⋯</td><td>5.280</td><td>67.780</td><td>4.210</td><td>4.710</td><td>29.210</td><td>41.010</td><td>2.340</td><td>0.020</td><td>2.03</td><td>13.33</td></tr>\n",
              "\t<tr><td>28</td><td>36</td><td>0.5100000</td><td>2.240000</td><td>0.3200000</td><td>0.06000000</td><td>0.840000</td><td>3.010000</td><td>2.060000</td><td>4.360000</td><td>⋯</td><td>4.620</td><td>67.430</td><td>4.360</td><td>4.160</td><td>29.580</td><td>40.480</td><td>2.190</td><td>0.020</td><td>2.27</td><td>13.54</td></tr>\n",
              "\t<tr><td>30</td><td>38</td><td>0.4500000</td><td>3.070000</td><td>0.2600000</td><td>0.07000000</td><td>1.000000</td><td>2.750000</td><td>2.360000</td><td>4.030000</td><td>⋯</td><td>4.290</td><td>66.840</td><td>4.380</td><td>3.910</td><td>28.190</td><td>41.210</td><td>2.200</td><td>0.020</td><td>2.36</td><td>14.45</td></tr>\n",
              "\t<tr><td>31</td><td>39</td><td>0.4500000</td><td>1.700000</td><td>0.2100000</td><td>0.06000000</td><td>0.640000</td><td>3.120000</td><td>1.590000</td><td>4.000000</td><td>⋯</td><td>5.220</td><td>66.870</td><td>3.580</td><td>4.280</td><td>29.690</td><td>40.060</td><td>1.640</td><td>0.020</td><td>1.55</td><td>14.70</td></tr>\n",
              "\t<tr><td>33</td><td>42</td><td>0.4700000</td><td>2.530000</td><td>0.2200000</td><td>0.05000000</td><td>0.800000</td><td>2.750000</td><td>2.580000</td><td>3.490000</td><td>⋯</td><td>3.890</td><td>67.440</td><td>4.290</td><td>4.210</td><td>28.160</td><td>41.210</td><td>2.040</td><td>0.030</td><td>2.26</td><td>15.06</td></tr>\n",
              "\t<tr><td>34</td><td>43</td><td>0.4800000</td><td>2.840000</td><td>0.1500000</td><td>0.06000000</td><td>0.980000</td><td>2.900000</td><td>2.080000</td><td>2.900000</td><td>⋯</td><td>3.270</td><td>65.600</td><td>5.290</td><td>3.380</td><td>24.700</td><td>43.560</td><td>2.520</td><td>0.060</td><td>2.73</td><td>13.89</td></tr>\n",
              "\t<tr><td>36</td><td>25</td><td>0.4300000</td><td>3.240000</td><td>0.2900000</td><td>0.06000000</td><td>0.980000</td><td>2.840000</td><td>2.750000</td><td>3.770000</td><td>⋯</td><td>4.000</td><td>67.710</td><td>5.350</td><td>4.200</td><td>29.860</td><td>40.350</td><td>2.650</td><td>0.020</td><td>1.55</td><td>13.37</td></tr>\n",
              "\t<tr><td>18</td><td>40</td><td>       NA</td><td>      NA</td><td>       NA</td><td>        NA</td><td>      NA</td><td>      NA</td><td>      NA</td><td>      NA</td><td>⋯</td><td>3.935</td><td>66.575</td><td>4.445</td><td>4.435</td><td>28.225</td><td>39.670</td><td>2.625</td><td>0.035</td><td>2.11</td><td>14.64</td></tr>\n",
              "\t<tr><td>21</td><td>43</td><td>       NA</td><td>      NA</td><td>       NA</td><td>        NA</td><td>      NA</td><td>      NA</td><td>      NA</td><td>      NA</td><td>⋯</td><td>4.040</td><td>67.120</td><td>4.740</td><td>4.560</td><td>28.570</td><td>40.240</td><td>2.530</td><td>0.040</td><td>2.38</td><td>13.10</td></tr>\n",
              "</tbody>\n",
              "</table>\n"
            ],
            "text/markdown": "\nA tibble: 29 × 72\n\n| Vial.number &lt;fct&gt; | Patient.number &lt;fct&gt; | GPHDL1 &lt;dbl&gt; | GPHDL2 &lt;dbl&gt; | GPHDL3 &lt;dbl&gt; | GPHDL4 &lt;dbl&gt; | GPHDL5 &lt;dbl&gt; | GPHDL6 &lt;dbl&gt; | GPHDL7 &lt;dbl&gt; | GPHDL8 &lt;dbl&gt; | ⋯ ⋯ | G1_ldl &lt;dbl&gt; | G2_ldl &lt;dbl&gt; | G3_ldl &lt;dbl&gt; | S0_ldl &lt;dbl&gt; | S1_ldl &lt;dbl&gt; | S2_ldl &lt;dbl&gt; | S3_ldl &lt;dbl&gt; | B_ldl &lt;dbl&gt; | F_ldl &lt;dbl&gt; | HM_ldl &lt;dbl&gt; |\n|---|---|---|---|---|---|---|---|---|---|---|---|---|---|---|---|---|---|---|---|---|\n| 1  | 50 | 0.3800000 | 1.780000 | 0.1400000 | 0.05000000 | 0.730000 | 2.900000 | 1.570000 | 2.570000 | ⋯ | 4.090 | 68.910 | 3.570 | 3.980 | 28.180 | 42.460 | 1.950 | 0.020 | 1.67 | 13.02 |\n| 3  | 52 | 0.4300000 | 1.300000 | 0.2300000 | 0.05000000 | 0.590000 | 2.620000 | 1.620000 | 3.860000 | ⋯ | 5.160 | 68.220 | 3.110 | 4.640 | 30.430 | 39.860 | 1.560 | 0.020 | 1.69 | 14.16 |\n| 4  | 53 | 0.4100000 | 3.860000 | 0.3100000 | 0.10000000 | 0.960000 | 3.190000 | 2.420000 | 3.750000 | ⋯ | 3.950 | 68.030 | 4.500 | 3.780 | 29.370 | 41.130 | 2.200 | 0.020 | 1.89 | 13.89 |\n| 5  | 54 | 0.5000000 | 1.790000 | 0.2300000 | 0.06000000 | 0.770000 | 2.960000 | 1.760000 | 3.000000 | ⋯ | 4.630 | 66.910 | 4.030 | 4.440 | 28.540 | 40.640 | 1.950 | 0.020 | 2.03 | 14.25 |\n| 6  | 55 | 0.4000000 | 3.690000 | 0.1700000 | 0.03000000 | 0.800000 | 3.040000 | 1.620000 | 3.230000 | ⋯ | 4.050 | 64.010 | 5.270 | 3.720 | 26.710 | 40.390 | 2.510 | 0.020 | 2.70 | 16.06 |\n| 7  | 56 | 0.3700000 | 2.960000 | 0.2200000 | 0.05000000 | 1.000000 | 3.000000 | 2.110000 | 3.060000 | ⋯ | 4.100 | 65.990 | 4.700 | 4.030 | 28.440 | 39.990 | 2.330 | 0.020 | 1.61 | 13.82 |\n| 8  | 57 | 0.5600000 | 2.760000 | 0.4600000 | 0.08000000 | 1.110000 | 2.960000 | 3.560000 | 4.170000 | ⋯ | 5.270 | 67.260 | 3.240 | 4.690 | 32.270 | 37.290 | 1.520 | 0.030 | 1.61 | 14.59 |\n| 9  | 58 | 0.4100000 | 2.140000 | 0.2200000 | 0.12000000 | 0.930000 | 2.550000 | 2.060000 | 2.950000 | ⋯ | 3.970 | 67.590 | 4.220 | 4.420 | 27.990 | 41.190 | 2.180 | 0.050 | 1.55 | 13.26 |\n| 10 | 59 | 0.4200000 | 1.710000 | 0.2000000 | 0.06000000 | 0.640000 | 2.840000 | 1.590000 | 3.480000 | ⋯ | 4.480 | 68.880 | 4.040 | 3.860 | 28.110 | 43.200 | 2.230 | 0.020 | 2.30 | 13.11 |\n| 11 | 60 | 0.3500000 | 2.000000 | 0.2100000 | 0.06000000 | 0.670000 | 2.570000 | 1.710000 | 3.790000 | ⋯ | 4.620 | 66.510 | 4.250 | 4.780 | 28.500 | 40.140 | 1.960 | 0.030 | 1.72 | 14.21 |\n| 12 | 61 | 0.3000000 | 1.940000 | 0.1500000 | 0.07000000 | 0.790000 | 2.330000 | 1.610000 | 2.720000 | ⋯ | 3.470 | 66.740 | 5.030 | 3.450 | 26.590 | 42.620 | 2.580 | 0.020 | 2.02 | 13.52 |\n| 13 | 62 | 0.5500000 | 2.580000 | 0.2300000 | 0.08000000 | 0.830000 | 2.980000 | 2.050000 | 3.420000 | ⋯ | 4.780 | 67.400 | 3.720 | 4.760 | 29.470 | 39.760 | 1.910 | 0.060 | 1.93 | 14.28 |\n| 14 | 63 | 0.5200000 | 3.030000 | 0.3100000 | 0.09000000 | 1.010000 | 3.080000 | 2.420000 | 3.510000 | ⋯ | 4.550 | 67.880 | 4.640 | 4.060 | 28.160 | 42.470 | 2.380 | 0.030 | 1.93 | 13.42 |\n| 15 | 37 | 0.4400000 | 2.990000 | 0.3100000 | 0.05000000 | 0.860000 | 2.910000 | 2.480000 | 3.630000 | ⋯ | 4.700 | 67.590 | 3.430 | 5.280 | 33.520 | 35.450 | 1.470 | 0.020 | 1.24 | 14.35 |\n| 16 | 38 | 0.4750000 | 2.380000 | 0.2300000 | 0.04500000 | 0.715000 | 2.865000 | 2.110000 | 3.820000 | ⋯ | 5.200 | 66.370 | 4.220 | 4.470 | 29.360 | 39.770 | 2.190 | 0.030 | 2.99 | 14.47 |\n| 17 | 39 | 0.5333333 | 2.193333 | 0.1866667 | 0.08666667 | 0.960000 | 2.783333 | 2.370000 | 2.843333 | ⋯ | 4.010 | 67.880 | 4.340 | 4.340 | 29.100 | 40.840 | 1.950 | 0.030 | 1.99 | 13.02 |\n| 19 | 41 | 0.3500000 | 1.350000 | 0.1700000 | 0.07000000 | 0.660000 | 2.270000 | 1.720000 | 3.080000 | ⋯ | 3.860 | 68.260 | 4.280 | 3.680 | 28.570 | 42.040 | 2.110 | 0.020 | 2.34 | 13.59 |\n| 20 | 42 | 0.7233333 | 2.583333 | 0.3033333 | 0.17000000 | 1.183333 | 2.753333 | 2.066667 | 3.786667 | ⋯ | 4.710 | 65.305 | 4.735 | 4.335 | 29.245 | 38.985 | 2.185 | 0.030 | 2.19 | 15.15 |\n| 22 | 30 | 0.5700000 | 2.420000 | 0.3000000 | 0.08000000 | 0.900000 | 2.940000 | 2.430000 | 3.790000 | ⋯ | 4.930 | 66.620 | 4.270 | 4.590 | 29.240 | 39.910 | 2.080 | 0.030 | 1.69 | 14.11 |\n| 24 | 32 | 0.5100000 | 2.370000 | 0.2300000 | 0.09000000 | 0.840000 | 3.130000 | 2.480000 | 3.210000 | ⋯ | 4.390 | 67.560 | 3.590 | 4.550 | 28.810 | 40.410 | 1.770 | 0.040 | 1.38 | 14.83 |\n| 26 | 34 | 0.4400000 | 2.230000 | 0.2400000 | 0.04000000 | 0.810000 | 3.170000 | 1.860000 | 3.820000 | ⋯ | 5.280 | 67.780 | 4.210 | 4.710 | 29.210 | 41.010 | 2.340 | 0.020 | 2.03 | 13.33 |\n| 28 | 36 | 0.5100000 | 2.240000 | 0.3200000 | 0.06000000 | 0.840000 | 3.010000 | 2.060000 | 4.360000 | ⋯ | 4.620 | 67.430 | 4.360 | 4.160 | 29.580 | 40.480 | 2.190 | 0.020 | 2.27 | 13.54 |\n| 30 | 38 | 0.4500000 | 3.070000 | 0.2600000 | 0.07000000 | 1.000000 | 2.750000 | 2.360000 | 4.030000 | ⋯ | 4.290 | 66.840 | 4.380 | 3.910 | 28.190 | 41.210 | 2.200 | 0.020 | 2.36 | 14.45 |\n| 31 | 39 | 0.4500000 | 1.700000 | 0.2100000 | 0.06000000 | 0.640000 | 3.120000 | 1.590000 | 4.000000 | ⋯ | 5.220 | 66.870 | 3.580 | 4.280 | 29.690 | 40.060 | 1.640 | 0.020 | 1.55 | 14.70 |\n| 33 | 42 | 0.4700000 | 2.530000 | 0.2200000 | 0.05000000 | 0.800000 | 2.750000 | 2.580000 | 3.490000 | ⋯ | 3.890 | 67.440 | 4.290 | 4.210 | 28.160 | 41.210 | 2.040 | 0.030 | 2.26 | 15.06 |\n| 34 | 43 | 0.4800000 | 2.840000 | 0.1500000 | 0.06000000 | 0.980000 | 2.900000 | 2.080000 | 2.900000 | ⋯ | 3.270 | 65.600 | 5.290 | 3.380 | 24.700 | 43.560 | 2.520 | 0.060 | 2.73 | 13.89 |\n| 36 | 25 | 0.4300000 | 3.240000 | 0.2900000 | 0.06000000 | 0.980000 | 2.840000 | 2.750000 | 3.770000 | ⋯ | 4.000 | 67.710 | 5.350 | 4.200 | 29.860 | 40.350 | 2.650 | 0.020 | 1.55 | 13.37 |\n| 18 | 40 |        NA |       NA |        NA |         NA |       NA |       NA |       NA |       NA | ⋯ | 3.935 | 66.575 | 4.445 | 4.435 | 28.225 | 39.670 | 2.625 | 0.035 | 2.11 | 14.64 |\n| 21 | 43 |        NA |       NA |        NA |         NA |       NA |       NA |       NA |       NA | ⋯ | 4.040 | 67.120 | 4.740 | 4.560 | 28.570 | 40.240 | 2.530 | 0.040 | 2.38 | 13.10 |\n\n",
            "text/latex": "A tibble: 29 × 72\n\\begin{tabular}{lllllllllllllllllllll}\n Vial.number & Patient.number & GPHDL1 & GPHDL2 & GPHDL3 & GPHDL4 & GPHDL5 & GPHDL6 & GPHDL7 & GPHDL8 & ⋯ & G1\\_ldl & G2\\_ldl & G3\\_ldl & S0\\_ldl & S1\\_ldl & S2\\_ldl & S3\\_ldl & B\\_ldl & F\\_ldl & HM\\_ldl\\\\\n <fct> & <fct> & <dbl> & <dbl> & <dbl> & <dbl> & <dbl> & <dbl> & <dbl> & <dbl> & ⋯ & <dbl> & <dbl> & <dbl> & <dbl> & <dbl> & <dbl> & <dbl> & <dbl> & <dbl> & <dbl>\\\\\n\\hline\n\t 1  & 50 & 0.3800000 & 1.780000 & 0.1400000 & 0.05000000 & 0.730000 & 2.900000 & 1.570000 & 2.570000 & ⋯ & 4.090 & 68.910 & 3.570 & 3.980 & 28.180 & 42.460 & 1.950 & 0.020 & 1.67 & 13.02\\\\\n\t 3  & 52 & 0.4300000 & 1.300000 & 0.2300000 & 0.05000000 & 0.590000 & 2.620000 & 1.620000 & 3.860000 & ⋯ & 5.160 & 68.220 & 3.110 & 4.640 & 30.430 & 39.860 & 1.560 & 0.020 & 1.69 & 14.16\\\\\n\t 4  & 53 & 0.4100000 & 3.860000 & 0.3100000 & 0.10000000 & 0.960000 & 3.190000 & 2.420000 & 3.750000 & ⋯ & 3.950 & 68.030 & 4.500 & 3.780 & 29.370 & 41.130 & 2.200 & 0.020 & 1.89 & 13.89\\\\\n\t 5  & 54 & 0.5000000 & 1.790000 & 0.2300000 & 0.06000000 & 0.770000 & 2.960000 & 1.760000 & 3.000000 & ⋯ & 4.630 & 66.910 & 4.030 & 4.440 & 28.540 & 40.640 & 1.950 & 0.020 & 2.03 & 14.25\\\\\n\t 6  & 55 & 0.4000000 & 3.690000 & 0.1700000 & 0.03000000 & 0.800000 & 3.040000 & 1.620000 & 3.230000 & ⋯ & 4.050 & 64.010 & 5.270 & 3.720 & 26.710 & 40.390 & 2.510 & 0.020 & 2.70 & 16.06\\\\\n\t 7  & 56 & 0.3700000 & 2.960000 & 0.2200000 & 0.05000000 & 1.000000 & 3.000000 & 2.110000 & 3.060000 & ⋯ & 4.100 & 65.990 & 4.700 & 4.030 & 28.440 & 39.990 & 2.330 & 0.020 & 1.61 & 13.82\\\\\n\t 8  & 57 & 0.5600000 & 2.760000 & 0.4600000 & 0.08000000 & 1.110000 & 2.960000 & 3.560000 & 4.170000 & ⋯ & 5.270 & 67.260 & 3.240 & 4.690 & 32.270 & 37.290 & 1.520 & 0.030 & 1.61 & 14.59\\\\\n\t 9  & 58 & 0.4100000 & 2.140000 & 0.2200000 & 0.12000000 & 0.930000 & 2.550000 & 2.060000 & 2.950000 & ⋯ & 3.970 & 67.590 & 4.220 & 4.420 & 27.990 & 41.190 & 2.180 & 0.050 & 1.55 & 13.26\\\\\n\t 10 & 59 & 0.4200000 & 1.710000 & 0.2000000 & 0.06000000 & 0.640000 & 2.840000 & 1.590000 & 3.480000 & ⋯ & 4.480 & 68.880 & 4.040 & 3.860 & 28.110 & 43.200 & 2.230 & 0.020 & 2.30 & 13.11\\\\\n\t 11 & 60 & 0.3500000 & 2.000000 & 0.2100000 & 0.06000000 & 0.670000 & 2.570000 & 1.710000 & 3.790000 & ⋯ & 4.620 & 66.510 & 4.250 & 4.780 & 28.500 & 40.140 & 1.960 & 0.030 & 1.72 & 14.21\\\\\n\t 12 & 61 & 0.3000000 & 1.940000 & 0.1500000 & 0.07000000 & 0.790000 & 2.330000 & 1.610000 & 2.720000 & ⋯ & 3.470 & 66.740 & 5.030 & 3.450 & 26.590 & 42.620 & 2.580 & 0.020 & 2.02 & 13.52\\\\\n\t 13 & 62 & 0.5500000 & 2.580000 & 0.2300000 & 0.08000000 & 0.830000 & 2.980000 & 2.050000 & 3.420000 & ⋯ & 4.780 & 67.400 & 3.720 & 4.760 & 29.470 & 39.760 & 1.910 & 0.060 & 1.93 & 14.28\\\\\n\t 14 & 63 & 0.5200000 & 3.030000 & 0.3100000 & 0.09000000 & 1.010000 & 3.080000 & 2.420000 & 3.510000 & ⋯ & 4.550 & 67.880 & 4.640 & 4.060 & 28.160 & 42.470 & 2.380 & 0.030 & 1.93 & 13.42\\\\\n\t 15 & 37 & 0.4400000 & 2.990000 & 0.3100000 & 0.05000000 & 0.860000 & 2.910000 & 2.480000 & 3.630000 & ⋯ & 4.700 & 67.590 & 3.430 & 5.280 & 33.520 & 35.450 & 1.470 & 0.020 & 1.24 & 14.35\\\\\n\t 16 & 38 & 0.4750000 & 2.380000 & 0.2300000 & 0.04500000 & 0.715000 & 2.865000 & 2.110000 & 3.820000 & ⋯ & 5.200 & 66.370 & 4.220 & 4.470 & 29.360 & 39.770 & 2.190 & 0.030 & 2.99 & 14.47\\\\\n\t 17 & 39 & 0.5333333 & 2.193333 & 0.1866667 & 0.08666667 & 0.960000 & 2.783333 & 2.370000 & 2.843333 & ⋯ & 4.010 & 67.880 & 4.340 & 4.340 & 29.100 & 40.840 & 1.950 & 0.030 & 1.99 & 13.02\\\\\n\t 19 & 41 & 0.3500000 & 1.350000 & 0.1700000 & 0.07000000 & 0.660000 & 2.270000 & 1.720000 & 3.080000 & ⋯ & 3.860 & 68.260 & 4.280 & 3.680 & 28.570 & 42.040 & 2.110 & 0.020 & 2.34 & 13.59\\\\\n\t 20 & 42 & 0.7233333 & 2.583333 & 0.3033333 & 0.17000000 & 1.183333 & 2.753333 & 2.066667 & 3.786667 & ⋯ & 4.710 & 65.305 & 4.735 & 4.335 & 29.245 & 38.985 & 2.185 & 0.030 & 2.19 & 15.15\\\\\n\t 22 & 30 & 0.5700000 & 2.420000 & 0.3000000 & 0.08000000 & 0.900000 & 2.940000 & 2.430000 & 3.790000 & ⋯ & 4.930 & 66.620 & 4.270 & 4.590 & 29.240 & 39.910 & 2.080 & 0.030 & 1.69 & 14.11\\\\\n\t 24 & 32 & 0.5100000 & 2.370000 & 0.2300000 & 0.09000000 & 0.840000 & 3.130000 & 2.480000 & 3.210000 & ⋯ & 4.390 & 67.560 & 3.590 & 4.550 & 28.810 & 40.410 & 1.770 & 0.040 & 1.38 & 14.83\\\\\n\t 26 & 34 & 0.4400000 & 2.230000 & 0.2400000 & 0.04000000 & 0.810000 & 3.170000 & 1.860000 & 3.820000 & ⋯ & 5.280 & 67.780 & 4.210 & 4.710 & 29.210 & 41.010 & 2.340 & 0.020 & 2.03 & 13.33\\\\\n\t 28 & 36 & 0.5100000 & 2.240000 & 0.3200000 & 0.06000000 & 0.840000 & 3.010000 & 2.060000 & 4.360000 & ⋯ & 4.620 & 67.430 & 4.360 & 4.160 & 29.580 & 40.480 & 2.190 & 0.020 & 2.27 & 13.54\\\\\n\t 30 & 38 & 0.4500000 & 3.070000 & 0.2600000 & 0.07000000 & 1.000000 & 2.750000 & 2.360000 & 4.030000 & ⋯ & 4.290 & 66.840 & 4.380 & 3.910 & 28.190 & 41.210 & 2.200 & 0.020 & 2.36 & 14.45\\\\\n\t 31 & 39 & 0.4500000 & 1.700000 & 0.2100000 & 0.06000000 & 0.640000 & 3.120000 & 1.590000 & 4.000000 & ⋯ & 5.220 & 66.870 & 3.580 & 4.280 & 29.690 & 40.060 & 1.640 & 0.020 & 1.55 & 14.70\\\\\n\t 33 & 42 & 0.4700000 & 2.530000 & 0.2200000 & 0.05000000 & 0.800000 & 2.750000 & 2.580000 & 3.490000 & ⋯ & 3.890 & 67.440 & 4.290 & 4.210 & 28.160 & 41.210 & 2.040 & 0.030 & 2.26 & 15.06\\\\\n\t 34 & 43 & 0.4800000 & 2.840000 & 0.1500000 & 0.06000000 & 0.980000 & 2.900000 & 2.080000 & 2.900000 & ⋯ & 3.270 & 65.600 & 5.290 & 3.380 & 24.700 & 43.560 & 2.520 & 0.060 & 2.73 & 13.89\\\\\n\t 36 & 25 & 0.4300000 & 3.240000 & 0.2900000 & 0.06000000 & 0.980000 & 2.840000 & 2.750000 & 3.770000 & ⋯ & 4.000 & 67.710 & 5.350 & 4.200 & 29.860 & 40.350 & 2.650 & 0.020 & 1.55 & 13.37\\\\\n\t 18 & 40 &        NA &       NA &        NA &         NA &       NA &       NA &       NA &       NA & ⋯ & 3.935 & 66.575 & 4.445 & 4.435 & 28.225 & 39.670 & 2.625 & 0.035 & 2.11 & 14.64\\\\\n\t 21 & 43 &        NA &       NA &        NA &         NA &       NA &       NA &       NA &       NA & ⋯ & 4.040 & 67.120 & 4.740 & 4.560 & 28.570 & 40.240 & 2.530 & 0.040 & 2.38 & 13.10\\\\\n\\end{tabular}\n",
            "text/plain": [
              "   Vial.number Patient.number GPHDL1    GPHDL2   GPHDL3    GPHDL4     GPHDL5  \n",
              "1  1           50             0.3800000 1.780000 0.1400000 0.05000000 0.730000\n",
              "2  3           52             0.4300000 1.300000 0.2300000 0.05000000 0.590000\n",
              "3  4           53             0.4100000 3.860000 0.3100000 0.10000000 0.960000\n",
              "4  5           54             0.5000000 1.790000 0.2300000 0.06000000 0.770000\n",
              "5  6           55             0.4000000 3.690000 0.1700000 0.03000000 0.800000\n",
              "6  7           56             0.3700000 2.960000 0.2200000 0.05000000 1.000000\n",
              "7  8           57             0.5600000 2.760000 0.4600000 0.08000000 1.110000\n",
              "8  9           58             0.4100000 2.140000 0.2200000 0.12000000 0.930000\n",
              "9  10          59             0.4200000 1.710000 0.2000000 0.06000000 0.640000\n",
              "10 11          60             0.3500000 2.000000 0.2100000 0.06000000 0.670000\n",
              "11 12          61             0.3000000 1.940000 0.1500000 0.07000000 0.790000\n",
              "12 13          62             0.5500000 2.580000 0.2300000 0.08000000 0.830000\n",
              "13 14          63             0.5200000 3.030000 0.3100000 0.09000000 1.010000\n",
              "14 15          37             0.4400000 2.990000 0.3100000 0.05000000 0.860000\n",
              "15 16          38             0.4750000 2.380000 0.2300000 0.04500000 0.715000\n",
              "16 17          39             0.5333333 2.193333 0.1866667 0.08666667 0.960000\n",
              "17 19          41             0.3500000 1.350000 0.1700000 0.07000000 0.660000\n",
              "18 20          42             0.7233333 2.583333 0.3033333 0.17000000 1.183333\n",
              "19 22          30             0.5700000 2.420000 0.3000000 0.08000000 0.900000\n",
              "20 24          32             0.5100000 2.370000 0.2300000 0.09000000 0.840000\n",
              "21 26          34             0.4400000 2.230000 0.2400000 0.04000000 0.810000\n",
              "22 28          36             0.5100000 2.240000 0.3200000 0.06000000 0.840000\n",
              "23 30          38             0.4500000 3.070000 0.2600000 0.07000000 1.000000\n",
              "24 31          39             0.4500000 1.700000 0.2100000 0.06000000 0.640000\n",
              "25 33          42             0.4700000 2.530000 0.2200000 0.05000000 0.800000\n",
              "26 34          43             0.4800000 2.840000 0.1500000 0.06000000 0.980000\n",
              "27 36          25             0.4300000 3.240000 0.2900000 0.06000000 0.980000\n",
              "28 18          40                    NA       NA        NA         NA       NA\n",
              "29 21          43                    NA       NA        NA         NA       NA\n",
              "   GPHDL6   GPHDL7   GPHDL8   ⋯ G1_ldl G2_ldl G3_ldl S0_ldl S1_ldl S2_ldl\n",
              "1  2.900000 1.570000 2.570000 ⋯ 4.090  68.910 3.570  3.980  28.180 42.460\n",
              "2  2.620000 1.620000 3.860000 ⋯ 5.160  68.220 3.110  4.640  30.430 39.860\n",
              "3  3.190000 2.420000 3.750000 ⋯ 3.950  68.030 4.500  3.780  29.370 41.130\n",
              "4  2.960000 1.760000 3.000000 ⋯ 4.630  66.910 4.030  4.440  28.540 40.640\n",
              "5  3.040000 1.620000 3.230000 ⋯ 4.050  64.010 5.270  3.720  26.710 40.390\n",
              "6  3.000000 2.110000 3.060000 ⋯ 4.100  65.990 4.700  4.030  28.440 39.990\n",
              "7  2.960000 3.560000 4.170000 ⋯ 5.270  67.260 3.240  4.690  32.270 37.290\n",
              "8  2.550000 2.060000 2.950000 ⋯ 3.970  67.590 4.220  4.420  27.990 41.190\n",
              "9  2.840000 1.590000 3.480000 ⋯ 4.480  68.880 4.040  3.860  28.110 43.200\n",
              "10 2.570000 1.710000 3.790000 ⋯ 4.620  66.510 4.250  4.780  28.500 40.140\n",
              "11 2.330000 1.610000 2.720000 ⋯ 3.470  66.740 5.030  3.450  26.590 42.620\n",
              "12 2.980000 2.050000 3.420000 ⋯ 4.780  67.400 3.720  4.760  29.470 39.760\n",
              "13 3.080000 2.420000 3.510000 ⋯ 4.550  67.880 4.640  4.060  28.160 42.470\n",
              "14 2.910000 2.480000 3.630000 ⋯ 4.700  67.590 3.430  5.280  33.520 35.450\n",
              "15 2.865000 2.110000 3.820000 ⋯ 5.200  66.370 4.220  4.470  29.360 39.770\n",
              "16 2.783333 2.370000 2.843333 ⋯ 4.010  67.880 4.340  4.340  29.100 40.840\n",
              "17 2.270000 1.720000 3.080000 ⋯ 3.860  68.260 4.280  3.680  28.570 42.040\n",
              "18 2.753333 2.066667 3.786667 ⋯ 4.710  65.305 4.735  4.335  29.245 38.985\n",
              "19 2.940000 2.430000 3.790000 ⋯ 4.930  66.620 4.270  4.590  29.240 39.910\n",
              "20 3.130000 2.480000 3.210000 ⋯ 4.390  67.560 3.590  4.550  28.810 40.410\n",
              "21 3.170000 1.860000 3.820000 ⋯ 5.280  67.780 4.210  4.710  29.210 41.010\n",
              "22 3.010000 2.060000 4.360000 ⋯ 4.620  67.430 4.360  4.160  29.580 40.480\n",
              "23 2.750000 2.360000 4.030000 ⋯ 4.290  66.840 4.380  3.910  28.190 41.210\n",
              "24 3.120000 1.590000 4.000000 ⋯ 5.220  66.870 3.580  4.280  29.690 40.060\n",
              "25 2.750000 2.580000 3.490000 ⋯ 3.890  67.440 4.290  4.210  28.160 41.210\n",
              "26 2.900000 2.080000 2.900000 ⋯ 3.270  65.600 5.290  3.380  24.700 43.560\n",
              "27 2.840000 2.750000 3.770000 ⋯ 4.000  67.710 5.350  4.200  29.860 40.350\n",
              "28       NA       NA       NA ⋯ 3.935  66.575 4.445  4.435  28.225 39.670\n",
              "29       NA       NA       NA ⋯ 4.040  67.120 4.740  4.560  28.570 40.240\n",
              "   S3_ldl B_ldl F_ldl HM_ldl\n",
              "1  1.950  0.020 1.67  13.02 \n",
              "2  1.560  0.020 1.69  14.16 \n",
              "3  2.200  0.020 1.89  13.89 \n",
              "4  1.950  0.020 2.03  14.25 \n",
              "5  2.510  0.020 2.70  16.06 \n",
              "6  2.330  0.020 1.61  13.82 \n",
              "7  1.520  0.030 1.61  14.59 \n",
              "8  2.180  0.050 1.55  13.26 \n",
              "9  2.230  0.020 2.30  13.11 \n",
              "10 1.960  0.030 1.72  14.21 \n",
              "11 2.580  0.020 2.02  13.52 \n",
              "12 1.910  0.060 1.93  14.28 \n",
              "13 2.380  0.030 1.93  13.42 \n",
              "14 1.470  0.020 1.24  14.35 \n",
              "15 2.190  0.030 2.99  14.47 \n",
              "16 1.950  0.030 1.99  13.02 \n",
              "17 2.110  0.020 2.34  13.59 \n",
              "18 2.185  0.030 2.19  15.15 \n",
              "19 2.080  0.030 1.69  14.11 \n",
              "20 1.770  0.040 1.38  14.83 \n",
              "21 2.340  0.020 2.03  13.33 \n",
              "22 2.190  0.020 2.27  13.54 \n",
              "23 2.200  0.020 2.36  14.45 \n",
              "24 1.640  0.020 1.55  14.70 \n",
              "25 2.040  0.030 2.26  15.06 \n",
              "26 2.520  0.060 2.73  13.89 \n",
              "27 2.650  0.020 1.55  13.37 \n",
              "28 2.625  0.035 2.11  14.64 \n",
              "29 2.530  0.040 2.38  13.10 "
            ]
          },
          "metadata": {}
        }
      ]
    },
    {
      "cell_type": "markdown",
      "source": [
        "Анонимизация данных"
      ],
      "metadata": {
        "id": "tN11dC3xAYHy"
      }
    },
    {
      "cell_type": "code",
      "source": [
        "patient_data <- meta %>%\n",
        "  select(Vial.number, Patient.number, Name, Date, Age, Group)\n",
        "\n",
        "meta <- meta %>%\n",
        "  select(-Name, -Date, -Age)"
      ],
      "metadata": {
        "id": "YKcLlsUDp3KZ"
      },
      "execution_count": null,
      "outputs": []
    },
    {
      "cell_type": "markdown",
      "source": [
        "Добавим в таблицу meta описания заголовков"
      ],
      "metadata": {
        "id": "ctr7m_7jBliV"
      }
    },
    {
      "cell_type": "code",
      "source": [
        "descriptive$Variable[10] <- 'LVH'"
      ],
      "metadata": {
        "id": "mj5U_eG6AcTF"
      },
      "execution_count": null,
      "outputs": []
    },
    {
      "cell_type": "code",
      "source": [
        "attr(meta$Ht, \"label\") <- \"growth\"\n",
        "attr(meta$Wt, \"label\") <- \"the weight\"\n",
        "attr(meta$BMI, \"label\") <- \"body mass index\"\n",
        "attr(meta$Sys, \"label\") <- \"Systolic blood pressure\"\n",
        "attr(meta$Dia, \"label\") <- \"Diastolic blood pressure\"\n",
        "attr(meta$PR, \"label\") <- \"pulse\"\n",
        "attr(meta$Sm, \"label\") <- \"smoking\"\n",
        "attr(meta$Dm, \"label\") <- \"diabetes\"\n",
        "attr(meta$HT, \"label\") <- \"hypertension\"\n",
        "attr(meta$LVH, \"label\") <- \"Left ventricular hypertrophy by electrocardiogram\"\n",
        "attr(meta$MI, \"label\") <- \"medical history of infarction\"\n",
        "attr(meta$Str, \"label\") <- \"medical history of stroke\"\n",
        "attr(meta$A_C, \"label\") <- \"family history of CAD\"\n",
        "attr(meta$A_H, \"label\") <- \"family history hypertension\"\n",
        "attr(meta$A_D, \"label\") <- \"family history diabetes\"\n",
        "attr(meta$Choi...25, \"label\") <- \"cholesterol\"\n",
        "attr(meta$Choi...29, \"label\") <- \"cholesterol\"\n",
        "attr(meta$Tgi...26, \"label\") <- \"Triglycerides\"\n",
        "attr(meta$Tgi...30, \"label\") <- \"Triglycerides\"\n",
        "attr(meta$HDLi...27, \"label\") <- \"High density lipoprotein\"\n",
        "attr(meta$HDLi...31, \"label\") <- \"High density lipoprotein\"\n",
        "attr(meta$LDLi...28, \"label\") <- \"Low density lipoprotein\"\n",
        "attr(meta$LDLi...32, \"label\") <- \"Low density lipoprotein\"\n",
        "attr(meta$AI, \"label\") <- \"Atherogenicity index\"\n",
        "attr(meta$r.lat.min, \"label\") <- \"Минимальная толщина интима-медиального слоя правой латеральной сонной артерии\"\n",
        "attr(meta$r.ant.min, \"label\") <- \"Минимальная толщина интима-медиального слоя правой передней сонной артерии\"\n",
        "attr(meta$r.pos.min, \"label\") <- \"Минимальная толщина интима-медиального слоя правой задней сонной артерии\"\n",
        "attr(meta$l.lat.min, \"label\") <- \"Минимальная толщина интима-медиального слоя левой латеральной сонной артерии\"\n",
        "attr(meta$l.ant.min, \"label\") <- \"Минимальная толщина интима-медиального слоя левой передней сонной артерии\"\n",
        "attr(meta$l.pos.min, \"label\") <- \"Минимальная толщина интима-медиального слоя левой задней сонной артерии\"\n",
        "attr(meta$r.lat.max, \"label\") <- \"Максимальная толщина интима-медиального слоя правой латеральной сонной артерии\"\n",
        "attr(meta$r.ant.max, \"label\") <- \"Максимальная толщина интима-медиального слоя правой передней сонной артерии\"\n",
        "attr(meta$r.pos.max, \"label\") <- \"Максимальная толщина интима-медиального слоя правой задней сонной артерии\"\n",
        "attr(meta$l.lat.max, \"label\") <- \"Максимальная толщина интима-медиального слоя левой латеральной сонной артерии\"\n",
        "attr(meta$l.ant.max, \"label\") <- \"Максимальная толщина интима-медиального слоя левой передней сонной артерии\"\n",
        "attr(meta$l.pos.max, \"label\") <- \"Максимальная толщина интима-медиального слоя левой задней сонной артерии\"\n",
        "attr(meta$carotid.IMT.mean, \"label\") <- \"Средняя толщина интима-медиального слоя сонных артерий\"\n",
        "attr(meta$Plaque, \"label\") <- \"Наличие бляшек\"\n",
        "attr(meta$Statins, \"label\") <- \"Прием статинов\"\n",
        "attr(meta$comorbidities, \"label\") <- \"сопутствующие заболевания\""
      ],
      "metadata": {
        "id": "OIbqszunMVge"
      },
      "execution_count": null,
      "outputs": []
    },
    {
      "cell_type": "markdown",
      "source": [
        "## Препроцессинг данных"
      ],
      "metadata": {
        "id": "y5HBSWbIqDNp"
      }
    },
    {
      "cell_type": "code",
      "source": [
        "# для большей наглядности объединим таблицы липидов и метаданных\n",
        "data <- full_join(lipids, meta, by = c('Vial.number', 'Patient.number')) %>%\n",
        "  drop_na() %>%\n",
        "  as_tibble"
      ],
      "metadata": {
        "id": "w42y4hOBqILX"
      },
      "execution_count": null,
      "outputs": []
    },
    {
      "cell_type": "code",
      "source": [
        "data"
      ],
      "metadata": {
        "colab": {
          "base_uri": "https://localhost:8080/",
          "height": 1000
        },
        "id": "lmZsEpHOAg5Y",
        "outputId": "80daf7fe-1851-4eac-ae51-9c63f0b0ffde"
      },
      "execution_count": null,
      "outputs": [
        {
          "output_type": "display_data",
          "data": {
            "text/html": [
              "<table class=\"dataframe\">\n",
              "<caption>A tibble: 18 × 116</caption>\n",
              "<thead>\n",
              "\t<tr><th scope=col>Vial.number</th><th scope=col>Patient.number</th><th scope=col>GPHDL1</th><th scope=col>GPHDL2</th><th scope=col>GPHDL3</th><th scope=col>GPHDL4</th><th scope=col>GPHDL5</th><th scope=col>GPHDL6</th><th scope=col>GPHDL7</th><th scope=col>GPHDL8</th><th scope=col>⋯</th><th scope=col>r.lat.max</th><th scope=col>r.ant.max</th><th scope=col>r.pos.max</th><th scope=col>l.lat.max</th><th scope=col>l.ant.max</th><th scope=col>l.pos.max</th><th scope=col>carotid.IMT.mean</th><th scope=col>Plaque</th><th scope=col>Statins</th><th scope=col>comorbidities</th></tr>\n",
              "\t<tr><th scope=col>&lt;fct&gt;</th><th scope=col>&lt;fct&gt;</th><th scope=col>&lt;dbl&gt;</th><th scope=col>&lt;dbl&gt;</th><th scope=col>&lt;dbl&gt;</th><th scope=col>&lt;dbl&gt;</th><th scope=col>&lt;dbl&gt;</th><th scope=col>&lt;dbl&gt;</th><th scope=col>&lt;dbl&gt;</th><th scope=col>&lt;dbl&gt;</th><th scope=col>⋯</th><th scope=col>&lt;dbl&gt;</th><th scope=col>&lt;dbl&gt;</th><th scope=col>&lt;dbl&gt;</th><th scope=col>&lt;dbl&gt;</th><th scope=col>&lt;dbl&gt;</th><th scope=col>&lt;dbl&gt;</th><th scope=col>&lt;dbl&gt;</th><th scope=col>&lt;dbl&gt;</th><th scope=col>&lt;dbl&gt;</th><th scope=col>&lt;chr&gt;</th></tr>\n",
              "</thead>\n",
              "<tbody>\n",
              "\t<tr><td>3 </td><td>52</td><td>0.4300000</td><td>1.300000</td><td>0.2300000</td><td>0.05000000</td><td>0.590000</td><td>2.620000</td><td>1.620000</td><td>3.860000</td><td>⋯</td><td>1.00</td><td>0.90</td><td>0.95</td><td>0.85</td><td>0.90</td><td>0.90</td><td>0.8500000</td><td>3</td><td>1</td><td>Type 2 diabetes mellitus; MI - 2016                                                                                              </td></tr>\n",
              "\t<tr><td>4 </td><td>53</td><td>0.4100000</td><td>3.860000</td><td>0.3100000</td><td>0.10000000</td><td>0.960000</td><td>3.190000</td><td>2.420000</td><td>3.750000</td><td>⋯</td><td>0.91</td><td>0.97</td><td>0.98</td><td>0.86</td><td>0.74</td><td>0.80</td><td>0.8241667</td><td>2</td><td>0</td><td>1-2 times per year hypertensive crises (Corinfar)                                                                                </td></tr>\n",
              "\t<tr><td>6 </td><td>55</td><td>0.4000000</td><td>3.690000</td><td>0.1700000</td><td>0.03000000</td><td>0.800000</td><td>3.040000</td><td>1.620000</td><td>3.230000</td><td>⋯</td><td>0.88</td><td>0.80</td><td>0.90</td><td>1.07</td><td>1.00</td><td>1.30</td><td>0.8475000</td><td>2</td><td>0</td><td>Cholecystitis, gastritis without exacerbation. Diffuse focal changes in the thyroid gland                                        </td></tr>\n",
              "\t<tr><td>7 </td><td>56</td><td>0.3700000</td><td>2.960000</td><td>0.2200000</td><td>0.05000000</td><td>1.000000</td><td>3.000000</td><td>2.110000</td><td>3.060000</td><td>⋯</td><td>0.91</td><td>0.86</td><td>0.86</td><td>0.80</td><td>0.74</td><td>0.91</td><td>0.6725000</td><td>1</td><td>0</td><td>chronic cholecystitis                                                                                                            </td></tr>\n",
              "\t<tr><td>8 </td><td>57</td><td>0.5600000</td><td>2.760000</td><td>0.4600000</td><td>0.08000000</td><td>1.110000</td><td>2.960000</td><td>3.560000</td><td>4.170000</td><td>⋯</td><td>1.00</td><td>1.00</td><td>1.00</td><td>0.94</td><td>0.69</td><td>0.87</td><td>0.7850000</td><td>1</td><td>0</td><td>Cholecystectomy 20 years ago, hr.gastritis                                                                                       </td></tr>\n",
              "\t<tr><td>9 </td><td>58</td><td>0.4100000</td><td>2.140000</td><td>0.2200000</td><td>0.12000000</td><td>0.930000</td><td>2.550000</td><td>2.060000</td><td>2.950000</td><td>⋯</td><td>1.09</td><td>1.26</td><td>1.03</td><td>0.80</td><td>0.74</td><td>0.75</td><td>0.8491667</td><td>1</td><td>0</td><td>Iron-deficiency anemia                                                                                                           </td></tr>\n",
              "\t<tr><td>10</td><td>59</td><td>0.4200000</td><td>1.710000</td><td>0.2000000</td><td>0.06000000</td><td>0.640000</td><td>2.840000</td><td>1.590000</td><td>3.480000</td><td>⋯</td><td>0.97</td><td>1.04</td><td>0.81</td><td>0.63</td><td>0.63</td><td>0.86</td><td>0.7041667</td><td>2</td><td>0</td><td>Type 2 diabetes mellitus                                                                                                         </td></tr>\n",
              "\t<tr><td>11</td><td>60</td><td>0.3500000</td><td>2.000000</td><td>0.2100000</td><td>0.06000000</td><td>0.670000</td><td>2.570000</td><td>1.710000</td><td>3.790000</td><td>⋯</td><td>0.75</td><td>0.80</td><td>0.70</td><td>0.90</td><td>0.90</td><td>0.85</td><td>0.7458333</td><td>2</td><td>1</td><td>Nodal goiter (L-thyroxine, 100 μg)                                                                                               </td></tr>\n",
              "\t<tr><td>12</td><td>61</td><td>0.3000000</td><td>1.940000</td><td>0.1500000</td><td>0.07000000</td><td>0.790000</td><td>2.330000</td><td>1.610000</td><td>2.720000</td><td>⋯</td><td>0.64</td><td>0.62</td><td>0.69</td><td>1.12</td><td>1.12</td><td>1.06</td><td>0.7758333</td><td>2</td><td>0</td><td>Cholecystectomy in September 2016                                                                                                </td></tr>\n",
              "\t<tr><td>13</td><td>62</td><td>0.5500000</td><td>2.580000</td><td>0.2300000</td><td>0.08000000</td><td>0.830000</td><td>2.980000</td><td>2.050000</td><td>3.420000</td><td>⋯</td><td>0.86</td><td>1.03</td><td>1.03</td><td>1.14</td><td>1.09</td><td>1.31</td><td>0.9241667</td><td>2</td><td>0</td><td>Appendectomy, chronic pancreatitis,                                                                                              </td></tr>\n",
              "\t<tr><td>14</td><td>63</td><td>0.5200000</td><td>3.030000</td><td>0.3100000</td><td>0.09000000</td><td>1.010000</td><td>3.080000</td><td>2.420000</td><td>3.510000</td><td>⋯</td><td>0.90</td><td>0.90</td><td>1.00</td><td>0.80</td><td>1.02</td><td>1.02</td><td>0.8466667</td><td>2</td><td>0</td><td>Hypertensive disease, cicatricial changes on the endocardium (endocardial scars) (not examined)                                  </td></tr>\n",
              "\t<tr><td>15</td><td>37</td><td>0.4400000</td><td>2.990000</td><td>0.3100000</td><td>0.05000000</td><td>0.860000</td><td>2.910000</td><td>2.480000</td><td>3.630000</td><td>⋯</td><td>1.00</td><td>1.10</td><td>1.15</td><td>1.10</td><td>1.15</td><td>1.10</td><td>0.9766667</td><td>2</td><td>0</td><td>Hypertensive disease severe course, decreased vision (glaucoma + essential hypertension) !; Cholelithiasis (gall bladder removed)</td></tr>\n",
              "\t<tr><td>17</td><td>39</td><td>0.5333333</td><td>2.193333</td><td>0.1866667</td><td>0.08666667</td><td>0.960000</td><td>2.783333</td><td>2.370000</td><td>2.843333</td><td>⋯</td><td>1.25</td><td>0.80</td><td>1.22</td><td>0.80</td><td>1.22</td><td>1.60</td><td>0.9991667</td><td>1</td><td>0</td><td>Urolithiasis disease                                                                                                             </td></tr>\n",
              "\t<tr><td>20</td><td>42</td><td>0.7233333</td><td>2.583333</td><td>0.3033333</td><td>0.17000000</td><td>1.183333</td><td>2.753333</td><td>2.066667</td><td>3.786667</td><td>⋯</td><td>0.70</td><td>0.70</td><td>0.75</td><td>0.70</td><td>0.80</td><td>0.70</td><td>0.6458333</td><td>1</td><td>1</td><td>Urolithiasis, varicosity, cervical osteochondrosis                                                                               </td></tr>\n",
              "\t<tr><td>22</td><td>30</td><td>0.5700000</td><td>2.420000</td><td>0.3000000</td><td>0.08000000</td><td>0.900000</td><td>2.940000</td><td>2.430000</td><td>3.790000</td><td>⋯</td><td>0.80</td><td>1.03</td><td>0.80</td><td>0.80</td><td>0.92</td><td>0.97</td><td>0.8016667</td><td>1</td><td>0</td><td>Removed gallbladder, pancreatitis,! Erosion. Gastritis                                                                           </td></tr>\n",
              "\t<tr><td>30</td><td>38</td><td>0.4500000</td><td>3.070000</td><td>0.2600000</td><td>0.07000000</td><td>1.000000</td><td>2.750000</td><td>2.360000</td><td>4.030000</td><td>⋯</td><td>0.74</td><td>0.80</td><td>0.98</td><td>0.80</td><td>0.76</td><td>1.09</td><td>0.7116667</td><td>2</td><td>0</td><td>Type 2 diabetes mellitus since 2008 (glucophage); gout; Removed gallbladder                                                      </td></tr>\n",
              "\t<tr><td>34</td><td>43</td><td>0.4800000</td><td>2.840000</td><td>0.1500000</td><td>0.06000000</td><td>0.980000</td><td>2.900000</td><td>2.080000</td><td>2.900000</td><td>⋯</td><td>1.14</td><td>0.97</td><td>1.15</td><td>1.09</td><td>0.92</td><td>0.86</td><td>0.8825000</td><td>2</td><td>1</td><td>Glaucoma, hypertension, CAD (aimed at stenting)                                                                                  </td></tr>\n",
              "\t<tr><td>36</td><td>25</td><td>0.4300000</td><td>3.240000</td><td>0.2900000</td><td>0.06000000</td><td>0.980000</td><td>2.840000</td><td>2.750000</td><td>3.770000</td><td>⋯</td><td>0.75</td><td>0.70</td><td>0.90</td><td>0.90</td><td>0.75</td><td>0.95</td><td>0.7475000</td><td>2</td><td>1</td><td>2/2011-Stroke; heart failure                                                                                                     </td></tr>\n",
              "</tbody>\n",
              "</table>\n"
            ],
            "text/markdown": "\nA tibble: 18 × 116\n\n| Vial.number &lt;fct&gt; | Patient.number &lt;fct&gt; | GPHDL1 &lt;dbl&gt; | GPHDL2 &lt;dbl&gt; | GPHDL3 &lt;dbl&gt; | GPHDL4 &lt;dbl&gt; | GPHDL5 &lt;dbl&gt; | GPHDL6 &lt;dbl&gt; | GPHDL7 &lt;dbl&gt; | GPHDL8 &lt;dbl&gt; | ⋯ ⋯ | r.lat.max &lt;dbl&gt; | r.ant.max &lt;dbl&gt; | r.pos.max &lt;dbl&gt; | l.lat.max &lt;dbl&gt; | l.ant.max &lt;dbl&gt; | l.pos.max &lt;dbl&gt; | carotid.IMT.mean &lt;dbl&gt; | Plaque &lt;dbl&gt; | Statins &lt;dbl&gt; | comorbidities &lt;chr&gt; |\n|---|---|---|---|---|---|---|---|---|---|---|---|---|---|---|---|---|---|---|---|---|\n| 3  | 52 | 0.4300000 | 1.300000 | 0.2300000 | 0.05000000 | 0.590000 | 2.620000 | 1.620000 | 3.860000 | ⋯ | 1.00 | 0.90 | 0.95 | 0.85 | 0.90 | 0.90 | 0.8500000 | 3 | 1 | Type 2 diabetes mellitus; MI - 2016                                                                                               |\n| 4  | 53 | 0.4100000 | 3.860000 | 0.3100000 | 0.10000000 | 0.960000 | 3.190000 | 2.420000 | 3.750000 | ⋯ | 0.91 | 0.97 | 0.98 | 0.86 | 0.74 | 0.80 | 0.8241667 | 2 | 0 | 1-2 times per year hypertensive crises (Corinfar)                                                                                 |\n| 6  | 55 | 0.4000000 | 3.690000 | 0.1700000 | 0.03000000 | 0.800000 | 3.040000 | 1.620000 | 3.230000 | ⋯ | 0.88 | 0.80 | 0.90 | 1.07 | 1.00 | 1.30 | 0.8475000 | 2 | 0 | Cholecystitis, gastritis without exacerbation. Diffuse focal changes in the thyroid gland                                         |\n| 7  | 56 | 0.3700000 | 2.960000 | 0.2200000 | 0.05000000 | 1.000000 | 3.000000 | 2.110000 | 3.060000 | ⋯ | 0.91 | 0.86 | 0.86 | 0.80 | 0.74 | 0.91 | 0.6725000 | 1 | 0 | chronic cholecystitis                                                                                                             |\n| 8  | 57 | 0.5600000 | 2.760000 | 0.4600000 | 0.08000000 | 1.110000 | 2.960000 | 3.560000 | 4.170000 | ⋯ | 1.00 | 1.00 | 1.00 | 0.94 | 0.69 | 0.87 | 0.7850000 | 1 | 0 | Cholecystectomy 20 years ago, hr.gastritis                                                                                        |\n| 9  | 58 | 0.4100000 | 2.140000 | 0.2200000 | 0.12000000 | 0.930000 | 2.550000 | 2.060000 | 2.950000 | ⋯ | 1.09 | 1.26 | 1.03 | 0.80 | 0.74 | 0.75 | 0.8491667 | 1 | 0 | Iron-deficiency anemia                                                                                                            |\n| 10 | 59 | 0.4200000 | 1.710000 | 0.2000000 | 0.06000000 | 0.640000 | 2.840000 | 1.590000 | 3.480000 | ⋯ | 0.97 | 1.04 | 0.81 | 0.63 | 0.63 | 0.86 | 0.7041667 | 2 | 0 | Type 2 diabetes mellitus                                                                                                          |\n| 11 | 60 | 0.3500000 | 2.000000 | 0.2100000 | 0.06000000 | 0.670000 | 2.570000 | 1.710000 | 3.790000 | ⋯ | 0.75 | 0.80 | 0.70 | 0.90 | 0.90 | 0.85 | 0.7458333 | 2 | 1 | Nodal goiter (L-thyroxine, 100 μg)                                                                                                |\n| 12 | 61 | 0.3000000 | 1.940000 | 0.1500000 | 0.07000000 | 0.790000 | 2.330000 | 1.610000 | 2.720000 | ⋯ | 0.64 | 0.62 | 0.69 | 1.12 | 1.12 | 1.06 | 0.7758333 | 2 | 0 | Cholecystectomy in September 2016                                                                                                 |\n| 13 | 62 | 0.5500000 | 2.580000 | 0.2300000 | 0.08000000 | 0.830000 | 2.980000 | 2.050000 | 3.420000 | ⋯ | 0.86 | 1.03 | 1.03 | 1.14 | 1.09 | 1.31 | 0.9241667 | 2 | 0 | Appendectomy, chronic pancreatitis,                                                                                               |\n| 14 | 63 | 0.5200000 | 3.030000 | 0.3100000 | 0.09000000 | 1.010000 | 3.080000 | 2.420000 | 3.510000 | ⋯ | 0.90 | 0.90 | 1.00 | 0.80 | 1.02 | 1.02 | 0.8466667 | 2 | 0 | Hypertensive disease, cicatricial changes on the endocardium (endocardial scars) (not examined)                                   |\n| 15 | 37 | 0.4400000 | 2.990000 | 0.3100000 | 0.05000000 | 0.860000 | 2.910000 | 2.480000 | 3.630000 | ⋯ | 1.00 | 1.10 | 1.15 | 1.10 | 1.15 | 1.10 | 0.9766667 | 2 | 0 | Hypertensive disease severe course, decreased vision (glaucoma + essential hypertension) !; Cholelithiasis (gall bladder removed) |\n| 17 | 39 | 0.5333333 | 2.193333 | 0.1866667 | 0.08666667 | 0.960000 | 2.783333 | 2.370000 | 2.843333 | ⋯ | 1.25 | 0.80 | 1.22 | 0.80 | 1.22 | 1.60 | 0.9991667 | 1 | 0 | Urolithiasis disease                                                                                                              |\n| 20 | 42 | 0.7233333 | 2.583333 | 0.3033333 | 0.17000000 | 1.183333 | 2.753333 | 2.066667 | 3.786667 | ⋯ | 0.70 | 0.70 | 0.75 | 0.70 | 0.80 | 0.70 | 0.6458333 | 1 | 1 | Urolithiasis, varicosity, cervical osteochondrosis                                                                                |\n| 22 | 30 | 0.5700000 | 2.420000 | 0.3000000 | 0.08000000 | 0.900000 | 2.940000 | 2.430000 | 3.790000 | ⋯ | 0.80 | 1.03 | 0.80 | 0.80 | 0.92 | 0.97 | 0.8016667 | 1 | 0 | Removed gallbladder, pancreatitis,! Erosion. Gastritis                                                                            |\n| 30 | 38 | 0.4500000 | 3.070000 | 0.2600000 | 0.07000000 | 1.000000 | 2.750000 | 2.360000 | 4.030000 | ⋯ | 0.74 | 0.80 | 0.98 | 0.80 | 0.76 | 1.09 | 0.7116667 | 2 | 0 | Type 2 diabetes mellitus since 2008 (glucophage); gout; Removed gallbladder                                                       |\n| 34 | 43 | 0.4800000 | 2.840000 | 0.1500000 | 0.06000000 | 0.980000 | 2.900000 | 2.080000 | 2.900000 | ⋯ | 1.14 | 0.97 | 1.15 | 1.09 | 0.92 | 0.86 | 0.8825000 | 2 | 1 | Glaucoma, hypertension, CAD (aimed at stenting)                                                                                   |\n| 36 | 25 | 0.4300000 | 3.240000 | 0.2900000 | 0.06000000 | 0.980000 | 2.840000 | 2.750000 | 3.770000 | ⋯ | 0.75 | 0.70 | 0.90 | 0.90 | 0.75 | 0.95 | 0.7475000 | 2 | 1 | 2/2011-Stroke; heart failure                                                                                                      |\n\n",
            "text/latex": "A tibble: 18 × 116\n\\begin{tabular}{lllllllllllllllllllll}\n Vial.number & Patient.number & GPHDL1 & GPHDL2 & GPHDL3 & GPHDL4 & GPHDL5 & GPHDL6 & GPHDL7 & GPHDL8 & ⋯ & r.lat.max & r.ant.max & r.pos.max & l.lat.max & l.ant.max & l.pos.max & carotid.IMT.mean & Plaque & Statins & comorbidities\\\\\n <fct> & <fct> & <dbl> & <dbl> & <dbl> & <dbl> & <dbl> & <dbl> & <dbl> & <dbl> & ⋯ & <dbl> & <dbl> & <dbl> & <dbl> & <dbl> & <dbl> & <dbl> & <dbl> & <dbl> & <chr>\\\\\n\\hline\n\t 3  & 52 & 0.4300000 & 1.300000 & 0.2300000 & 0.05000000 & 0.590000 & 2.620000 & 1.620000 & 3.860000 & ⋯ & 1.00 & 0.90 & 0.95 & 0.85 & 0.90 & 0.90 & 0.8500000 & 3 & 1 & Type 2 diabetes mellitus; MI - 2016                                                                                              \\\\\n\t 4  & 53 & 0.4100000 & 3.860000 & 0.3100000 & 0.10000000 & 0.960000 & 3.190000 & 2.420000 & 3.750000 & ⋯ & 0.91 & 0.97 & 0.98 & 0.86 & 0.74 & 0.80 & 0.8241667 & 2 & 0 & 1-2 times per year hypertensive crises (Corinfar)                                                                                \\\\\n\t 6  & 55 & 0.4000000 & 3.690000 & 0.1700000 & 0.03000000 & 0.800000 & 3.040000 & 1.620000 & 3.230000 & ⋯ & 0.88 & 0.80 & 0.90 & 1.07 & 1.00 & 1.30 & 0.8475000 & 2 & 0 & Cholecystitis, gastritis without exacerbation. Diffuse focal changes in the thyroid gland                                        \\\\\n\t 7  & 56 & 0.3700000 & 2.960000 & 0.2200000 & 0.05000000 & 1.000000 & 3.000000 & 2.110000 & 3.060000 & ⋯ & 0.91 & 0.86 & 0.86 & 0.80 & 0.74 & 0.91 & 0.6725000 & 1 & 0 & chronic cholecystitis                                                                                                            \\\\\n\t 8  & 57 & 0.5600000 & 2.760000 & 0.4600000 & 0.08000000 & 1.110000 & 2.960000 & 3.560000 & 4.170000 & ⋯ & 1.00 & 1.00 & 1.00 & 0.94 & 0.69 & 0.87 & 0.7850000 & 1 & 0 & Cholecystectomy 20 years ago, hr.gastritis                                                                                       \\\\\n\t 9  & 58 & 0.4100000 & 2.140000 & 0.2200000 & 0.12000000 & 0.930000 & 2.550000 & 2.060000 & 2.950000 & ⋯ & 1.09 & 1.26 & 1.03 & 0.80 & 0.74 & 0.75 & 0.8491667 & 1 & 0 & Iron-deficiency anemia                                                                                                           \\\\\n\t 10 & 59 & 0.4200000 & 1.710000 & 0.2000000 & 0.06000000 & 0.640000 & 2.840000 & 1.590000 & 3.480000 & ⋯ & 0.97 & 1.04 & 0.81 & 0.63 & 0.63 & 0.86 & 0.7041667 & 2 & 0 & Type 2 diabetes mellitus                                                                                                         \\\\\n\t 11 & 60 & 0.3500000 & 2.000000 & 0.2100000 & 0.06000000 & 0.670000 & 2.570000 & 1.710000 & 3.790000 & ⋯ & 0.75 & 0.80 & 0.70 & 0.90 & 0.90 & 0.85 & 0.7458333 & 2 & 1 & Nodal goiter (L-thyroxine, 100 μg)                                                                                               \\\\\n\t 12 & 61 & 0.3000000 & 1.940000 & 0.1500000 & 0.07000000 & 0.790000 & 2.330000 & 1.610000 & 2.720000 & ⋯ & 0.64 & 0.62 & 0.69 & 1.12 & 1.12 & 1.06 & 0.7758333 & 2 & 0 & Cholecystectomy in September 2016                                                                                                \\\\\n\t 13 & 62 & 0.5500000 & 2.580000 & 0.2300000 & 0.08000000 & 0.830000 & 2.980000 & 2.050000 & 3.420000 & ⋯ & 0.86 & 1.03 & 1.03 & 1.14 & 1.09 & 1.31 & 0.9241667 & 2 & 0 & Appendectomy, chronic pancreatitis,                                                                                              \\\\\n\t 14 & 63 & 0.5200000 & 3.030000 & 0.3100000 & 0.09000000 & 1.010000 & 3.080000 & 2.420000 & 3.510000 & ⋯ & 0.90 & 0.90 & 1.00 & 0.80 & 1.02 & 1.02 & 0.8466667 & 2 & 0 & Hypertensive disease, cicatricial changes on the endocardium (endocardial scars) (not examined)                                  \\\\\n\t 15 & 37 & 0.4400000 & 2.990000 & 0.3100000 & 0.05000000 & 0.860000 & 2.910000 & 2.480000 & 3.630000 & ⋯ & 1.00 & 1.10 & 1.15 & 1.10 & 1.15 & 1.10 & 0.9766667 & 2 & 0 & Hypertensive disease severe course, decreased vision (glaucoma + essential hypertension) !; Cholelithiasis (gall bladder removed)\\\\\n\t 17 & 39 & 0.5333333 & 2.193333 & 0.1866667 & 0.08666667 & 0.960000 & 2.783333 & 2.370000 & 2.843333 & ⋯ & 1.25 & 0.80 & 1.22 & 0.80 & 1.22 & 1.60 & 0.9991667 & 1 & 0 & Urolithiasis disease                                                                                                             \\\\\n\t 20 & 42 & 0.7233333 & 2.583333 & 0.3033333 & 0.17000000 & 1.183333 & 2.753333 & 2.066667 & 3.786667 & ⋯ & 0.70 & 0.70 & 0.75 & 0.70 & 0.80 & 0.70 & 0.6458333 & 1 & 1 & Urolithiasis, varicosity, cervical osteochondrosis                                                                               \\\\\n\t 22 & 30 & 0.5700000 & 2.420000 & 0.3000000 & 0.08000000 & 0.900000 & 2.940000 & 2.430000 & 3.790000 & ⋯ & 0.80 & 1.03 & 0.80 & 0.80 & 0.92 & 0.97 & 0.8016667 & 1 & 0 & Removed gallbladder, pancreatitis,! Erosion. Gastritis                                                                           \\\\\n\t 30 & 38 & 0.4500000 & 3.070000 & 0.2600000 & 0.07000000 & 1.000000 & 2.750000 & 2.360000 & 4.030000 & ⋯ & 0.74 & 0.80 & 0.98 & 0.80 & 0.76 & 1.09 & 0.7116667 & 2 & 0 & Type 2 diabetes mellitus since 2008 (glucophage); gout; Removed gallbladder                                                      \\\\\n\t 34 & 43 & 0.4800000 & 2.840000 & 0.1500000 & 0.06000000 & 0.980000 & 2.900000 & 2.080000 & 2.900000 & ⋯ & 1.14 & 0.97 & 1.15 & 1.09 & 0.92 & 0.86 & 0.8825000 & 2 & 1 & Glaucoma, hypertension, CAD (aimed at stenting)                                                                                  \\\\\n\t 36 & 25 & 0.4300000 & 3.240000 & 0.2900000 & 0.06000000 & 0.980000 & 2.840000 & 2.750000 & 3.770000 & ⋯ & 0.75 & 0.70 & 0.90 & 0.90 & 0.75 & 0.95 & 0.7475000 & 2 & 1 & 2/2011-Stroke; heart failure                                                                                                     \\\\\n\\end{tabular}\n",
            "text/plain": [
              "   Vial.number Patient.number GPHDL1    GPHDL2   GPHDL3    GPHDL4     GPHDL5  \n",
              "1  3           52             0.4300000 1.300000 0.2300000 0.05000000 0.590000\n",
              "2  4           53             0.4100000 3.860000 0.3100000 0.10000000 0.960000\n",
              "3  6           55             0.4000000 3.690000 0.1700000 0.03000000 0.800000\n",
              "4  7           56             0.3700000 2.960000 0.2200000 0.05000000 1.000000\n",
              "5  8           57             0.5600000 2.760000 0.4600000 0.08000000 1.110000\n",
              "6  9           58             0.4100000 2.140000 0.2200000 0.12000000 0.930000\n",
              "7  10          59             0.4200000 1.710000 0.2000000 0.06000000 0.640000\n",
              "8  11          60             0.3500000 2.000000 0.2100000 0.06000000 0.670000\n",
              "9  12          61             0.3000000 1.940000 0.1500000 0.07000000 0.790000\n",
              "10 13          62             0.5500000 2.580000 0.2300000 0.08000000 0.830000\n",
              "11 14          63             0.5200000 3.030000 0.3100000 0.09000000 1.010000\n",
              "12 15          37             0.4400000 2.990000 0.3100000 0.05000000 0.860000\n",
              "13 17          39             0.5333333 2.193333 0.1866667 0.08666667 0.960000\n",
              "14 20          42             0.7233333 2.583333 0.3033333 0.17000000 1.183333\n",
              "15 22          30             0.5700000 2.420000 0.3000000 0.08000000 0.900000\n",
              "16 30          38             0.4500000 3.070000 0.2600000 0.07000000 1.000000\n",
              "17 34          43             0.4800000 2.840000 0.1500000 0.06000000 0.980000\n",
              "18 36          25             0.4300000 3.240000 0.2900000 0.06000000 0.980000\n",
              "   GPHDL6   GPHDL7   GPHDL8   ⋯ r.lat.max r.ant.max r.pos.max l.lat.max\n",
              "1  2.620000 1.620000 3.860000 ⋯ 1.00      0.90      0.95      0.85     \n",
              "2  3.190000 2.420000 3.750000 ⋯ 0.91      0.97      0.98      0.86     \n",
              "3  3.040000 1.620000 3.230000 ⋯ 0.88      0.80      0.90      1.07     \n",
              "4  3.000000 2.110000 3.060000 ⋯ 0.91      0.86      0.86      0.80     \n",
              "5  2.960000 3.560000 4.170000 ⋯ 1.00      1.00      1.00      0.94     \n",
              "6  2.550000 2.060000 2.950000 ⋯ 1.09      1.26      1.03      0.80     \n",
              "7  2.840000 1.590000 3.480000 ⋯ 0.97      1.04      0.81      0.63     \n",
              "8  2.570000 1.710000 3.790000 ⋯ 0.75      0.80      0.70      0.90     \n",
              "9  2.330000 1.610000 2.720000 ⋯ 0.64      0.62      0.69      1.12     \n",
              "10 2.980000 2.050000 3.420000 ⋯ 0.86      1.03      1.03      1.14     \n",
              "11 3.080000 2.420000 3.510000 ⋯ 0.90      0.90      1.00      0.80     \n",
              "12 2.910000 2.480000 3.630000 ⋯ 1.00      1.10      1.15      1.10     \n",
              "13 2.783333 2.370000 2.843333 ⋯ 1.25      0.80      1.22      0.80     \n",
              "14 2.753333 2.066667 3.786667 ⋯ 0.70      0.70      0.75      0.70     \n",
              "15 2.940000 2.430000 3.790000 ⋯ 0.80      1.03      0.80      0.80     \n",
              "16 2.750000 2.360000 4.030000 ⋯ 0.74      0.80      0.98      0.80     \n",
              "17 2.900000 2.080000 2.900000 ⋯ 1.14      0.97      1.15      1.09     \n",
              "18 2.840000 2.750000 3.770000 ⋯ 0.75      0.70      0.90      0.90     \n",
              "   l.ant.max l.pos.max carotid.IMT.mean Plaque Statins\n",
              "1  0.90      0.90      0.8500000        3      1      \n",
              "2  0.74      0.80      0.8241667        2      0      \n",
              "3  1.00      1.30      0.8475000        2      0      \n",
              "4  0.74      0.91      0.6725000        1      0      \n",
              "5  0.69      0.87      0.7850000        1      0      \n",
              "6  0.74      0.75      0.8491667        1      0      \n",
              "7  0.63      0.86      0.7041667        2      0      \n",
              "8  0.90      0.85      0.7458333        2      1      \n",
              "9  1.12      1.06      0.7758333        2      0      \n",
              "10 1.09      1.31      0.9241667        2      0      \n",
              "11 1.02      1.02      0.8466667        2      0      \n",
              "12 1.15      1.10      0.9766667        2      0      \n",
              "13 1.22      1.60      0.9991667        1      0      \n",
              "14 0.80      0.70      0.6458333        1      1      \n",
              "15 0.92      0.97      0.8016667        1      0      \n",
              "16 0.76      1.09      0.7116667        2      0      \n",
              "17 0.92      0.86      0.8825000        2      1      \n",
              "18 0.75      0.95      0.7475000        2      1      \n",
              "   comorbidities                                                                                                                    \n",
              "1  Type 2 diabetes mellitus; MI - 2016                                                                                              \n",
              "2  1-2 times per year hypertensive crises (Corinfar)                                                                                \n",
              "3  Cholecystitis, gastritis without exacerbation. Diffuse focal changes in the thyroid gland                                        \n",
              "4  chronic cholecystitis                                                                                                            \n",
              "5  Cholecystectomy 20 years ago, hr.gastritis                                                                                       \n",
              "6  Iron-deficiency anemia                                                                                                           \n",
              "7  Type 2 diabetes mellitus                                                                                                         \n",
              "8  Nodal goiter (L-thyroxine, 100 μg)                                                                                               \n",
              "9  Cholecystectomy in September 2016                                                                                                \n",
              "10 Appendectomy, chronic pancreatitis,                                                                                              \n",
              "11 Hypertensive disease, cicatricial changes on the endocardium (endocardial scars) (not examined)                                  \n",
              "12 Hypertensive disease severe course, decreased vision (glaucoma + essential hypertension) !; Cholelithiasis (gall bladder removed)\n",
              "13 Urolithiasis disease                                                                                                             \n",
              "14 Urolithiasis, varicosity, cervical osteochondrosis                                                                               \n",
              "15 Removed gallbladder, pancreatitis,! Erosion. Gastritis                                                                           \n",
              "16 Type 2 diabetes mellitus since 2008 (glucophage); gout; Removed gallbladder                                                      \n",
              "17 Glaucoma, hypertension, CAD (aimed at stenting)                                                                                  \n",
              "18 2/2011-Stroke; heart failure                                                                                                     "
            ]
          },
          "metadata": {}
        }
      ]
    },
    {
      "cell_type": "markdown",
      "source": [
        "Перевод качественных величин в factor и величины для подсчета колонки risk в numeric"
      ],
      "metadata": {
        "id": "_1j1D36cMRVF"
      }
    },
    {
      "cell_type": "code",
      "source": [
        "data <- data %>%\n",
        "    mutate(Patient.number = as.factor(Patient.number)) %>%\n",
        "    mutate(Vial.number = as.factor(Vial.number)) %>%\n",
        "    mutate(Sucrose = as.factor(Sucrose)) %>%\n",
        "    mutate(Group = as.factor(Group)) %>%\n",
        "    mutate(Sm = as.numeric(Sm)) %>%\n",
        "    mutate(Dm = as.numeric(Dm)) %>%\n",
        "    mutate(HT = as.numeric(HT)) %>%\n",
        "    mutate(LVH = as.numeric(LVH)) %>%\n",
        "    mutate(IHD = as.numeric(IHD)) %>%\n",
        "    mutate(MI = as.numeric(MI)) %>%\n",
        "    mutate(Str = as.numeric(Str)) %>%\n",
        "    mutate(A_C = as.numeric(A_C)) %>%\n",
        "    mutate(A_H = as.numeric(A_H)) %>%\n",
        "    mutate(A_D = as.numeric(A_D)) %>%\n",
        "    mutate(Statins = as.factor(Statins)) %>%\n",
        "    mutate(Plaque = as.factor(Plaque))"
      ],
      "metadata": {
        "id": "ocBlYkEfMZNu"
      },
      "execution_count": null,
      "outputs": []
    },
    {
      "cell_type": "markdown",
      "source": [
        "Факторы риска для атеросклероза:\n",
        "\n",
        "Sm - курение\n",
        "\n",
        "Dm - диабет\n",
        "\n",
        "HT - артериальная гипертензия\n",
        "\n",
        "LVH - левожелудочковая гипертрофия\n",
        "\n",
        "IHD - ишемическая болезнь сердца\n",
        "\n",
        "MI - анамнез инфаркта миокарда\n",
        "\n",
        "Str - анамнез инсульта\n",
        "\n",
        "A_C - семейный анамнез ИБС\n",
        "\n",
        "A_H - семейный анамнез артериальной гипертензии\n",
        "\n",
        "A_D - семейный анамнез диабета\n",
        "\n",
        "Объединим риски в один признак risk (от 0 - низкий риск до 10 - высокий риск)"
      ],
      "metadata": {
        "id": "HZGZB5-JL9Mh"
      }
    },
    {
      "cell_type": "code",
      "source": [
        "data <- data %>%\n",
        "  mutate(risk = factor(case_when(data$Sm + data$Dm + data$HT + data$LVH + data$IHD + data$MI + data$Str + data$A_C + data$A_H + data$A_D == 0 ~ \"0\",\n",
        "                                 data$Sm + data$Dm + data$HT + data$LVH + data$IHD + data$MI + data$Str + data$A_C + data$A_H + data$A_D == 1 ~ \"1\",\n",
        "                                 data$Sm + data$Dm + data$HT + data$LVH + data$IHD + data$MI + data$Str + data$A_C + data$A_H + data$A_D == 2 ~ \"2\",\n",
        "                                 data$Sm + data$Dm + data$HT + data$LVH + data$IHD + data$MI + data$Str + data$A_C + data$A_H + data$A_D == 3 ~ \"3\",\n",
        "                                 data$Sm + data$Dm + data$HT + data$LVH + data$IHD + data$MI + data$Str + data$A_C + data$A_H + data$A_D == 4 ~ \"4\",\n",
        "                                 data$Sm + data$Dm + data$HT + data$LVH + data$IHD + data$MI + data$Str + data$A_C + data$A_H + data$A_D == 5 ~ \"5\",\n",
        "                                 data$Sm + data$Dm + data$HT + data$LVH + data$IHD + data$MI + data$Str + data$A_C + data$A_H + data$A_D == 6 ~ \"6\",\n",
        "                                 data$Sm + data$Dm + data$HT + data$LVH + data$IHD + data$MI + data$Str + data$A_C + data$A_H + data$A_D == 7 ~ \"7\",\n",
        "                                 data$Sm + data$Dm + data$HT + data$LVH + data$IHD + data$MI + data$Str + data$A_C + data$A_H + data$A_D == 8 ~ \"8\",\n",
        "                                 data$Sm + data$Dm + data$HT + data$LVH + data$IHD + data$MI + data$Str + data$A_C + data$A_H + data$A_D == 9 ~ \"9\",\n",
        "                                 data$Sm + data$Dm + data$HT + data$LVH + data$IHD + data$MI + data$Str + data$A_C + data$A_H + data$A_D == 10 ~ \"10\"\n",
        "                                 )))"
      ],
      "metadata": {
        "id": "VWvrUzPUL8h6"
      },
      "execution_count": null,
      "outputs": []
    },
    {
      "cell_type": "code",
      "source": [
        "data"
      ],
      "metadata": {
        "colab": {
          "base_uri": "https://localhost:8080/",
          "height": 1000
        },
        "id": "LoVirD4vAAay",
        "outputId": "5637cc73-f21c-4f62-ddd2-af38dfbb1e4e"
      },
      "execution_count": null,
      "outputs": [
        {
          "output_type": "display_data",
          "data": {
            "text/html": [
              "<table class=\"dataframe\">\n",
              "<caption>A tibble: 18 × 117</caption>\n",
              "<thead>\n",
              "\t<tr><th scope=col>Vial.number</th><th scope=col>Patient.number</th><th scope=col>GPHDL1</th><th scope=col>GPHDL2</th><th scope=col>GPHDL3</th><th scope=col>GPHDL4</th><th scope=col>GPHDL5</th><th scope=col>GPHDL6</th><th scope=col>GPHDL7</th><th scope=col>GPHDL8</th><th scope=col>⋯</th><th scope=col>r.ant.max</th><th scope=col>r.pos.max</th><th scope=col>l.lat.max</th><th scope=col>l.ant.max</th><th scope=col>l.pos.max</th><th scope=col>carotid.IMT.mean</th><th scope=col>Plaque</th><th scope=col>Statins</th><th scope=col>comorbidities</th><th scope=col>risk</th></tr>\n",
              "\t<tr><th scope=col>&lt;fct&gt;</th><th scope=col>&lt;fct&gt;</th><th scope=col>&lt;dbl&gt;</th><th scope=col>&lt;dbl&gt;</th><th scope=col>&lt;dbl&gt;</th><th scope=col>&lt;dbl&gt;</th><th scope=col>&lt;dbl&gt;</th><th scope=col>&lt;dbl&gt;</th><th scope=col>&lt;dbl&gt;</th><th scope=col>&lt;dbl&gt;</th><th scope=col>⋯</th><th scope=col>&lt;dbl&gt;</th><th scope=col>&lt;dbl&gt;</th><th scope=col>&lt;dbl&gt;</th><th scope=col>&lt;dbl&gt;</th><th scope=col>&lt;dbl&gt;</th><th scope=col>&lt;dbl&gt;</th><th scope=col>&lt;fct&gt;</th><th scope=col>&lt;fct&gt;</th><th scope=col>&lt;chr&gt;</th><th scope=col>&lt;fct&gt;</th></tr>\n",
              "</thead>\n",
              "<tbody>\n",
              "\t<tr><td>3 </td><td>52</td><td>0.4300000</td><td>1.300000</td><td>0.2300000</td><td>0.05000000</td><td>0.590000</td><td>2.620000</td><td>1.620000</td><td>3.860000</td><td>⋯</td><td>0.90</td><td>0.95</td><td>0.85</td><td>0.90</td><td>0.90</td><td>0.8500000</td><td>3</td><td>1</td><td>Type 2 diabetes mellitus; MI - 2016                                                                                              </td><td>7</td></tr>\n",
              "\t<tr><td>4 </td><td>53</td><td>0.4100000</td><td>3.860000</td><td>0.3100000</td><td>0.10000000</td><td>0.960000</td><td>3.190000</td><td>2.420000</td><td>3.750000</td><td>⋯</td><td>0.97</td><td>0.98</td><td>0.86</td><td>0.74</td><td>0.80</td><td>0.8241667</td><td>2</td><td>0</td><td>1-2 times per year hypertensive crises (Corinfar)                                                                                </td><td>0</td></tr>\n",
              "\t<tr><td>6 </td><td>55</td><td>0.4000000</td><td>3.690000</td><td>0.1700000</td><td>0.03000000</td><td>0.800000</td><td>3.040000</td><td>1.620000</td><td>3.230000</td><td>⋯</td><td>0.80</td><td>0.90</td><td>1.07</td><td>1.00</td><td>1.30</td><td>0.8475000</td><td>2</td><td>0</td><td>Cholecystitis, gastritis without exacerbation. Diffuse focal changes in the thyroid gland                                        </td><td>3</td></tr>\n",
              "\t<tr><td>7 </td><td>56</td><td>0.3700000</td><td>2.960000</td><td>0.2200000</td><td>0.05000000</td><td>1.000000</td><td>3.000000</td><td>2.110000</td><td>3.060000</td><td>⋯</td><td>0.86</td><td>0.86</td><td>0.80</td><td>0.74</td><td>0.91</td><td>0.6725000</td><td>1</td><td>0</td><td>chronic cholecystitis                                                                                                            </td><td>2</td></tr>\n",
              "\t<tr><td>8 </td><td>57</td><td>0.5600000</td><td>2.760000</td><td>0.4600000</td><td>0.08000000</td><td>1.110000</td><td>2.960000</td><td>3.560000</td><td>4.170000</td><td>⋯</td><td>1.00</td><td>1.00</td><td>0.94</td><td>0.69</td><td>0.87</td><td>0.7850000</td><td>1</td><td>0</td><td>Cholecystectomy 20 years ago, hr.gastritis                                                                                       </td><td>4</td></tr>\n",
              "\t<tr><td>9 </td><td>58</td><td>0.4100000</td><td>2.140000</td><td>0.2200000</td><td>0.12000000</td><td>0.930000</td><td>2.550000</td><td>2.060000</td><td>2.950000</td><td>⋯</td><td>1.26</td><td>1.03</td><td>0.80</td><td>0.74</td><td>0.75</td><td>0.8491667</td><td>1</td><td>0</td><td>Iron-deficiency anemia                                                                                                           </td><td>4</td></tr>\n",
              "\t<tr><td>10</td><td>59</td><td>0.4200000</td><td>1.710000</td><td>0.2000000</td><td>0.06000000</td><td>0.640000</td><td>2.840000</td><td>1.590000</td><td>3.480000</td><td>⋯</td><td>1.04</td><td>0.81</td><td>0.63</td><td>0.63</td><td>0.86</td><td>0.7041667</td><td>2</td><td>0</td><td>Type 2 diabetes mellitus                                                                                                         </td><td>6</td></tr>\n",
              "\t<tr><td>11</td><td>60</td><td>0.3500000</td><td>2.000000</td><td>0.2100000</td><td>0.06000000</td><td>0.670000</td><td>2.570000</td><td>1.710000</td><td>3.790000</td><td>⋯</td><td>0.80</td><td>0.70</td><td>0.90</td><td>0.90</td><td>0.85</td><td>0.7458333</td><td>2</td><td>1</td><td>Nodal goiter (L-thyroxine, 100 μg)                                                                                               </td><td>5</td></tr>\n",
              "\t<tr><td>12</td><td>61</td><td>0.3000000</td><td>1.940000</td><td>0.1500000</td><td>0.07000000</td><td>0.790000</td><td>2.330000</td><td>1.610000</td><td>2.720000</td><td>⋯</td><td>0.62</td><td>0.69</td><td>1.12</td><td>1.12</td><td>1.06</td><td>0.7758333</td><td>2</td><td>0</td><td>Cholecystectomy in September 2016                                                                                                </td><td>1</td></tr>\n",
              "\t<tr><td>13</td><td>62</td><td>0.5500000</td><td>2.580000</td><td>0.2300000</td><td>0.08000000</td><td>0.830000</td><td>2.980000</td><td>2.050000</td><td>3.420000</td><td>⋯</td><td>1.03</td><td>1.03</td><td>1.14</td><td>1.09</td><td>1.31</td><td>0.9241667</td><td>2</td><td>0</td><td>Appendectomy, chronic pancreatitis,                                                                                              </td><td>3</td></tr>\n",
              "\t<tr><td>14</td><td>63</td><td>0.5200000</td><td>3.030000</td><td>0.3100000</td><td>0.09000000</td><td>1.010000</td><td>3.080000</td><td>2.420000</td><td>3.510000</td><td>⋯</td><td>0.90</td><td>1.00</td><td>0.80</td><td>1.02</td><td>1.02</td><td>0.8466667</td><td>2</td><td>0</td><td>Hypertensive disease, cicatricial changes on the endocardium (endocardial scars) (not examined)                                  </td><td>4</td></tr>\n",
              "\t<tr><td>15</td><td>37</td><td>0.4400000</td><td>2.990000</td><td>0.3100000</td><td>0.05000000</td><td>0.860000</td><td>2.910000</td><td>2.480000</td><td>3.630000</td><td>⋯</td><td>1.10</td><td>1.15</td><td>1.10</td><td>1.15</td><td>1.10</td><td>0.9766667</td><td>2</td><td>0</td><td>Hypertensive disease severe course, decreased vision (glaucoma + essential hypertension) !; Cholelithiasis (gall bladder removed)</td><td>5</td></tr>\n",
              "\t<tr><td>17</td><td>39</td><td>0.5333333</td><td>2.193333</td><td>0.1866667</td><td>0.08666667</td><td>0.960000</td><td>2.783333</td><td>2.370000</td><td>2.843333</td><td>⋯</td><td>0.80</td><td>1.22</td><td>0.80</td><td>1.22</td><td>1.60</td><td>0.9991667</td><td>1</td><td>0</td><td>Urolithiasis disease                                                                                                             </td><td>3</td></tr>\n",
              "\t<tr><td>20</td><td>42</td><td>0.7233333</td><td>2.583333</td><td>0.3033333</td><td>0.17000000</td><td>1.183333</td><td>2.753333</td><td>2.066667</td><td>3.786667</td><td>⋯</td><td>0.70</td><td>0.75</td><td>0.70</td><td>0.80</td><td>0.70</td><td>0.6458333</td><td>1</td><td>1</td><td>Urolithiasis, varicosity, cervical osteochondrosis                                                                               </td><td>1</td></tr>\n",
              "\t<tr><td>22</td><td>30</td><td>0.5700000</td><td>2.420000</td><td>0.3000000</td><td>0.08000000</td><td>0.900000</td><td>2.940000</td><td>2.430000</td><td>3.790000</td><td>⋯</td><td>1.03</td><td>0.80</td><td>0.80</td><td>0.92</td><td>0.97</td><td>0.8016667</td><td>1</td><td>0</td><td>Removed gallbladder, pancreatitis,! Erosion. Gastritis                                                                           </td><td>1</td></tr>\n",
              "\t<tr><td>30</td><td>38</td><td>0.4500000</td><td>3.070000</td><td>0.2600000</td><td>0.07000000</td><td>1.000000</td><td>2.750000</td><td>2.360000</td><td>4.030000</td><td>⋯</td><td>0.80</td><td>0.98</td><td>0.80</td><td>0.76</td><td>1.09</td><td>0.7116667</td><td>2</td><td>0</td><td>Type 2 diabetes mellitus since 2008 (glucophage); gout; Removed gallbladder                                                      </td><td>1</td></tr>\n",
              "\t<tr><td>34</td><td>43</td><td>0.4800000</td><td>2.840000</td><td>0.1500000</td><td>0.06000000</td><td>0.980000</td><td>2.900000</td><td>2.080000</td><td>2.900000</td><td>⋯</td><td>0.97</td><td>1.15</td><td>1.09</td><td>0.92</td><td>0.86</td><td>0.8825000</td><td>2</td><td>1</td><td>Glaucoma, hypertension, CAD (aimed at stenting)                                                                                  </td><td>5</td></tr>\n",
              "\t<tr><td>36</td><td>25</td><td>0.4300000</td><td>3.240000</td><td>0.2900000</td><td>0.06000000</td><td>0.980000</td><td>2.840000</td><td>2.750000</td><td>3.770000</td><td>⋯</td><td>0.70</td><td>0.90</td><td>0.90</td><td>0.75</td><td>0.95</td><td>0.7475000</td><td>2</td><td>1</td><td>2/2011-Stroke; heart failure                                                                                                     </td><td>4</td></tr>\n",
              "</tbody>\n",
              "</table>\n"
            ],
            "text/markdown": "\nA tibble: 18 × 117\n\n| Vial.number &lt;fct&gt; | Patient.number &lt;fct&gt; | GPHDL1 &lt;dbl&gt; | GPHDL2 &lt;dbl&gt; | GPHDL3 &lt;dbl&gt; | GPHDL4 &lt;dbl&gt; | GPHDL5 &lt;dbl&gt; | GPHDL6 &lt;dbl&gt; | GPHDL7 &lt;dbl&gt; | GPHDL8 &lt;dbl&gt; | ⋯ ⋯ | r.ant.max &lt;dbl&gt; | r.pos.max &lt;dbl&gt; | l.lat.max &lt;dbl&gt; | l.ant.max &lt;dbl&gt; | l.pos.max &lt;dbl&gt; | carotid.IMT.mean &lt;dbl&gt; | Plaque &lt;fct&gt; | Statins &lt;fct&gt; | comorbidities &lt;chr&gt; | risk &lt;fct&gt; |\n|---|---|---|---|---|---|---|---|---|---|---|---|---|---|---|---|---|---|---|---|---|\n| 3  | 52 | 0.4300000 | 1.300000 | 0.2300000 | 0.05000000 | 0.590000 | 2.620000 | 1.620000 | 3.860000 | ⋯ | 0.90 | 0.95 | 0.85 | 0.90 | 0.90 | 0.8500000 | 3 | 1 | Type 2 diabetes mellitus; MI - 2016                                                                                               | 7 |\n| 4  | 53 | 0.4100000 | 3.860000 | 0.3100000 | 0.10000000 | 0.960000 | 3.190000 | 2.420000 | 3.750000 | ⋯ | 0.97 | 0.98 | 0.86 | 0.74 | 0.80 | 0.8241667 | 2 | 0 | 1-2 times per year hypertensive crises (Corinfar)                                                                                 | 0 |\n| 6  | 55 | 0.4000000 | 3.690000 | 0.1700000 | 0.03000000 | 0.800000 | 3.040000 | 1.620000 | 3.230000 | ⋯ | 0.80 | 0.90 | 1.07 | 1.00 | 1.30 | 0.8475000 | 2 | 0 | Cholecystitis, gastritis without exacerbation. Diffuse focal changes in the thyroid gland                                         | 3 |\n| 7  | 56 | 0.3700000 | 2.960000 | 0.2200000 | 0.05000000 | 1.000000 | 3.000000 | 2.110000 | 3.060000 | ⋯ | 0.86 | 0.86 | 0.80 | 0.74 | 0.91 | 0.6725000 | 1 | 0 | chronic cholecystitis                                                                                                             | 2 |\n| 8  | 57 | 0.5600000 | 2.760000 | 0.4600000 | 0.08000000 | 1.110000 | 2.960000 | 3.560000 | 4.170000 | ⋯ | 1.00 | 1.00 | 0.94 | 0.69 | 0.87 | 0.7850000 | 1 | 0 | Cholecystectomy 20 years ago, hr.gastritis                                                                                        | 4 |\n| 9  | 58 | 0.4100000 | 2.140000 | 0.2200000 | 0.12000000 | 0.930000 | 2.550000 | 2.060000 | 2.950000 | ⋯ | 1.26 | 1.03 | 0.80 | 0.74 | 0.75 | 0.8491667 | 1 | 0 | Iron-deficiency anemia                                                                                                            | 4 |\n| 10 | 59 | 0.4200000 | 1.710000 | 0.2000000 | 0.06000000 | 0.640000 | 2.840000 | 1.590000 | 3.480000 | ⋯ | 1.04 | 0.81 | 0.63 | 0.63 | 0.86 | 0.7041667 | 2 | 0 | Type 2 diabetes mellitus                                                                                                          | 6 |\n| 11 | 60 | 0.3500000 | 2.000000 | 0.2100000 | 0.06000000 | 0.670000 | 2.570000 | 1.710000 | 3.790000 | ⋯ | 0.80 | 0.70 | 0.90 | 0.90 | 0.85 | 0.7458333 | 2 | 1 | Nodal goiter (L-thyroxine, 100 μg)                                                                                                | 5 |\n| 12 | 61 | 0.3000000 | 1.940000 | 0.1500000 | 0.07000000 | 0.790000 | 2.330000 | 1.610000 | 2.720000 | ⋯ | 0.62 | 0.69 | 1.12 | 1.12 | 1.06 | 0.7758333 | 2 | 0 | Cholecystectomy in September 2016                                                                                                 | 1 |\n| 13 | 62 | 0.5500000 | 2.580000 | 0.2300000 | 0.08000000 | 0.830000 | 2.980000 | 2.050000 | 3.420000 | ⋯ | 1.03 | 1.03 | 1.14 | 1.09 | 1.31 | 0.9241667 | 2 | 0 | Appendectomy, chronic pancreatitis,                                                                                               | 3 |\n| 14 | 63 | 0.5200000 | 3.030000 | 0.3100000 | 0.09000000 | 1.010000 | 3.080000 | 2.420000 | 3.510000 | ⋯ | 0.90 | 1.00 | 0.80 | 1.02 | 1.02 | 0.8466667 | 2 | 0 | Hypertensive disease, cicatricial changes on the endocardium (endocardial scars) (not examined)                                   | 4 |\n| 15 | 37 | 0.4400000 | 2.990000 | 0.3100000 | 0.05000000 | 0.860000 | 2.910000 | 2.480000 | 3.630000 | ⋯ | 1.10 | 1.15 | 1.10 | 1.15 | 1.10 | 0.9766667 | 2 | 0 | Hypertensive disease severe course, decreased vision (glaucoma + essential hypertension) !; Cholelithiasis (gall bladder removed) | 5 |\n| 17 | 39 | 0.5333333 | 2.193333 | 0.1866667 | 0.08666667 | 0.960000 | 2.783333 | 2.370000 | 2.843333 | ⋯ | 0.80 | 1.22 | 0.80 | 1.22 | 1.60 | 0.9991667 | 1 | 0 | Urolithiasis disease                                                                                                              | 3 |\n| 20 | 42 | 0.7233333 | 2.583333 | 0.3033333 | 0.17000000 | 1.183333 | 2.753333 | 2.066667 | 3.786667 | ⋯ | 0.70 | 0.75 | 0.70 | 0.80 | 0.70 | 0.6458333 | 1 | 1 | Urolithiasis, varicosity, cervical osteochondrosis                                                                                | 1 |\n| 22 | 30 | 0.5700000 | 2.420000 | 0.3000000 | 0.08000000 | 0.900000 | 2.940000 | 2.430000 | 3.790000 | ⋯ | 1.03 | 0.80 | 0.80 | 0.92 | 0.97 | 0.8016667 | 1 | 0 | Removed gallbladder, pancreatitis,! Erosion. Gastritis                                                                            | 1 |\n| 30 | 38 | 0.4500000 | 3.070000 | 0.2600000 | 0.07000000 | 1.000000 | 2.750000 | 2.360000 | 4.030000 | ⋯ | 0.80 | 0.98 | 0.80 | 0.76 | 1.09 | 0.7116667 | 2 | 0 | Type 2 diabetes mellitus since 2008 (glucophage); gout; Removed gallbladder                                                       | 1 |\n| 34 | 43 | 0.4800000 | 2.840000 | 0.1500000 | 0.06000000 | 0.980000 | 2.900000 | 2.080000 | 2.900000 | ⋯ | 0.97 | 1.15 | 1.09 | 0.92 | 0.86 | 0.8825000 | 2 | 1 | Glaucoma, hypertension, CAD (aimed at stenting)                                                                                   | 5 |\n| 36 | 25 | 0.4300000 | 3.240000 | 0.2900000 | 0.06000000 | 0.980000 | 2.840000 | 2.750000 | 3.770000 | ⋯ | 0.70 | 0.90 | 0.90 | 0.75 | 0.95 | 0.7475000 | 2 | 1 | 2/2011-Stroke; heart failure                                                                                                      | 4 |\n\n",
            "text/latex": "A tibble: 18 × 117\n\\begin{tabular}{lllllllllllllllllllll}\n Vial.number & Patient.number & GPHDL1 & GPHDL2 & GPHDL3 & GPHDL4 & GPHDL5 & GPHDL6 & GPHDL7 & GPHDL8 & ⋯ & r.ant.max & r.pos.max & l.lat.max & l.ant.max & l.pos.max & carotid.IMT.mean & Plaque & Statins & comorbidities & risk\\\\\n <fct> & <fct> & <dbl> & <dbl> & <dbl> & <dbl> & <dbl> & <dbl> & <dbl> & <dbl> & ⋯ & <dbl> & <dbl> & <dbl> & <dbl> & <dbl> & <dbl> & <fct> & <fct> & <chr> & <fct>\\\\\n\\hline\n\t 3  & 52 & 0.4300000 & 1.300000 & 0.2300000 & 0.05000000 & 0.590000 & 2.620000 & 1.620000 & 3.860000 & ⋯ & 0.90 & 0.95 & 0.85 & 0.90 & 0.90 & 0.8500000 & 3 & 1 & Type 2 diabetes mellitus; MI - 2016                                                                                               & 7\\\\\n\t 4  & 53 & 0.4100000 & 3.860000 & 0.3100000 & 0.10000000 & 0.960000 & 3.190000 & 2.420000 & 3.750000 & ⋯ & 0.97 & 0.98 & 0.86 & 0.74 & 0.80 & 0.8241667 & 2 & 0 & 1-2 times per year hypertensive crises (Corinfar)                                                                                 & 0\\\\\n\t 6  & 55 & 0.4000000 & 3.690000 & 0.1700000 & 0.03000000 & 0.800000 & 3.040000 & 1.620000 & 3.230000 & ⋯ & 0.80 & 0.90 & 1.07 & 1.00 & 1.30 & 0.8475000 & 2 & 0 & Cholecystitis, gastritis without exacerbation. Diffuse focal changes in the thyroid gland                                         & 3\\\\\n\t 7  & 56 & 0.3700000 & 2.960000 & 0.2200000 & 0.05000000 & 1.000000 & 3.000000 & 2.110000 & 3.060000 & ⋯ & 0.86 & 0.86 & 0.80 & 0.74 & 0.91 & 0.6725000 & 1 & 0 & chronic cholecystitis                                                                                                             & 2\\\\\n\t 8  & 57 & 0.5600000 & 2.760000 & 0.4600000 & 0.08000000 & 1.110000 & 2.960000 & 3.560000 & 4.170000 & ⋯ & 1.00 & 1.00 & 0.94 & 0.69 & 0.87 & 0.7850000 & 1 & 0 & Cholecystectomy 20 years ago, hr.gastritis                                                                                        & 4\\\\\n\t 9  & 58 & 0.4100000 & 2.140000 & 0.2200000 & 0.12000000 & 0.930000 & 2.550000 & 2.060000 & 2.950000 & ⋯ & 1.26 & 1.03 & 0.80 & 0.74 & 0.75 & 0.8491667 & 1 & 0 & Iron-deficiency anemia                                                                                                            & 4\\\\\n\t 10 & 59 & 0.4200000 & 1.710000 & 0.2000000 & 0.06000000 & 0.640000 & 2.840000 & 1.590000 & 3.480000 & ⋯ & 1.04 & 0.81 & 0.63 & 0.63 & 0.86 & 0.7041667 & 2 & 0 & Type 2 diabetes mellitus                                                                                                          & 6\\\\\n\t 11 & 60 & 0.3500000 & 2.000000 & 0.2100000 & 0.06000000 & 0.670000 & 2.570000 & 1.710000 & 3.790000 & ⋯ & 0.80 & 0.70 & 0.90 & 0.90 & 0.85 & 0.7458333 & 2 & 1 & Nodal goiter (L-thyroxine, 100 μg)                                                                                                & 5\\\\\n\t 12 & 61 & 0.3000000 & 1.940000 & 0.1500000 & 0.07000000 & 0.790000 & 2.330000 & 1.610000 & 2.720000 & ⋯ & 0.62 & 0.69 & 1.12 & 1.12 & 1.06 & 0.7758333 & 2 & 0 & Cholecystectomy in September 2016                                                                                                 & 1\\\\\n\t 13 & 62 & 0.5500000 & 2.580000 & 0.2300000 & 0.08000000 & 0.830000 & 2.980000 & 2.050000 & 3.420000 & ⋯ & 1.03 & 1.03 & 1.14 & 1.09 & 1.31 & 0.9241667 & 2 & 0 & Appendectomy, chronic pancreatitis,                                                                                               & 3\\\\\n\t 14 & 63 & 0.5200000 & 3.030000 & 0.3100000 & 0.09000000 & 1.010000 & 3.080000 & 2.420000 & 3.510000 & ⋯ & 0.90 & 1.00 & 0.80 & 1.02 & 1.02 & 0.8466667 & 2 & 0 & Hypertensive disease, cicatricial changes on the endocardium (endocardial scars) (not examined)                                   & 4\\\\\n\t 15 & 37 & 0.4400000 & 2.990000 & 0.3100000 & 0.05000000 & 0.860000 & 2.910000 & 2.480000 & 3.630000 & ⋯ & 1.10 & 1.15 & 1.10 & 1.15 & 1.10 & 0.9766667 & 2 & 0 & Hypertensive disease severe course, decreased vision (glaucoma + essential hypertension) !; Cholelithiasis (gall bladder removed) & 5\\\\\n\t 17 & 39 & 0.5333333 & 2.193333 & 0.1866667 & 0.08666667 & 0.960000 & 2.783333 & 2.370000 & 2.843333 & ⋯ & 0.80 & 1.22 & 0.80 & 1.22 & 1.60 & 0.9991667 & 1 & 0 & Urolithiasis disease                                                                                                              & 3\\\\\n\t 20 & 42 & 0.7233333 & 2.583333 & 0.3033333 & 0.17000000 & 1.183333 & 2.753333 & 2.066667 & 3.786667 & ⋯ & 0.70 & 0.75 & 0.70 & 0.80 & 0.70 & 0.6458333 & 1 & 1 & Urolithiasis, varicosity, cervical osteochondrosis                                                                                & 1\\\\\n\t 22 & 30 & 0.5700000 & 2.420000 & 0.3000000 & 0.08000000 & 0.900000 & 2.940000 & 2.430000 & 3.790000 & ⋯ & 1.03 & 0.80 & 0.80 & 0.92 & 0.97 & 0.8016667 & 1 & 0 & Removed gallbladder, pancreatitis,! Erosion. Gastritis                                                                            & 1\\\\\n\t 30 & 38 & 0.4500000 & 3.070000 & 0.2600000 & 0.07000000 & 1.000000 & 2.750000 & 2.360000 & 4.030000 & ⋯ & 0.80 & 0.98 & 0.80 & 0.76 & 1.09 & 0.7116667 & 2 & 0 & Type 2 diabetes mellitus since 2008 (glucophage); gout; Removed gallbladder                                                       & 1\\\\\n\t 34 & 43 & 0.4800000 & 2.840000 & 0.1500000 & 0.06000000 & 0.980000 & 2.900000 & 2.080000 & 2.900000 & ⋯ & 0.97 & 1.15 & 1.09 & 0.92 & 0.86 & 0.8825000 & 2 & 1 & Glaucoma, hypertension, CAD (aimed at stenting)                                                                                   & 5\\\\\n\t 36 & 25 & 0.4300000 & 3.240000 & 0.2900000 & 0.06000000 & 0.980000 & 2.840000 & 2.750000 & 3.770000 & ⋯ & 0.70 & 0.90 & 0.90 & 0.75 & 0.95 & 0.7475000 & 2 & 1 & 2/2011-Stroke; heart failure                                                                                                      & 4\\\\\n\\end{tabular}\n",
            "text/plain": [
              "   Vial.number Patient.number GPHDL1    GPHDL2   GPHDL3    GPHDL4     GPHDL5  \n",
              "1  3           52             0.4300000 1.300000 0.2300000 0.05000000 0.590000\n",
              "2  4           53             0.4100000 3.860000 0.3100000 0.10000000 0.960000\n",
              "3  6           55             0.4000000 3.690000 0.1700000 0.03000000 0.800000\n",
              "4  7           56             0.3700000 2.960000 0.2200000 0.05000000 1.000000\n",
              "5  8           57             0.5600000 2.760000 0.4600000 0.08000000 1.110000\n",
              "6  9           58             0.4100000 2.140000 0.2200000 0.12000000 0.930000\n",
              "7  10          59             0.4200000 1.710000 0.2000000 0.06000000 0.640000\n",
              "8  11          60             0.3500000 2.000000 0.2100000 0.06000000 0.670000\n",
              "9  12          61             0.3000000 1.940000 0.1500000 0.07000000 0.790000\n",
              "10 13          62             0.5500000 2.580000 0.2300000 0.08000000 0.830000\n",
              "11 14          63             0.5200000 3.030000 0.3100000 0.09000000 1.010000\n",
              "12 15          37             0.4400000 2.990000 0.3100000 0.05000000 0.860000\n",
              "13 17          39             0.5333333 2.193333 0.1866667 0.08666667 0.960000\n",
              "14 20          42             0.7233333 2.583333 0.3033333 0.17000000 1.183333\n",
              "15 22          30             0.5700000 2.420000 0.3000000 0.08000000 0.900000\n",
              "16 30          38             0.4500000 3.070000 0.2600000 0.07000000 1.000000\n",
              "17 34          43             0.4800000 2.840000 0.1500000 0.06000000 0.980000\n",
              "18 36          25             0.4300000 3.240000 0.2900000 0.06000000 0.980000\n",
              "   GPHDL6   GPHDL7   GPHDL8   ⋯ r.ant.max r.pos.max l.lat.max l.ant.max\n",
              "1  2.620000 1.620000 3.860000 ⋯ 0.90      0.95      0.85      0.90     \n",
              "2  3.190000 2.420000 3.750000 ⋯ 0.97      0.98      0.86      0.74     \n",
              "3  3.040000 1.620000 3.230000 ⋯ 0.80      0.90      1.07      1.00     \n",
              "4  3.000000 2.110000 3.060000 ⋯ 0.86      0.86      0.80      0.74     \n",
              "5  2.960000 3.560000 4.170000 ⋯ 1.00      1.00      0.94      0.69     \n",
              "6  2.550000 2.060000 2.950000 ⋯ 1.26      1.03      0.80      0.74     \n",
              "7  2.840000 1.590000 3.480000 ⋯ 1.04      0.81      0.63      0.63     \n",
              "8  2.570000 1.710000 3.790000 ⋯ 0.80      0.70      0.90      0.90     \n",
              "9  2.330000 1.610000 2.720000 ⋯ 0.62      0.69      1.12      1.12     \n",
              "10 2.980000 2.050000 3.420000 ⋯ 1.03      1.03      1.14      1.09     \n",
              "11 3.080000 2.420000 3.510000 ⋯ 0.90      1.00      0.80      1.02     \n",
              "12 2.910000 2.480000 3.630000 ⋯ 1.10      1.15      1.10      1.15     \n",
              "13 2.783333 2.370000 2.843333 ⋯ 0.80      1.22      0.80      1.22     \n",
              "14 2.753333 2.066667 3.786667 ⋯ 0.70      0.75      0.70      0.80     \n",
              "15 2.940000 2.430000 3.790000 ⋯ 1.03      0.80      0.80      0.92     \n",
              "16 2.750000 2.360000 4.030000 ⋯ 0.80      0.98      0.80      0.76     \n",
              "17 2.900000 2.080000 2.900000 ⋯ 0.97      1.15      1.09      0.92     \n",
              "18 2.840000 2.750000 3.770000 ⋯ 0.70      0.90      0.90      0.75     \n",
              "   l.pos.max carotid.IMT.mean Plaque Statins\n",
              "1  0.90      0.8500000        3      1      \n",
              "2  0.80      0.8241667        2      0      \n",
              "3  1.30      0.8475000        2      0      \n",
              "4  0.91      0.6725000        1      0      \n",
              "5  0.87      0.7850000        1      0      \n",
              "6  0.75      0.8491667        1      0      \n",
              "7  0.86      0.7041667        2      0      \n",
              "8  0.85      0.7458333        2      1      \n",
              "9  1.06      0.7758333        2      0      \n",
              "10 1.31      0.9241667        2      0      \n",
              "11 1.02      0.8466667        2      0      \n",
              "12 1.10      0.9766667        2      0      \n",
              "13 1.60      0.9991667        1      0      \n",
              "14 0.70      0.6458333        1      1      \n",
              "15 0.97      0.8016667        1      0      \n",
              "16 1.09      0.7116667        2      0      \n",
              "17 0.86      0.8825000        2      1      \n",
              "18 0.95      0.7475000        2      1      \n",
              "   comorbidities                                                                                                                    \n",
              "1  Type 2 diabetes mellitus; MI - 2016                                                                                              \n",
              "2  1-2 times per year hypertensive crises (Corinfar)                                                                                \n",
              "3  Cholecystitis, gastritis without exacerbation. Diffuse focal changes in the thyroid gland                                        \n",
              "4  chronic cholecystitis                                                                                                            \n",
              "5  Cholecystectomy 20 years ago, hr.gastritis                                                                                       \n",
              "6  Iron-deficiency anemia                                                                                                           \n",
              "7  Type 2 diabetes mellitus                                                                                                         \n",
              "8  Nodal goiter (L-thyroxine, 100 μg)                                                                                               \n",
              "9  Cholecystectomy in September 2016                                                                                                \n",
              "10 Appendectomy, chronic pancreatitis,                                                                                              \n",
              "11 Hypertensive disease, cicatricial changes on the endocardium (endocardial scars) (not examined)                                  \n",
              "12 Hypertensive disease severe course, decreased vision (glaucoma + essential hypertension) !; Cholelithiasis (gall bladder removed)\n",
              "13 Urolithiasis disease                                                                                                             \n",
              "14 Urolithiasis, varicosity, cervical osteochondrosis                                                                               \n",
              "15 Removed gallbladder, pancreatitis,! Erosion. Gastritis                                                                           \n",
              "16 Type 2 diabetes mellitus since 2008 (glucophage); gout; Removed gallbladder                                                      \n",
              "17 Glaucoma, hypertension, CAD (aimed at stenting)                                                                                  \n",
              "18 2/2011-Stroke; heart failure                                                                                                     \n",
              "   risk\n",
              "1  7   \n",
              "2  0   \n",
              "3  3   \n",
              "4  2   \n",
              "5  4   \n",
              "6  4   \n",
              "7  6   \n",
              "8  5   \n",
              "9  1   \n",
              "10 3   \n",
              "11 4   \n",
              "12 5   \n",
              "13 3   \n",
              "14 1   \n",
              "15 1   \n",
              "16 1   \n",
              "17 5   \n",
              "18 4   "
            ]
          },
          "metadata": {}
        }
      ]
    },
    {
      "cell_type": "code",
      "source": [
        "# возвращаем обратно в фактор\n",
        "data <- data %>%\n",
        "  mutate(Sm = as.factor(Sm)) %>%\n",
        "  mutate(Dm = as.factor(Dm)) %>%\n",
        "  mutate(HT = as.factor(HT)) %>%\n",
        "  mutate(LVH = as.factor(LVH)) %>%\n",
        "  mutate(IHD = as.factor(IHD)) %>%\n",
        "  mutate(MI = as.factor(MI)) %>%\n",
        "  mutate(Str = as.factor(Str)) %>%\n",
        "  mutate(A_C = as.factor(A_C)) %>%\n",
        "  mutate(A_H = as.factor(A_H)) %>%\n",
        "  mutate(A_D = as.factor(A_D))"
      ],
      "metadata": {
        "id": "z6VyWRMdHleY"
      },
      "execution_count": null,
      "outputs": []
    },
    {
      "cell_type": "code",
      "source": [
        "data"
      ],
      "metadata": {
        "colab": {
          "base_uri": "https://localhost:8080/",
          "height": 1000
        },
        "id": "3S2yD_V8aWb3",
        "outputId": "c45b99ea-291d-4d47-e09d-b3725cf15eb4"
      },
      "execution_count": null,
      "outputs": [
        {
          "output_type": "display_data",
          "data": {
            "text/html": [
              "<table class=\"dataframe\">\n",
              "<caption>A tibble: 18 × 117</caption>\n",
              "<thead>\n",
              "\t<tr><th scope=col>Vial.number</th><th scope=col>Patient.number</th><th scope=col>GPHDL1</th><th scope=col>GPHDL2</th><th scope=col>GPHDL3</th><th scope=col>GPHDL4</th><th scope=col>GPHDL5</th><th scope=col>GPHDL6</th><th scope=col>GPHDL7</th><th scope=col>GPHDL8</th><th scope=col>⋯</th><th scope=col>r.ant.max</th><th scope=col>r.pos.max</th><th scope=col>l.lat.max</th><th scope=col>l.ant.max</th><th scope=col>l.pos.max</th><th scope=col>carotid.IMT.mean</th><th scope=col>Plaque</th><th scope=col>Statins</th><th scope=col>comorbidities</th><th scope=col>risk</th></tr>\n",
              "\t<tr><th scope=col>&lt;fct&gt;</th><th scope=col>&lt;fct&gt;</th><th scope=col>&lt;dbl&gt;</th><th scope=col>&lt;dbl&gt;</th><th scope=col>&lt;dbl&gt;</th><th scope=col>&lt;dbl&gt;</th><th scope=col>&lt;dbl&gt;</th><th scope=col>&lt;dbl&gt;</th><th scope=col>&lt;dbl&gt;</th><th scope=col>&lt;dbl&gt;</th><th scope=col>⋯</th><th scope=col>&lt;dbl&gt;</th><th scope=col>&lt;dbl&gt;</th><th scope=col>&lt;dbl&gt;</th><th scope=col>&lt;dbl&gt;</th><th scope=col>&lt;dbl&gt;</th><th scope=col>&lt;dbl&gt;</th><th scope=col>&lt;fct&gt;</th><th scope=col>&lt;fct&gt;</th><th scope=col>&lt;chr&gt;</th><th scope=col>&lt;fct&gt;</th></tr>\n",
              "</thead>\n",
              "<tbody>\n",
              "\t<tr><td>3 </td><td>52</td><td>0.4300000</td><td>1.300000</td><td>0.2300000</td><td>0.05000000</td><td>0.590000</td><td>2.620000</td><td>1.620000</td><td>3.860000</td><td>⋯</td><td>0.90</td><td>0.95</td><td>0.85</td><td>0.90</td><td>0.90</td><td>0.8500000</td><td>3</td><td>1</td><td>Type 2 diabetes mellitus; MI - 2016                                                                                              </td><td>7</td></tr>\n",
              "\t<tr><td>4 </td><td>53</td><td>0.4100000</td><td>3.860000</td><td>0.3100000</td><td>0.10000000</td><td>0.960000</td><td>3.190000</td><td>2.420000</td><td>3.750000</td><td>⋯</td><td>0.97</td><td>0.98</td><td>0.86</td><td>0.74</td><td>0.80</td><td>0.8241667</td><td>2</td><td>0</td><td>1-2 times per year hypertensive crises (Corinfar)                                                                                </td><td>0</td></tr>\n",
              "\t<tr><td>6 </td><td>55</td><td>0.4000000</td><td>3.690000</td><td>0.1700000</td><td>0.03000000</td><td>0.800000</td><td>3.040000</td><td>1.620000</td><td>3.230000</td><td>⋯</td><td>0.80</td><td>0.90</td><td>1.07</td><td>1.00</td><td>1.30</td><td>0.8475000</td><td>2</td><td>0</td><td>Cholecystitis, gastritis without exacerbation. Diffuse focal changes in the thyroid gland                                        </td><td>3</td></tr>\n",
              "\t<tr><td>7 </td><td>56</td><td>0.3700000</td><td>2.960000</td><td>0.2200000</td><td>0.05000000</td><td>1.000000</td><td>3.000000</td><td>2.110000</td><td>3.060000</td><td>⋯</td><td>0.86</td><td>0.86</td><td>0.80</td><td>0.74</td><td>0.91</td><td>0.6725000</td><td>1</td><td>0</td><td>chronic cholecystitis                                                                                                            </td><td>2</td></tr>\n",
              "\t<tr><td>8 </td><td>57</td><td>0.5600000</td><td>2.760000</td><td>0.4600000</td><td>0.08000000</td><td>1.110000</td><td>2.960000</td><td>3.560000</td><td>4.170000</td><td>⋯</td><td>1.00</td><td>1.00</td><td>0.94</td><td>0.69</td><td>0.87</td><td>0.7850000</td><td>1</td><td>0</td><td>Cholecystectomy 20 years ago, hr.gastritis                                                                                       </td><td>4</td></tr>\n",
              "\t<tr><td>9 </td><td>58</td><td>0.4100000</td><td>2.140000</td><td>0.2200000</td><td>0.12000000</td><td>0.930000</td><td>2.550000</td><td>2.060000</td><td>2.950000</td><td>⋯</td><td>1.26</td><td>1.03</td><td>0.80</td><td>0.74</td><td>0.75</td><td>0.8491667</td><td>1</td><td>0</td><td>Iron-deficiency anemia                                                                                                           </td><td>4</td></tr>\n",
              "\t<tr><td>10</td><td>59</td><td>0.4200000</td><td>1.710000</td><td>0.2000000</td><td>0.06000000</td><td>0.640000</td><td>2.840000</td><td>1.590000</td><td>3.480000</td><td>⋯</td><td>1.04</td><td>0.81</td><td>0.63</td><td>0.63</td><td>0.86</td><td>0.7041667</td><td>2</td><td>0</td><td>Type 2 diabetes mellitus                                                                                                         </td><td>6</td></tr>\n",
              "\t<tr><td>11</td><td>60</td><td>0.3500000</td><td>2.000000</td><td>0.2100000</td><td>0.06000000</td><td>0.670000</td><td>2.570000</td><td>1.710000</td><td>3.790000</td><td>⋯</td><td>0.80</td><td>0.70</td><td>0.90</td><td>0.90</td><td>0.85</td><td>0.7458333</td><td>2</td><td>1</td><td>Nodal goiter (L-thyroxine, 100 μg)                                                                                               </td><td>5</td></tr>\n",
              "\t<tr><td>12</td><td>61</td><td>0.3000000</td><td>1.940000</td><td>0.1500000</td><td>0.07000000</td><td>0.790000</td><td>2.330000</td><td>1.610000</td><td>2.720000</td><td>⋯</td><td>0.62</td><td>0.69</td><td>1.12</td><td>1.12</td><td>1.06</td><td>0.7758333</td><td>2</td><td>0</td><td>Cholecystectomy in September 2016                                                                                                </td><td>1</td></tr>\n",
              "\t<tr><td>13</td><td>62</td><td>0.5500000</td><td>2.580000</td><td>0.2300000</td><td>0.08000000</td><td>0.830000</td><td>2.980000</td><td>2.050000</td><td>3.420000</td><td>⋯</td><td>1.03</td><td>1.03</td><td>1.14</td><td>1.09</td><td>1.31</td><td>0.9241667</td><td>2</td><td>0</td><td>Appendectomy, chronic pancreatitis,                                                                                              </td><td>3</td></tr>\n",
              "\t<tr><td>14</td><td>63</td><td>0.5200000</td><td>3.030000</td><td>0.3100000</td><td>0.09000000</td><td>1.010000</td><td>3.080000</td><td>2.420000</td><td>3.510000</td><td>⋯</td><td>0.90</td><td>1.00</td><td>0.80</td><td>1.02</td><td>1.02</td><td>0.8466667</td><td>2</td><td>0</td><td>Hypertensive disease, cicatricial changes on the endocardium (endocardial scars) (not examined)                                  </td><td>4</td></tr>\n",
              "\t<tr><td>15</td><td>37</td><td>0.4400000</td><td>2.990000</td><td>0.3100000</td><td>0.05000000</td><td>0.860000</td><td>2.910000</td><td>2.480000</td><td>3.630000</td><td>⋯</td><td>1.10</td><td>1.15</td><td>1.10</td><td>1.15</td><td>1.10</td><td>0.9766667</td><td>2</td><td>0</td><td>Hypertensive disease severe course, decreased vision (glaucoma + essential hypertension) !; Cholelithiasis (gall bladder removed)</td><td>5</td></tr>\n",
              "\t<tr><td>17</td><td>39</td><td>0.5333333</td><td>2.193333</td><td>0.1866667</td><td>0.08666667</td><td>0.960000</td><td>2.783333</td><td>2.370000</td><td>2.843333</td><td>⋯</td><td>0.80</td><td>1.22</td><td>0.80</td><td>1.22</td><td>1.60</td><td>0.9991667</td><td>1</td><td>0</td><td>Urolithiasis disease                                                                                                             </td><td>3</td></tr>\n",
              "\t<tr><td>20</td><td>42</td><td>0.7233333</td><td>2.583333</td><td>0.3033333</td><td>0.17000000</td><td>1.183333</td><td>2.753333</td><td>2.066667</td><td>3.786667</td><td>⋯</td><td>0.70</td><td>0.75</td><td>0.70</td><td>0.80</td><td>0.70</td><td>0.6458333</td><td>1</td><td>1</td><td>Urolithiasis, varicosity, cervical osteochondrosis                                                                               </td><td>1</td></tr>\n",
              "\t<tr><td>22</td><td>30</td><td>0.5700000</td><td>2.420000</td><td>0.3000000</td><td>0.08000000</td><td>0.900000</td><td>2.940000</td><td>2.430000</td><td>3.790000</td><td>⋯</td><td>1.03</td><td>0.80</td><td>0.80</td><td>0.92</td><td>0.97</td><td>0.8016667</td><td>1</td><td>0</td><td>Removed gallbladder, pancreatitis,! Erosion. Gastritis                                                                           </td><td>1</td></tr>\n",
              "\t<tr><td>30</td><td>38</td><td>0.4500000</td><td>3.070000</td><td>0.2600000</td><td>0.07000000</td><td>1.000000</td><td>2.750000</td><td>2.360000</td><td>4.030000</td><td>⋯</td><td>0.80</td><td>0.98</td><td>0.80</td><td>0.76</td><td>1.09</td><td>0.7116667</td><td>2</td><td>0</td><td>Type 2 diabetes mellitus since 2008 (glucophage); gout; Removed gallbladder                                                      </td><td>1</td></tr>\n",
              "\t<tr><td>34</td><td>43</td><td>0.4800000</td><td>2.840000</td><td>0.1500000</td><td>0.06000000</td><td>0.980000</td><td>2.900000</td><td>2.080000</td><td>2.900000</td><td>⋯</td><td>0.97</td><td>1.15</td><td>1.09</td><td>0.92</td><td>0.86</td><td>0.8825000</td><td>2</td><td>1</td><td>Glaucoma, hypertension, CAD (aimed at stenting)                                                                                  </td><td>5</td></tr>\n",
              "\t<tr><td>36</td><td>25</td><td>0.4300000</td><td>3.240000</td><td>0.2900000</td><td>0.06000000</td><td>0.980000</td><td>2.840000</td><td>2.750000</td><td>3.770000</td><td>⋯</td><td>0.70</td><td>0.90</td><td>0.90</td><td>0.75</td><td>0.95</td><td>0.7475000</td><td>2</td><td>1</td><td>2/2011-Stroke; heart failure                                                                                                     </td><td>4</td></tr>\n",
              "</tbody>\n",
              "</table>\n"
            ],
            "text/markdown": "\nA tibble: 18 × 117\n\n| Vial.number &lt;fct&gt; | Patient.number &lt;fct&gt; | GPHDL1 &lt;dbl&gt; | GPHDL2 &lt;dbl&gt; | GPHDL3 &lt;dbl&gt; | GPHDL4 &lt;dbl&gt; | GPHDL5 &lt;dbl&gt; | GPHDL6 &lt;dbl&gt; | GPHDL7 &lt;dbl&gt; | GPHDL8 &lt;dbl&gt; | ⋯ ⋯ | r.ant.max &lt;dbl&gt; | r.pos.max &lt;dbl&gt; | l.lat.max &lt;dbl&gt; | l.ant.max &lt;dbl&gt; | l.pos.max &lt;dbl&gt; | carotid.IMT.mean &lt;dbl&gt; | Plaque &lt;fct&gt; | Statins &lt;fct&gt; | comorbidities &lt;chr&gt; | risk &lt;fct&gt; |\n|---|---|---|---|---|---|---|---|---|---|---|---|---|---|---|---|---|---|---|---|---|\n| 3  | 52 | 0.4300000 | 1.300000 | 0.2300000 | 0.05000000 | 0.590000 | 2.620000 | 1.620000 | 3.860000 | ⋯ | 0.90 | 0.95 | 0.85 | 0.90 | 0.90 | 0.8500000 | 3 | 1 | Type 2 diabetes mellitus; MI - 2016                                                                                               | 7 |\n| 4  | 53 | 0.4100000 | 3.860000 | 0.3100000 | 0.10000000 | 0.960000 | 3.190000 | 2.420000 | 3.750000 | ⋯ | 0.97 | 0.98 | 0.86 | 0.74 | 0.80 | 0.8241667 | 2 | 0 | 1-2 times per year hypertensive crises (Corinfar)                                                                                 | 0 |\n| 6  | 55 | 0.4000000 | 3.690000 | 0.1700000 | 0.03000000 | 0.800000 | 3.040000 | 1.620000 | 3.230000 | ⋯ | 0.80 | 0.90 | 1.07 | 1.00 | 1.30 | 0.8475000 | 2 | 0 | Cholecystitis, gastritis without exacerbation. Diffuse focal changes in the thyroid gland                                         | 3 |\n| 7  | 56 | 0.3700000 | 2.960000 | 0.2200000 | 0.05000000 | 1.000000 | 3.000000 | 2.110000 | 3.060000 | ⋯ | 0.86 | 0.86 | 0.80 | 0.74 | 0.91 | 0.6725000 | 1 | 0 | chronic cholecystitis                                                                                                             | 2 |\n| 8  | 57 | 0.5600000 | 2.760000 | 0.4600000 | 0.08000000 | 1.110000 | 2.960000 | 3.560000 | 4.170000 | ⋯ | 1.00 | 1.00 | 0.94 | 0.69 | 0.87 | 0.7850000 | 1 | 0 | Cholecystectomy 20 years ago, hr.gastritis                                                                                        | 4 |\n| 9  | 58 | 0.4100000 | 2.140000 | 0.2200000 | 0.12000000 | 0.930000 | 2.550000 | 2.060000 | 2.950000 | ⋯ | 1.26 | 1.03 | 0.80 | 0.74 | 0.75 | 0.8491667 | 1 | 0 | Iron-deficiency anemia                                                                                                            | 4 |\n| 10 | 59 | 0.4200000 | 1.710000 | 0.2000000 | 0.06000000 | 0.640000 | 2.840000 | 1.590000 | 3.480000 | ⋯ | 1.04 | 0.81 | 0.63 | 0.63 | 0.86 | 0.7041667 | 2 | 0 | Type 2 diabetes mellitus                                                                                                          | 6 |\n| 11 | 60 | 0.3500000 | 2.000000 | 0.2100000 | 0.06000000 | 0.670000 | 2.570000 | 1.710000 | 3.790000 | ⋯ | 0.80 | 0.70 | 0.90 | 0.90 | 0.85 | 0.7458333 | 2 | 1 | Nodal goiter (L-thyroxine, 100 μg)                                                                                                | 5 |\n| 12 | 61 | 0.3000000 | 1.940000 | 0.1500000 | 0.07000000 | 0.790000 | 2.330000 | 1.610000 | 2.720000 | ⋯ | 0.62 | 0.69 | 1.12 | 1.12 | 1.06 | 0.7758333 | 2 | 0 | Cholecystectomy in September 2016                                                                                                 | 1 |\n| 13 | 62 | 0.5500000 | 2.580000 | 0.2300000 | 0.08000000 | 0.830000 | 2.980000 | 2.050000 | 3.420000 | ⋯ | 1.03 | 1.03 | 1.14 | 1.09 | 1.31 | 0.9241667 | 2 | 0 | Appendectomy, chronic pancreatitis,                                                                                               | 3 |\n| 14 | 63 | 0.5200000 | 3.030000 | 0.3100000 | 0.09000000 | 1.010000 | 3.080000 | 2.420000 | 3.510000 | ⋯ | 0.90 | 1.00 | 0.80 | 1.02 | 1.02 | 0.8466667 | 2 | 0 | Hypertensive disease, cicatricial changes on the endocardium (endocardial scars) (not examined)                                   | 4 |\n| 15 | 37 | 0.4400000 | 2.990000 | 0.3100000 | 0.05000000 | 0.860000 | 2.910000 | 2.480000 | 3.630000 | ⋯ | 1.10 | 1.15 | 1.10 | 1.15 | 1.10 | 0.9766667 | 2 | 0 | Hypertensive disease severe course, decreased vision (glaucoma + essential hypertension) !; Cholelithiasis (gall bladder removed) | 5 |\n| 17 | 39 | 0.5333333 | 2.193333 | 0.1866667 | 0.08666667 | 0.960000 | 2.783333 | 2.370000 | 2.843333 | ⋯ | 0.80 | 1.22 | 0.80 | 1.22 | 1.60 | 0.9991667 | 1 | 0 | Urolithiasis disease                                                                                                              | 3 |\n| 20 | 42 | 0.7233333 | 2.583333 | 0.3033333 | 0.17000000 | 1.183333 | 2.753333 | 2.066667 | 3.786667 | ⋯ | 0.70 | 0.75 | 0.70 | 0.80 | 0.70 | 0.6458333 | 1 | 1 | Urolithiasis, varicosity, cervical osteochondrosis                                                                                | 1 |\n| 22 | 30 | 0.5700000 | 2.420000 | 0.3000000 | 0.08000000 | 0.900000 | 2.940000 | 2.430000 | 3.790000 | ⋯ | 1.03 | 0.80 | 0.80 | 0.92 | 0.97 | 0.8016667 | 1 | 0 | Removed gallbladder, pancreatitis,! Erosion. Gastritis                                                                            | 1 |\n| 30 | 38 | 0.4500000 | 3.070000 | 0.2600000 | 0.07000000 | 1.000000 | 2.750000 | 2.360000 | 4.030000 | ⋯ | 0.80 | 0.98 | 0.80 | 0.76 | 1.09 | 0.7116667 | 2 | 0 | Type 2 diabetes mellitus since 2008 (glucophage); gout; Removed gallbladder                                                       | 1 |\n| 34 | 43 | 0.4800000 | 2.840000 | 0.1500000 | 0.06000000 | 0.980000 | 2.900000 | 2.080000 | 2.900000 | ⋯ | 0.97 | 1.15 | 1.09 | 0.92 | 0.86 | 0.8825000 | 2 | 1 | Glaucoma, hypertension, CAD (aimed at stenting)                                                                                   | 5 |\n| 36 | 25 | 0.4300000 | 3.240000 | 0.2900000 | 0.06000000 | 0.980000 | 2.840000 | 2.750000 | 3.770000 | ⋯ | 0.70 | 0.90 | 0.90 | 0.75 | 0.95 | 0.7475000 | 2 | 1 | 2/2011-Stroke; heart failure                                                                                                      | 4 |\n\n",
            "text/latex": "A tibble: 18 × 117\n\\begin{tabular}{lllllllllllllllllllll}\n Vial.number & Patient.number & GPHDL1 & GPHDL2 & GPHDL3 & GPHDL4 & GPHDL5 & GPHDL6 & GPHDL7 & GPHDL8 & ⋯ & r.ant.max & r.pos.max & l.lat.max & l.ant.max & l.pos.max & carotid.IMT.mean & Plaque & Statins & comorbidities & risk\\\\\n <fct> & <fct> & <dbl> & <dbl> & <dbl> & <dbl> & <dbl> & <dbl> & <dbl> & <dbl> & ⋯ & <dbl> & <dbl> & <dbl> & <dbl> & <dbl> & <dbl> & <fct> & <fct> & <chr> & <fct>\\\\\n\\hline\n\t 3  & 52 & 0.4300000 & 1.300000 & 0.2300000 & 0.05000000 & 0.590000 & 2.620000 & 1.620000 & 3.860000 & ⋯ & 0.90 & 0.95 & 0.85 & 0.90 & 0.90 & 0.8500000 & 3 & 1 & Type 2 diabetes mellitus; MI - 2016                                                                                               & 7\\\\\n\t 4  & 53 & 0.4100000 & 3.860000 & 0.3100000 & 0.10000000 & 0.960000 & 3.190000 & 2.420000 & 3.750000 & ⋯ & 0.97 & 0.98 & 0.86 & 0.74 & 0.80 & 0.8241667 & 2 & 0 & 1-2 times per year hypertensive crises (Corinfar)                                                                                 & 0\\\\\n\t 6  & 55 & 0.4000000 & 3.690000 & 0.1700000 & 0.03000000 & 0.800000 & 3.040000 & 1.620000 & 3.230000 & ⋯ & 0.80 & 0.90 & 1.07 & 1.00 & 1.30 & 0.8475000 & 2 & 0 & Cholecystitis, gastritis without exacerbation. Diffuse focal changes in the thyroid gland                                         & 3\\\\\n\t 7  & 56 & 0.3700000 & 2.960000 & 0.2200000 & 0.05000000 & 1.000000 & 3.000000 & 2.110000 & 3.060000 & ⋯ & 0.86 & 0.86 & 0.80 & 0.74 & 0.91 & 0.6725000 & 1 & 0 & chronic cholecystitis                                                                                                             & 2\\\\\n\t 8  & 57 & 0.5600000 & 2.760000 & 0.4600000 & 0.08000000 & 1.110000 & 2.960000 & 3.560000 & 4.170000 & ⋯ & 1.00 & 1.00 & 0.94 & 0.69 & 0.87 & 0.7850000 & 1 & 0 & Cholecystectomy 20 years ago, hr.gastritis                                                                                        & 4\\\\\n\t 9  & 58 & 0.4100000 & 2.140000 & 0.2200000 & 0.12000000 & 0.930000 & 2.550000 & 2.060000 & 2.950000 & ⋯ & 1.26 & 1.03 & 0.80 & 0.74 & 0.75 & 0.8491667 & 1 & 0 & Iron-deficiency anemia                                                                                                            & 4\\\\\n\t 10 & 59 & 0.4200000 & 1.710000 & 0.2000000 & 0.06000000 & 0.640000 & 2.840000 & 1.590000 & 3.480000 & ⋯ & 1.04 & 0.81 & 0.63 & 0.63 & 0.86 & 0.7041667 & 2 & 0 & Type 2 diabetes mellitus                                                                                                          & 6\\\\\n\t 11 & 60 & 0.3500000 & 2.000000 & 0.2100000 & 0.06000000 & 0.670000 & 2.570000 & 1.710000 & 3.790000 & ⋯ & 0.80 & 0.70 & 0.90 & 0.90 & 0.85 & 0.7458333 & 2 & 1 & Nodal goiter (L-thyroxine, 100 μg)                                                                                                & 5\\\\\n\t 12 & 61 & 0.3000000 & 1.940000 & 0.1500000 & 0.07000000 & 0.790000 & 2.330000 & 1.610000 & 2.720000 & ⋯ & 0.62 & 0.69 & 1.12 & 1.12 & 1.06 & 0.7758333 & 2 & 0 & Cholecystectomy in September 2016                                                                                                 & 1\\\\\n\t 13 & 62 & 0.5500000 & 2.580000 & 0.2300000 & 0.08000000 & 0.830000 & 2.980000 & 2.050000 & 3.420000 & ⋯ & 1.03 & 1.03 & 1.14 & 1.09 & 1.31 & 0.9241667 & 2 & 0 & Appendectomy, chronic pancreatitis,                                                                                               & 3\\\\\n\t 14 & 63 & 0.5200000 & 3.030000 & 0.3100000 & 0.09000000 & 1.010000 & 3.080000 & 2.420000 & 3.510000 & ⋯ & 0.90 & 1.00 & 0.80 & 1.02 & 1.02 & 0.8466667 & 2 & 0 & Hypertensive disease, cicatricial changes on the endocardium (endocardial scars) (not examined)                                   & 4\\\\\n\t 15 & 37 & 0.4400000 & 2.990000 & 0.3100000 & 0.05000000 & 0.860000 & 2.910000 & 2.480000 & 3.630000 & ⋯ & 1.10 & 1.15 & 1.10 & 1.15 & 1.10 & 0.9766667 & 2 & 0 & Hypertensive disease severe course, decreased vision (glaucoma + essential hypertension) !; Cholelithiasis (gall bladder removed) & 5\\\\\n\t 17 & 39 & 0.5333333 & 2.193333 & 0.1866667 & 0.08666667 & 0.960000 & 2.783333 & 2.370000 & 2.843333 & ⋯ & 0.80 & 1.22 & 0.80 & 1.22 & 1.60 & 0.9991667 & 1 & 0 & Urolithiasis disease                                                                                                              & 3\\\\\n\t 20 & 42 & 0.7233333 & 2.583333 & 0.3033333 & 0.17000000 & 1.183333 & 2.753333 & 2.066667 & 3.786667 & ⋯ & 0.70 & 0.75 & 0.70 & 0.80 & 0.70 & 0.6458333 & 1 & 1 & Urolithiasis, varicosity, cervical osteochondrosis                                                                                & 1\\\\\n\t 22 & 30 & 0.5700000 & 2.420000 & 0.3000000 & 0.08000000 & 0.900000 & 2.940000 & 2.430000 & 3.790000 & ⋯ & 1.03 & 0.80 & 0.80 & 0.92 & 0.97 & 0.8016667 & 1 & 0 & Removed gallbladder, pancreatitis,! Erosion. Gastritis                                                                            & 1\\\\\n\t 30 & 38 & 0.4500000 & 3.070000 & 0.2600000 & 0.07000000 & 1.000000 & 2.750000 & 2.360000 & 4.030000 & ⋯ & 0.80 & 0.98 & 0.80 & 0.76 & 1.09 & 0.7116667 & 2 & 0 & Type 2 diabetes mellitus since 2008 (glucophage); gout; Removed gallbladder                                                       & 1\\\\\n\t 34 & 43 & 0.4800000 & 2.840000 & 0.1500000 & 0.06000000 & 0.980000 & 2.900000 & 2.080000 & 2.900000 & ⋯ & 0.97 & 1.15 & 1.09 & 0.92 & 0.86 & 0.8825000 & 2 & 1 & Glaucoma, hypertension, CAD (aimed at stenting)                                                                                   & 5\\\\\n\t 36 & 25 & 0.4300000 & 3.240000 & 0.2900000 & 0.06000000 & 0.980000 & 2.840000 & 2.750000 & 3.770000 & ⋯ & 0.70 & 0.90 & 0.90 & 0.75 & 0.95 & 0.7475000 & 2 & 1 & 2/2011-Stroke; heart failure                                                                                                      & 4\\\\\n\\end{tabular}\n",
            "text/plain": [
              "   Vial.number Patient.number GPHDL1    GPHDL2   GPHDL3    GPHDL4     GPHDL5  \n",
              "1  3           52             0.4300000 1.300000 0.2300000 0.05000000 0.590000\n",
              "2  4           53             0.4100000 3.860000 0.3100000 0.10000000 0.960000\n",
              "3  6           55             0.4000000 3.690000 0.1700000 0.03000000 0.800000\n",
              "4  7           56             0.3700000 2.960000 0.2200000 0.05000000 1.000000\n",
              "5  8           57             0.5600000 2.760000 0.4600000 0.08000000 1.110000\n",
              "6  9           58             0.4100000 2.140000 0.2200000 0.12000000 0.930000\n",
              "7  10          59             0.4200000 1.710000 0.2000000 0.06000000 0.640000\n",
              "8  11          60             0.3500000 2.000000 0.2100000 0.06000000 0.670000\n",
              "9  12          61             0.3000000 1.940000 0.1500000 0.07000000 0.790000\n",
              "10 13          62             0.5500000 2.580000 0.2300000 0.08000000 0.830000\n",
              "11 14          63             0.5200000 3.030000 0.3100000 0.09000000 1.010000\n",
              "12 15          37             0.4400000 2.990000 0.3100000 0.05000000 0.860000\n",
              "13 17          39             0.5333333 2.193333 0.1866667 0.08666667 0.960000\n",
              "14 20          42             0.7233333 2.583333 0.3033333 0.17000000 1.183333\n",
              "15 22          30             0.5700000 2.420000 0.3000000 0.08000000 0.900000\n",
              "16 30          38             0.4500000 3.070000 0.2600000 0.07000000 1.000000\n",
              "17 34          43             0.4800000 2.840000 0.1500000 0.06000000 0.980000\n",
              "18 36          25             0.4300000 3.240000 0.2900000 0.06000000 0.980000\n",
              "   GPHDL6   GPHDL7   GPHDL8   ⋯ r.ant.max r.pos.max l.lat.max l.ant.max\n",
              "1  2.620000 1.620000 3.860000 ⋯ 0.90      0.95      0.85      0.90     \n",
              "2  3.190000 2.420000 3.750000 ⋯ 0.97      0.98      0.86      0.74     \n",
              "3  3.040000 1.620000 3.230000 ⋯ 0.80      0.90      1.07      1.00     \n",
              "4  3.000000 2.110000 3.060000 ⋯ 0.86      0.86      0.80      0.74     \n",
              "5  2.960000 3.560000 4.170000 ⋯ 1.00      1.00      0.94      0.69     \n",
              "6  2.550000 2.060000 2.950000 ⋯ 1.26      1.03      0.80      0.74     \n",
              "7  2.840000 1.590000 3.480000 ⋯ 1.04      0.81      0.63      0.63     \n",
              "8  2.570000 1.710000 3.790000 ⋯ 0.80      0.70      0.90      0.90     \n",
              "9  2.330000 1.610000 2.720000 ⋯ 0.62      0.69      1.12      1.12     \n",
              "10 2.980000 2.050000 3.420000 ⋯ 1.03      1.03      1.14      1.09     \n",
              "11 3.080000 2.420000 3.510000 ⋯ 0.90      1.00      0.80      1.02     \n",
              "12 2.910000 2.480000 3.630000 ⋯ 1.10      1.15      1.10      1.15     \n",
              "13 2.783333 2.370000 2.843333 ⋯ 0.80      1.22      0.80      1.22     \n",
              "14 2.753333 2.066667 3.786667 ⋯ 0.70      0.75      0.70      0.80     \n",
              "15 2.940000 2.430000 3.790000 ⋯ 1.03      0.80      0.80      0.92     \n",
              "16 2.750000 2.360000 4.030000 ⋯ 0.80      0.98      0.80      0.76     \n",
              "17 2.900000 2.080000 2.900000 ⋯ 0.97      1.15      1.09      0.92     \n",
              "18 2.840000 2.750000 3.770000 ⋯ 0.70      0.90      0.90      0.75     \n",
              "   l.pos.max carotid.IMT.mean Plaque Statins\n",
              "1  0.90      0.8500000        3      1      \n",
              "2  0.80      0.8241667        2      0      \n",
              "3  1.30      0.8475000        2      0      \n",
              "4  0.91      0.6725000        1      0      \n",
              "5  0.87      0.7850000        1      0      \n",
              "6  0.75      0.8491667        1      0      \n",
              "7  0.86      0.7041667        2      0      \n",
              "8  0.85      0.7458333        2      1      \n",
              "9  1.06      0.7758333        2      0      \n",
              "10 1.31      0.9241667        2      0      \n",
              "11 1.02      0.8466667        2      0      \n",
              "12 1.10      0.9766667        2      0      \n",
              "13 1.60      0.9991667        1      0      \n",
              "14 0.70      0.6458333        1      1      \n",
              "15 0.97      0.8016667        1      0      \n",
              "16 1.09      0.7116667        2      0      \n",
              "17 0.86      0.8825000        2      1      \n",
              "18 0.95      0.7475000        2      1      \n",
              "   comorbidities                                                                                                                    \n",
              "1  Type 2 diabetes mellitus; MI - 2016                                                                                              \n",
              "2  1-2 times per year hypertensive crises (Corinfar)                                                                                \n",
              "3  Cholecystitis, gastritis without exacerbation. Diffuse focal changes in the thyroid gland                                        \n",
              "4  chronic cholecystitis                                                                                                            \n",
              "5  Cholecystectomy 20 years ago, hr.gastritis                                                                                       \n",
              "6  Iron-deficiency anemia                                                                                                           \n",
              "7  Type 2 diabetes mellitus                                                                                                         \n",
              "8  Nodal goiter (L-thyroxine, 100 μg)                                                                                               \n",
              "9  Cholecystectomy in September 2016                                                                                                \n",
              "10 Appendectomy, chronic pancreatitis,                                                                                              \n",
              "11 Hypertensive disease, cicatricial changes on the endocardium (endocardial scars) (not examined)                                  \n",
              "12 Hypertensive disease severe course, decreased vision (glaucoma + essential hypertension) !; Cholelithiasis (gall bladder removed)\n",
              "13 Urolithiasis disease                                                                                                             \n",
              "14 Urolithiasis, varicosity, cervical osteochondrosis                                                                               \n",
              "15 Removed gallbladder, pancreatitis,! Erosion. Gastritis                                                                           \n",
              "16 Type 2 diabetes mellitus since 2008 (glucophage); gout; Removed gallbladder                                                      \n",
              "17 Glaucoma, hypertension, CAD (aimed at stenting)                                                                                  \n",
              "18 2/2011-Stroke; heart failure                                                                                                     \n",
              "   risk\n",
              "1  7   \n",
              "2  0   \n",
              "3  3   \n",
              "4  2   \n",
              "5  4   \n",
              "6  4   \n",
              "7  6   \n",
              "8  5   \n",
              "9  1   \n",
              "10 3   \n",
              "11 4   \n",
              "12 5   \n",
              "13 3   \n",
              "14 1   \n",
              "15 1   \n",
              "16 1   \n",
              "17 5   \n",
              "18 4   "
            ]
          },
          "metadata": {}
        }
      ]
    },
    {
      "cell_type": "code",
      "source": [
        "write_rds(data, \"data.rds\")"
      ],
      "metadata": {
        "id": "JojF7V5oWLA6"
      },
      "execution_count": null,
      "outputs": []
    },
    {
      "cell_type": "code",
      "source": [
        "write_xlsx(data, \"data.xlsx\")"
      ],
      "metadata": {
        "id": "c-XZ4W17VR-H"
      },
      "execution_count": null,
      "outputs": []
    },
    {
      "cell_type": "markdown",
      "source": [
        "## Сделайте описательные статистики с визуализацией для нескольких дискретных и непрерывных величин на ваш выбор."
      ],
      "metadata": {
        "id": "D1xF8lK7OZOb"
      }
    },
    {
      "cell_type": "code",
      "source": [
        "install.packages('skimr')"
      ],
      "metadata": {
        "colab": {
          "base_uri": "https://localhost:8080/"
        },
        "id": "Pf9gkWx4PLx6",
        "outputId": "0d0622f0-5592-4688-f913-73bd4f29f7ea"
      },
      "execution_count": null,
      "outputs": [
        {
          "output_type": "stream",
          "name": "stderr",
          "text": [
            "Installing package into ‘/usr/local/lib/R/site-library’\n",
            "(as ‘lib’ is unspecified)\n",
            "\n"
          ]
        }
      ]
    },
    {
      "cell_type": "code",
      "source": [
        "library(skimr)"
      ],
      "metadata": {
        "id": "vfH8s65LPiKL"
      },
      "execution_count": null,
      "outputs": []
    },
    {
      "cell_type": "markdown",
      "source": [
        "## Описательная статистика"
      ],
      "metadata": {
        "id": "Lrvi_TtnSqkS"
      }
    },
    {
      "cell_type": "code",
      "source": [
        "skimr::skim(select(data, where(is.factor)))"
      ],
      "metadata": {
        "id": "CNu1Fyw4AI7p",
        "colab": {
          "base_uri": "https://localhost:8080/",
          "height": 942
        },
        "outputId": "809b8254-69b0-492b-de50-15a327748015"
      },
      "execution_count": null,
      "outputs": [
        {
          "output_type": "stream",
          "name": "stdout",
          "text": [
            "── Data Summary ────────────────────────\n",
            "                           Values                      \n",
            "Name                       select(data, where(is.fac...\n",
            "Number of rows             18                          \n",
            "Number of columns          17                          \n",
            "_______________________                                \n",
            "Column type frequency:                                 \n",
            "  factor                   17                          \n",
            "________________________                               \n",
            "Group variables            None                        \n",
            "\n",
            "── Variable type: factor ───────────────────────────────────────────────────────\n",
            "   skim_variable  n_missing complete_rate ordered n_unique\n",
            "\u001b[90m 1\u001b[39m Vial.number            0             1 FALSE         18\n",
            "\u001b[90m 2\u001b[39m Patient.number         0             1 FALSE         18\n",
            "\u001b[90m 3\u001b[39m Sucrose                0             1 FALSE          2\n",
            "\u001b[90m 4\u001b[39m Group                  0             1 FALSE          2\n",
            "\u001b[90m 5\u001b[39m Sm                     0             1 FALSE          2\n",
            "\u001b[90m 6\u001b[39m Dm                     0             1 FALSE          2\n",
            "\u001b[90m 7\u001b[39m HT                     0             1 FALSE          2\n",
            "\u001b[90m 8\u001b[39m LVH                    0             1 FALSE          2\n",
            "\u001b[90m 9\u001b[39m IHD                    0             1 FALSE          2\n",
            "\u001b[90m10\u001b[39m MI                     0             1 FALSE          2\n",
            "\u001b[90m11\u001b[39m Str                    0             1 FALSE          2\n",
            "\u001b[90m12\u001b[39m A_C                    0             1 FALSE          2\n",
            "\u001b[90m13\u001b[39m A_H                    0             1 FALSE          2\n",
            "\u001b[90m14\u001b[39m A_D                    0             1 FALSE          2\n",
            "\u001b[90m15\u001b[39m Plaque                 0             1 FALSE          3\n",
            "\u001b[90m16\u001b[39m Statins                0             1 FALSE          2\n",
            "\u001b[90m17\u001b[39m risk                   0             1 FALSE          8\n",
            "   top_counts                \n",
            "\u001b[90m 1\u001b[39m 3: 1, 4: 1, 6: 1, 7: 1    \n",
            "\u001b[90m 2\u001b[39m 25: 1, 30: 1, 37: 1, 38: 1\n",
            "\u001b[90m 3\u001b[39m 0: 11, 1: 7               \n",
            "\u001b[90m 4\u001b[39m 1: 15, 0: 3               \n",
            "\u001b[90m 5\u001b[39m 0: 17, 1: 1               \n",
            "\u001b[90m 6\u001b[39m 0: 15, 1: 3               \n",
            "\u001b[90m 7\u001b[39m 1: 13, 0: 5               \n",
            "\u001b[90m 8\u001b[39m 0: 10, 1: 8               \n",
            "\u001b[90m 9\u001b[39m 1: 12, 0: 6               \n",
            "\u001b[90m10\u001b[39m 0: 15, 1: 3               \n",
            "\u001b[90m11\u001b[39m 0: 17, 1: 1               \n",
            "\u001b[90m12\u001b[39m 0: 11, 1: 7               \n",
            "\u001b[90m13\u001b[39m 0: 10, 1: 8               \n",
            "\u001b[90m14\u001b[39m 0: 15, 1: 3               \n",
            "\u001b[90m15\u001b[39m 2: 11, 1: 6, 3: 1         \n",
            "\u001b[90m16\u001b[39m 0: 13, 1: 5               \n",
            "\u001b[90m17\u001b[39m 1: 4, 4: 4, 3: 3, 5: 3    \n"
          ]
        },
        {
          "output_type": "error",
          "ename": "ERROR",
          "evalue": "Error in is.null(text_repr) || nchar(text_repr) == 0L: 'length = 7' in coercion to 'logical(1)'\n",
          "traceback": [
            "Error in is.null(text_repr) || nchar(text_repr) == 0L: 'length = 7' in coercion to 'logical(1)'\nTraceback:\n"
          ]
        }
      ]
    },
    {
      "cell_type": "code",
      "source": [
        "skimr::skim(select(data, where(is.numeric)))"
      ],
      "metadata": {
        "id": "vP-jlosRAI5K",
        "colab": {
          "base_uri": "https://localhost:8080/",
          "height": 1000
        },
        "outputId": "e8575798-3177-40e8-c654-c6c456c05d4e"
      },
      "execution_count": null,
      "outputs": [
        {
          "output_type": "stream",
          "name": "stdout",
          "text": [
            "── Data Summary ────────────────────────\n",
            "                           Values                      \n",
            "Name                       select(data, where(is.num...\n",
            "Number of rows             18                          \n",
            "Number of columns          99                          \n",
            "_______________________                                \n",
            "Column type frequency:                                 \n",
            "  numeric                  99                          \n",
            "________________________                               \n",
            "Group variables            None                        \n",
            "\n",
            "── Variable type: numeric ──────────────────────────────────────────────────────\n",
            "   skim_variable    n_missing complete_rate     mean      sd      p0      p25\n",
            "\u001b[90m 1\u001b[39m GPHDL1                   0             1   0.464   0.099\u001b[4m1\u001b[24m   0.3     0.41  \n",
            "\u001b[90m 2\u001b[39m GPHDL2                   0             1   2.63    0.670    1.3     2.15  \n",
            "\u001b[90m 3\u001b[39m GPHDL3                   0             1   0.251   0.076\u001b[4m3\u001b[24m   0.15    0.202 \n",
            "\u001b[90m 4\u001b[39m GPHDL4                   0             1   0.075\u001b[4m9\u001b[24m  0.031\u001b[4m6\u001b[24m   0.03    0.06  \n",
            "\u001b[90m 5\u001b[39m GPHDL5                   0             1   0.900   0.158    0.59    0.808 \n",
            "\u001b[90m 6\u001b[39m GPHDL6                   0             1   2.84    0.214    2.33    2.75  \n",
            "\u001b[90m 7\u001b[39m GPHDL7                   0             1   2.18    0.494    1.59    1.80  \n",
            "\u001b[90m 8\u001b[39m GPHDL8                   0             1   3.48    0.436    2.72    3.10  \n",
            "\u001b[90m 9\u001b[39m GPHDL9                   0             1   5.97    0.766    4.2     5.68  \n",
            "\u001b[90m10\u001b[39m GPHDL10                  0             1  21.2     1.69    18.2    20.1   \n",
            "\u001b[90m11\u001b[39m GPHDL11                  0             1   3.66    0.313    3.11    3.47  \n",
            "\u001b[90m12\u001b[39m GPHDL12                  0             1   0.747   0.222    0.23    0.688 \n",
            "\u001b[90m13\u001b[39m GPHDL13                  0             1   6.36    0.904    4.65    5.82  \n",
            "\u001b[90m14\u001b[39m GPHDL14                  0             1  26.7     1.32    23.4    26.3   \n",
            "\u001b[90m15\u001b[39m GPHDL15                  0             1   2.81    0.354    2.23    2.48  \n",
            "\u001b[90m16\u001b[39m GPHDL16                  0             1   3.31    0.380    2.56    3.02  \n",
            "\u001b[90m17\u001b[39m GPHDL17                  0             1   1.18    0.195    0.93    1.03  \n",
            "\u001b[90m18\u001b[39m GPHDL18                  0             1   1.35    0.234    0.92    1.15  \n",
            "\u001b[90m19\u001b[39m GPHDL19                  0             1   2.36    0.400    1.67    2.16  \n",
            "\u001b[90m20\u001b[39m GPHDL20                  0             1   6.81    1.43     4.65    5.6   \n",
            "\u001b[90m21\u001b[39m GPHDL21                  0             1   2.00    0.302    1.45    1.80  \n",
            "\u001b[90m22\u001b[39m GPHDL22                  0             1   2.69    0.987    1.13    2.14  \n",
            "\u001b[90m23\u001b[39m sum_auc_hdl              0             1 100.      0.011\u001b[4m4\u001b[24m 100.    100.    \n",
            "\u001b[90m24\u001b[39m LB_hdl                   0             1  73.3     1.88    69.5    72.5   \n",
            "\u001b[90m25\u001b[39m HB_hdl                   0             1  19.7     2.60    14.4    18.1   \n",
            "\u001b[90m26\u001b[39m G1_hdl                   0             1  14.0     1.04    12.0    13.4   \n",
            "\u001b[90m27\u001b[39m G2_hdl                   0             1  59.3     1.25    57.5    58.5   \n",
            "\u001b[90m28\u001b[39m G3_hdl                   0             1  17.4     2.30    12.7    15.8   \n",
            "\u001b[90m29\u001b[39m S0_hdl                   0             1   3.87    0.741    2.91    3.2   \n",
            "\u001b[90m30\u001b[39m S1_hdl                   0             1  33.5     2.33    29.1    31.9   \n",
            "\u001b[90m31\u001b[39m S2_hdl                   0             1  41.7     1.61    38.2    40.8   \n",
            "\u001b[90m32\u001b[39m S3_hdl                   0             1  11.5     1.89     7.93   10.3   \n",
            "\u001b[90m33\u001b[39m B_hdl                    0             1   0.075\u001b[4m9\u001b[24m  0.031\u001b[4m6\u001b[24m   0.03    0.06  \n",
            "\u001b[90m34\u001b[39m F_hdl                    0             1   6.69    1.30     4.64    5.58  \n",
            "\u001b[90m35\u001b[39m HM_hdl                   0             1   3.38    0.839    1.53    2.89  \n",
            "\u001b[90m36\u001b[39m GPLDL1                   0             1   0.361   0.074\u001b[4m2\u001b[24m   0.24    0.302 \n",
            "\u001b[90m37\u001b[39m GPLDL2                   0             1   7.90    0.728    6.87    7.33  \n",
            "\u001b[90m38\u001b[39m GPLDL3                   0             1   0.258   0.068\u001b[4m0\u001b[24m   0.14    0.212 \n",
            "\u001b[90m39\u001b[39m GPLDL4                   0             1   0.029\u001b[4m4\u001b[24m  0.013\u001b[4m5\u001b[24m   0.02    0.02  \n",
            "\u001b[90m40\u001b[39m GPLDL5                   0             1   1.04    0.103    0.88    0.97  \n",
            "\u001b[90m41\u001b[39m GPLDL6                   0             1   4.07    0.349    3.47    3.78  \n",
            "\u001b[90m42\u001b[39m GPLDL7                   0             1   2.54    0.323    1.99    2.30  \n",
            "\u001b[90m43\u001b[39m GPLDL8                   0             1   2.66    0.365    1.88    2.42  \n",
            "\u001b[90m44\u001b[39m GPLDL9                   0             1   7.83    0.677    6.93    7.27  \n",
            "\u001b[90m45\u001b[39m GPLDL10                  0             1  26.2     1.78    22.8    25.4   \n",
            "\u001b[90m46\u001b[39m GPLDL11                  0             1   2.41    0.217    2.07    2.26  \n",
            "\u001b[90m47\u001b[39m GPLDL12                  0             1   2.07    0.377    1.54    1.81  \n",
            "\u001b[90m48\u001b[39m GPLDL13                  0             1   3.43    0.594    2.55    3.05  \n",
            "\u001b[90m49\u001b[39m GPLDL14                  0             1  33.8     1.60    30.1    33.2   \n",
            "\u001b[90m50\u001b[39m GPLDL15                  0             1   1.02    0.189    0.59    0.892 \n",
            "\u001b[90m51\u001b[39m GPLDL16                  0             1   1.40    0.299    0.89    1.26  \n",
            "\u001b[90m52\u001b[39m GPLDL17                  0             1   0.092\u001b[4m5\u001b[24m  0.017\u001b[4m3\u001b[24m   0.06    0.082\u001b[4m5\u001b[24m\n",
            "\u001b[90m53\u001b[39m GPLDL18                  0             1   0.350   0.068\u001b[4m5\u001b[24m   0.24    0.31  \n",
            "\u001b[90m54\u001b[39m GPLDL19                  0             1   0.39    0.068\u001b[4m5\u001b[24m   0.3     0.342 \n",
            "\u001b[90m55\u001b[39m GPLDL20                  0             1   1.32    0.339    0.89    1.01  \n",
            "\u001b[90m56\u001b[39m GPLDL21                  0             1   0.381   0.088\u001b[4m4\u001b[24m   0.26    0.34  \n",
            "\u001b[90m57\u001b[39m GPLDL22                  0             1   0.429   0.227    0.1     0.27  \n",
            "\u001b[90m58\u001b[39m sum_auc_ldl              0             1 100.      0.012\u001b[4m4\u001b[24m 100.    100.    \n",
            "\u001b[90m59\u001b[39m LB_ldl                   0             1  71.4     1.43    68.1    70.4   \n",
            "\u001b[90m60\u001b[39m HB_ldl                   0             1   4.36    0.673    3.11    4.08  \n",
            "\u001b[90m61\u001b[39m G1_ldl                   0             1   4.35    0.545    3.27    4.00  \n",
            "\u001b[90m62\u001b[39m G2_ldl                   0             1  67.0     1.20    64.0    66.5   \n",
            "\u001b[90m63\u001b[39m G3_ldl                   0             1   4.36    0.673    3.11    4.08  \n",
            "\u001b[90m64\u001b[39m S0_ldl                   0             1   4.23    0.506    3.38    3.87  \n",
            "\u001b[90m65\u001b[39m S1_ldl                   0             1  28.9     1.99    24.7    28.1   \n",
            "\u001b[90m66\u001b[39m S2_ldl                   0             1  40.5     1.98    35.4    39.9   \n",
            "\u001b[90m67\u001b[39m S3_ldl                   0             1   2.13    0.355    1.47    1.95  \n",
            "\u001b[90m68\u001b[39m B_ldl                    0             1   0.029\u001b[4m4\u001b[24m  0.013\u001b[4m5\u001b[24m   0.02    0.02  \n",
            "\u001b[90m69\u001b[39m F_ldl                    0             1   1.93    0.403    1.24    1.63  \n",
            "\u001b[90m70\u001b[39m HM_ldl                   0             1  14.0     0.755   13.0    13.4   \n",
            "\u001b[90m71\u001b[39m Plasma.volume            0             1   7.9     2.58     5       6     \n",
            "\u001b[90m72\u001b[39m Ht                       0             1 163.      5.34   150     160     \n",
            "\u001b[90m73\u001b[39m Wt                       0             1  73.8    11.6     58.8    64.8   \n",
            "\u001b[90m74\u001b[39m BMI                      0             1  28.0     4.62    20.9    24.9   \n",
            "\u001b[90m75\u001b[39m Sys                      0             1 133.     16.0    110     124.    \n",
            "\u001b[90m76\u001b[39m Dia                      0             1  79.4    10.1     57      76.2   \n",
            "\u001b[90m77\u001b[39m PR                       0             1  75.9    11.1     54      68     \n",
            "\u001b[90m78\u001b[39m Choi...25                0             1 247.     43.1    177     213     \n",
            "\u001b[90m79\u001b[39m Tgi...26                 0             1 126.     59.9     35      96     \n",
            "\u001b[90m80\u001b[39m HDLi...27                0             1  62.1    18.4     38.6    48.4   \n",
            "\u001b[90m81\u001b[39m LDLi...28                0             1 163.     42.5     61.1   138.    \n",
            "\u001b[90m82\u001b[39m Choi...29                0             1   6.42    1.12     4.60    5.53  \n",
            "\u001b[90m83\u001b[39m Tgi...30                 0             1   1.38    0.658    0.385   1.05  \n",
            "\u001b[90m84\u001b[39m HDLi...31                0             1   1.61    0.477    1.00    1.26  \n",
            "\u001b[90m85\u001b[39m LDLi...32                0             1   4.24    1.10     1.59    3.60  \n",
            "\u001b[90m86\u001b[39m AI                       0             1   2.85    1.00     0.566   2.30  \n",
            "\u001b[90m87\u001b[39m r.lat.min                0             1   0.692   0.128    0.46    0.635 \n",
            "\u001b[90m88\u001b[39m r.ant.min                0             1   0.679   0.138    0.46    0.578 \n",
            "\u001b[90m89\u001b[39m r.pos.min                0             1   0.714   0.118    0.46    0.622 \n",
            "\u001b[90m90\u001b[39m l.lat.min                0             1   0.707   0.122    0.5     0.66  \n",
            "\u001b[90m91\u001b[39m l.ant.min                0             1   0.688   0.142    0.47    0.572 \n",
            "\u001b[90m92\u001b[39m l.pos.min                0             1   0.716   0.131    0.56    0.607 \n",
            "\u001b[90m93\u001b[39m r.lat.max                0             1   0.905   0.161    0.64    0.762 \n",
            "\u001b[90m94\u001b[39m r.ant.max                0             1   0.904   0.161    0.62    0.8   \n",
            "\u001b[90m95\u001b[39m r.pos.max                0             1   0.939   0.153    0.69    0.822 \n",
            "\u001b[90m96\u001b[39m l.lat.max                0             1   0.894   0.151    0.63    0.8   \n",
            "\u001b[90m97\u001b[39m l.ant.max                0             1   0.894   0.175    0.63    0.742 \n",
            "\u001b[90m98\u001b[39m l.pos.max                0             1   0.994   0.225    0.7     0.86  \n",
            "\u001b[90m99\u001b[39m carotid.IMT.mean         0             1   0.811   0.098\u001b[4m4\u001b[24m   0.646   0.746 \n",
            "       p50     p75    p100 hist \n",
            "\u001b[90m 1\u001b[39m   0.435   0.53    0.723 ▃▇▃▂▁\n",
            "\u001b[90m 2\u001b[39m   2.67    3.02    3.86  ▂▅▅▇▂\n",
            "\u001b[90m 3\u001b[39m   0.23    0.302   0.46  ▇▇▇▁▁\n",
            "\u001b[90m 4\u001b[39m   0.07    0.085   0.17  ▃▇▂▁▁\n",
            "\u001b[90m 5\u001b[39m   0.945   0.995   1.18  ▃▂▅▇▂\n",
            "\u001b[90m 6\u001b[39m   2.87    2.97    3.19  ▁▃▇▇▃\n",
            "\u001b[90m 7\u001b[39m   2.09    2.42    3.56  ▆▇▆▁▁\n",
            "\u001b[90m 8\u001b[39m   3.57    3.79    4.17  ▅▂▃▇▂\n",
            "\u001b[90m 9\u001b[39m   6.11    6.36    7.23  ▂▁▆▇▃\n",
            "\u001b[90m10\u001b[39m  21.2    22.2    24.3   ▃▃▇▃▃\n",
            "\u001b[90m11\u001b[39m   3.72    3.78    4.33  ▃▃▇▁▂\n",
            "\u001b[90m12\u001b[39m   0.76    0.875   1.22  ▂▁▇▃▁\n",
            "\u001b[90m13\u001b[39m   6.33    6.86    8.46  ▂▂▇▂▁\n",
            "\u001b[90m14\u001b[39m  26.8    27.6    28.3   ▁▂▂▅▇\n",
            "\u001b[90m15\u001b[39m   2.96    3.04    3.4   ▅▁▂▇▂\n",
            "\u001b[90m16\u001b[39m   3.39    3.56    3.85  ▂▃▃▇▅\n",
            "\u001b[90m17\u001b[39m   1.2     1.29    1.66  ▇▇▇▁▁\n",
            "\u001b[90m18\u001b[39m   1.41    1.54    1.66  ▂▅▁▅▇\n",
            "\u001b[90m19\u001b[39m   2.40    2.54    3.19  ▃▃▇▁▂\n",
            "\u001b[90m20\u001b[39m   6.74    7.88    9.22  ▇▅▆▃▆\n",
            "\u001b[90m21\u001b[39m   1.99    2.29    2.43  ▅▃▇▅▇\n",
            "\u001b[90m22\u001b[39m   2.75    3.19    4.44  ▇▇▇▆▆\n",
            "\u001b[90m23\u001b[39m 100.    100.    100.    ▇▆▁▇▆\n",
            "\u001b[90m24\u001b[39m  73.4    74.4    77.1   ▃▂▇▅▂\n",
            "\u001b[90m25\u001b[39m  19.2    21.2    25.1   ▁▇▆▃▂\n",
            "\u001b[90m26\u001b[39m  14.1    14.7    15.4   ▅▃▆▆▇\n",
            "\u001b[90m27\u001b[39m  58.9    59.6    62.1   ▃▇▁▂▂\n",
            "\u001b[90m28\u001b[39m  16.9    19.0    21.9   ▁▇▅▃▃\n",
            "\u001b[90m29\u001b[39m   3.94    4.26    5.77  ▅▃▇▁▁\n",
            "\u001b[90m30\u001b[39m  33.7    35.1    37.0   ▂▃▇▃▅\n",
            "\u001b[90m31\u001b[39m  41.7    42.5    44.6   ▁▅▇▂▅\n",
            "\u001b[90m32\u001b[39m  11.1    12.5    15.0   ▁▇▇▂▅\n",
            "\u001b[90m33\u001b[39m   0.07    0.085   0.17  ▃▇▂▁▁\n",
            "\u001b[90m34\u001b[39m   6.90    7.53    8.71  ▆▅▅▇▅\n",
            "\u001b[90m35\u001b[39m   3.50    3.86    5.08  ▂▃▃▇▁\n",
            "\u001b[90m36\u001b[39m   0.35    0.422   0.48  ▂▇▃▃▅\n",
            "\u001b[90m37\u001b[39m   7.93    8.25    9.68  ▇▅▇▁▁\n",
            "\u001b[90m38\u001b[39m   0.25    0.308   0.39  ▅▇▆▆▃\n",
            "\u001b[90m39\u001b[39m   0.025   0.03    0.06  ▇▅▁▁▂\n",
            "\u001b[90m40\u001b[39m   1.05    1.12    1.22  ▆▅▇▅▅\n",
            "\u001b[90m41\u001b[39m   4.07    4.34    4.61  ▆▇▇▆▇\n",
            "\u001b[90m42\u001b[39m   2.61    2.70    3.33  ▃▅▇▁▁\n",
            "\u001b[90m43\u001b[39m   2.76    2.88    3.24  ▁▅▃▇▅\n",
            "\u001b[90m44\u001b[39m   7.70    8.16    9.07  ▇▇▆▂▅\n",
            "\u001b[90m45\u001b[39m  26.1    26.9    30.8   ▂▇▇▁▁\n",
            "\u001b[90m46\u001b[39m   2.40    2.56    2.89  ▃▇▅▅▁\n",
            "\u001b[90m47\u001b[39m   2.02    2.26    2.86  ▇▇▅▁▂\n",
            "\u001b[90m48\u001b[39m   3.40    3.73    4.94  ▅▇▇▁▁\n",
            "\u001b[90m49\u001b[39m  34.0    34.9    36.9   ▁▃▇▇▁\n",
            "\u001b[90m50\u001b[39m   1.00    1.10    1.34  ▂▆▇▇▅\n",
            "\u001b[90m51\u001b[39m   1.40    1.63    1.92  ▆▅▇▅▅\n",
            "\u001b[90m52\u001b[39m   0.09    0.1     0.13  ▂▂▇▁▂\n",
            "\u001b[90m53\u001b[39m   0.358   0.375   0.5   ▅▅▇▁▂\n",
            "\u001b[90m54\u001b[39m   0.385   0.4     0.53  ▇▇▃▁▃\n",
            "\u001b[90m55\u001b[39m   1.3     1.57    2.01  ▇▇▅▅▃\n",
            "\u001b[90m56\u001b[39m   0.375   0.425   0.62  ▃▇▅▁▁\n",
            "\u001b[90m57\u001b[39m   0.35    0.617   0.95  ▇▇▂▅▁\n",
            "\u001b[90m58\u001b[39m 100     100.    100.    ▂▇▃▇▂\n",
            "\u001b[90m59\u001b[39m  71.6    72.3    73.4   ▂▂▃▇▅\n",
            "\u001b[90m60\u001b[39m   4.36    4.73    5.35  ▃▁▇▅▅\n",
            "\u001b[90m61\u001b[39m   4.38    4.71    5.27  ▂▇▂▇▃\n",
            "\u001b[90m62\u001b[39m  67.3    67.8    68.9   ▁▂▆▇▃\n",
            "\u001b[90m63\u001b[39m   4.36    4.73    5.35  ▃▁▇▅▅\n",
            "\u001b[90m64\u001b[39m   4.27    4.63    5.28  ▅▇▆▇▂\n",
            "\u001b[90m65\u001b[39m  28.8    29.4    33.5   ▁▆▇▁▂\n",
            "\u001b[90m66\u001b[39m  40.4    41.2    43.6   ▁▁▇▇▅\n",
            "\u001b[90m67\u001b[39m   2.19    2.37    2.65  ▃▁▃▇▅\n",
            "\u001b[90m68\u001b[39m   0.025   0.03    0.06  ▇▅▁▁▂\n",
            "\u001b[90m69\u001b[39m   1.91    2.15    2.73  ▁▇▆▃▂\n",
            "\u001b[90m70\u001b[39m  14      14.3    16.1   ▇▇▅▁▁\n",
            "\u001b[90m71\u001b[39m   7      10      13     ▇▃▁▃▃\n",
            "\u001b[90m72\u001b[39m 162     165     172     ▁▂▇▆▃\n",
            "\u001b[90m73\u001b[39m  72.5    79.8   102     ▇▇▅▂▁\n",
            "\u001b[90m74\u001b[39m  27.9    29.5    38.9   ▅▇▇▂▁\n",
            "\u001b[90m75\u001b[39m 132     135     188     ▃▇▁▁▁\n",
            "\u001b[90m76\u001b[39m  80.5    84.8    95     ▂▁▃▇▃\n",
            "\u001b[90m77\u001b[39m  73.5    84.8    92     ▃▆▆▅▇\n",
            "\u001b[90m78\u001b[39m 256     273     322     ▅▃▃▇▂\n",
            "\u001b[90m79\u001b[39m 122.    145.    307     ▃▇▃▁▁\n",
            "\u001b[90m80\u001b[39m  60      66.6   108     ▇▇▂▁▂\n",
            "\u001b[90m81\u001b[39m 179     194.    236     ▁▂▃▇▁\n",
            "\u001b[90m82\u001b[39m   6.65    7.09    8.36  ▅▃▃▇▂\n",
            "\u001b[90m83\u001b[39m   1.34    1.60    3.37  ▃▇▃▁▁\n",
            "\u001b[90m84\u001b[39m   1.56    1.73    2.81  ▇▇▂▁▂\n",
            "\u001b[90m85\u001b[39m   4.65    5.05    6.13  ▁▂▃▇▁\n",
            "\u001b[90m86\u001b[39m   3.00    3.49    4.46  ▁▃▇▇▃\n",
            "\u001b[90m87\u001b[39m   0.7     0.74    0.98  ▂▂▇▁▂\n",
            "\u001b[90m88\u001b[39m   0.655   0.762   0.97  ▃▇▅▃▂\n",
            "\u001b[90m89\u001b[39m   0.74    0.788   0.95  ▁▆▇▃▂\n",
            "\u001b[90m90\u001b[39m   0.745   0.8     0.9   ▃▁▃▇▁\n",
            "\u001b[90m91\u001b[39m   0.665   0.8     1     ▇▆▅▇▂\n",
            "\u001b[90m92\u001b[39m   0.7     0.748   1     ▇▇▅▁▂\n",
            "\u001b[90m93\u001b[39m   0.905   1       1.25  ▆▃▇▁▂\n",
            "\u001b[90m94\u001b[39m   0.9     1.02    1.26  ▅▇▇▆▂\n",
            "\u001b[90m95\u001b[39m   0.965   1.02    1.22  ▅▇▇▃▅\n",
            "\u001b[90m96\u001b[39m   0.855   1.04    1.14  ▂▇▅▁▇\n",
            "\u001b[90m97\u001b[39m   0.9     1.02    1.22  ▇▅▆▅▅\n",
            "\u001b[90m98\u001b[39m   0.93    1.08    1.6   ▇▇▂▂▁\n",
            "\u001b[90m99\u001b[39m   0.813   0.850   0.999 ▅▅▇▂▂\n"
          ]
        },
        {
          "output_type": "error",
          "ename": "ERROR",
          "evalue": "Error in is.null(text_repr) || nchar(text_repr) == 0L: 'length = 12' in coercion to 'logical(1)'\n",
          "traceback": [
            "Error in is.null(text_repr) || nchar(text_repr) == 0L: 'length = 12' in coercion to 'logical(1)'\nTraceback:\n"
          ]
        }
      ]
    },
    {
      "cell_type": "code",
      "source": [
        "install.packages('psych')"
      ],
      "metadata": {
        "colab": {
          "base_uri": "https://localhost:8080/"
        },
        "id": "BTLgZxZfYBq-",
        "outputId": "87b48124-cf83-4e81-f07a-a186efa69da8"
      },
      "execution_count": null,
      "outputs": [
        {
          "output_type": "stream",
          "name": "stderr",
          "text": [
            "Installing package into ‘/usr/local/lib/R/site-library’\n",
            "(as ‘lib’ is unspecified)\n",
            "\n",
            "also installing the dependency ‘mnormt’\n",
            "\n",
            "\n"
          ]
        }
      ]
    },
    {
      "cell_type": "code",
      "source": [
        "library(psych)"
      ],
      "metadata": {
        "colab": {
          "base_uri": "https://localhost:8080/"
        },
        "id": "aELPB78WYP8z",
        "outputId": "e37899b8-3236-4a74-a5a5-a373f34fb273"
      },
      "execution_count": null,
      "outputs": [
        {
          "output_type": "stream",
          "name": "stderr",
          "text": [
            "\n",
            "Attaching package: ‘psych’\n",
            "\n",
            "\n",
            "The following objects are masked from ‘package:ggplot2’:\n",
            "\n",
            "    %+%, alpha\n",
            "\n",
            "\n"
          ]
        }
      ]
    },
    {
      "cell_type": "markdown",
      "source": [
        "Группировка по Group в разрезе Коэффициента атерогенности"
      ],
      "metadata": {
        "id": "TIM7c4NRi-1C"
      }
    },
    {
      "cell_type": "code",
      "source": [
        "desc_group_ai <- data %>%\n",
        "  group_by(Group) %>%\n",
        "  #select(where(is.numeric)) %>%\n",
        "  summarise(psych::describe(AI))"
      ],
      "metadata": {
        "id": "0XS6lnGJAI2h"
      },
      "execution_count": null,
      "outputs": []
    },
    {
      "cell_type": "code",
      "source": [
        "desc_group_ai"
      ],
      "metadata": {
        "id": "cAhspv5VAIzp",
        "colab": {
          "base_uri": "https://localhost:8080/",
          "height": 180
        },
        "outputId": "caa43c9e-b38b-4b6d-a32a-a8727d5c78dc"
      },
      "execution_count": null,
      "outputs": [
        {
          "output_type": "display_data",
          "data": {
            "text/html": [
              "<table class=\"dataframe\">\n",
              "<caption>A tibble: 2 × 14</caption>\n",
              "<thead>\n",
              "\t<tr><th scope=col>Group</th><th scope=col>vars</th><th scope=col>n</th><th scope=col>mean</th><th scope=col>sd</th><th scope=col>median</th><th scope=col>trimmed</th><th scope=col>mad</th><th scope=col>min</th><th scope=col>max</th><th scope=col>range</th><th scope=col>skew</th><th scope=col>kurtosis</th><th scope=col>se</th></tr>\n",
              "\t<tr><th scope=col>&lt;fct&gt;</th><th scope=col>&lt;dbl&gt;</th><th scope=col>&lt;dbl&gt;</th><th scope=col>&lt;dbl&gt;</th><th scope=col>&lt;dbl&gt;</th><th scope=col>&lt;dbl&gt;</th><th scope=col>&lt;dbl&gt;</th><th scope=col>&lt;dbl&gt;</th><th scope=col>&lt;dbl&gt;</th><th scope=col>&lt;dbl&gt;</th><th scope=col>&lt;dbl&gt;</th><th scope=col>&lt;dbl&gt;</th><th scope=col>&lt;dbl&gt;</th><th scope=col>&lt;dbl&gt;</th></tr>\n",
              "</thead>\n",
              "<tbody>\n",
              "\t<tr><td>0</td><td>1</td><td> 3</td><td>2.028082</td><td>0.7274934</td><td>1.838509</td><td>2.028082</td><td>0.6291679</td><td>1.4141414</td><td>2.831595</td><td>1.417453</td><td> 0.2428886</td><td>-2.3333333</td><td>0.4200185</td></tr>\n",
              "\t<tr><td>1</td><td>1</td><td>15</td><td>3.017413</td><td>0.9837496</td><td>3.184258</td><td>3.095076</td><td>0.6495168</td><td>0.5657407</td><td>4.459459</td><td>3.893719</td><td>-0.7746087</td><td> 0.2355548</td><td>0.2540030</td></tr>\n",
              "</tbody>\n",
              "</table>\n"
            ],
            "text/markdown": "\nA tibble: 2 × 14\n\n| Group &lt;fct&gt; | vars &lt;dbl&gt; | n &lt;dbl&gt; | mean &lt;dbl&gt; | sd &lt;dbl&gt; | median &lt;dbl&gt; | trimmed &lt;dbl&gt; | mad &lt;dbl&gt; | min &lt;dbl&gt; | max &lt;dbl&gt; | range &lt;dbl&gt; | skew &lt;dbl&gt; | kurtosis &lt;dbl&gt; | se &lt;dbl&gt; |\n|---|---|---|---|---|---|---|---|---|---|---|---|---|---|\n| 0 | 1 |  3 | 2.028082 | 0.7274934 | 1.838509 | 2.028082 | 0.6291679 | 1.4141414 | 2.831595 | 1.417453 |  0.2428886 | -2.3333333 | 0.4200185 |\n| 1 | 1 | 15 | 3.017413 | 0.9837496 | 3.184258 | 3.095076 | 0.6495168 | 0.5657407 | 4.459459 | 3.893719 | -0.7746087 |  0.2355548 | 0.2540030 |\n\n",
            "text/latex": "A tibble: 2 × 14\n\\begin{tabular}{llllllllllllll}\n Group & vars & n & mean & sd & median & trimmed & mad & min & max & range & skew & kurtosis & se\\\\\n <fct> & <dbl> & <dbl> & <dbl> & <dbl> & <dbl> & <dbl> & <dbl> & <dbl> & <dbl> & <dbl> & <dbl> & <dbl> & <dbl>\\\\\n\\hline\n\t 0 & 1 &  3 & 2.028082 & 0.7274934 & 1.838509 & 2.028082 & 0.6291679 & 1.4141414 & 2.831595 & 1.417453 &  0.2428886 & -2.3333333 & 0.4200185\\\\\n\t 1 & 1 & 15 & 3.017413 & 0.9837496 & 3.184258 & 3.095076 & 0.6495168 & 0.5657407 & 4.459459 & 3.893719 & -0.7746087 &  0.2355548 & 0.2540030\\\\\n\\end{tabular}\n",
            "text/plain": [
              "  Group vars n  mean     sd        median   trimmed  mad       min      \n",
              "1 0     1     3 2.028082 0.7274934 1.838509 2.028082 0.6291679 1.4141414\n",
              "2 1     1    15 3.017413 0.9837496 3.184258 3.095076 0.6495168 0.5657407\n",
              "  max      range    skew       kurtosis   se       \n",
              "1 2.831595 1.417453  0.2428886 -2.3333333 0.4200185\n",
              "2 4.459459 3.893719 -0.7746087  0.2355548 0.2540030"
            ]
          },
          "metadata": {}
        }
      ]
    },
    {
      "cell_type": "markdown",
      "source": [
        "Группировка по risk в разрезе Коэффициента атерогенности"
      ],
      "metadata": {
        "id": "EViGM0iBnOSz"
      }
    },
    {
      "cell_type": "code",
      "source": [
        "desc_risk_ai <- data %>%\n",
        "  group_by(risk) %>%\n",
        "  #select(where(is.numeric)) %>%\n",
        "  summarise(psych::describe(AI))"
      ],
      "metadata": {
        "id": "DBIvZd_pmVSD"
      },
      "execution_count": null,
      "outputs": []
    },
    {
      "cell_type": "code",
      "source": [
        "desc_risk_ai"
      ],
      "metadata": {
        "id": "nfiP5YwwZJbI",
        "colab": {
          "base_uri": "https://localhost:8080/",
          "height": 369
        },
        "outputId": "91429294-9f48-4a7a-c8f6-f66732d9ad42"
      },
      "execution_count": null,
      "outputs": [
        {
          "output_type": "display_data",
          "data": {
            "text/html": [
              "<table class=\"dataframe\">\n",
              "<caption>A tibble: 8 × 14</caption>\n",
              "<thead>\n",
              "\t<tr><th scope=col>risk</th><th scope=col>vars</th><th scope=col>n</th><th scope=col>mean</th><th scope=col>sd</th><th scope=col>median</th><th scope=col>trimmed</th><th scope=col>mad</th><th scope=col>min</th><th scope=col>max</th><th scope=col>range</th><th scope=col>skew</th><th scope=col>kurtosis</th><th scope=col>se</th></tr>\n",
              "\t<tr><th scope=col>&lt;fct&gt;</th><th scope=col>&lt;dbl&gt;</th><th scope=col>&lt;dbl&gt;</th><th scope=col>&lt;dbl&gt;</th><th scope=col>&lt;dbl&gt;</th><th scope=col>&lt;dbl&gt;</th><th scope=col>&lt;dbl&gt;</th><th scope=col>&lt;dbl&gt;</th><th scope=col>&lt;dbl&gt;</th><th scope=col>&lt;dbl&gt;</th><th scope=col>&lt;dbl&gt;</th><th scope=col>&lt;dbl&gt;</th><th scope=col>&lt;dbl&gt;</th><th scope=col>&lt;dbl&gt;</th></tr>\n",
              "</thead>\n",
              "<tbody>\n",
              "\t<tr><td>0</td><td>1</td><td>1</td><td>3.622351</td><td>       NA</td><td>3.622351</td><td>3.622351</td><td>0.0000000</td><td>3.6223507</td><td>3.622351</td><td>0.000000</td><td>          NA</td><td>       NA</td><td>       NA</td></tr>\n",
              "\t<tr><td>1</td><td>1</td><td>4</td><td>2.095936</td><td>0.5940448</td><td>2.098052</td><td>2.095936</td><td>0.6931069</td><td>1.4141414</td><td>2.773498</td><td>1.359356</td><td>-0.005975378</td><td>-2.124870</td><td>0.2970224</td></tr>\n",
              "\t<tr><td>2</td><td>1</td><td>1</td><td>3.207856</td><td>       NA</td><td>3.207856</td><td>3.207856</td><td>0.0000000</td><td>3.2078560</td><td>3.207856</td><td>0.000000</td><td>          NA</td><td>       NA</td><td>       NA</td></tr>\n",
              "\t<tr><td>3</td><td>1</td><td>3</td><td>3.323182</td><td>1.0931128</td><td>3.231018</td><td>3.323182</td><td>1.4113581</td><td>2.2790698</td><td>4.459459</td><td>2.180390</td><td> 0.083714492</td><td>-2.333333</td><td>0.6311090</td></tr>\n",
              "\t<tr><td>4</td><td>1</td><td>4</td><td>3.299521</td><td>0.4992889</td><td>3.179848</td><td>3.299521</td><td>0.2614291</td><td>2.8315946</td><td>4.006791</td><td>1.175197</td><td> 0.497927419</td><td>-1.798835</td><td>0.2496445</td></tr>\n",
              "\t<tr><td>5</td><td>1</td><td>3</td><td>2.200498</td><td>1.8143290</td><td>1.883212</td><td>2.200498</td><td>1.9532824</td><td>0.5657407</td><td>4.152542</td><td>3.586802</td><td> 0.169530009</td><td>-2.333333</td><td>1.0475033</td></tr>\n",
              "\t<tr><td>6</td><td>1</td><td>1</td><td>2.787234</td><td>       NA</td><td>2.787234</td><td>2.787234</td><td>0.0000000</td><td>2.7872340</td><td>2.787234</td><td>0.000000</td><td>          NA</td><td>       NA</td><td>       NA</td></tr>\n",
              "\t<tr><td>7</td><td>1</td><td>1</td><td>3.575130</td><td>       NA</td><td>3.575130</td><td>3.575130</td><td>0.0000000</td><td>3.5751295</td><td>3.575130</td><td>0.000000</td><td>          NA</td><td>       NA</td><td>       NA</td></tr>\n",
              "</tbody>\n",
              "</table>\n"
            ],
            "text/markdown": "\nA tibble: 8 × 14\n\n| risk &lt;fct&gt; | vars &lt;dbl&gt; | n &lt;dbl&gt; | mean &lt;dbl&gt; | sd &lt;dbl&gt; | median &lt;dbl&gt; | trimmed &lt;dbl&gt; | mad &lt;dbl&gt; | min &lt;dbl&gt; | max &lt;dbl&gt; | range &lt;dbl&gt; | skew &lt;dbl&gt; | kurtosis &lt;dbl&gt; | se &lt;dbl&gt; |\n|---|---|---|---|---|---|---|---|---|---|---|---|---|---|\n| 0 | 1 | 1 | 3.622351 |        NA | 3.622351 | 3.622351 | 0.0000000 | 3.6223507 | 3.622351 | 0.000000 |           NA |        NA |        NA |\n| 1 | 1 | 4 | 2.095936 | 0.5940448 | 2.098052 | 2.095936 | 0.6931069 | 1.4141414 | 2.773498 | 1.359356 | -0.005975378 | -2.124870 | 0.2970224 |\n| 2 | 1 | 1 | 3.207856 |        NA | 3.207856 | 3.207856 | 0.0000000 | 3.2078560 | 3.207856 | 0.000000 |           NA |        NA |        NA |\n| 3 | 1 | 3 | 3.323182 | 1.0931128 | 3.231018 | 3.323182 | 1.4113581 | 2.2790698 | 4.459459 | 2.180390 |  0.083714492 | -2.333333 | 0.6311090 |\n| 4 | 1 | 4 | 3.299521 | 0.4992889 | 3.179848 | 3.299521 | 0.2614291 | 2.8315946 | 4.006791 | 1.175197 |  0.497927419 | -1.798835 | 0.2496445 |\n| 5 | 1 | 3 | 2.200498 | 1.8143290 | 1.883212 | 2.200498 | 1.9532824 | 0.5657407 | 4.152542 | 3.586802 |  0.169530009 | -2.333333 | 1.0475033 |\n| 6 | 1 | 1 | 2.787234 |        NA | 2.787234 | 2.787234 | 0.0000000 | 2.7872340 | 2.787234 | 0.000000 |           NA |        NA |        NA |\n| 7 | 1 | 1 | 3.575130 |        NA | 3.575130 | 3.575130 | 0.0000000 | 3.5751295 | 3.575130 | 0.000000 |           NA |        NA |        NA |\n\n",
            "text/latex": "A tibble: 8 × 14\n\\begin{tabular}{llllllllllllll}\n risk & vars & n & mean & sd & median & trimmed & mad & min & max & range & skew & kurtosis & se\\\\\n <fct> & <dbl> & <dbl> & <dbl> & <dbl> & <dbl> & <dbl> & <dbl> & <dbl> & <dbl> & <dbl> & <dbl> & <dbl> & <dbl>\\\\\n\\hline\n\t 0 & 1 & 1 & 3.622351 &        NA & 3.622351 & 3.622351 & 0.0000000 & 3.6223507 & 3.622351 & 0.000000 &           NA &        NA &        NA\\\\\n\t 1 & 1 & 4 & 2.095936 & 0.5940448 & 2.098052 & 2.095936 & 0.6931069 & 1.4141414 & 2.773498 & 1.359356 & -0.005975378 & -2.124870 & 0.2970224\\\\\n\t 2 & 1 & 1 & 3.207856 &        NA & 3.207856 & 3.207856 & 0.0000000 & 3.2078560 & 3.207856 & 0.000000 &           NA &        NA &        NA\\\\\n\t 3 & 1 & 3 & 3.323182 & 1.0931128 & 3.231018 & 3.323182 & 1.4113581 & 2.2790698 & 4.459459 & 2.180390 &  0.083714492 & -2.333333 & 0.6311090\\\\\n\t 4 & 1 & 4 & 3.299521 & 0.4992889 & 3.179848 & 3.299521 & 0.2614291 & 2.8315946 & 4.006791 & 1.175197 &  0.497927419 & -1.798835 & 0.2496445\\\\\n\t 5 & 1 & 3 & 2.200498 & 1.8143290 & 1.883212 & 2.200498 & 1.9532824 & 0.5657407 & 4.152542 & 3.586802 &  0.169530009 & -2.333333 & 1.0475033\\\\\n\t 6 & 1 & 1 & 2.787234 &        NA & 2.787234 & 2.787234 & 0.0000000 & 2.7872340 & 2.787234 & 0.000000 &           NA &        NA &        NA\\\\\n\t 7 & 1 & 1 & 3.575130 &        NA & 3.575130 & 3.575130 & 0.0000000 & 3.5751295 & 3.575130 & 0.000000 &           NA &        NA &        NA\\\\\n\\end{tabular}\n",
            "text/plain": [
              "  risk vars n mean     sd        median   trimmed  mad       min       max     \n",
              "1 0    1    1 3.622351        NA 3.622351 3.622351 0.0000000 3.6223507 3.622351\n",
              "2 1    1    4 2.095936 0.5940448 2.098052 2.095936 0.6931069 1.4141414 2.773498\n",
              "3 2    1    1 3.207856        NA 3.207856 3.207856 0.0000000 3.2078560 3.207856\n",
              "4 3    1    3 3.323182 1.0931128 3.231018 3.323182 1.4113581 2.2790698 4.459459\n",
              "5 4    1    4 3.299521 0.4992889 3.179848 3.299521 0.2614291 2.8315946 4.006791\n",
              "6 5    1    3 2.200498 1.8143290 1.883212 2.200498 1.9532824 0.5657407 4.152542\n",
              "7 6    1    1 2.787234        NA 2.787234 2.787234 0.0000000 2.7872340 2.787234\n",
              "8 7    1    1 3.575130        NA 3.575130 3.575130 0.0000000 3.5751295 3.575130\n",
              "  range    skew         kurtosis  se       \n",
              "1 0.000000           NA        NA        NA\n",
              "2 1.359356 -0.005975378 -2.124870 0.2970224\n",
              "3 0.000000           NA        NA        NA\n",
              "4 2.180390  0.083714492 -2.333333 0.6311090\n",
              "5 1.175197  0.497927419 -1.798835 0.2496445\n",
              "6 3.586802  0.169530009 -2.333333 1.0475033\n",
              "7 0.000000           NA        NA        NA\n",
              "8 0.000000           NA        NA        NA"
            ]
          },
          "metadata": {}
        }
      ]
    },
    {
      "cell_type": "markdown",
      "source": [
        "Группировка по наличию артериальной гипертензии в разрезе Коэффициента атерогенности"
      ],
      "metadata": {
        "id": "M0_IzR5Xnnrk"
      }
    },
    {
      "cell_type": "code",
      "source": [
        "desc_ht_ai <- data %>%\n",
        "  group_by(HT) %>%\n",
        "  #select(where(is.numeric)) %>%\n",
        "  summarise(psych::describe(AI))"
      ],
      "metadata": {
        "id": "gyEseqoCnn_v"
      },
      "execution_count": null,
      "outputs": []
    },
    {
      "cell_type": "code",
      "source": [
        "desc_ht_ai"
      ],
      "metadata": {
        "colab": {
          "base_uri": "https://localhost:8080/",
          "height": 180
        },
        "id": "_BxZy5Hwnp-P",
        "outputId": "51846253-5d34-4abc-b742-295389850e48"
      },
      "execution_count": null,
      "outputs": [
        {
          "output_type": "display_data",
          "data": {
            "text/html": [
              "<table class=\"dataframe\">\n",
              "<caption>A tibble: 2 × 14</caption>\n",
              "<thead>\n",
              "\t<tr><th scope=col>HT</th><th scope=col>vars</th><th scope=col>n</th><th scope=col>mean</th><th scope=col>sd</th><th scope=col>median</th><th scope=col>trimmed</th><th scope=col>mad</th><th scope=col>min</th><th scope=col>max</th><th scope=col>range</th><th scope=col>skew</th><th scope=col>kurtosis</th><th scope=col>se</th></tr>\n",
              "\t<tr><th scope=col>&lt;fct&gt;</th><th scope=col>&lt;dbl&gt;</th><th scope=col>&lt;dbl&gt;</th><th scope=col>&lt;dbl&gt;</th><th scope=col>&lt;dbl&gt;</th><th scope=col>&lt;dbl&gt;</th><th scope=col>&lt;dbl&gt;</th><th scope=col>&lt;dbl&gt;</th><th scope=col>&lt;dbl&gt;</th><th scope=col>&lt;dbl&gt;</th><th scope=col>&lt;dbl&gt;</th><th scope=col>&lt;dbl&gt;</th><th scope=col>&lt;dbl&gt;</th><th scope=col>&lt;dbl&gt;</th></tr>\n",
              "</thead>\n",
              "<tbody>\n",
              "\t<tr><td>0</td><td>1</td><td> 5</td><td>3.027348</td><td>0.4799873</td><td>3.175439</td><td>3.027348</td><td>0.5959176</td><td>2.3575949</td><td>3.622351</td><td>1.264756</td><td>-0.1754525</td><td>-1.748100</td><td>0.2146569</td></tr>\n",
              "\t<tr><td>1</td><td>1</td><td>13</td><td>2.785285</td><td>1.1518455</td><td>2.831595</td><td>2.834864</td><td>1.4060726</td><td>0.5657407</td><td>4.459459</td><td>3.893719</td><td>-0.2772789</td><td>-1.104913</td><td>0.3194645</td></tr>\n",
              "</tbody>\n",
              "</table>\n"
            ],
            "text/markdown": "\nA tibble: 2 × 14\n\n| HT &lt;fct&gt; | vars &lt;dbl&gt; | n &lt;dbl&gt; | mean &lt;dbl&gt; | sd &lt;dbl&gt; | median &lt;dbl&gt; | trimmed &lt;dbl&gt; | mad &lt;dbl&gt; | min &lt;dbl&gt; | max &lt;dbl&gt; | range &lt;dbl&gt; | skew &lt;dbl&gt; | kurtosis &lt;dbl&gt; | se &lt;dbl&gt; |\n|---|---|---|---|---|---|---|---|---|---|---|---|---|---|\n| 0 | 1 |  5 | 3.027348 | 0.4799873 | 3.175439 | 3.027348 | 0.5959176 | 2.3575949 | 3.622351 | 1.264756 | -0.1754525 | -1.748100 | 0.2146569 |\n| 1 | 1 | 13 | 2.785285 | 1.1518455 | 2.831595 | 2.834864 | 1.4060726 | 0.5657407 | 4.459459 | 3.893719 | -0.2772789 | -1.104913 | 0.3194645 |\n\n",
            "text/latex": "A tibble: 2 × 14\n\\begin{tabular}{llllllllllllll}\n HT & vars & n & mean & sd & median & trimmed & mad & min & max & range & skew & kurtosis & se\\\\\n <fct> & <dbl> & <dbl> & <dbl> & <dbl> & <dbl> & <dbl> & <dbl> & <dbl> & <dbl> & <dbl> & <dbl> & <dbl> & <dbl>\\\\\n\\hline\n\t 0 & 1 &  5 & 3.027348 & 0.4799873 & 3.175439 & 3.027348 & 0.5959176 & 2.3575949 & 3.622351 & 1.264756 & -0.1754525 & -1.748100 & 0.2146569\\\\\n\t 1 & 1 & 13 & 2.785285 & 1.1518455 & 2.831595 & 2.834864 & 1.4060726 & 0.5657407 & 4.459459 & 3.893719 & -0.2772789 & -1.104913 & 0.3194645\\\\\n\\end{tabular}\n",
            "text/plain": [
              "  HT vars n  mean     sd        median   trimmed  mad       min       max     \n",
              "1 0  1     5 3.027348 0.4799873 3.175439 3.027348 0.5959176 2.3575949 3.622351\n",
              "2 1  1    13 2.785285 1.1518455 2.831595 2.834864 1.4060726 0.5657407 4.459459\n",
              "  range    skew       kurtosis  se       \n",
              "1 1.264756 -0.1754525 -1.748100 0.2146569\n",
              "2 3.893719 -0.2772789 -1.104913 0.3194645"
            ]
          },
          "metadata": {}
        }
      ]
    },
    {
      "cell_type": "markdown",
      "source": [
        "Группировка по наличию левожелудочковой гипертрофии в разрезе Коэффициента атерогенности"
      ],
      "metadata": {
        "id": "wmctxnftoJd-"
      }
    },
    {
      "cell_type": "code",
      "source": [
        "desc_lvh_ai <- data %>%\n",
        "  group_by(LVH) %>%\n",
        "  #select(where(is.numeric)) %>%\n",
        "  summarise(psych::describe(AI))"
      ],
      "metadata": {
        "id": "VEczxQtFoWmZ"
      },
      "execution_count": null,
      "outputs": []
    },
    {
      "cell_type": "code",
      "source": [
        "desc_lvh_ai"
      ],
      "metadata": {
        "colab": {
          "base_uri": "https://localhost:8080/",
          "height": 180
        },
        "id": "EeGDREt1oWUZ",
        "outputId": "fb02f199-2836-4c55-e8b4-99e5cea02be4"
      },
      "execution_count": null,
      "outputs": [
        {
          "output_type": "display_data",
          "data": {
            "text/html": [
              "<table class=\"dataframe\">\n",
              "<caption>A tibble: 2 × 14</caption>\n",
              "<thead>\n",
              "\t<tr><th scope=col>LVH</th><th scope=col>vars</th><th scope=col>n</th><th scope=col>mean</th><th scope=col>sd</th><th scope=col>median</th><th scope=col>trimmed</th><th scope=col>mad</th><th scope=col>min</th><th scope=col>max</th><th scope=col>range</th><th scope=col>skew</th><th scope=col>kurtosis</th><th scope=col>se</th></tr>\n",
              "\t<tr><th scope=col>&lt;fct&gt;</th><th scope=col>&lt;dbl&gt;</th><th scope=col>&lt;dbl&gt;</th><th scope=col>&lt;dbl&gt;</th><th scope=col>&lt;dbl&gt;</th><th scope=col>&lt;dbl&gt;</th><th scope=col>&lt;dbl&gt;</th><th scope=col>&lt;dbl&gt;</th><th scope=col>&lt;dbl&gt;</th><th scope=col>&lt;dbl&gt;</th><th scope=col>&lt;dbl&gt;</th><th scope=col>&lt;dbl&gt;</th><th scope=col>&lt;dbl&gt;</th><th scope=col>&lt;dbl&gt;</th></tr>\n",
              "</thead>\n",
              "<tbody>\n",
              "\t<tr><td>0</td><td>1</td><td>10</td><td>2.796833</td><td>0.8855523</td><td>2.802546</td><td>2.761841</td><td>0.7178954</td><td>1.4141414</td><td>4.459459</td><td>3.045318</td><td> 0.2216277</td><td>-0.9243644</td><td>0.2800362</td></tr>\n",
              "\t<tr><td>1</td><td>1</td><td> 8</td><td>2.922138</td><td>1.1908285</td><td>3.203228</td><td>2.922138</td><td>0.9040577</td><td>0.5657407</td><td>4.152542</td><td>3.586802</td><td>-0.7953745</td><td>-0.7704449</td><td>0.4210215</td></tr>\n",
              "</tbody>\n",
              "</table>\n"
            ],
            "text/markdown": "\nA tibble: 2 × 14\n\n| LVH &lt;fct&gt; | vars &lt;dbl&gt; | n &lt;dbl&gt; | mean &lt;dbl&gt; | sd &lt;dbl&gt; | median &lt;dbl&gt; | trimmed &lt;dbl&gt; | mad &lt;dbl&gt; | min &lt;dbl&gt; | max &lt;dbl&gt; | range &lt;dbl&gt; | skew &lt;dbl&gt; | kurtosis &lt;dbl&gt; | se &lt;dbl&gt; |\n|---|---|---|---|---|---|---|---|---|---|---|---|---|---|\n| 0 | 1 | 10 | 2.796833 | 0.8855523 | 2.802546 | 2.761841 | 0.7178954 | 1.4141414 | 4.459459 | 3.045318 |  0.2216277 | -0.9243644 | 0.2800362 |\n| 1 | 1 |  8 | 2.922138 | 1.1908285 | 3.203228 | 2.922138 | 0.9040577 | 0.5657407 | 4.152542 | 3.586802 | -0.7953745 | -0.7704449 | 0.4210215 |\n\n",
            "text/latex": "A tibble: 2 × 14\n\\begin{tabular}{llllllllllllll}\n LVH & vars & n & mean & sd & median & trimmed & mad & min & max & range & skew & kurtosis & se\\\\\n <fct> & <dbl> & <dbl> & <dbl> & <dbl> & <dbl> & <dbl> & <dbl> & <dbl> & <dbl> & <dbl> & <dbl> & <dbl> & <dbl>\\\\\n\\hline\n\t 0 & 1 & 10 & 2.796833 & 0.8855523 & 2.802546 & 2.761841 & 0.7178954 & 1.4141414 & 4.459459 & 3.045318 &  0.2216277 & -0.9243644 & 0.2800362\\\\\n\t 1 & 1 &  8 & 2.922138 & 1.1908285 & 3.203228 & 2.922138 & 0.9040577 & 0.5657407 & 4.152542 & 3.586802 & -0.7953745 & -0.7704449 & 0.4210215\\\\\n\\end{tabular}\n",
            "text/plain": [
              "  LVH vars n  mean     sd        median   trimmed  mad       min       max     \n",
              "1 0   1    10 2.796833 0.8855523 2.802546 2.761841 0.7178954 1.4141414 4.459459\n",
              "2 1   1     8 2.922138 1.1908285 3.203228 2.922138 0.9040577 0.5657407 4.152542\n",
              "  range    skew       kurtosis   se       \n",
              "1 3.045318  0.2216277 -0.9243644 0.2800362\n",
              "2 3.586802 -0.7953745 -0.7704449 0.4210215"
            ]
          },
          "metadata": {}
        }
      ]
    },
    {
      "cell_type": "markdown",
      "source": [
        "Группировка по наличию ишемической болезни сердца в разрезе Коэффициента атерогенности"
      ],
      "metadata": {
        "id": "-iQQpAAPnTC0"
      }
    },
    {
      "cell_type": "code",
      "source": [
        "desc_ihd_ai <- data %>%\n",
        "  group_by(IHD) %>%\n",
        "  #select(where(is.numeric)) %>%\n",
        "  summarise(psych::describe(AI))"
      ],
      "metadata": {
        "id": "rc_ukVqcZJLL"
      },
      "execution_count": null,
      "outputs": []
    },
    {
      "cell_type": "code",
      "source": [
        "desc_ihd_ai"
      ],
      "metadata": {
        "colab": {
          "base_uri": "https://localhost:8080/",
          "height": 180
        },
        "id": "VkP7_VsrmTZp",
        "outputId": "ceb74c86-1cc5-4635-f776-f73986be6762"
      },
      "execution_count": null,
      "outputs": [
        {
          "output_type": "display_data",
          "data": {
            "text/html": [
              "<table class=\"dataframe\">\n",
              "<caption>A tibble: 2 × 14</caption>\n",
              "<thead>\n",
              "\t<tr><th scope=col>IHD</th><th scope=col>vars</th><th scope=col>n</th><th scope=col>mean</th><th scope=col>sd</th><th scope=col>median</th><th scope=col>trimmed</th><th scope=col>mad</th><th scope=col>min</th><th scope=col>max</th><th scope=col>range</th><th scope=col>skew</th><th scope=col>kurtosis</th><th scope=col>se</th></tr>\n",
              "\t<tr><th scope=col>&lt;fct&gt;</th><th scope=col>&lt;dbl&gt;</th><th scope=col>&lt;dbl&gt;</th><th scope=col>&lt;dbl&gt;</th><th scope=col>&lt;dbl&gt;</th><th scope=col>&lt;dbl&gt;</th><th scope=col>&lt;dbl&gt;</th><th scope=col>&lt;dbl&gt;</th><th scope=col>&lt;dbl&gt;</th><th scope=col>&lt;dbl&gt;</th><th scope=col>&lt;dbl&gt;</th><th scope=col>&lt;dbl&gt;</th><th scope=col>&lt;dbl&gt;</th><th scope=col>&lt;dbl&gt;</th></tr>\n",
              "</thead>\n",
              "<tbody>\n",
              "\t<tr><td>0</td><td>1</td><td> 6</td><td>2.472948</td><td>0.7844711</td><td>2.565546</td><td>2.472948</td><td>0.7361741</td><td>1.4141414</td><td>3.622351</td><td>2.208209</td><td> 0.05105498</td><td>-1.59652183</td><td>0.3202590</td></tr>\n",
              "\t<tr><td>1</td><td>1</td><td>12</td><td>3.042312</td><td>1.0736701</td><td>3.196057</td><td>3.148255</td><td>0.9040577</td><td>0.5657407</td><td>4.459459</td><td>3.893719</td><td>-0.80316469</td><td>-0.09850772</td><td>0.3099418</td></tr>\n",
              "</tbody>\n",
              "</table>\n"
            ],
            "text/markdown": "\nA tibble: 2 × 14\n\n| IHD &lt;fct&gt; | vars &lt;dbl&gt; | n &lt;dbl&gt; | mean &lt;dbl&gt; | sd &lt;dbl&gt; | median &lt;dbl&gt; | trimmed &lt;dbl&gt; | mad &lt;dbl&gt; | min &lt;dbl&gt; | max &lt;dbl&gt; | range &lt;dbl&gt; | skew &lt;dbl&gt; | kurtosis &lt;dbl&gt; | se &lt;dbl&gt; |\n|---|---|---|---|---|---|---|---|---|---|---|---|---|---|\n| 0 | 1 |  6 | 2.472948 | 0.7844711 | 2.565546 | 2.472948 | 0.7361741 | 1.4141414 | 3.622351 | 2.208209 |  0.05105498 | -1.59652183 | 0.3202590 |\n| 1 | 1 | 12 | 3.042312 | 1.0736701 | 3.196057 | 3.148255 | 0.9040577 | 0.5657407 | 4.459459 | 3.893719 | -0.80316469 | -0.09850772 | 0.3099418 |\n\n",
            "text/latex": "A tibble: 2 × 14\n\\begin{tabular}{llllllllllllll}\n IHD & vars & n & mean & sd & median & trimmed & mad & min & max & range & skew & kurtosis & se\\\\\n <fct> & <dbl> & <dbl> & <dbl> & <dbl> & <dbl> & <dbl> & <dbl> & <dbl> & <dbl> & <dbl> & <dbl> & <dbl> & <dbl>\\\\\n\\hline\n\t 0 & 1 &  6 & 2.472948 & 0.7844711 & 2.565546 & 2.472948 & 0.7361741 & 1.4141414 & 3.622351 & 2.208209 &  0.05105498 & -1.59652183 & 0.3202590\\\\\n\t 1 & 1 & 12 & 3.042312 & 1.0736701 & 3.196057 & 3.148255 & 0.9040577 & 0.5657407 & 4.459459 & 3.893719 & -0.80316469 & -0.09850772 & 0.3099418\\\\\n\\end{tabular}\n",
            "text/plain": [
              "  IHD vars n  mean     sd        median   trimmed  mad       min       max     \n",
              "1 0   1     6 2.472948 0.7844711 2.565546 2.472948 0.7361741 1.4141414 3.622351\n",
              "2 1   1    12 3.042312 1.0736701 3.196057 3.148255 0.9040577 0.5657407 4.459459\n",
              "  range    skew        kurtosis    se       \n",
              "1 2.208209  0.05105498 -1.59652183 0.3202590\n",
              "2 3.893719 -0.80316469 -0.09850772 0.3099418"
            ]
          },
          "metadata": {}
        }
      ]
    },
    {
      "cell_type": "markdown",
      "source": [
        "Группировка по наличию бляшек в разрезе Коэффициента атерогенности"
      ],
      "metadata": {
        "id": "r_pb7Uqcp3vn"
      }
    },
    {
      "cell_type": "code",
      "source": [
        "desc_plaque_ai <- data %>%\n",
        "  group_by(Plaque) %>%\n",
        "  #select(where(is.numeric)) %>%\n",
        "  summarise(psych::describe(AI))"
      ],
      "metadata": {
        "id": "TUxfQ6mTmTRj"
      },
      "execution_count": null,
      "outputs": []
    },
    {
      "cell_type": "code",
      "source": [
        "desc_plaque_ai"
      ],
      "metadata": {
        "colab": {
          "base_uri": "https://localhost:8080/",
          "height": 212
        },
        "id": "Mj2lL9homTOl",
        "outputId": "963c5970-e396-4ebe-dc69-4ba2f9b46700"
      },
      "execution_count": null,
      "outputs": [
        {
          "output_type": "display_data",
          "data": {
            "text/html": [
              "<table class=\"dataframe\">\n",
              "<caption>A tibble: 3 × 14</caption>\n",
              "<thead>\n",
              "\t<tr><th scope=col>Plaque</th><th scope=col>vars</th><th scope=col>n</th><th scope=col>mean</th><th scope=col>sd</th><th scope=col>median</th><th scope=col>trimmed</th><th scope=col>mad</th><th scope=col>min</th><th scope=col>max</th><th scope=col>range</th><th scope=col>skew</th><th scope=col>kurtosis</th><th scope=col>se</th></tr>\n",
              "\t<tr><th scope=col>&lt;fct&gt;</th><th scope=col>&lt;dbl&gt;</th><th scope=col>&lt;dbl&gt;</th><th scope=col>&lt;dbl&gt;</th><th scope=col>&lt;dbl&gt;</th><th scope=col>&lt;dbl&gt;</th><th scope=col>&lt;dbl&gt;</th><th scope=col>&lt;dbl&gt;</th><th scope=col>&lt;dbl&gt;</th><th scope=col>&lt;dbl&gt;</th><th scope=col>&lt;dbl&gt;</th><th scope=col>&lt;dbl&gt;</th><th scope=col>&lt;dbl&gt;</th><th scope=col>&lt;dbl&gt;</th></tr>\n",
              "</thead>\n",
              "<tbody>\n",
              "\t<tr><td>1</td><td>1</td><td> 6</td><td>2.457768</td><td>0.7378347</td><td>2.555332</td><td>2.457768</td><td>0.9434007</td><td>1.4141414</td><td>3.207856</td><td>1.793715</td><td>-0.2223817</td><td>-1.9114439</td><td>0.3012198</td></tr>\n",
              "\t<tr><td>2</td><td>1</td><td>11</td><td>3.002154</td><td>1.1237742</td><td>3.184258</td><td>3.110944</td><td>1.2194883</td><td>0.5657407</td><td>4.459459</td><td>3.893719</td><td>-0.6575850</td><td>-0.4682746</td><td>0.3388307</td></tr>\n",
              "\t<tr><td>3</td><td>1</td><td> 1</td><td>3.575130</td><td>       NA</td><td>3.575130</td><td>3.575130</td><td>0.0000000</td><td>3.5751295</td><td>3.575130</td><td>0.000000</td><td>        NA</td><td>        NA</td><td>       NA</td></tr>\n",
              "</tbody>\n",
              "</table>\n"
            ],
            "text/markdown": "\nA tibble: 3 × 14\n\n| Plaque &lt;fct&gt; | vars &lt;dbl&gt; | n &lt;dbl&gt; | mean &lt;dbl&gt; | sd &lt;dbl&gt; | median &lt;dbl&gt; | trimmed &lt;dbl&gt; | mad &lt;dbl&gt; | min &lt;dbl&gt; | max &lt;dbl&gt; | range &lt;dbl&gt; | skew &lt;dbl&gt; | kurtosis &lt;dbl&gt; | se &lt;dbl&gt; |\n|---|---|---|---|---|---|---|---|---|---|---|---|---|---|\n| 1 | 1 |  6 | 2.457768 | 0.7378347 | 2.555332 | 2.457768 | 0.9434007 | 1.4141414 | 3.207856 | 1.793715 | -0.2223817 | -1.9114439 | 0.3012198 |\n| 2 | 1 | 11 | 3.002154 | 1.1237742 | 3.184258 | 3.110944 | 1.2194883 | 0.5657407 | 4.459459 | 3.893719 | -0.6575850 | -0.4682746 | 0.3388307 |\n| 3 | 1 |  1 | 3.575130 |        NA | 3.575130 | 3.575130 | 0.0000000 | 3.5751295 | 3.575130 | 0.000000 |         NA |         NA |        NA |\n\n",
            "text/latex": "A tibble: 3 × 14\n\\begin{tabular}{llllllllllllll}\n Plaque & vars & n & mean & sd & median & trimmed & mad & min & max & range & skew & kurtosis & se\\\\\n <fct> & <dbl> & <dbl> & <dbl> & <dbl> & <dbl> & <dbl> & <dbl> & <dbl> & <dbl> & <dbl> & <dbl> & <dbl> & <dbl>\\\\\n\\hline\n\t 1 & 1 &  6 & 2.457768 & 0.7378347 & 2.555332 & 2.457768 & 0.9434007 & 1.4141414 & 3.207856 & 1.793715 & -0.2223817 & -1.9114439 & 0.3012198\\\\\n\t 2 & 1 & 11 & 3.002154 & 1.1237742 & 3.184258 & 3.110944 & 1.2194883 & 0.5657407 & 4.459459 & 3.893719 & -0.6575850 & -0.4682746 & 0.3388307\\\\\n\t 3 & 1 &  1 & 3.575130 &        NA & 3.575130 & 3.575130 & 0.0000000 & 3.5751295 & 3.575130 & 0.000000 &         NA &         NA &        NA\\\\\n\\end{tabular}\n",
            "text/plain": [
              "  Plaque vars n  mean     sd        median   trimmed  mad       min      \n",
              "1 1      1     6 2.457768 0.7378347 2.555332 2.457768 0.9434007 1.4141414\n",
              "2 2      1    11 3.002154 1.1237742 3.184258 3.110944 1.2194883 0.5657407\n",
              "3 3      1     1 3.575130        NA 3.575130 3.575130 0.0000000 3.5751295\n",
              "  max      range    skew       kurtosis   se       \n",
              "1 3.207856 1.793715 -0.2223817 -1.9114439 0.3012198\n",
              "2 4.459459 3.893719 -0.6575850 -0.4682746 0.3388307\n",
              "3 3.575130 0.000000         NA         NA        NA"
            ]
          },
          "metadata": {}
        }
      ]
    },
    {
      "cell_type": "markdown",
      "source": [
        "Группировка по приему статинов в разрезе Коэффициента атерогенности"
      ],
      "metadata": {
        "id": "FH2HWe9DqNId"
      }
    },
    {
      "cell_type": "code",
      "source": [
        "desc_statins_ai <- data %>%\n",
        "  group_by(Statins) %>%\n",
        "  #select(where(is.numeric)) %>%\n",
        "  summarise(psych::describe(AI))"
      ],
      "metadata": {
        "id": "CWeTg_cYqWGa"
      },
      "execution_count": null,
      "outputs": []
    },
    {
      "cell_type": "code",
      "source": [
        "desc_statins_ai"
      ],
      "metadata": {
        "colab": {
          "base_uri": "https://localhost:8080/",
          "height": 180
        },
        "id": "9zlxo27qqV-x",
        "outputId": "95b15fba-13a3-4963-b6ac-6168b8549981"
      },
      "execution_count": null,
      "outputs": [
        {
          "output_type": "display_data",
          "data": {
            "text/html": [
              "<table class=\"dataframe\">\n",
              "<caption>A tibble: 2 × 14</caption>\n",
              "<thead>\n",
              "\t<tr><th scope=col>Statins</th><th scope=col>vars</th><th scope=col>n</th><th scope=col>mean</th><th scope=col>sd</th><th scope=col>median</th><th scope=col>trimmed</th><th scope=col>mad</th><th scope=col>min</th><th scope=col>max</th><th scope=col>range</th><th scope=col>skew</th><th scope=col>kurtosis</th><th scope=col>se</th></tr>\n",
              "\t<tr><th scope=col>&lt;fct&gt;</th><th scope=col>&lt;dbl&gt;</th><th scope=col>&lt;dbl&gt;</th><th scope=col>&lt;dbl&gt;</th><th scope=col>&lt;dbl&gt;</th><th scope=col>&lt;dbl&gt;</th><th scope=col>&lt;dbl&gt;</th><th scope=col>&lt;dbl&gt;</th><th scope=col>&lt;dbl&gt;</th><th scope=col>&lt;dbl&gt;</th><th scope=col>&lt;dbl&gt;</th><th scope=col>&lt;dbl&gt;</th><th scope=col>&lt;dbl&gt;</th><th scope=col>&lt;dbl&gt;</th></tr>\n",
              "</thead>\n",
              "<tbody>\n",
              "\t<tr><td>0</td><td>1</td><td>13</td><td>3.132535</td><td>0.7726978</td><td>3.175439</td><td>3.129544</td><td>0.6625918</td><td>1.8385093</td><td>4.459459</td><td>2.620950</td><td>0.136085083</td><td>-1.153172</td><td>0.2143078</td></tr>\n",
              "\t<tr><td>1</td><td>1</td><td> 5</td><td>2.124496</td><td>1.2469936</td><td>1.883212</td><td>2.124496</td><td>1.9289307</td><td>0.5657407</td><td>3.575130</td><td>3.009389</td><td>0.008560971</td><td>-2.019760</td><td>0.5576725</td></tr>\n",
              "</tbody>\n",
              "</table>\n"
            ],
            "text/markdown": "\nA tibble: 2 × 14\n\n| Statins &lt;fct&gt; | vars &lt;dbl&gt; | n &lt;dbl&gt; | mean &lt;dbl&gt; | sd &lt;dbl&gt; | median &lt;dbl&gt; | trimmed &lt;dbl&gt; | mad &lt;dbl&gt; | min &lt;dbl&gt; | max &lt;dbl&gt; | range &lt;dbl&gt; | skew &lt;dbl&gt; | kurtosis &lt;dbl&gt; | se &lt;dbl&gt; |\n|---|---|---|---|---|---|---|---|---|---|---|---|---|---|\n| 0 | 1 | 13 | 3.132535 | 0.7726978 | 3.175439 | 3.129544 | 0.6625918 | 1.8385093 | 4.459459 | 2.620950 | 0.136085083 | -1.153172 | 0.2143078 |\n| 1 | 1 |  5 | 2.124496 | 1.2469936 | 1.883212 | 2.124496 | 1.9289307 | 0.5657407 | 3.575130 | 3.009389 | 0.008560971 | -2.019760 | 0.5576725 |\n\n",
            "text/latex": "A tibble: 2 × 14\n\\begin{tabular}{llllllllllllll}\n Statins & vars & n & mean & sd & median & trimmed & mad & min & max & range & skew & kurtosis & se\\\\\n <fct> & <dbl> & <dbl> & <dbl> & <dbl> & <dbl> & <dbl> & <dbl> & <dbl> & <dbl> & <dbl> & <dbl> & <dbl> & <dbl>\\\\\n\\hline\n\t 0 & 1 & 13 & 3.132535 & 0.7726978 & 3.175439 & 3.129544 & 0.6625918 & 1.8385093 & 4.459459 & 2.620950 & 0.136085083 & -1.153172 & 0.2143078\\\\\n\t 1 & 1 &  5 & 2.124496 & 1.2469936 & 1.883212 & 2.124496 & 1.9289307 & 0.5657407 & 3.575130 & 3.009389 & 0.008560971 & -2.019760 & 0.5576725\\\\\n\\end{tabular}\n",
            "text/plain": [
              "  Statins vars n  mean     sd        median   trimmed  mad       min      \n",
              "1 0       1    13 3.132535 0.7726978 3.175439 3.129544 0.6625918 1.8385093\n",
              "2 1       1     5 2.124496 1.2469936 1.883212 2.124496 1.9289307 0.5657407\n",
              "  max      range    skew        kurtosis  se       \n",
              "1 4.459459 2.620950 0.136085083 -1.153172 0.2143078\n",
              "2 3.575130 3.009389 0.008560971 -2.019760 0.5576725"
            ]
          },
          "metadata": {}
        }
      ]
    },
    {
      "cell_type": "markdown",
      "source": [
        "## Постройте гистограммы распределения значений имеющихся у вас переменных, предположите лежащий в их основе вид распределения."
      ],
      "metadata": {
        "id": "KErHLLxD-zRR"
      }
    },
    {
      "cell_type": "markdown",
      "source": [
        "Непрерывные величины:\n",
        "\n",
        "AI - Коэффициент атерогенности (соотношение ЛПНП/ЛПВП)\n",
        "\n",
        "HDLi...27 - Уровень \"хорошего\" ЛПВП-холестерина\n",
        "\n",
        "LDLi...28 - Уровень \"плохого\" ЛПНП-холестерина (мг/дл)\n",
        "\n",
        "carotid.IMT.mean - Средняя толщина интима-медиального слоя сонных артерий (мм)\n",
        "\n",
        "Choi...29 - Соотношение общего холестерина/ЛПВП"
      ],
      "metadata": {
        "id": "E2A3FoMHlMIe"
      }
    },
    {
      "cell_type": "code",
      "source": [
        "ggplot(data, aes(log(AI))) +\n",
        "  geom_histogram(color='black', fill='lightblue') +\n",
        "  ggtitle(\"Распределение атерогенности\") +\n",
        "  scale_x_log10(name = \"log10 AI\") +\n",
        "  scale_y_continuous(name = \"frequency\")\n",
        "# непрерывное распределение, логнормальное"
      ],
      "metadata": {
        "colab": {
          "base_uri": "https://localhost:8080/",
          "height": 564
        },
        "id": "WzngGa3MuBDw",
        "outputId": "57b203ad-2278-4443-bab3-dd23d77e911c"
      },
      "execution_count": null,
      "outputs": [
        {
          "output_type": "stream",
          "name": "stderr",
          "text": [
            "Warning message in self$trans$transform(x):\n",
            "“NaNs produced”\n",
            "Warning message:\n",
            "“\u001b[1m\u001b[22mTransformation introduced infinite values in continuous x-axis”\n",
            "\u001b[1m\u001b[22m`stat_bin()` using `bins = 30`. Pick better value with `binwidth`.\n",
            "Warning message:\n",
            "“\u001b[1m\u001b[22mRemoved 1 rows containing non-finite values (`stat_bin()`).”\n"
          ]
        },
        {
          "output_type": "display_data",
          "data": {
            "text/plain": [
              "plot without title"
            ],
            "image/png": "[encoded data removed]"
          },
          "metadata": {
            "image/png": {
              "width": 420,
              "height": 420
            }
          }
        }
      ]
    },
    {
      "cell_type": "code",
      "source": [
        "ggplot(data, aes(log(HDLi...27))) +\n",
        "  geom_histogram(color='black', fill='lightblue') +\n",
        "  ggtitle(\"Распределение уровня ЛПВП-холестерина\") +\n",
        "  scale_x_log10(name = \"log10 HDLi...27\") +\n",
        "  scale_y_continuous(name = \"frequency\")\n",
        "# непрерывное распределение, нормальное"
      ],
      "metadata": {
        "colab": {
          "base_uri": "https://localhost:8080/",
          "height": 455
        },
        "id": "vcltl5VruB9s",
        "outputId": "0bdd2d5e-9c22-4725-8e8b-12571179d240"
      },
      "execution_count": null,
      "outputs": [
        {
          "output_type": "stream",
          "name": "stderr",
          "text": [
            "\u001b[1m\u001b[22m`stat_bin()` using `bins = 30`. Pick better value with `binwidth`.\n"
          ]
        },
        {
          "output_type": "display_data",
          "data": {
            "text/plain": [
              "plot without title"
            ],
            "image/png": "[encoded data removed]"
          },
          "metadata": {
            "image/png": {
              "width": 420,
              "height": 420
            }
          }
        }
      ]
    },
    {
      "cell_type": "code",
      "source": [
        "ggplot(data, aes(log(LDLi...28))) +\n",
        "  geom_histogram(color='black', fill='lightblue') +\n",
        "  ggtitle(\"Распределение уровня ЛПНП-холестерина\") +\n",
        "  scale_x_log10(name = \"log10 LDLi...28\") +\n",
        "  scale_y_continuous(name = \"frequency\")\n",
        "# непрерывное распределение, логнормальное"
      ],
      "metadata": {
        "colab": {
          "base_uri": "https://localhost:8080/",
          "height": 455
        },
        "id": "Ih_84W2WuB45",
        "outputId": "dfb59ce2-77e3-47d7-a7ef-ac09e006ccb1"
      },
      "execution_count": null,
      "outputs": [
        {
          "output_type": "stream",
          "name": "stderr",
          "text": [
            "\u001b[1m\u001b[22m`stat_bin()` using `bins = 30`. Pick better value with `binwidth`.\n"
          ]
        },
        {
          "output_type": "display_data",
          "data": {
            "text/plain": [
              "plot without title"
            ],
            "image/png": "[encoded data removed]"
          },
          "metadata": {
            "image/png": {
              "width": 420,
              "height": 420
            }
          }
        }
      ]
    },
    {
      "cell_type": "code",
      "source": [
        "ggplot(data, aes(carotid.IMT.mean)) +\n",
        "  geom_histogram(color='black', fill='lightblue') +\n",
        "  ggtitle(\"Распределение средней толщины интима-медиального слоя сонных артерий\") +\n",
        "  scale_x_log10(name = \"carotid.IMT.mean\") +\n",
        "  scale_y_continuous(name = \"frequency\")\n",
        "# непрерывное распределение, логнормальное"
      ],
      "metadata": {
        "colab": {
          "base_uri": "https://localhost:8080/",
          "height": 455
        },
        "id": "U_4rbpjhuB1b",
        "outputId": "657af678-5a8e-416a-8559-2ce7d39e123b"
      },
      "execution_count": null,
      "outputs": [
        {
          "output_type": "stream",
          "name": "stderr",
          "text": [
            "\u001b[1m\u001b[22m`stat_bin()` using `bins = 30`. Pick better value with `binwidth`.\n"
          ]
        },
        {
          "output_type": "display_data",
          "data": {
            "text/plain": [
              "plot without title"
            ],
            "image/png": "[encoded data removed]"
          },
          "metadata": {
            "image/png": {
              "width": 420,
              "height": 420
            }
          }
        }
      ]
    },
    {
      "cell_type": "code",
      "source": [
        "ggplot(data, aes(log(Choi...29))) +\n",
        "  geom_histogram(color='black', fill='lightblue') +\n",
        "  ggtitle(\"Распределение соотношения общего холестерина/ЛПВП\") +\n",
        "  scale_x_log10(name = \" log10 Choi...29\") +\n",
        "  scale_y_continuous(name = \"frequency\")\n",
        "# непрерывное распределение, бимодальное"
      ],
      "metadata": {
        "colab": {
          "base_uri": "https://localhost:8080/",
          "height": 455
        },
        "id": "TNG3Ue8YuBsN",
        "outputId": "3c846f67-bc89-4ad0-af29-5d328cf7a9ea"
      },
      "execution_count": null,
      "outputs": [
        {
          "output_type": "stream",
          "name": "stderr",
          "text": [
            "\u001b[1m\u001b[22m`stat_bin()` using `bins = 30`. Pick better value with `binwidth`.\n"
          ]
        },
        {
          "output_type": "display_data",
          "data": {
            "text/plain": [
              "plot without title"
            ],
            "image/png": "[encoded data removed]"
          },
          "metadata": {
            "image/png": {
              "width": 420,
              "height": 420
            }
          }
        }
      ]
    },
    {
      "cell_type": "markdown",
      "source": [
        "Дискретные величины:\n",
        "\n",
        "Sys - систолическое артериальное давление\n",
        "\n",
        "Dia - диастолическое артериальное давление\n",
        "\n",
        "PR - пульс\n",
        "\n",
        "Choi...25 - Общий уровень холестерина (мг/дл)\n",
        "\n",
        "Tgi...26 - Уровень триглицеридов (мг/дл)"
      ],
      "metadata": {
        "id": "axc1YdbdikEY"
      }
    },
    {
      "cell_type": "code",
      "source": [
        "ggplot(data, aes(Sys)) +\n",
        "  geom_histogram(color='black', fill='lightblue') +\n",
        "  ggtitle(\"Распределение систолического артериального давления\") +\n",
        "  scale_x_log10(name = \"Sys\") +\n",
        "  scale_y_continuous(name = \"frequency\")"
      ],
      "metadata": {
        "colab": {
          "base_uri": "https://localhost:8080/",
          "height": 455
        },
        "id": "Ol2k7fXoyKIq",
        "outputId": "d0a3f7a5-e8e2-4eeb-9fd7-2c11e2717362"
      },
      "execution_count": null,
      "outputs": [
        {
          "output_type": "stream",
          "name": "stderr",
          "text": [
            "\u001b[1m\u001b[22m`stat_bin()` using `bins = 30`. Pick better value with `binwidth`.\n"
          ]
        },
        {
          "output_type": "display_data",
          "data": {
            "text/plain": [
              "plot without title"
            ],
            "image/png": "[encoded data removed]"
          },
          "metadata": {
            "image/png": {
              "width": 420,
              "height": 420
            }
          }
        }
      ]
    },
    {
      "cell_type": "code",
      "source": [
        "ggplot(data, aes(Dia)) +\n",
        "  geom_histogram(color='black', fill='lightblue') +\n",
        "  ggtitle(\"Распределение диастолического артериального давления\") +\n",
        "  scale_x_log10(name = \"Dia\") +\n",
        "  scale_y_continuous(name = \"frequency\")"
      ],
      "metadata": {
        "colab": {
          "base_uri": "https://localhost:8080/",
          "height": 455
        },
        "id": "5iyOopOM2nGN",
        "outputId": "fcff0da0-b53d-43d8-e189-71bd9fe080f9"
      },
      "execution_count": null,
      "outputs": [
        {
          "output_type": "stream",
          "name": "stderr",
          "text": [
            "\u001b[1m\u001b[22m`stat_bin()` using `bins = 30`. Pick better value with `binwidth`.\n"
          ]
        },
        {
          "output_type": "display_data",
          "data": {
            "text/plain": [
              "plot without title"
            ],
            "image/png": "[encoded data removed]"
          },
          "metadata": {
            "image/png": {
              "width": 420,
              "height": 420
            }
          }
        }
      ]
    },
    {
      "cell_type": "code",
      "source": [
        "ggplot(data, aes(PR)) +\n",
        "  geom_histogram(color='black', fill='lightblue') +\n",
        "  ggtitle(\"Распределение пульса\") +\n",
        "  scale_x_log10(name = \"PR\") +\n",
        "  scale_y_continuous(name = \"frequency\")"
      ],
      "metadata": {
        "colab": {
          "base_uri": "https://localhost:8080/",
          "height": 455
        },
        "id": "EZ74iyRO2nDr",
        "outputId": "584626c5-9094-4e9b-d066-8840250d25b1"
      },
      "execution_count": null,
      "outputs": [
        {
          "output_type": "stream",
          "name": "stderr",
          "text": [
            "\u001b[1m\u001b[22m`stat_bin()` using `bins = 30`. Pick better value with `binwidth`.\n"
          ]
        },
        {
          "output_type": "display_data",
          "data": {
            "text/plain": [
              "plot without title"
            ],
            "image/png": "[encoded data removed]"
          },
          "metadata": {
            "image/png": {
              "width": 420,
              "height": 420
            }
          }
        }
      ]
    },
    {
      "cell_type": "code",
      "source": [
        "ggplot(data, aes(Choi...25)) +\n",
        "  geom_histogram(color='black', fill='lightblue') +\n",
        "  ggtitle(\"Распределение общего уровня холестерина\") +\n",
        "  scale_x_log10(name = \"Choi...25\") +\n",
        "  scale_y_continuous(name = \"frequency\")"
      ],
      "metadata": {
        "colab": {
          "base_uri": "https://localhost:8080/",
          "height": 455
        },
        "id": "kOgcp8rv2nBL",
        "outputId": "b006eaf1-3fa0-4cc7-ca50-cb76c6ec21f2"
      },
      "execution_count": null,
      "outputs": [
        {
          "output_type": "stream",
          "name": "stderr",
          "text": [
            "\u001b[1m\u001b[22m`stat_bin()` using `bins = 30`. Pick better value with `binwidth`.\n"
          ]
        },
        {
          "output_type": "display_data",
          "data": {
            "text/plain": [
              "plot without title"
            ],
            "image/png": "[encoded data removed]"
          },
          "metadata": {
            "image/png": {
              "width": 420,
              "height": 420
            }
          }
        }
      ]
    },
    {
      "cell_type": "code",
      "source": [
        "ggplot(data, aes(Tgi...26)) +\n",
        "  geom_histogram(color='black', fill='lightblue') +\n",
        "  ggtitle(\"Распределение уровеня триглицеридов\") +\n",
        "  scale_x_log10(name = \"Tgi...26\") +\n",
        "  scale_y_continuous(name = \"frequency\")"
      ],
      "metadata": {
        "colab": {
          "base_uri": "https://localhost:8080/",
          "height": 455
        },
        "id": "OUVGSkRF2m-W",
        "outputId": "078192ed-6cf2-418f-8cb5-d2322ec5b921"
      },
      "execution_count": null,
      "outputs": [
        {
          "output_type": "stream",
          "name": "stderr",
          "text": [
            "\u001b[1m\u001b[22m`stat_bin()` using `bins = 30`. Pick better value with `binwidth`.\n"
          ]
        },
        {
          "output_type": "display_data",
          "data": {
            "text/plain": [
              "plot without title"
            ],
            "image/png": "[encoded data removed]"
          },
          "metadata": {
            "image/png": {
              "width": 420,
              "height": 420
            }
          }
        }
      ]
    },
    {
      "cell_type": "code",
      "source": [
        "data <- data %>%\n",
        "  mutate(Statins = as.numeric(Statins))\n",
        "\n",
        "ggplot(data, aes(Statins)) +\n",
        "  geom_histogram(color='black', fill='lightblue') +\n",
        "  ggtitle(\"Распределение употребления статинов\") +\n",
        "  scale_y_continuous(name = \"frequency\")\n",
        "# распределение биномиальное"
      ],
      "metadata": {
        "colab": {
          "base_uri": "https://localhost:8080/",
          "height": 455
        },
        "id": "qFY1-qFF_FSO",
        "outputId": "abc0538e-18ef-47d0-bb88-990f2cb24686"
      },
      "execution_count": null,
      "outputs": [
        {
          "output_type": "stream",
          "name": "stderr",
          "text": [
            "\u001b[1m\u001b[22m`stat_bin()` using `bins = 30`. Pick better value with `binwidth`.\n"
          ]
        },
        {
          "output_type": "display_data",
          "data": {
            "text/plain": [
              "plot without title"
            ],
            "image/png": "[encoded data removed]"
          },
          "metadata": {
            "image/png": {
              "width": 420,
              "height": 420
            }
          }
        }
      ]
    },
    {
      "cell_type": "code",
      "source": [
        "data <- data %>%\n",
        "  mutate(Sm = as.numeric(Sm))\n",
        "\n",
        "ggplot(data, aes(Sm)) +\n",
        "  geom_histogram(color='black', fill='lightblue') +\n",
        "  ggtitle(\"Распределение курящих и некурящих\") +\n",
        "  scale_y_continuous(name = \"frequency\")\n",
        "# распределение биномиальное"
      ],
      "metadata": {
        "colab": {
          "base_uri": "https://localhost:8080/",
          "height": 455
        },
        "id": "gIzQyoGBTaQ6",
        "outputId": "3f74acb8-2691-4f41-eb94-edb994d99457"
      },
      "execution_count": null,
      "outputs": [
        {
          "output_type": "stream",
          "name": "stderr",
          "text": [
            "\u001b[1m\u001b[22m`stat_bin()` using `bins = 30`. Pick better value with `binwidth`.\n"
          ]
        },
        {
          "output_type": "display_data",
          "data": {
            "text/plain": [
              "plot without title"
            ],
            "image/png": "[encoded data removed]"
          },
          "metadata": {
            "image/png": {
              "width": 420,
              "height": 420
            }
          }
        }
      ]
    },
    {
      "cell_type": "code",
      "source": [
        "data <- data %>%\n",
        "  mutate(HT = as.numeric(HT))\n",
        "\n",
        "ggplot(data, aes(HT)) +\n",
        "  geom_histogram(color='black', fill='lightblue', bins = 30) +\n",
        "  ggtitle(\"Распределение наличия артериальной гипертензии\") +\n",
        "  scale_y_continuous(name = \"frequency\")\n",
        "\n",
        "# распределение биномиальное"
      ],
      "metadata": {
        "colab": {
          "base_uri": "https://localhost:8080/",
          "height": 437
        },
        "id": "rpxGwi66T9My",
        "outputId": "451ac283-97f6-4f4d-82fc-fb0230a21f77"
      },
      "execution_count": null,
      "outputs": [
        {
          "output_type": "display_data",
          "data": {
            "text/plain": [
              "plot without title"
            ],
            "image/png": "[encoded data removed]"
          },
          "metadata": {
            "image/png": {
              "width": 420,
              "height": 420
            }
          }
        }
      ]
    }
  ]
}